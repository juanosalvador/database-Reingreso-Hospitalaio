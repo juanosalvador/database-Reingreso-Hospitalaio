{
  "nbformat": 4,
  "nbformat_minor": 0,
  "metadata": {
    "colab": {
      "name": "Clasificadores",
      "provenance": [],
      "collapsed_sections": [
        "OfkOBIAvw8AY",
        "_LsUistX2pD6",
        "twpq44rrpR1A",
        "FAmJdYaMqkf4",
        "IzNmm_Deq3uZ",
        "pipV-hpNy6Vl",
        "4vRSD_jHz5oA",
        "LMJdMOKi_991"
      ],
      "include_colab_link": true
    },
    "kernelspec": {
      "name": "python3",
      "display_name": "Python 3"
    }
  },
  "cells": [
    {
      "cell_type": "markdown",
      "metadata": {
        "id": "view-in-github",
        "colab_type": "text"
      },
      "source": [
        "<a href=\"https://colab.research.google.com/github/juanosalvador/database-Reingreso-Hospitalario/blob/main/Clasificadores.ipynb\" target=\"_parent\"><img src=\"https://colab.research.google.com/assets/colab-badge.svg\" alt=\"Open In Colab\"/></a>"
      ]
    },
    {
      "cell_type": "code",
      "metadata": {
        "id": "o3f_NhfhbQL9"
      },
      "source": [
        "import pandas as pd\n",
        "import numpy as np\n",
        "import matplotlib.pyplot as plt\n",
        "from sklearn.preprocessing import LabelEncoder"
      ],
      "execution_count": 1,
      "outputs": []
    },
    {
      "cell_type": "code",
      "metadata": {
        "id": "Iqlzbwzwa-Ke"
      },
      "source": [
        "#ruta = '/content/drive/MyDrive/001_Diplomado Ciencia de datos Avanzado/Proyecto_1/atributos_reingreso_hospitalarios, index = False'\n",
        "url = 'https://raw.githubusercontent.com/juanosalvador/database-Reingreso-Hospitalario/main/bd_reingreso_sin_dummys.csv'\n",
        "url2 = 'https://raw.githubusercontent.com/juanosalvador/database-Reingreso-Hospitalario/main/bd_dummies_reingreso.csv'"
      ],
      "execution_count": 2,
      "outputs": []
    },
    {
      "cell_type": "code",
      "metadata": {
        "id": "fGzuMPlabjS9"
      },
      "source": [
        "df = pd.read_csv(url)\n",
        "#df = df.drop('Unnamed: 0', axis = 1)"
      ],
      "execution_count": 3,
      "outputs": []
    },
    {
      "cell_type": "code",
      "metadata": {
        "id": "sUgHe1vdbk0R",
        "colab": {
          "base_uri": "https://localhost:8080/",
          "height": 224
        },
        "outputId": "60a33b63-3877-476f-a0a7-c4b1474f6f8f"
      },
      "source": [
        "df.head()"
      ],
      "execution_count": 4,
      "outputs": [
        {
          "output_type": "execute_result",
          "data": {
            "text/html": [
              "<div>\n",
              "<style scoped>\n",
              "    .dataframe tbody tr th:only-of-type {\n",
              "        vertical-align: middle;\n",
              "    }\n",
              "\n",
              "    .dataframe tbody tr th {\n",
              "        vertical-align: top;\n",
              "    }\n",
              "\n",
              "    .dataframe thead th {\n",
              "        text-align: right;\n",
              "    }\n",
              "</style>\n",
              "<table border=\"1\" class=\"dataframe\">\n",
              "  <thead>\n",
              "    <tr style=\"text-align: right;\">\n",
              "      <th></th>\n",
              "      <th>race</th>\n",
              "      <th>gender</th>\n",
              "      <th>age</th>\n",
              "      <th>admission_type_id</th>\n",
              "      <th>discharge_disposition_id</th>\n",
              "      <th>admission_source_id</th>\n",
              "      <th>time_in_hospital</th>\n",
              "      <th>num_lab_procedures</th>\n",
              "      <th>num_procedures</th>\n",
              "      <th>num_medications</th>\n",
              "      <th>number_outpatient</th>\n",
              "      <th>number_emergency</th>\n",
              "      <th>number_inpatient</th>\n",
              "      <th>number_diagnoses</th>\n",
              "      <th>max_glu_serum</th>\n",
              "      <th>A1Cresult</th>\n",
              "      <th>change</th>\n",
              "      <th>diabetesMed</th>\n",
              "      <th>readmitted</th>\n",
              "      <th>visitas_totales</th>\n",
              "      <th>tratamientos_tomados</th>\n",
              "      <th>categorias_diag_1</th>\n",
              "    </tr>\n",
              "  </thead>\n",
              "  <tbody>\n",
              "    <tr>\n",
              "      <th>0</th>\n",
              "      <td>Caucasian</td>\n",
              "      <td>Female</td>\n",
              "      <td>15</td>\n",
              "      <td>1</td>\n",
              "      <td>1</td>\n",
              "      <td>7</td>\n",
              "      <td>3</td>\n",
              "      <td>59</td>\n",
              "      <td>0</td>\n",
              "      <td>18</td>\n",
              "      <td>0</td>\n",
              "      <td>0</td>\n",
              "      <td>0</td>\n",
              "      <td>9</td>\n",
              "      <td>None</td>\n",
              "      <td>None</td>\n",
              "      <td>Ch</td>\n",
              "      <td>Yes</td>\n",
              "      <td>&gt;30</td>\n",
              "      <td>0</td>\n",
              "      <td>1.0</td>\n",
              "      <td>0</td>\n",
              "    </tr>\n",
              "    <tr>\n",
              "      <th>1</th>\n",
              "      <td>AfricanAmerican</td>\n",
              "      <td>Female</td>\n",
              "      <td>25</td>\n",
              "      <td>1</td>\n",
              "      <td>1</td>\n",
              "      <td>7</td>\n",
              "      <td>2</td>\n",
              "      <td>11</td>\n",
              "      <td>5</td>\n",
              "      <td>13</td>\n",
              "      <td>2</td>\n",
              "      <td>0</td>\n",
              "      <td>1</td>\n",
              "      <td>6</td>\n",
              "      <td>None</td>\n",
              "      <td>None</td>\n",
              "      <td>No</td>\n",
              "      <td>Yes</td>\n",
              "      <td>NO</td>\n",
              "      <td>3</td>\n",
              "      <td>1.0</td>\n",
              "      <td>0</td>\n",
              "    </tr>\n",
              "    <tr>\n",
              "      <th>2</th>\n",
              "      <td>Caucasian</td>\n",
              "      <td>Male</td>\n",
              "      <td>35</td>\n",
              "      <td>1</td>\n",
              "      <td>1</td>\n",
              "      <td>7</td>\n",
              "      <td>2</td>\n",
              "      <td>44</td>\n",
              "      <td>1</td>\n",
              "      <td>16</td>\n",
              "      <td>0</td>\n",
              "      <td>0</td>\n",
              "      <td>0</td>\n",
              "      <td>7</td>\n",
              "      <td>None</td>\n",
              "      <td>None</td>\n",
              "      <td>Ch</td>\n",
              "      <td>Yes</td>\n",
              "      <td>NO</td>\n",
              "      <td>0</td>\n",
              "      <td>1.0</td>\n",
              "      <td>0</td>\n",
              "    </tr>\n",
              "    <tr>\n",
              "      <th>3</th>\n",
              "      <td>Caucasian</td>\n",
              "      <td>Male</td>\n",
              "      <td>45</td>\n",
              "      <td>1</td>\n",
              "      <td>1</td>\n",
              "      <td>7</td>\n",
              "      <td>1</td>\n",
              "      <td>51</td>\n",
              "      <td>0</td>\n",
              "      <td>8</td>\n",
              "      <td>0</td>\n",
              "      <td>0</td>\n",
              "      <td>0</td>\n",
              "      <td>5</td>\n",
              "      <td>None</td>\n",
              "      <td>None</td>\n",
              "      <td>Ch</td>\n",
              "      <td>Yes</td>\n",
              "      <td>NO</td>\n",
              "      <td>0</td>\n",
              "      <td>2.0</td>\n",
              "      <td>8</td>\n",
              "    </tr>\n",
              "    <tr>\n",
              "      <th>4</th>\n",
              "      <td>Caucasian</td>\n",
              "      <td>Male</td>\n",
              "      <td>55</td>\n",
              "      <td>2</td>\n",
              "      <td>1</td>\n",
              "      <td>2</td>\n",
              "      <td>3</td>\n",
              "      <td>31</td>\n",
              "      <td>6</td>\n",
              "      <td>16</td>\n",
              "      <td>0</td>\n",
              "      <td>0</td>\n",
              "      <td>0</td>\n",
              "      <td>9</td>\n",
              "      <td>None</td>\n",
              "      <td>None</td>\n",
              "      <td>No</td>\n",
              "      <td>Yes</td>\n",
              "      <td>&gt;30</td>\n",
              "      <td>0</td>\n",
              "      <td>1.0</td>\n",
              "      <td>1</td>\n",
              "    </tr>\n",
              "  </tbody>\n",
              "</table>\n",
              "</div>"
            ],
            "text/plain": [
              "              race  gender  ...  tratamientos_tomados  categorias_diag_1\n",
              "0        Caucasian  Female  ...                   1.0                  0\n",
              "1  AfricanAmerican  Female  ...                   1.0                  0\n",
              "2        Caucasian    Male  ...                   1.0                  0\n",
              "3        Caucasian    Male  ...                   2.0                  8\n",
              "4        Caucasian    Male  ...                   1.0                  1\n",
              "\n",
              "[5 rows x 22 columns]"
            ]
          },
          "metadata": {
            "tags": []
          },
          "execution_count": 4
        }
      ]
    },
    {
      "cell_type": "markdown",
      "metadata": {
        "id": "zwHHhCM9r4QP"
      },
      "source": [
        "#<center><h1>Aplicando de correlacion de Pearson</h1></center>"
      ]
    },
    {
      "cell_type": "code",
      "metadata": {
        "id": "qPNo3u6vr4Dn"
      },
      "source": [
        "from matplotlib.colors import ListedColormap\n",
        "import seaborn as sns\n",
        "my_cmap = ListedColormap(sns.light_palette((250, 100, 50), input=\"husl\", n_colors=50).as_hex())"
      ],
      "execution_count": 5,
      "outputs": []
    },
    {
      "cell_type": "code",
      "metadata": {
        "colab": {
          "base_uri": "https://localhost:8080/",
          "height": 375
        },
        "id": "ON9Nm98Ir3_1",
        "outputId": "67e280a1-ca41-4ec1-c165-59f25ee48077"
      },
      "source": [
        "pearson_correlation = df.corr(method='pearson')\n",
        "pearson_correlation.style.background_gradient(cmap = my_cmap, axis = 0)"
      ],
      "execution_count": 6,
      "outputs": [
        {
          "output_type": "execute_result",
          "data": {
            "text/html": [
              "<style  type=\"text/css\" >\n",
              "#T_83df0136_5118_11eb_87c1_0242ac1c0002row0_col0,#T_83df0136_5118_11eb_87c1_0242ac1c0002row1_col1,#T_83df0136_5118_11eb_87c1_0242ac1c0002row2_col2,#T_83df0136_5118_11eb_87c1_0242ac1c0002row3_col3,#T_83df0136_5118_11eb_87c1_0242ac1c0002row4_col4,#T_83df0136_5118_11eb_87c1_0242ac1c0002row5_col5,#T_83df0136_5118_11eb_87c1_0242ac1c0002row6_col6,#T_83df0136_5118_11eb_87c1_0242ac1c0002row7_col7,#T_83df0136_5118_11eb_87c1_0242ac1c0002row8_col8,#T_83df0136_5118_11eb_87c1_0242ac1c0002row9_col9,#T_83df0136_5118_11eb_87c1_0242ac1c0002row10_col10,#T_83df0136_5118_11eb_87c1_0242ac1c0002row11_col11,#T_83df0136_5118_11eb_87c1_0242ac1c0002row12_col12,#T_83df0136_5118_11eb_87c1_0242ac1c0002row13_col13,#T_83df0136_5118_11eb_87c1_0242ac1c0002row14_col14{\n",
              "            background-color:  #007ad1;\n",
              "            color:  #f1f1f1;\n",
              "        }#T_83df0136_5118_11eb_87c1_0242ac1c0002row0_col1,#T_83df0136_5118_11eb_87c1_0242ac1c0002row0_col7,#T_83df0136_5118_11eb_87c1_0242ac1c0002row1_col7,#T_83df0136_5118_11eb_87c1_0242ac1c0002row1_col14,#T_83df0136_5118_11eb_87c1_0242ac1c0002row5_col6,#T_83df0136_5118_11eb_87c1_0242ac1c0002row6_col5,#T_83df0136_5118_11eb_87c1_0242ac1c0002row7_col0,#T_83df0136_5118_11eb_87c1_0242ac1c0002row7_col2,#T_83df0136_5118_11eb_87c1_0242ac1c0002row7_col14,#T_83df0136_5118_11eb_87c1_0242ac1c0002row8_col1,#T_83df0136_5118_11eb_87c1_0242ac1c0002row9_col11,#T_83df0136_5118_11eb_87c1_0242ac1c0002row10_col1,#T_83df0136_5118_11eb_87c1_0242ac1c0002row10_col3,#T_83df0136_5118_11eb_87c1_0242ac1c0002row12_col1,#T_83df0136_5118_11eb_87c1_0242ac1c0002row12_col3{\n",
              "            background-color:  #cee0ee;\n",
              "            color:  #000000;\n",
              "        }#T_83df0136_5118_11eb_87c1_0242ac1c0002row0_col2,#T_83df0136_5118_11eb_87c1_0242ac1c0002row0_col4,#T_83df0136_5118_11eb_87c1_0242ac1c0002row0_col8,#T_83df0136_5118_11eb_87c1_0242ac1c0002row1_col4,#T_83df0136_5118_11eb_87c1_0242ac1c0002row1_col5,#T_83df0136_5118_11eb_87c1_0242ac1c0002row1_col9,#T_83df0136_5118_11eb_87c1_0242ac1c0002row1_col11,#T_83df0136_5118_11eb_87c1_0242ac1c0002row1_col13,#T_83df0136_5118_11eb_87c1_0242ac1c0002row2_col8,#T_83df0136_5118_11eb_87c1_0242ac1c0002row2_col9,#T_83df0136_5118_11eb_87c1_0242ac1c0002row2_col10,#T_83df0136_5118_11eb_87c1_0242ac1c0002row2_col12,#T_83df0136_5118_11eb_87c1_0242ac1c0002row2_col13,#T_83df0136_5118_11eb_87c1_0242ac1c0002row3_col0,#T_83df0136_5118_11eb_87c1_0242ac1c0002row3_col6,#T_83df0136_5118_11eb_87c1_0242ac1c0002row3_col7,#T_83df0136_5118_11eb_87c1_0242ac1c0002row3_col13,#T_83df0136_5118_11eb_87c1_0242ac1c0002row3_col14,#T_83df0136_5118_11eb_87c1_0242ac1c0002row4_col8,#T_83df0136_5118_11eb_87c1_0242ac1c0002row5_col1,#T_83df0136_5118_11eb_87c1_0242ac1c0002row5_col8,#T_83df0136_5118_11eb_87c1_0242ac1c0002row6_col3,#T_83df0136_5118_11eb_87c1_0242ac1c0002row6_col8,#T_83df0136_5118_11eb_87c1_0242ac1c0002row6_col9,#T_83df0136_5118_11eb_87c1_0242ac1c0002row6_col10,#T_83df0136_5118_11eb_87c1_0242ac1c0002row6_col12,#T_83df0136_5118_11eb_87c1_0242ac1c0002row6_col13,#T_83df0136_5118_11eb_87c1_0242ac1c0002row8_col2,#T_83df0136_5118_11eb_87c1_0242ac1c0002row8_col4,#T_83df0136_5118_11eb_87c1_0242ac1c0002row9_col2,#T_83df0136_5118_11eb_87c1_0242ac1c0002row9_col4,#T_83df0136_5118_11eb_87c1_0242ac1c0002row10_col2,#T_83df0136_5118_11eb_87c1_0242ac1c0002row10_col13,#T_83df0136_5118_11eb_87c1_0242ac1c0002row11_col1,#T_83df0136_5118_11eb_87c1_0242ac1c0002row12_col2,#T_83df0136_5118_11eb_87c1_0242ac1c0002row14_col10,#T_83df0136_5118_11eb_87c1_0242ac1c0002row14_col13{\n",
              "            background-color:  #f0f1f3;\n",
              "            color:  #000000;\n",
              "        }#T_83df0136_5118_11eb_87c1_0242ac1c0002row0_col3,#T_83df0136_5118_11eb_87c1_0242ac1c0002row0_col5,#T_83df0136_5118_11eb_87c1_0242ac1c0002row0_col13,#T_83df0136_5118_11eb_87c1_0242ac1c0002row1_col10,#T_83df0136_5118_11eb_87c1_0242ac1c0002row1_col12,#T_83df0136_5118_11eb_87c1_0242ac1c0002row5_col12,#T_83df0136_5118_11eb_87c1_0242ac1c0002row7_col3,#T_83df0136_5118_11eb_87c1_0242ac1c0002row7_col10,#T_83df0136_5118_11eb_87c1_0242ac1c0002row7_col12,#T_83df0136_5118_11eb_87c1_0242ac1c0002row8_col7,#T_83df0136_5118_11eb_87c1_0242ac1c0002row9_col14,#T_83df0136_5118_11eb_87c1_0242ac1c0002row12_col6,#T_83df0136_5118_11eb_87c1_0242ac1c0002row12_col14,#T_83df0136_5118_11eb_87c1_0242ac1c0002row14_col0,#T_83df0136_5118_11eb_87c1_0242ac1c0002row14_col2,#T_83df0136_5118_11eb_87c1_0242ac1c0002row14_col11{\n",
              "            background-color:  #e2eaf1;\n",
              "            color:  #000000;\n",
              "        }#T_83df0136_5118_11eb_87c1_0242ac1c0002row0_col6,#T_83df0136_5118_11eb_87c1_0242ac1c0002row1_col3,#T_83df0136_5118_11eb_87c1_0242ac1c0002row1_col6,#T_83df0136_5118_11eb_87c1_0242ac1c0002row6_col1,#T_83df0136_5118_11eb_87c1_0242ac1c0002row11_col5{\n",
              "            background-color:  #bad6eb;\n",
              "            color:  #000000;\n",
              "        }#T_83df0136_5118_11eb_87c1_0242ac1c0002row0_col9,#T_83df0136_5118_11eb_87c1_0242ac1c0002row0_col10,#T_83df0136_5118_11eb_87c1_0242ac1c0002row0_col12,#T_83df0136_5118_11eb_87c1_0242ac1c0002row2_col0,#T_83df0136_5118_11eb_87c1_0242ac1c0002row3_col2,#T_83df0136_5118_11eb_87c1_0242ac1c0002row3_col4,#T_83df0136_5118_11eb_87c1_0242ac1c0002row3_col8,#T_83df0136_5118_11eb_87c1_0242ac1c0002row4_col0,#T_83df0136_5118_11eb_87c1_0242ac1c0002row4_col9,#T_83df0136_5118_11eb_87c1_0242ac1c0002row5_col0,#T_83df0136_5118_11eb_87c1_0242ac1c0002row5_col14,#T_83df0136_5118_11eb_87c1_0242ac1c0002row7_col9,#T_83df0136_5118_11eb_87c1_0242ac1c0002row8_col13,#T_83df0136_5118_11eb_87c1_0242ac1c0002row9_col0,#T_83df0136_5118_11eb_87c1_0242ac1c0002row9_col13,#T_83df0136_5118_11eb_87c1_0242ac1c0002row11_col0,#T_83df0136_5118_11eb_87c1_0242ac1c0002row11_col13,#T_83df0136_5118_11eb_87c1_0242ac1c0002row12_col4,#T_83df0136_5118_11eb_87c1_0242ac1c0002row12_col13,#T_83df0136_5118_11eb_87c1_0242ac1c0002row13_col2,#T_83df0136_5118_11eb_87c1_0242ac1c0002row13_col8,#T_83df0136_5118_11eb_87c1_0242ac1c0002row13_col10,#T_83df0136_5118_11eb_87c1_0242ac1c0002row14_col3,#T_83df0136_5118_11eb_87c1_0242ac1c0002row14_col4,#T_83df0136_5118_11eb_87c1_0242ac1c0002row14_col8,#T_83df0136_5118_11eb_87c1_0242ac1c0002row14_col9,#T_83df0136_5118_11eb_87c1_0242ac1c0002row14_col12{\n",
              "            background-color:  #ebeef2;\n",
              "            color:  #000000;\n",
              "        }#T_83df0136_5118_11eb_87c1_0242ac1c0002row0_col11,#T_83df0136_5118_11eb_87c1_0242ac1c0002row0_col14,#T_83df0136_5118_11eb_87c1_0242ac1c0002row1_col0,#T_83df0136_5118_11eb_87c1_0242ac1c0002row3_col9,#T_83df0136_5118_11eb_87c1_0242ac1c0002row3_col12,#T_83df0136_5118_11eb_87c1_0242ac1c0002row4_col1,#T_83df0136_5118_11eb_87c1_0242ac1c0002row4_col10,#T_83df0136_5118_11eb_87c1_0242ac1c0002row4_col13,#T_83df0136_5118_11eb_87c1_0242ac1c0002row4_col14,#T_83df0136_5118_11eb_87c1_0242ac1c0002row8_col5,#T_83df0136_5118_11eb_87c1_0242ac1c0002row8_col6,#T_83df0136_5118_11eb_87c1_0242ac1c0002row8_col10,#T_83df0136_5118_11eb_87c1_0242ac1c0002row8_col14,#T_83df0136_5118_11eb_87c1_0242ac1c0002row9_col1,#T_83df0136_5118_11eb_87c1_0242ac1c0002row9_col6,#T_83df0136_5118_11eb_87c1_0242ac1c0002row10_col4,#T_83df0136_5118_11eb_87c1_0242ac1c0002row10_col6,#T_83df0136_5118_11eb_87c1_0242ac1c0002row10_col7,#T_83df0136_5118_11eb_87c1_0242ac1c0002row10_col8,#T_83df0136_5118_11eb_87c1_0242ac1c0002row11_col8,#T_83df0136_5118_11eb_87c1_0242ac1c0002row11_col9,#T_83df0136_5118_11eb_87c1_0242ac1c0002row11_col10,#T_83df0136_5118_11eb_87c1_0242ac1c0002row12_col7,#T_83df0136_5118_11eb_87c1_0242ac1c0002row13_col1,#T_83df0136_5118_11eb_87c1_0242ac1c0002row13_col14{\n",
              "            background-color:  #dde7f0;\n",
              "            color:  #000000;\n",
              "        }#T_83df0136_5118_11eb_87c1_0242ac1c0002row1_col2,#T_83df0136_5118_11eb_87c1_0242ac1c0002row2_col6,#T_83df0136_5118_11eb_87c1_0242ac1c0002row2_col11,#T_83df0136_5118_11eb_87c1_0242ac1c0002row8_col3,#T_83df0136_5118_11eb_87c1_0242ac1c0002row8_col9,#T_83df0136_5118_11eb_87c1_0242ac1c0002row11_col12,#T_83df0136_5118_11eb_87c1_0242ac1c0002row12_col5,#T_83df0136_5118_11eb_87c1_0242ac1c0002row13_col5,#T_83df0136_5118_11eb_87c1_0242ac1c0002row13_col11,#T_83df0136_5118_11eb_87c1_0242ac1c0002row14_col6{\n",
              "            background-color:  #d3e2ef;\n",
              "            color:  #000000;\n",
              "        }#T_83df0136_5118_11eb_87c1_0242ac1c0002row1_col8,#T_83df0136_5118_11eb_87c1_0242ac1c0002row3_col10,#T_83df0136_5118_11eb_87c1_0242ac1c0002row4_col12,#T_83df0136_5118_11eb_87c1_0242ac1c0002row5_col2,#T_83df0136_5118_11eb_87c1_0242ac1c0002row5_col9,#T_83df0136_5118_11eb_87c1_0242ac1c0002row5_col13,#T_83df0136_5118_11eb_87c1_0242ac1c0002row6_col2,#T_83df0136_5118_11eb_87c1_0242ac1c0002row7_col8,#T_83df0136_5118_11eb_87c1_0242ac1c0002row8_col0,#T_83df0136_5118_11eb_87c1_0242ac1c0002row9_col7,#T_83df0136_5118_11eb_87c1_0242ac1c0002row10_col0,#T_83df0136_5118_11eb_87c1_0242ac1c0002row10_col14,#T_83df0136_5118_11eb_87c1_0242ac1c0002row11_col2,#T_83df0136_5118_11eb_87c1_0242ac1c0002row11_col14,#T_83df0136_5118_11eb_87c1_0242ac1c0002row12_col0,#T_83df0136_5118_11eb_87c1_0242ac1c0002row13_col9,#T_83df0136_5118_11eb_87c1_0242ac1c0002row13_col12,#T_83df0136_5118_11eb_87c1_0242ac1c0002row14_col5{\n",
              "            background-color:  #e6ecf1;\n",
              "            color:  #000000;\n",
              "        }#T_83df0136_5118_11eb_87c1_0242ac1c0002row2_col1,#T_83df0136_5118_11eb_87c1_0242ac1c0002row2_col4,#T_83df0136_5118_11eb_87c1_0242ac1c0002row3_col5,#T_83df0136_5118_11eb_87c1_0242ac1c0002row4_col2,#T_83df0136_5118_11eb_87c1_0242ac1c0002row5_col3,#T_83df0136_5118_11eb_87c1_0242ac1c0002row7_col1,#T_83df0136_5118_11eb_87c1_0242ac1c0002row12_col11{\n",
              "            background-color:  #c4dbec;\n",
              "            color:  #000000;\n",
              "        }#T_83df0136_5118_11eb_87c1_0242ac1c0002row2_col3,#T_83df0136_5118_11eb_87c1_0242ac1c0002row2_col5,#T_83df0136_5118_11eb_87c1_0242ac1c0002row2_col14,#T_83df0136_5118_11eb_87c1_0242ac1c0002row4_col3,#T_83df0136_5118_11eb_87c1_0242ac1c0002row5_col10,#T_83df0136_5118_11eb_87c1_0242ac1c0002row6_col14,#T_83df0136_5118_11eb_87c1_0242ac1c0002row9_col5,#T_83df0136_5118_11eb_87c1_0242ac1c0002row9_col8,#T_83df0136_5118_11eb_87c1_0242ac1c0002row13_col0,#T_83df0136_5118_11eb_87c1_0242ac1c0002row13_col3,#T_83df0136_5118_11eb_87c1_0242ac1c0002row13_col4,#T_83df0136_5118_11eb_87c1_0242ac1c0002row13_col6,#T_83df0136_5118_11eb_87c1_0242ac1c0002row14_col7{\n",
              "            background-color:  #d7e5ef;\n",
              "            color:  #000000;\n",
              "        }#T_83df0136_5118_11eb_87c1_0242ac1c0002row2_col7,#T_83df0136_5118_11eb_87c1_0242ac1c0002row3_col11,#T_83df0136_5118_11eb_87c1_0242ac1c0002row6_col0,#T_83df0136_5118_11eb_87c1_0242ac1c0002row6_col11,#T_83df0136_5118_11eb_87c1_0242ac1c0002row8_col11,#T_83df0136_5118_11eb_87c1_0242ac1c0002row9_col3,#T_83df0136_5118_11eb_87c1_0242ac1c0002row9_col10,#T_83df0136_5118_11eb_87c1_0242ac1c0002row10_col5,#T_83df0136_5118_11eb_87c1_0242ac1c0002row10_col9,#T_83df0136_5118_11eb_87c1_0242ac1c0002row10_col11,#T_83df0136_5118_11eb_87c1_0242ac1c0002row11_col3,#T_83df0136_5118_11eb_87c1_0242ac1c0002row11_col6,#T_83df0136_5118_11eb_87c1_0242ac1c0002row14_col1{\n",
              "            background-color:  #c9deed;\n",
              "            color:  #000000;\n",
              "        }#T_83df0136_5118_11eb_87c1_0242ac1c0002row3_col1,#T_83df0136_5118_11eb_87c1_0242ac1c0002row6_col4{\n",
              "            background-color:  #bfd8ec;\n",
              "            color:  #000000;\n",
              "        }#T_83df0136_5118_11eb_87c1_0242ac1c0002row4_col5{\n",
              "            background-color:  #93c2e6;\n",
              "            color:  #000000;\n",
              "        }#T_83df0136_5118_11eb_87c1_0242ac1c0002row4_col6,#T_83df0136_5118_11eb_87c1_0242ac1c0002row11_col7,#T_83df0136_5118_11eb_87c1_0242ac1c0002row13_col7{\n",
              "            background-color:  #b1d1ea;\n",
              "            color:  #000000;\n",
              "        }#T_83df0136_5118_11eb_87c1_0242ac1c0002row4_col7,#T_83df0136_5118_11eb_87c1_0242ac1c0002row7_col4{\n",
              "            background-color:  #7ab6e2;\n",
              "            color:  #000000;\n",
              "        }#T_83df0136_5118_11eb_87c1_0242ac1c0002row4_col11,#T_83df0136_5118_11eb_87c1_0242ac1c0002row5_col7,#T_83df0136_5118_11eb_87c1_0242ac1c0002row7_col11{\n",
              "            background-color:  #a6cce8;\n",
              "            color:  #000000;\n",
              "        }#T_83df0136_5118_11eb_87c1_0242ac1c0002row5_col4{\n",
              "            background-color:  #9dc8e7;\n",
              "            color:  #000000;\n",
              "        }#T_83df0136_5118_11eb_87c1_0242ac1c0002row5_col11,#T_83df0136_5118_11eb_87c1_0242ac1c0002row7_col13,#T_83df0136_5118_11eb_87c1_0242ac1c0002row11_col4{\n",
              "            background-color:  #b5d4ea;\n",
              "            color:  #000000;\n",
              "        }#T_83df0136_5118_11eb_87c1_0242ac1c0002row6_col7{\n",
              "            background-color:  #89bee4;\n",
              "            color:  #000000;\n",
              "        }#T_83df0136_5118_11eb_87c1_0242ac1c0002row7_col5{\n",
              "            background-color:  #a2cae8;\n",
              "            color:  #000000;\n",
              "        }#T_83df0136_5118_11eb_87c1_0242ac1c0002row7_col6{\n",
              "            background-color:  #7fb9e3;\n",
              "            color:  #000000;\n",
              "        }#T_83df0136_5118_11eb_87c1_0242ac1c0002row8_col12,#T_83df0136_5118_11eb_87c1_0242ac1c0002row12_col8{\n",
              "            background-color:  #2c90d7;\n",
              "            color:  #000000;\n",
              "        }#T_83df0136_5118_11eb_87c1_0242ac1c0002row9_col12,#T_83df0136_5118_11eb_87c1_0242ac1c0002row12_col9{\n",
              "            background-color:  #75b4e1;\n",
              "            color:  #000000;\n",
              "        }#T_83df0136_5118_11eb_87c1_0242ac1c0002row10_col12{\n",
              "            background-color:  #6bafe0;\n",
              "            color:  #000000;\n",
              "        }#T_83df0136_5118_11eb_87c1_0242ac1c0002row12_col10{\n",
              "            background-color:  #71b2e1;\n",
              "            color:  #000000;\n",
              "        }</style><table id=\"T_83df0136_5118_11eb_87c1_0242ac1c0002\" ><thead>    <tr>        <th class=\"blank level0\" ></th>        <th class=\"col_heading level0 col0\" >age</th>        <th class=\"col_heading level0 col1\" >admission_type_id</th>        <th class=\"col_heading level0 col2\" >discharge_disposition_id</th>        <th class=\"col_heading level0 col3\" >admission_source_id</th>        <th class=\"col_heading level0 col4\" >time_in_hospital</th>        <th class=\"col_heading level0 col5\" >num_lab_procedures</th>        <th class=\"col_heading level0 col6\" >num_procedures</th>        <th class=\"col_heading level0 col7\" >num_medications</th>        <th class=\"col_heading level0 col8\" >number_outpatient</th>        <th class=\"col_heading level0 col9\" >number_emergency</th>        <th class=\"col_heading level0 col10\" >number_inpatient</th>        <th class=\"col_heading level0 col11\" >number_diagnoses</th>        <th class=\"col_heading level0 col12\" >visitas_totales</th>        <th class=\"col_heading level0 col13\" >tratamientos_tomados</th>        <th class=\"col_heading level0 col14\" >categorias_diag_1</th>    </tr></thead><tbody>\n",
              "                <tr>\n",
              "                        <th id=\"T_83df0136_5118_11eb_87c1_0242ac1c0002level0_row0\" class=\"row_heading level0 row0\" >age</th>\n",
              "                        <td id=\"T_83df0136_5118_11eb_87c1_0242ac1c0002row0_col0\" class=\"data row0 col0\" >1.000000</td>\n",
              "                        <td id=\"T_83df0136_5118_11eb_87c1_0242ac1c0002row0_col1\" class=\"data row0 col1\" >0.047209</td>\n",
              "                        <td id=\"T_83df0136_5118_11eb_87c1_0242ac1c0002row0_col2\" class=\"data row0 col2\" >-0.022161</td>\n",
              "                        <td id=\"T_83df0136_5118_11eb_87c1_0242ac1c0002row0_col3\" class=\"data row0 col3\" >-0.052930</td>\n",
              "                        <td id=\"T_83df0136_5118_11eb_87c1_0242ac1c0002row0_col4\" class=\"data row0 col4\" >-0.029746</td>\n",
              "                        <td id=\"T_83df0136_5118_11eb_87c1_0242ac1c0002row0_col5\" class=\"data row0 col5\" >-0.025750</td>\n",
              "                        <td id=\"T_83df0136_5118_11eb_87c1_0242ac1c0002row0_col6\" class=\"data row0 col6\" >0.120809</td>\n",
              "                        <td id=\"T_83df0136_5118_11eb_87c1_0242ac1c0002row0_col7\" class=\"data row0 col7\" >0.095560</td>\n",
              "                        <td id=\"T_83df0136_5118_11eb_87c1_0242ac1c0002row0_col8\" class=\"data row0 col8\" >-0.002360</td>\n",
              "                        <td id=\"T_83df0136_5118_11eb_87c1_0242ac1c0002row0_col9\" class=\"data row0 col9\" >-0.014808</td>\n",
              "                        <td id=\"T_83df0136_5118_11eb_87c1_0242ac1c0002row0_col10\" class=\"data row0 col10\" >-0.004116</td>\n",
              "                        <td id=\"T_83df0136_5118_11eb_87c1_0242ac1c0002row0_col11\" class=\"data row0 col11\" >-0.023733</td>\n",
              "                        <td id=\"T_83df0136_5118_11eb_87c1_0242ac1c0002row0_col12\" class=\"data row0 col12\" >-0.008803</td>\n",
              "                        <td id=\"T_83df0136_5118_11eb_87c1_0242ac1c0002row0_col13\" class=\"data row0 col13\" >0.055312</td>\n",
              "                        <td id=\"T_83df0136_5118_11eb_87c1_0242ac1c0002row0_col14\" class=\"data row0 col14\" >0.012024</td>\n",
              "            </tr>\n",
              "            <tr>\n",
              "                        <th id=\"T_83df0136_5118_11eb_87c1_0242ac1c0002level0_row1\" class=\"row_heading level0 row1\" >admission_type_id</th>\n",
              "                        <td id=\"T_83df0136_5118_11eb_87c1_0242ac1c0002row1_col0\" class=\"data row1 col0\" >0.047209</td>\n",
              "                        <td id=\"T_83df0136_5118_11eb_87c1_0242ac1c0002row1_col1\" class=\"data row1 col1\" >1.000000</td>\n",
              "                        <td id=\"T_83df0136_5118_11eb_87c1_0242ac1c0002row1_col2\" class=\"data row1 col2\" >0.093745</td>\n",
              "                        <td id=\"T_83df0136_5118_11eb_87c1_0242ac1c0002row1_col3\" class=\"data row1 col3\" >0.121866</td>\n",
              "                        <td id=\"T_83df0136_5118_11eb_87c1_0242ac1c0002row1_col4\" class=\"data row1 col4\" >-0.017309</td>\n",
              "                        <td id=\"T_83df0136_5118_11eb_87c1_0242ac1c0002row1_col5\" class=\"data row1 col5\" >-0.111841</td>\n",
              "                        <td id=\"T_83df0136_5118_11eb_87c1_0242ac1c0002row1_col6\" class=\"data row1 col6\" >0.134883</td>\n",
              "                        <td id=\"T_83df0136_5118_11eb_87c1_0242ac1c0002row1_col7\" class=\"data row1 col7\" >0.098591</td>\n",
              "                        <td id=\"T_83df0136_5118_11eb_87c1_0242ac1c0002row1_col8\" class=\"data row1 col8\" >0.037361</td>\n",
              "                        <td id=\"T_83df0136_5118_11eb_87c1_0242ac1c0002row1_col9\" class=\"data row1 col9\" >-0.018783</td>\n",
              "                        <td id=\"T_83df0136_5118_11eb_87c1_0242ac1c0002row1_col10\" class=\"data row1 col10\" >0.041603</td>\n",
              "                        <td id=\"T_83df0136_5118_11eb_87c1_0242ac1c0002row1_col11\" class=\"data row1 col11\" >-0.121217</td>\n",
              "                        <td id=\"T_83df0136_5118_11eb_87c1_0242ac1c0002row1_col12\" class=\"data row1 col12\" >0.038607</td>\n",
              "                        <td id=\"T_83df0136_5118_11eb_87c1_0242ac1c0002row1_col13\" class=\"data row1 col13\" >-0.010249</td>\n",
              "                        <td id=\"T_83df0136_5118_11eb_87c1_0242ac1c0002row1_col14\" class=\"data row1 col14\" >0.064955</td>\n",
              "            </tr>\n",
              "            <tr>\n",
              "                        <th id=\"T_83df0136_5118_11eb_87c1_0242ac1c0002level0_row2\" class=\"row_heading level0 row2\" >discharge_disposition_id</th>\n",
              "                        <td id=\"T_83df0136_5118_11eb_87c1_0242ac1c0002row2_col0\" class=\"data row2 col0\" >-0.022161</td>\n",
              "                        <td id=\"T_83df0136_5118_11eb_87c1_0242ac1c0002row2_col1\" class=\"data row2 col1\" >0.093745</td>\n",
              "                        <td id=\"T_83df0136_5118_11eb_87c1_0242ac1c0002row2_col2\" class=\"data row2 col2\" >1.000000</td>\n",
              "                        <td id=\"T_83df0136_5118_11eb_87c1_0242ac1c0002row2_col3\" class=\"data row2 col3\" >-0.005367</td>\n",
              "                        <td id=\"T_83df0136_5118_11eb_87c1_0242ac1c0002row2_col4\" class=\"data row2 col4\" >0.162532</td>\n",
              "                        <td id=\"T_83df0136_5118_11eb_87c1_0242ac1c0002row2_col5\" class=\"data row2 col5\" >0.012607</td>\n",
              "                        <td id=\"T_83df0136_5118_11eb_87c1_0242ac1c0002row2_col6\" class=\"data row2 col6\" >0.017328</td>\n",
              "                        <td id=\"T_83df0136_5118_11eb_87c1_0242ac1c0002row2_col7\" class=\"data row2 col7\" >0.111231</td>\n",
              "                        <td id=\"T_83df0136_5118_11eb_87c1_0242ac1c0002row2_col8\" class=\"data row2 col8\" >-0.019958</td>\n",
              "                        <td id=\"T_83df0136_5118_11eb_87c1_0242ac1c0002row2_col9\" class=\"data row2 col9\" >-0.028134</td>\n",
              "                        <td id=\"T_83df0136_5118_11eb_87c1_0242ac1c0002row2_col10\" class=\"data row2 col10\" >-0.028024</td>\n",
              "                        <td id=\"T_83df0136_5118_11eb_87c1_0242ac1c0002row2_col11\" class=\"data row2 col11\" >0.023906</td>\n",
              "                        <td id=\"T_83df0136_5118_11eb_87c1_0242ac1c0002row2_col12\" class=\"data row2 col12\" >-0.036753</td>\n",
              "                        <td id=\"T_83df0136_5118_11eb_87c1_0242ac1c0002row2_col13\" class=\"data row2 col13\" >-0.014292</td>\n",
              "                        <td id=\"T_83df0136_5118_11eb_87c1_0242ac1c0002row2_col14\" class=\"data row2 col14\" >0.040092</td>\n",
              "            </tr>\n",
              "            <tr>\n",
              "                        <th id=\"T_83df0136_5118_11eb_87c1_0242ac1c0002level0_row3\" class=\"row_heading level0 row3\" >admission_source_id</th>\n",
              "                        <td id=\"T_83df0136_5118_11eb_87c1_0242ac1c0002row3_col0\" class=\"data row3 col0\" >-0.052930</td>\n",
              "                        <td id=\"T_83df0136_5118_11eb_87c1_0242ac1c0002row3_col1\" class=\"data row3 col1\" >0.121866</td>\n",
              "                        <td id=\"T_83df0136_5118_11eb_87c1_0242ac1c0002row3_col2\" class=\"data row3 col2\" >-0.005367</td>\n",
              "                        <td id=\"T_83df0136_5118_11eb_87c1_0242ac1c0002row3_col3\" class=\"data row3 col3\" >1.000000</td>\n",
              "                        <td id=\"T_83df0136_5118_11eb_87c1_0242ac1c0002row3_col4\" class=\"data row3 col4\" >0.006421</td>\n",
              "                        <td id=\"T_83df0136_5118_11eb_87c1_0242ac1c0002row3_col5\" class=\"data row3 col5\" >0.093014</td>\n",
              "                        <td id=\"T_83df0136_5118_11eb_87c1_0242ac1c0002row3_col6\" class=\"data row3 col6\" >-0.128845</td>\n",
              "                        <td id=\"T_83df0136_5118_11eb_87c1_0242ac1c0002row3_col7\" class=\"data row3 col7\" >-0.060240</td>\n",
              "                        <td id=\"T_83df0136_5118_11eb_87c1_0242ac1c0002row3_col8\" class=\"data row3 col8\" >0.016654</td>\n",
              "                        <td id=\"T_83df0136_5118_11eb_87c1_0242ac1c0002row3_col9\" class=\"data row3 col9\" >0.054747</td>\n",
              "                        <td id=\"T_83df0136_5118_11eb_87c1_0242ac1c0002row3_col10\" class=\"data row3 col10\" >0.031285</td>\n",
              "                        <td id=\"T_83df0136_5118_11eb_87c1_0242ac1c0002row3_col11\" class=\"data row3 col11\" >0.066717</td>\n",
              "                        <td id=\"T_83df0136_5118_11eb_87c1_0242ac1c0002row3_col12\" class=\"data row3 col12\" >0.045205</td>\n",
              "                        <td id=\"T_83df0136_5118_11eb_87c1_0242ac1c0002row3_col13\" class=\"data row3 col13\" >-0.012827</td>\n",
              "                        <td id=\"T_83df0136_5118_11eb_87c1_0242ac1c0002row3_col14\" class=\"data row3 col14\" >-0.090517</td>\n",
              "            </tr>\n",
              "            <tr>\n",
              "                        <th id=\"T_83df0136_5118_11eb_87c1_0242ac1c0002level0_row4\" class=\"row_heading level0 row4\" >time_in_hospital</th>\n",
              "                        <td id=\"T_83df0136_5118_11eb_87c1_0242ac1c0002row4_col0\" class=\"data row4 col0\" >-0.029746</td>\n",
              "                        <td id=\"T_83df0136_5118_11eb_87c1_0242ac1c0002row4_col1\" class=\"data row4 col1\" >-0.017309</td>\n",
              "                        <td id=\"T_83df0136_5118_11eb_87c1_0242ac1c0002row4_col2\" class=\"data row4 col2\" >0.162532</td>\n",
              "                        <td id=\"T_83df0136_5118_11eb_87c1_0242ac1c0002row4_col3\" class=\"data row4 col3\" >0.006421</td>\n",
              "                        <td id=\"T_83df0136_5118_11eb_87c1_0242ac1c0002row4_col4\" class=\"data row4 col4\" >1.000000</td>\n",
              "                        <td id=\"T_83df0136_5118_11eb_87c1_0242ac1c0002row4_col5\" class=\"data row4 col5\" >0.331883</td>\n",
              "                        <td id=\"T_83df0136_5118_11eb_87c1_0242ac1c0002row4_col6\" class=\"data row4 col6\" >0.187207</td>\n",
              "                        <td id=\"T_83df0136_5118_11eb_87c1_0242ac1c0002row4_col7\" class=\"data row4 col7\" >0.465518</td>\n",
              "                        <td id=\"T_83df0136_5118_11eb_87c1_0242ac1c0002row4_col8\" class=\"data row4 col8\" >-0.017815</td>\n",
              "                        <td id=\"T_83df0136_5118_11eb_87c1_0242ac1c0002row4_col9\" class=\"data row4 col9\" >-0.010313</td>\n",
              "                        <td id=\"T_83df0136_5118_11eb_87c1_0242ac1c0002row4_col10\" class=\"data row4 col10\" >0.062435</td>\n",
              "                        <td id=\"T_83df0136_5118_11eb_87c1_0242ac1c0002row4_col11\" class=\"data row4 col11\" >0.223883</td>\n",
              "                        <td id=\"T_83df0136_5118_11eb_87c1_0242ac1c0002row4_col12\" class=\"data row4 col12\" >0.009197</td>\n",
              "                        <td id=\"T_83df0136_5118_11eb_87c1_0242ac1c0002row4_col13\" class=\"data row4 col13\" >0.085009</td>\n",
              "                        <td id=\"T_83df0136_5118_11eb_87c1_0242ac1c0002row4_col14\" class=\"data row4 col14\" >0.002456</td>\n",
              "            </tr>\n",
              "            <tr>\n",
              "                        <th id=\"T_83df0136_5118_11eb_87c1_0242ac1c0002level0_row5\" class=\"row_heading level0 row5\" >num_lab_procedures</th>\n",
              "                        <td id=\"T_83df0136_5118_11eb_87c1_0242ac1c0002row5_col0\" class=\"data row5 col0\" >-0.025750</td>\n",
              "                        <td id=\"T_83df0136_5118_11eb_87c1_0242ac1c0002row5_col1\" class=\"data row5 col1\" >-0.111841</td>\n",
              "                        <td id=\"T_83df0136_5118_11eb_87c1_0242ac1c0002row5_col2\" class=\"data row5 col2\" >0.012607</td>\n",
              "                        <td id=\"T_83df0136_5118_11eb_87c1_0242ac1c0002row5_col3\" class=\"data row5 col3\" >0.093014</td>\n",
              "                        <td id=\"T_83df0136_5118_11eb_87c1_0242ac1c0002row5_col4\" class=\"data row5 col4\" >0.331883</td>\n",
              "                        <td id=\"T_83df0136_5118_11eb_87c1_0242ac1c0002row5_col5\" class=\"data row5 col5\" >1.000000</td>\n",
              "                        <td id=\"T_83df0136_5118_11eb_87c1_0242ac1c0002row5_col6\" class=\"data row5 col6\" >0.043894</td>\n",
              "                        <td id=\"T_83df0136_5118_11eb_87c1_0242ac1c0002row5_col7\" class=\"data row5 col7\" >0.258576</td>\n",
              "                        <td id=\"T_83df0136_5118_11eb_87c1_0242ac1c0002row5_col8\" class=\"data row5 col8\" >-0.009265</td>\n",
              "                        <td id=\"T_83df0136_5118_11eb_87c1_0242ac1c0002row5_col9\" class=\"data row5 col9\" >0.015995</td>\n",
              "                        <td id=\"T_83df0136_5118_11eb_87c1_0242ac1c0002row5_col10\" class=\"data row5 col10\" >0.080321</td>\n",
              "                        <td id=\"T_83df0136_5118_11eb_87c1_0242ac1c0002row5_col11\" class=\"data row5 col11\" >0.151241</td>\n",
              "                        <td id=\"T_83df0136_5118_11eb_87c1_0242ac1c0002row5_col12\" class=\"data row5 col12\" >0.032525</td>\n",
              "                        <td id=\"T_83df0136_5118_11eb_87c1_0242ac1c0002row5_col13\" class=\"data row5 col13\" >0.042912</td>\n",
              "                        <td id=\"T_83df0136_5118_11eb_87c1_0242ac1c0002row5_col14\" class=\"data row5 col14\" >-0.050780</td>\n",
              "            </tr>\n",
              "            <tr>\n",
              "                        <th id=\"T_83df0136_5118_11eb_87c1_0242ac1c0002level0_row6\" class=\"row_heading level0 row6\" >num_procedures</th>\n",
              "                        <td id=\"T_83df0136_5118_11eb_87c1_0242ac1c0002row6_col0\" class=\"data row6 col0\" >0.120809</td>\n",
              "                        <td id=\"T_83df0136_5118_11eb_87c1_0242ac1c0002row6_col1\" class=\"data row6 col1\" >0.134883</td>\n",
              "                        <td id=\"T_83df0136_5118_11eb_87c1_0242ac1c0002row6_col2\" class=\"data row6 col2\" >0.017328</td>\n",
              "                        <td id=\"T_83df0136_5118_11eb_87c1_0242ac1c0002row6_col3\" class=\"data row6 col3\" >-0.128845</td>\n",
              "                        <td id=\"T_83df0136_5118_11eb_87c1_0242ac1c0002row6_col4\" class=\"data row6 col4\" >0.187207</td>\n",
              "                        <td id=\"T_83df0136_5118_11eb_87c1_0242ac1c0002row6_col5\" class=\"data row6 col5\" >0.043894</td>\n",
              "                        <td id=\"T_83df0136_5118_11eb_87c1_0242ac1c0002row6_col6\" class=\"data row6 col6\" >1.000000</td>\n",
              "                        <td id=\"T_83df0136_5118_11eb_87c1_0242ac1c0002row6_col7\" class=\"data row6 col7\" >0.397342</td>\n",
              "                        <td id=\"T_83df0136_5118_11eb_87c1_0242ac1c0002row6_col8\" class=\"data row6 col8\" >-0.020939</td>\n",
              "                        <td id=\"T_83df0136_5118_11eb_87c1_0242ac1c0002row6_col9\" class=\"data row6 col9\" >-0.035930</td>\n",
              "                        <td id=\"T_83df0136_5118_11eb_87c1_0242ac1c0002row6_col10\" class=\"data row6 col10\" >-0.025100</td>\n",
              "                        <td id=\"T_83df0136_5118_11eb_87c1_0242ac1c0002row6_col11\" class=\"data row6 col11\" >0.068498</td>\n",
              "                        <td id=\"T_83df0136_5118_11eb_87c1_0242ac1c0002row6_col12\" class=\"data row6 col12\" >-0.039056</td>\n",
              "                        <td id=\"T_83df0136_5118_11eb_87c1_0242ac1c0002row6_col13\" class=\"data row6 col13\" >0.003455</td>\n",
              "                        <td id=\"T_83df0136_5118_11eb_87c1_0242ac1c0002row6_col14\" class=\"data row6 col14\" >0.018815</td>\n",
              "            </tr>\n",
              "            <tr>\n",
              "                        <th id=\"T_83df0136_5118_11eb_87c1_0242ac1c0002level0_row7\" class=\"row_heading level0 row7\" >num_medications</th>\n",
              "                        <td id=\"T_83df0136_5118_11eb_87c1_0242ac1c0002row7_col0\" class=\"data row7 col0\" >0.095560</td>\n",
              "                        <td id=\"T_83df0136_5118_11eb_87c1_0242ac1c0002row7_col1\" class=\"data row7 col1\" >0.098591</td>\n",
              "                        <td id=\"T_83df0136_5118_11eb_87c1_0242ac1c0002row7_col2\" class=\"data row7 col2\" >0.111231</td>\n",
              "                        <td id=\"T_83df0136_5118_11eb_87c1_0242ac1c0002row7_col3\" class=\"data row7 col3\" >-0.060240</td>\n",
              "                        <td id=\"T_83df0136_5118_11eb_87c1_0242ac1c0002row7_col4\" class=\"data row7 col4\" >0.465518</td>\n",
              "                        <td id=\"T_83df0136_5118_11eb_87c1_0242ac1c0002row7_col5\" class=\"data row7 col5\" >0.258576</td>\n",
              "                        <td id=\"T_83df0136_5118_11eb_87c1_0242ac1c0002row7_col6\" class=\"data row7 col6\" >0.397342</td>\n",
              "                        <td id=\"T_83df0136_5118_11eb_87c1_0242ac1c0002row7_col7\" class=\"data row7 col7\" >1.000000</td>\n",
              "                        <td id=\"T_83df0136_5118_11eb_87c1_0242ac1c0002row7_col8\" class=\"data row7 col8\" >0.024054</td>\n",
              "                        <td id=\"T_83df0136_5118_11eb_87c1_0242ac1c0002row7_col9\" class=\"data row7 col9\" >0.002013</td>\n",
              "                        <td id=\"T_83df0136_5118_11eb_87c1_0242ac1c0002row7_col10\" class=\"data row7 col10\" >0.037340</td>\n",
              "                        <td id=\"T_83df0136_5118_11eb_87c1_0242ac1c0002row7_col11\" class=\"data row7 col11\" >0.236459</td>\n",
              "                        <td id=\"T_83df0136_5118_11eb_87c1_0242ac1c0002row7_col12\" class=\"data row7 col12\" >0.034347</td>\n",
              "                        <td id=\"T_83df0136_5118_11eb_87c1_0242ac1c0002row7_col13\" class=\"data row7 col13\" >0.236039</td>\n",
              "                        <td id=\"T_83df0136_5118_11eb_87c1_0242ac1c0002row7_col14\" class=\"data row7 col14\" >0.064557</td>\n",
              "            </tr>\n",
              "            <tr>\n",
              "                        <th id=\"T_83df0136_5118_11eb_87c1_0242ac1c0002level0_row8\" class=\"row_heading level0 row8\" >number_outpatient</th>\n",
              "                        <td id=\"T_83df0136_5118_11eb_87c1_0242ac1c0002row8_col0\" class=\"data row8 col0\" >-0.002360</td>\n",
              "                        <td id=\"T_83df0136_5118_11eb_87c1_0242ac1c0002row8_col1\" class=\"data row8 col1\" >0.037361</td>\n",
              "                        <td id=\"T_83df0136_5118_11eb_87c1_0242ac1c0002row8_col2\" class=\"data row8 col2\" >-0.019958</td>\n",
              "                        <td id=\"T_83df0136_5118_11eb_87c1_0242ac1c0002row8_col3\" class=\"data row8 col3\" >0.016654</td>\n",
              "                        <td id=\"T_83df0136_5118_11eb_87c1_0242ac1c0002row8_col4\" class=\"data row8 col4\" >-0.017815</td>\n",
              "                        <td id=\"T_83df0136_5118_11eb_87c1_0242ac1c0002row8_col5\" class=\"data row8 col5\" >-0.009265</td>\n",
              "                        <td id=\"T_83df0136_5118_11eb_87c1_0242ac1c0002row8_col6\" class=\"data row8 col6\" >-0.020939</td>\n",
              "                        <td id=\"T_83df0136_5118_11eb_87c1_0242ac1c0002row8_col7\" class=\"data row8 col7\" >0.024054</td>\n",
              "                        <td id=\"T_83df0136_5118_11eb_87c1_0242ac1c0002row8_col8\" class=\"data row8 col8\" >1.000000</td>\n",
              "                        <td id=\"T_83df0136_5118_11eb_87c1_0242ac1c0002row8_col9\" class=\"data row8 col9\" >0.094805</td>\n",
              "                        <td id=\"T_83df0136_5118_11eb_87c1_0242ac1c0002row8_col10\" class=\"data row8 col10\" >0.067612</td>\n",
              "                        <td id=\"T_83df0136_5118_11eb_87c1_0242ac1c0002row8_col11\" class=\"data row8 col11\" >0.073936</td>\n",
              "                        <td id=\"T_83df0136_5118_11eb_87c1_0242ac1c0002row8_col12\" class=\"data row8 col12\" >0.808923</td>\n",
              "                        <td id=\"T_83df0136_5118_11eb_87c1_0242ac1c0002row8_col13\" class=\"data row8 col13\" >0.014943</td>\n",
              "                        <td id=\"T_83df0136_5118_11eb_87c1_0242ac1c0002row8_col14\" class=\"data row8 col14\" >0.006000</td>\n",
              "            </tr>\n",
              "            <tr>\n",
              "                        <th id=\"T_83df0136_5118_11eb_87c1_0242ac1c0002level0_row9\" class=\"row_heading level0 row9\" >number_emergency</th>\n",
              "                        <td id=\"T_83df0136_5118_11eb_87c1_0242ac1c0002row9_col0\" class=\"data row9 col0\" >-0.014808</td>\n",
              "                        <td id=\"T_83df0136_5118_11eb_87c1_0242ac1c0002row9_col1\" class=\"data row9 col1\" >-0.018783</td>\n",
              "                        <td id=\"T_83df0136_5118_11eb_87c1_0242ac1c0002row9_col2\" class=\"data row9 col2\" >-0.028134</td>\n",
              "                        <td id=\"T_83df0136_5118_11eb_87c1_0242ac1c0002row9_col3\" class=\"data row9 col3\" >0.054747</td>\n",
              "                        <td id=\"T_83df0136_5118_11eb_87c1_0242ac1c0002row9_col4\" class=\"data row9 col4\" >-0.010313</td>\n",
              "                        <td id=\"T_83df0136_5118_11eb_87c1_0242ac1c0002row9_col5\" class=\"data row9 col5\" >0.015995</td>\n",
              "                        <td id=\"T_83df0136_5118_11eb_87c1_0242ac1c0002row9_col6\" class=\"data row9 col6\" >-0.035930</td>\n",
              "                        <td id=\"T_83df0136_5118_11eb_87c1_0242ac1c0002row9_col7\" class=\"data row9 col7\" >0.002013</td>\n",
              "                        <td id=\"T_83df0136_5118_11eb_87c1_0242ac1c0002row9_col8\" class=\"data row9 col8\" >0.094805</td>\n",
              "                        <td id=\"T_83df0136_5118_11eb_87c1_0242ac1c0002row9_col9\" class=\"data row9 col9\" >1.000000</td>\n",
              "                        <td id=\"T_83df0136_5118_11eb_87c1_0242ac1c0002row9_col10\" class=\"data row9 col10\" >0.148483</td>\n",
              "                        <td id=\"T_83df0136_5118_11eb_87c1_0242ac1c0002row9_col11\" class=\"data row9 col11\" >0.049411</td>\n",
              "                        <td id=\"T_83df0136_5118_11eb_87c1_0242ac1c0002row9_col12\" class=\"data row9 col12\" >0.491916</td>\n",
              "                        <td id=\"T_83df0136_5118_11eb_87c1_0242ac1c0002row9_col13\" class=\"data row9 col13\" >0.015215</td>\n",
              "                        <td id=\"T_83df0136_5118_11eb_87c1_0242ac1c0002row9_col14\" class=\"data row9 col14\" >-0.003954</td>\n",
              "            </tr>\n",
              "            <tr>\n",
              "                        <th id=\"T_83df0136_5118_11eb_87c1_0242ac1c0002level0_row10\" class=\"row_heading level0 row10\" >number_inpatient</th>\n",
              "                        <td id=\"T_83df0136_5118_11eb_87c1_0242ac1c0002row10_col0\" class=\"data row10 col0\" >-0.004116</td>\n",
              "                        <td id=\"T_83df0136_5118_11eb_87c1_0242ac1c0002row10_col1\" class=\"data row10 col1\" >0.041603</td>\n",
              "                        <td id=\"T_83df0136_5118_11eb_87c1_0242ac1c0002row10_col2\" class=\"data row10 col2\" >-0.028024</td>\n",
              "                        <td id=\"T_83df0136_5118_11eb_87c1_0242ac1c0002row10_col3\" class=\"data row10 col3\" >0.031285</td>\n",
              "                        <td id=\"T_83df0136_5118_11eb_87c1_0242ac1c0002row10_col4\" class=\"data row10 col4\" >0.062435</td>\n",
              "                        <td id=\"T_83df0136_5118_11eb_87c1_0242ac1c0002row10_col5\" class=\"data row10 col5\" >0.080321</td>\n",
              "                        <td id=\"T_83df0136_5118_11eb_87c1_0242ac1c0002row10_col6\" class=\"data row10 col6\" >-0.025100</td>\n",
              "                        <td id=\"T_83df0136_5118_11eb_87c1_0242ac1c0002row10_col7\" class=\"data row10 col7\" >0.037340</td>\n",
              "                        <td id=\"T_83df0136_5118_11eb_87c1_0242ac1c0002row10_col8\" class=\"data row10 col8\" >0.067612</td>\n",
              "                        <td id=\"T_83df0136_5118_11eb_87c1_0242ac1c0002row10_col9\" class=\"data row10 col9\" >0.148483</td>\n",
              "                        <td id=\"T_83df0136_5118_11eb_87c1_0242ac1c0002row10_col10\" class=\"data row10 col10\" >1.000000</td>\n",
              "                        <td id=\"T_83df0136_5118_11eb_87c1_0242ac1c0002row10_col11\" class=\"data row10 col11\" >0.064991</td>\n",
              "                        <td id=\"T_83df0136_5118_11eb_87c1_0242ac1c0002row10_col12\" class=\"data row10 col12\" >0.523348</td>\n",
              "                        <td id=\"T_83df0136_5118_11eb_87c1_0242ac1c0002row10_col13\" class=\"data row10 col13\" >-0.005190</td>\n",
              "                        <td id=\"T_83df0136_5118_11eb_87c1_0242ac1c0002row10_col14\" class=\"data row10 col14\" >-0.027085</td>\n",
              "            </tr>\n",
              "            <tr>\n",
              "                        <th id=\"T_83df0136_5118_11eb_87c1_0242ac1c0002level0_row11\" class=\"row_heading level0 row11\" >number_diagnoses</th>\n",
              "                        <td id=\"T_83df0136_5118_11eb_87c1_0242ac1c0002row11_col0\" class=\"data row11 col0\" >-0.023733</td>\n",
              "                        <td id=\"T_83df0136_5118_11eb_87c1_0242ac1c0002row11_col1\" class=\"data row11 col1\" >-0.121217</td>\n",
              "                        <td id=\"T_83df0136_5118_11eb_87c1_0242ac1c0002row11_col2\" class=\"data row11 col2\" >0.023906</td>\n",
              "                        <td id=\"T_83df0136_5118_11eb_87c1_0242ac1c0002row11_col3\" class=\"data row11 col3\" >0.066717</td>\n",
              "                        <td id=\"T_83df0136_5118_11eb_87c1_0242ac1c0002row11_col4\" class=\"data row11 col4\" >0.223883</td>\n",
              "                        <td id=\"T_83df0136_5118_11eb_87c1_0242ac1c0002row11_col5\" class=\"data row11 col5\" >0.151241</td>\n",
              "                        <td id=\"T_83df0136_5118_11eb_87c1_0242ac1c0002row11_col6\" class=\"data row11 col6\" >0.068498</td>\n",
              "                        <td id=\"T_83df0136_5118_11eb_87c1_0242ac1c0002row11_col7\" class=\"data row11 col7\" >0.236459</td>\n",
              "                        <td id=\"T_83df0136_5118_11eb_87c1_0242ac1c0002row11_col8\" class=\"data row11 col8\" >0.073936</td>\n",
              "                        <td id=\"T_83df0136_5118_11eb_87c1_0242ac1c0002row11_col9\" class=\"data row11 col9\" >0.049411</td>\n",
              "                        <td id=\"T_83df0136_5118_11eb_87c1_0242ac1c0002row11_col10\" class=\"data row11 col10\" >0.064991</td>\n",
              "                        <td id=\"T_83df0136_5118_11eb_87c1_0242ac1c0002row11_col11\" class=\"data row11 col11\" >1.000000</td>\n",
              "                        <td id=\"T_83df0136_5118_11eb_87c1_0242ac1c0002row11_col12\" class=\"data row11 col12\" >0.100196</td>\n",
              "                        <td id=\"T_83df0136_5118_11eb_87c1_0242ac1c0002row11_col13\" class=\"data row11 col13\" >0.017242</td>\n",
              "                        <td id=\"T_83df0136_5118_11eb_87c1_0242ac1c0002row11_col14\" class=\"data row11 col14\" >-0.045221</td>\n",
              "            </tr>\n",
              "            <tr>\n",
              "                        <th id=\"T_83df0136_5118_11eb_87c1_0242ac1c0002level0_row12\" class=\"row_heading level0 row12\" >visitas_totales</th>\n",
              "                        <td id=\"T_83df0136_5118_11eb_87c1_0242ac1c0002row12_col0\" class=\"data row12 col0\" >-0.008803</td>\n",
              "                        <td id=\"T_83df0136_5118_11eb_87c1_0242ac1c0002row12_col1\" class=\"data row12 col1\" >0.038607</td>\n",
              "                        <td id=\"T_83df0136_5118_11eb_87c1_0242ac1c0002row12_col2\" class=\"data row12 col2\" >-0.036753</td>\n",
              "                        <td id=\"T_83df0136_5118_11eb_87c1_0242ac1c0002row12_col3\" class=\"data row12 col3\" >0.045205</td>\n",
              "                        <td id=\"T_83df0136_5118_11eb_87c1_0242ac1c0002row12_col4\" class=\"data row12 col4\" >0.009197</td>\n",
              "                        <td id=\"T_83df0136_5118_11eb_87c1_0242ac1c0002row12_col5\" class=\"data row12 col5\" >0.032525</td>\n",
              "                        <td id=\"T_83df0136_5118_11eb_87c1_0242ac1c0002row12_col6\" class=\"data row12 col6\" >-0.039056</td>\n",
              "                        <td id=\"T_83df0136_5118_11eb_87c1_0242ac1c0002row12_col7\" class=\"data row12 col7\" >0.034347</td>\n",
              "                        <td id=\"T_83df0136_5118_11eb_87c1_0242ac1c0002row12_col8\" class=\"data row12 col8\" >0.808923</td>\n",
              "                        <td id=\"T_83df0136_5118_11eb_87c1_0242ac1c0002row12_col9\" class=\"data row12 col9\" >0.491916</td>\n",
              "                        <td id=\"T_83df0136_5118_11eb_87c1_0242ac1c0002row12_col10\" class=\"data row12 col10\" >0.523348</td>\n",
              "                        <td id=\"T_83df0136_5118_11eb_87c1_0242ac1c0002row12_col11\" class=\"data row12 col11\" >0.100196</td>\n",
              "                        <td id=\"T_83df0136_5118_11eb_87c1_0242ac1c0002row12_col12\" class=\"data row12 col12\" >1.000000</td>\n",
              "                        <td id=\"T_83df0136_5118_11eb_87c1_0242ac1c0002row12_col13\" class=\"data row12 col13\" >0.014438</td>\n",
              "                        <td id=\"T_83df0136_5118_11eb_87c1_0242ac1c0002row12_col14\" class=\"data row12 col14\" >-0.008304</td>\n",
              "            </tr>\n",
              "            <tr>\n",
              "                        <th id=\"T_83df0136_5118_11eb_87c1_0242ac1c0002level0_row13\" class=\"row_heading level0 row13\" >tratamientos_tomados</th>\n",
              "                        <td id=\"T_83df0136_5118_11eb_87c1_0242ac1c0002row13_col0\" class=\"data row13 col0\" >0.055312</td>\n",
              "                        <td id=\"T_83df0136_5118_11eb_87c1_0242ac1c0002row13_col1\" class=\"data row13 col1\" >-0.010249</td>\n",
              "                        <td id=\"T_83df0136_5118_11eb_87c1_0242ac1c0002row13_col2\" class=\"data row13 col2\" >-0.014292</td>\n",
              "                        <td id=\"T_83df0136_5118_11eb_87c1_0242ac1c0002row13_col3\" class=\"data row13 col3\" >-0.012827</td>\n",
              "                        <td id=\"T_83df0136_5118_11eb_87c1_0242ac1c0002row13_col4\" class=\"data row13 col4\" >0.085009</td>\n",
              "                        <td id=\"T_83df0136_5118_11eb_87c1_0242ac1c0002row13_col5\" class=\"data row13 col5\" >0.042912</td>\n",
              "                        <td id=\"T_83df0136_5118_11eb_87c1_0242ac1c0002row13_col6\" class=\"data row13 col6\" >0.003455</td>\n",
              "                        <td id=\"T_83df0136_5118_11eb_87c1_0242ac1c0002row13_col7\" class=\"data row13 col7\" >0.236039</td>\n",
              "                        <td id=\"T_83df0136_5118_11eb_87c1_0242ac1c0002row13_col8\" class=\"data row13 col8\" >0.014943</td>\n",
              "                        <td id=\"T_83df0136_5118_11eb_87c1_0242ac1c0002row13_col9\" class=\"data row13 col9\" >0.015215</td>\n",
              "                        <td id=\"T_83df0136_5118_11eb_87c1_0242ac1c0002row13_col10\" class=\"data row13 col10\" >-0.005190</td>\n",
              "                        <td id=\"T_83df0136_5118_11eb_87c1_0242ac1c0002row13_col11\" class=\"data row13 col11\" >0.017242</td>\n",
              "                        <td id=\"T_83df0136_5118_11eb_87c1_0242ac1c0002row13_col12\" class=\"data row13 col12\" >0.014438</td>\n",
              "                        <td id=\"T_83df0136_5118_11eb_87c1_0242ac1c0002row13_col13\" class=\"data row13 col13\" >1.000000</td>\n",
              "                        <td id=\"T_83df0136_5118_11eb_87c1_0242ac1c0002row13_col14\" class=\"data row13 col14\" >0.004064</td>\n",
              "            </tr>\n",
              "            <tr>\n",
              "                        <th id=\"T_83df0136_5118_11eb_87c1_0242ac1c0002level0_row14\" class=\"row_heading level0 row14\" >categorias_diag_1</th>\n",
              "                        <td id=\"T_83df0136_5118_11eb_87c1_0242ac1c0002row14_col0\" class=\"data row14 col0\" >0.012024</td>\n",
              "                        <td id=\"T_83df0136_5118_11eb_87c1_0242ac1c0002row14_col1\" class=\"data row14 col1\" >0.064955</td>\n",
              "                        <td id=\"T_83df0136_5118_11eb_87c1_0242ac1c0002row14_col2\" class=\"data row14 col2\" >0.040092</td>\n",
              "                        <td id=\"T_83df0136_5118_11eb_87c1_0242ac1c0002row14_col3\" class=\"data row14 col3\" >-0.090517</td>\n",
              "                        <td id=\"T_83df0136_5118_11eb_87c1_0242ac1c0002row14_col4\" class=\"data row14 col4\" >0.002456</td>\n",
              "                        <td id=\"T_83df0136_5118_11eb_87c1_0242ac1c0002row14_col5\" class=\"data row14 col5\" >-0.050780</td>\n",
              "                        <td id=\"T_83df0136_5118_11eb_87c1_0242ac1c0002row14_col6\" class=\"data row14 col6\" >0.018815</td>\n",
              "                        <td id=\"T_83df0136_5118_11eb_87c1_0242ac1c0002row14_col7\" class=\"data row14 col7\" >0.064557</td>\n",
              "                        <td id=\"T_83df0136_5118_11eb_87c1_0242ac1c0002row14_col8\" class=\"data row14 col8\" >0.006000</td>\n",
              "                        <td id=\"T_83df0136_5118_11eb_87c1_0242ac1c0002row14_col9\" class=\"data row14 col9\" >-0.003954</td>\n",
              "                        <td id=\"T_83df0136_5118_11eb_87c1_0242ac1c0002row14_col10\" class=\"data row14 col10\" >-0.027085</td>\n",
              "                        <td id=\"T_83df0136_5118_11eb_87c1_0242ac1c0002row14_col11\" class=\"data row14 col11\" >-0.045221</td>\n",
              "                        <td id=\"T_83df0136_5118_11eb_87c1_0242ac1c0002row14_col12\" class=\"data row14 col12\" >-0.008304</td>\n",
              "                        <td id=\"T_83df0136_5118_11eb_87c1_0242ac1c0002row14_col13\" class=\"data row14 col13\" >0.004064</td>\n",
              "                        <td id=\"T_83df0136_5118_11eb_87c1_0242ac1c0002row14_col14\" class=\"data row14 col14\" >1.000000</td>\n",
              "            </tr>\n",
              "    </tbody></table>"
            ],
            "text/plain": [
              "<pandas.io.formats.style.Styler at 0x7f4670b44160>"
            ]
          },
          "metadata": {
            "tags": []
          },
          "execution_count": 6
        }
      ]
    },
    {
      "cell_type": "code",
      "metadata": {
        "id": "9tGogObkuSgP"
      },
      "source": [
        "## FUncion para identificar correlaciones\n",
        "def PearsonCorrelation(df, umbral):\n",
        "  count = 0\n",
        "  correlacion = 0\n",
        "  for i in range(len(df)):\n",
        "    #print('---')\n",
        "    count = count +1\n",
        "    for j in range(count,len(df)):\n",
        "      #print(count,'--',df.iloc[i][j], '--', i, '--',j)\n",
        "      if abs(df.iloc[i][j]) >= umbral:\n",
        "        correlacion = correlacion + 1\n",
        "        print(df.columns[i], ' y ', df.columns[j], ' están correlacionas con un r de: ', df.iloc[i][j])\n",
        "  if correlacion == 0:\n",
        "    print('No hay columnas correlacionas con ese coeficiente')"
      ],
      "execution_count": 7,
      "outputs": []
    },
    {
      "cell_type": "code",
      "metadata": {
        "colab": {
          "base_uri": "https://localhost:8080/"
        },
        "id": "_xBNTYQ_r30d",
        "outputId": "9b84e5cf-833c-4a48-d99c-f55baee4a907"
      },
      "source": [
        "PearsonCorrelation(pearson_correlation, 0.5)"
      ],
      "execution_count": 8,
      "outputs": [
        {
          "output_type": "stream",
          "text": [
            "number_outpatient  y  visitas_totales  están correlacionas con un r de:  0.8089234890374818\n",
            "number_inpatient  y  visitas_totales  están correlacionas con un r de:  0.5233481561692991\n"
          ],
          "name": "stdout"
        }
      ]
    },
    {
      "cell_type": "markdown",
      "metadata": {
        "id": "A9-fpjjG3NcU"
      },
      "source": [
        "Se estableció un coeficiente de correlación de 0.5. El atributo visitas totales es la suma de tres atributos; number_outpatient, number_inpatient y number_emergency, por eso están tan correlacionadas. No se eliminarán atributos por este método."
      ]
    },
    {
      "cell_type": "code",
      "metadata": {
        "colab": {
          "base_uri": "https://localhost:8080/"
        },
        "id": "n646fxFAbmp4",
        "outputId": "42b5955e-32c5-43b0-ab1e-17a3226d1aa8"
      },
      "source": [
        "df['readmitted'].value_counts()"
      ],
      "execution_count": 9,
      "outputs": [
        {
          "output_type": "execute_result",
          "data": {
            "text/plain": [
              "NO     39248\n",
              ">30    21521\n",
              "<30     6074\n",
              "Name: readmitted, dtype: int64"
            ]
          },
          "metadata": {
            "tags": []
          },
          "execution_count": 9
        }
      ]
    },
    {
      "cell_type": "code",
      "metadata": {
        "colab": {
          "base_uri": "https://localhost:8080/",
          "height": 224
        },
        "id": "UVkS6vFQK3DO",
        "outputId": "b19226fb-c6b6-4f0c-f2e2-c6ba037f258c"
      },
      "source": [
        "df = pd.read_csv(url2)\n",
        "df.head()"
      ],
      "execution_count": 10,
      "outputs": [
        {
          "output_type": "execute_result",
          "data": {
            "text/html": [
              "<div>\n",
              "<style scoped>\n",
              "    .dataframe tbody tr th:only-of-type {\n",
              "        vertical-align: middle;\n",
              "    }\n",
              "\n",
              "    .dataframe tbody tr th {\n",
              "        vertical-align: top;\n",
              "    }\n",
              "\n",
              "    .dataframe thead th {\n",
              "        text-align: right;\n",
              "    }\n",
              "</style>\n",
              "<table border=\"1\" class=\"dataframe\">\n",
              "  <thead>\n",
              "    <tr style=\"text-align: right;\">\n",
              "      <th></th>\n",
              "      <th>age</th>\n",
              "      <th>time_in_hospital</th>\n",
              "      <th>num_lab_procedures</th>\n",
              "      <th>num_procedures</th>\n",
              "      <th>num_medications</th>\n",
              "      <th>number_outpatient</th>\n",
              "      <th>number_emergency</th>\n",
              "      <th>number_inpatient</th>\n",
              "      <th>number_diagnoses</th>\n",
              "      <th>readmitted</th>\n",
              "      <th>visitas_totales</th>\n",
              "      <th>tratamientos_tomados</th>\n",
              "      <th>race_Asian</th>\n",
              "      <th>race_Caucasian</th>\n",
              "      <th>race_Hispanic</th>\n",
              "      <th>race_Other</th>\n",
              "      <th>gender_Male</th>\n",
              "      <th>admission_type_id_2</th>\n",
              "      <th>admission_type_id_3</th>\n",
              "      <th>admission_type_id_4</th>\n",
              "      <th>admission_type_id_5</th>\n",
              "      <th>admission_type_id_6</th>\n",
              "      <th>admission_type_id_7</th>\n",
              "      <th>admission_type_id_8</th>\n",
              "      <th>discharge_disposition_id_2</th>\n",
              "      <th>discharge_disposition_id_3</th>\n",
              "      <th>discharge_disposition_id_4</th>\n",
              "      <th>discharge_disposition_id_5</th>\n",
              "      <th>discharge_disposition_id_6</th>\n",
              "      <th>discharge_disposition_id_7</th>\n",
              "      <th>discharge_disposition_id_8</th>\n",
              "      <th>discharge_disposition_id_9</th>\n",
              "      <th>discharge_disposition_id_10</th>\n",
              "      <th>discharge_disposition_id_12</th>\n",
              "      <th>discharge_disposition_id_15</th>\n",
              "      <th>discharge_disposition_id_16</th>\n",
              "      <th>discharge_disposition_id_17</th>\n",
              "      <th>discharge_disposition_id_18</th>\n",
              "      <th>discharge_disposition_id_22</th>\n",
              "      <th>discharge_disposition_id_23</th>\n",
              "      <th>discharge_disposition_id_24</th>\n",
              "      <th>discharge_disposition_id_25</th>\n",
              "      <th>discharge_disposition_id_27</th>\n",
              "      <th>discharge_disposition_id_28</th>\n",
              "      <th>admission_source_id_2</th>\n",
              "      <th>admission_source_id_3</th>\n",
              "      <th>admission_source_id_4</th>\n",
              "      <th>admission_source_id_5</th>\n",
              "      <th>admission_source_id_6</th>\n",
              "      <th>admission_source_id_7</th>\n",
              "      <th>admission_source_id_8</th>\n",
              "      <th>admission_source_id_9</th>\n",
              "      <th>admission_source_id_10</th>\n",
              "      <th>admission_source_id_11</th>\n",
              "      <th>admission_source_id_13</th>\n",
              "      <th>admission_source_id_14</th>\n",
              "      <th>admission_source_id_17</th>\n",
              "      <th>admission_source_id_20</th>\n",
              "      <th>admission_source_id_22</th>\n",
              "      <th>admission_source_id_25</th>\n",
              "      <th>max_glu_serum_&gt;300</th>\n",
              "      <th>max_glu_serum_None</th>\n",
              "      <th>max_glu_serum_Norm</th>\n",
              "      <th>A1Cresult_&gt;8</th>\n",
              "      <th>A1Cresult_None</th>\n",
              "      <th>A1Cresult_Norm</th>\n",
              "      <th>change_No</th>\n",
              "      <th>diabetesMed_Yes</th>\n",
              "      <th>categorias_diag_1_1</th>\n",
              "      <th>categorias_diag_1_2</th>\n",
              "      <th>categorias_diag_1_3</th>\n",
              "      <th>categorias_diag_1_4</th>\n",
              "      <th>categorias_diag_1_5</th>\n",
              "      <th>categorias_diag_1_6</th>\n",
              "      <th>categorias_diag_1_7</th>\n",
              "      <th>categorias_diag_1_8</th>\n",
              "      <th>OUTPUT_LABEL</th>\n",
              "    </tr>\n",
              "  </thead>\n",
              "  <tbody>\n",
              "    <tr>\n",
              "      <th>0</th>\n",
              "      <td>15</td>\n",
              "      <td>3</td>\n",
              "      <td>59</td>\n",
              "      <td>0</td>\n",
              "      <td>18</td>\n",
              "      <td>0</td>\n",
              "      <td>0</td>\n",
              "      <td>0</td>\n",
              "      <td>9</td>\n",
              "      <td>&gt;30</td>\n",
              "      <td>0</td>\n",
              "      <td>1.0</td>\n",
              "      <td>0</td>\n",
              "      <td>1</td>\n",
              "      <td>0</td>\n",
              "      <td>0</td>\n",
              "      <td>0</td>\n",
              "      <td>0</td>\n",
              "      <td>0</td>\n",
              "      <td>0</td>\n",
              "      <td>0</td>\n",
              "      <td>0</td>\n",
              "      <td>0</td>\n",
              "      <td>0</td>\n",
              "      <td>0</td>\n",
              "      <td>0</td>\n",
              "      <td>0</td>\n",
              "      <td>0</td>\n",
              "      <td>0</td>\n",
              "      <td>0</td>\n",
              "      <td>0</td>\n",
              "      <td>0</td>\n",
              "      <td>0</td>\n",
              "      <td>0</td>\n",
              "      <td>0</td>\n",
              "      <td>0</td>\n",
              "      <td>0</td>\n",
              "      <td>0</td>\n",
              "      <td>0</td>\n",
              "      <td>0</td>\n",
              "      <td>0</td>\n",
              "      <td>0</td>\n",
              "      <td>0</td>\n",
              "      <td>0</td>\n",
              "      <td>0</td>\n",
              "      <td>0</td>\n",
              "      <td>0</td>\n",
              "      <td>0</td>\n",
              "      <td>0</td>\n",
              "      <td>1</td>\n",
              "      <td>0</td>\n",
              "      <td>0</td>\n",
              "      <td>0</td>\n",
              "      <td>0</td>\n",
              "      <td>0</td>\n",
              "      <td>0</td>\n",
              "      <td>0</td>\n",
              "      <td>0</td>\n",
              "      <td>0</td>\n",
              "      <td>0</td>\n",
              "      <td>0</td>\n",
              "      <td>1</td>\n",
              "      <td>0</td>\n",
              "      <td>0</td>\n",
              "      <td>1</td>\n",
              "      <td>0</td>\n",
              "      <td>0</td>\n",
              "      <td>1</td>\n",
              "      <td>0</td>\n",
              "      <td>0</td>\n",
              "      <td>0</td>\n",
              "      <td>0</td>\n",
              "      <td>0</td>\n",
              "      <td>0</td>\n",
              "      <td>0</td>\n",
              "      <td>0</td>\n",
              "      <td>0</td>\n",
              "    </tr>\n",
              "    <tr>\n",
              "      <th>1</th>\n",
              "      <td>25</td>\n",
              "      <td>2</td>\n",
              "      <td>11</td>\n",
              "      <td>5</td>\n",
              "      <td>13</td>\n",
              "      <td>2</td>\n",
              "      <td>0</td>\n",
              "      <td>1</td>\n",
              "      <td>6</td>\n",
              "      <td>NO</td>\n",
              "      <td>3</td>\n",
              "      <td>1.0</td>\n",
              "      <td>0</td>\n",
              "      <td>0</td>\n",
              "      <td>0</td>\n",
              "      <td>0</td>\n",
              "      <td>0</td>\n",
              "      <td>0</td>\n",
              "      <td>0</td>\n",
              "      <td>0</td>\n",
              "      <td>0</td>\n",
              "      <td>0</td>\n",
              "      <td>0</td>\n",
              "      <td>0</td>\n",
              "      <td>0</td>\n",
              "      <td>0</td>\n",
              "      <td>0</td>\n",
              "      <td>0</td>\n",
              "      <td>0</td>\n",
              "      <td>0</td>\n",
              "      <td>0</td>\n",
              "      <td>0</td>\n",
              "      <td>0</td>\n",
              "      <td>0</td>\n",
              "      <td>0</td>\n",
              "      <td>0</td>\n",
              "      <td>0</td>\n",
              "      <td>0</td>\n",
              "      <td>0</td>\n",
              "      <td>0</td>\n",
              "      <td>0</td>\n",
              "      <td>0</td>\n",
              "      <td>0</td>\n",
              "      <td>0</td>\n",
              "      <td>0</td>\n",
              "      <td>0</td>\n",
              "      <td>0</td>\n",
              "      <td>0</td>\n",
              "      <td>0</td>\n",
              "      <td>1</td>\n",
              "      <td>0</td>\n",
              "      <td>0</td>\n",
              "      <td>0</td>\n",
              "      <td>0</td>\n",
              "      <td>0</td>\n",
              "      <td>0</td>\n",
              "      <td>0</td>\n",
              "      <td>0</td>\n",
              "      <td>0</td>\n",
              "      <td>0</td>\n",
              "      <td>0</td>\n",
              "      <td>1</td>\n",
              "      <td>0</td>\n",
              "      <td>0</td>\n",
              "      <td>1</td>\n",
              "      <td>0</td>\n",
              "      <td>1</td>\n",
              "      <td>1</td>\n",
              "      <td>0</td>\n",
              "      <td>0</td>\n",
              "      <td>0</td>\n",
              "      <td>0</td>\n",
              "      <td>0</td>\n",
              "      <td>0</td>\n",
              "      <td>0</td>\n",
              "      <td>0</td>\n",
              "      <td>0</td>\n",
              "    </tr>\n",
              "    <tr>\n",
              "      <th>2</th>\n",
              "      <td>35</td>\n",
              "      <td>2</td>\n",
              "      <td>44</td>\n",
              "      <td>1</td>\n",
              "      <td>16</td>\n",
              "      <td>0</td>\n",
              "      <td>0</td>\n",
              "      <td>0</td>\n",
              "      <td>7</td>\n",
              "      <td>NO</td>\n",
              "      <td>0</td>\n",
              "      <td>1.0</td>\n",
              "      <td>0</td>\n",
              "      <td>1</td>\n",
              "      <td>0</td>\n",
              "      <td>0</td>\n",
              "      <td>1</td>\n",
              "      <td>0</td>\n",
              "      <td>0</td>\n",
              "      <td>0</td>\n",
              "      <td>0</td>\n",
              "      <td>0</td>\n",
              "      <td>0</td>\n",
              "      <td>0</td>\n",
              "      <td>0</td>\n",
              "      <td>0</td>\n",
              "      <td>0</td>\n",
              "      <td>0</td>\n",
              "      <td>0</td>\n",
              "      <td>0</td>\n",
              "      <td>0</td>\n",
              "      <td>0</td>\n",
              "      <td>0</td>\n",
              "      <td>0</td>\n",
              "      <td>0</td>\n",
              "      <td>0</td>\n",
              "      <td>0</td>\n",
              "      <td>0</td>\n",
              "      <td>0</td>\n",
              "      <td>0</td>\n",
              "      <td>0</td>\n",
              "      <td>0</td>\n",
              "      <td>0</td>\n",
              "      <td>0</td>\n",
              "      <td>0</td>\n",
              "      <td>0</td>\n",
              "      <td>0</td>\n",
              "      <td>0</td>\n",
              "      <td>0</td>\n",
              "      <td>1</td>\n",
              "      <td>0</td>\n",
              "      <td>0</td>\n",
              "      <td>0</td>\n",
              "      <td>0</td>\n",
              "      <td>0</td>\n",
              "      <td>0</td>\n",
              "      <td>0</td>\n",
              "      <td>0</td>\n",
              "      <td>0</td>\n",
              "      <td>0</td>\n",
              "      <td>0</td>\n",
              "      <td>1</td>\n",
              "      <td>0</td>\n",
              "      <td>0</td>\n",
              "      <td>1</td>\n",
              "      <td>0</td>\n",
              "      <td>0</td>\n",
              "      <td>1</td>\n",
              "      <td>0</td>\n",
              "      <td>0</td>\n",
              "      <td>0</td>\n",
              "      <td>0</td>\n",
              "      <td>0</td>\n",
              "      <td>0</td>\n",
              "      <td>0</td>\n",
              "      <td>0</td>\n",
              "      <td>0</td>\n",
              "    </tr>\n",
              "    <tr>\n",
              "      <th>3</th>\n",
              "      <td>45</td>\n",
              "      <td>1</td>\n",
              "      <td>51</td>\n",
              "      <td>0</td>\n",
              "      <td>8</td>\n",
              "      <td>0</td>\n",
              "      <td>0</td>\n",
              "      <td>0</td>\n",
              "      <td>5</td>\n",
              "      <td>NO</td>\n",
              "      <td>0</td>\n",
              "      <td>2.0</td>\n",
              "      <td>0</td>\n",
              "      <td>1</td>\n",
              "      <td>0</td>\n",
              "      <td>0</td>\n",
              "      <td>1</td>\n",
              "      <td>0</td>\n",
              "      <td>0</td>\n",
              "      <td>0</td>\n",
              "      <td>0</td>\n",
              "      <td>0</td>\n",
              "      <td>0</td>\n",
              "      <td>0</td>\n",
              "      <td>0</td>\n",
              "      <td>0</td>\n",
              "      <td>0</td>\n",
              "      <td>0</td>\n",
              "      <td>0</td>\n",
              "      <td>0</td>\n",
              "      <td>0</td>\n",
              "      <td>0</td>\n",
              "      <td>0</td>\n",
              "      <td>0</td>\n",
              "      <td>0</td>\n",
              "      <td>0</td>\n",
              "      <td>0</td>\n",
              "      <td>0</td>\n",
              "      <td>0</td>\n",
              "      <td>0</td>\n",
              "      <td>0</td>\n",
              "      <td>0</td>\n",
              "      <td>0</td>\n",
              "      <td>0</td>\n",
              "      <td>0</td>\n",
              "      <td>0</td>\n",
              "      <td>0</td>\n",
              "      <td>0</td>\n",
              "      <td>0</td>\n",
              "      <td>1</td>\n",
              "      <td>0</td>\n",
              "      <td>0</td>\n",
              "      <td>0</td>\n",
              "      <td>0</td>\n",
              "      <td>0</td>\n",
              "      <td>0</td>\n",
              "      <td>0</td>\n",
              "      <td>0</td>\n",
              "      <td>0</td>\n",
              "      <td>0</td>\n",
              "      <td>0</td>\n",
              "      <td>1</td>\n",
              "      <td>0</td>\n",
              "      <td>0</td>\n",
              "      <td>1</td>\n",
              "      <td>0</td>\n",
              "      <td>0</td>\n",
              "      <td>1</td>\n",
              "      <td>0</td>\n",
              "      <td>0</td>\n",
              "      <td>0</td>\n",
              "      <td>0</td>\n",
              "      <td>0</td>\n",
              "      <td>0</td>\n",
              "      <td>0</td>\n",
              "      <td>1</td>\n",
              "      <td>0</td>\n",
              "    </tr>\n",
              "    <tr>\n",
              "      <th>4</th>\n",
              "      <td>55</td>\n",
              "      <td>3</td>\n",
              "      <td>31</td>\n",
              "      <td>6</td>\n",
              "      <td>16</td>\n",
              "      <td>0</td>\n",
              "      <td>0</td>\n",
              "      <td>0</td>\n",
              "      <td>9</td>\n",
              "      <td>&gt;30</td>\n",
              "      <td>0</td>\n",
              "      <td>1.0</td>\n",
              "      <td>0</td>\n",
              "      <td>1</td>\n",
              "      <td>0</td>\n",
              "      <td>0</td>\n",
              "      <td>1</td>\n",
              "      <td>1</td>\n",
              "      <td>0</td>\n",
              "      <td>0</td>\n",
              "      <td>0</td>\n",
              "      <td>0</td>\n",
              "      <td>0</td>\n",
              "      <td>0</td>\n",
              "      <td>0</td>\n",
              "      <td>0</td>\n",
              "      <td>0</td>\n",
              "      <td>0</td>\n",
              "      <td>0</td>\n",
              "      <td>0</td>\n",
              "      <td>0</td>\n",
              "      <td>0</td>\n",
              "      <td>0</td>\n",
              "      <td>0</td>\n",
              "      <td>0</td>\n",
              "      <td>0</td>\n",
              "      <td>0</td>\n",
              "      <td>0</td>\n",
              "      <td>0</td>\n",
              "      <td>0</td>\n",
              "      <td>0</td>\n",
              "      <td>0</td>\n",
              "      <td>0</td>\n",
              "      <td>0</td>\n",
              "      <td>1</td>\n",
              "      <td>0</td>\n",
              "      <td>0</td>\n",
              "      <td>0</td>\n",
              "      <td>0</td>\n",
              "      <td>0</td>\n",
              "      <td>0</td>\n",
              "      <td>0</td>\n",
              "      <td>0</td>\n",
              "      <td>0</td>\n",
              "      <td>0</td>\n",
              "      <td>0</td>\n",
              "      <td>0</td>\n",
              "      <td>0</td>\n",
              "      <td>0</td>\n",
              "      <td>0</td>\n",
              "      <td>0</td>\n",
              "      <td>1</td>\n",
              "      <td>0</td>\n",
              "      <td>0</td>\n",
              "      <td>1</td>\n",
              "      <td>0</td>\n",
              "      <td>1</td>\n",
              "      <td>1</td>\n",
              "      <td>1</td>\n",
              "      <td>0</td>\n",
              "      <td>0</td>\n",
              "      <td>0</td>\n",
              "      <td>0</td>\n",
              "      <td>0</td>\n",
              "      <td>0</td>\n",
              "      <td>0</td>\n",
              "      <td>0</td>\n",
              "    </tr>\n",
              "  </tbody>\n",
              "</table>\n",
              "</div>"
            ],
            "text/plain": [
              "   age  time_in_hospital  ...  categorias_diag_1_8  OUTPUT_LABEL\n",
              "0   15                 3  ...                    0             0\n",
              "1   25                 2  ...                    0             0\n",
              "2   35                 2  ...                    0             0\n",
              "3   45                 1  ...                    1             0\n",
              "4   55                 3  ...                    0             0\n",
              "\n",
              "[5 rows x 77 columns]"
            ]
          },
          "metadata": {
            "tags": []
          },
          "execution_count": 10
        }
      ]
    },
    {
      "cell_type": "code",
      "metadata": {
        "id": "gFOueM5ndhf8"
      },
      "source": [
        "## Creando label de tres clases\n",
        "#df['OUTPUT_LABEL_TRES_CLASES'] = df['readmitted'].replace({'<30':1, '>30':0,'NO': 2 })\n",
        "#df['label'] = LabelEncoder().fit_transform(df['readmitted'])"
      ],
      "execution_count": 11,
      "outputs": []
    },
    {
      "cell_type": "code",
      "metadata": {
        "colab": {
          "base_uri": "https://localhost:8080/"
        },
        "id": "q0g5mtwEeyro",
        "outputId": "4dc4c277-1295-4f3f-dcb1-4f9eb4117ac0"
      },
      "source": [
        "#df['label'].value_counts()\n",
        "df['OUTPUT_LABEL'].value_counts()"
      ],
      "execution_count": 12,
      "outputs": [
        {
          "output_type": "execute_result",
          "data": {
            "text/plain": [
              "0    60769\n",
              "1     6074\n",
              "Name: OUTPUT_LABEL, dtype: int64"
            ]
          },
          "metadata": {
            "tags": []
          },
          "execution_count": 12
        }
      ]
    },
    {
      "cell_type": "code",
      "metadata": {
        "colab": {
          "base_uri": "https://localhost:8080/"
        },
        "id": "85JgqrjY0v8L",
        "outputId": "9fadf625-fdb4-4037-e730-455825a3cfc4"
      },
      "source": [
        "df.columns.values"
      ],
      "execution_count": 13,
      "outputs": [
        {
          "output_type": "execute_result",
          "data": {
            "text/plain": [
              "array(['age', 'time_in_hospital', 'num_lab_procedures', 'num_procedures',\n",
              "       'num_medications', 'number_outpatient', 'number_emergency',\n",
              "       'number_inpatient', 'number_diagnoses', 'readmitted',\n",
              "       'visitas_totales', 'tratamientos_tomados', 'race_Asian',\n",
              "       'race_Caucasian', 'race_Hispanic', 'race_Other', 'gender_Male',\n",
              "       'admission_type_id_2', 'admission_type_id_3',\n",
              "       'admission_type_id_4', 'admission_type_id_5',\n",
              "       'admission_type_id_6', 'admission_type_id_7',\n",
              "       'admission_type_id_8', 'discharge_disposition_id_2',\n",
              "       'discharge_disposition_id_3', 'discharge_disposition_id_4',\n",
              "       'discharge_disposition_id_5', 'discharge_disposition_id_6',\n",
              "       'discharge_disposition_id_7', 'discharge_disposition_id_8',\n",
              "       'discharge_disposition_id_9', 'discharge_disposition_id_10',\n",
              "       'discharge_disposition_id_12', 'discharge_disposition_id_15',\n",
              "       'discharge_disposition_id_16', 'discharge_disposition_id_17',\n",
              "       'discharge_disposition_id_18', 'discharge_disposition_id_22',\n",
              "       'discharge_disposition_id_23', 'discharge_disposition_id_24',\n",
              "       'discharge_disposition_id_25', 'discharge_disposition_id_27',\n",
              "       'discharge_disposition_id_28', 'admission_source_id_2',\n",
              "       'admission_source_id_3', 'admission_source_id_4',\n",
              "       'admission_source_id_5', 'admission_source_id_6',\n",
              "       'admission_source_id_7', 'admission_source_id_8',\n",
              "       'admission_source_id_9', 'admission_source_id_10',\n",
              "       'admission_source_id_11', 'admission_source_id_13',\n",
              "       'admission_source_id_14', 'admission_source_id_17',\n",
              "       'admission_source_id_20', 'admission_source_id_22',\n",
              "       'admission_source_id_25', 'max_glu_serum_>300',\n",
              "       'max_glu_serum_None', 'max_glu_serum_Norm', 'A1Cresult_>8',\n",
              "       'A1Cresult_None', 'A1Cresult_Norm', 'change_No', 'diabetesMed_Yes',\n",
              "       'categorias_diag_1_1', 'categorias_diag_1_2',\n",
              "       'categorias_diag_1_3', 'categorias_diag_1_4',\n",
              "       'categorias_diag_1_5', 'categorias_diag_1_6',\n",
              "       'categorias_diag_1_7', 'categorias_diag_1_8', 'OUTPUT_LABEL'],\n",
              "      dtype=object)"
            ]
          },
          "metadata": {
            "tags": []
          },
          "execution_count": 13
        }
      ]
    },
    {
      "cell_type": "markdown",
      "metadata": {
        "id": "09Go57zEo3BG"
      },
      "source": [
        "#<center><h1> Clases Desbalanceadas </h1></center>"
      ]
    },
    {
      "cell_type": "code",
      "metadata": {
        "colab": {
          "base_uri": "https://localhost:8080/",
          "height": 265
        },
        "id": "GOG3HlhmonJ2",
        "outputId": "ac7fe15b-08b1-48af-b613-776358484c1a"
      },
      "source": [
        "# plot the distribution\n",
        "#plt.bar(df['label'].unique(), df['label'].value_counts())\n",
        "#plt.show()\n",
        "\n",
        "plt.bar(df['OUTPUT_LABEL'].unique(),df['OUTPUT_LABEL'].value_counts() )\n",
        "plt.show()"
      ],
      "execution_count": 14,
      "outputs": [
        {
          "output_type": "display_data",
          "data": {
            "image/png": "[encoded data removed]",
            "text/plain": [
              "<Figure size 432x288 with 1 Axes>"
            ]
          },
          "metadata": {
            "tags": [],
            "needs_background": "light"
          }
        }
      ]
    },
    {
      "cell_type": "markdown",
      "metadata": {
        "id": "gvzlUelGvgYk"
      },
      "source": [
        "El atributo visitas_totales es la combinación de tres atributos, se elimina porque los tres atributos independiente aportan más información que los tres juntos.\n"
      ]
    },
    {
      "cell_type": "code",
      "metadata": {
        "id": "L2E04hlZic9f"
      },
      "source": [
        "## Eliminaremos la columnas visitas_totales\n",
        "#df = df.drop(['visitas_totales','readmitted', 'OUTPUT_LABEL'], axis= 1)\n",
        "df = df.drop(['visitas_totales','readmitted'], axis= 1)"
      ],
      "execution_count": 15,
      "outputs": []
    },
    {
      "cell_type": "markdown",
      "metadata": {
        "id": "EfBLJVvoth49"
      },
      "source": [
        "<center><h1> Reducción de Dimensionalidad PCA</h1></center>\n",
        "\n",
        "Se aplicará PCA y LDA"
      ]
    },
    {
      "cell_type": "code",
      "metadata": {
        "id": "c9vj_T0Vt8Ia"
      },
      "source": [
        "## Acá irá el código para reducir dimensionalidad\n",
        "#path_df = '/content/drive/MyDrive/001_Diplomado Ciencia de datos Avanzado/Proyecto_1/bd_reingreso_sin_dummys.csv'\n",
        "#df_sin_dummies = pd.read_csv(path_df)"
      ],
      "execution_count": 16,
      "outputs": []
    },
    {
      "cell_type": "code",
      "metadata": {
        "id": "MCUufdzpEwSO"
      },
      "source": [
        "## dividimos el conjunto de datos \n",
        "X = df.drop(['OUTPUT_LABEL'],axis = 1)\n",
        "y = df['OUTPUT_LABEL'].to_list()"
      ],
      "execution_count": 17,
      "outputs": []
    },
    {
      "cell_type": "code",
      "metadata": {
        "id": "p_K1aDBcCgYX"
      },
      "source": [
        "## Para aplicar PCA los datos deben estar estandarizado o escalos\n",
        "# Escalamos los datos   \n",
        "from sklearn.preprocessing import StandardScaler\n",
        "scaler = StandardScaler()\n",
        "scaler.fit(X)\n",
        "X_scaled = scaler.transform(X)\n"
      ],
      "execution_count": 18,
      "outputs": []
    },
    {
      "cell_type": "code",
      "metadata": {
        "id": "MyK1g6VE_i6L"
      },
      "source": [
        "from sklearn.decomposition import PCA\n",
        "\n",
        "pca = PCA(n_components=5)\n",
        "pca.fit(X_scaled)\n",
        "xx = pca.transform(X_scaled)"
      ],
      "execution_count": 19,
      "outputs": []
    },
    {
      "cell_type": "code",
      "metadata": {
        "colab": {
          "base_uri": "https://localhost:8080/"
        },
        "id": "2wxb5QeG_itb",
        "outputId": "46889dd3-f92a-4b2c-ec99-e475aa451bb1"
      },
      "source": [
        "xx.shape\n"
      ],
      "execution_count": 20,
      "outputs": [
        {
          "output_type": "execute_result",
          "data": {
            "text/plain": [
              "(66843, 5)"
            ]
          },
          "metadata": {
            "tags": []
          },
          "execution_count": 20
        }
      ]
    },
    {
      "cell_type": "code",
      "metadata": {
        "colab": {
          "base_uri": "https://localhost:8080/",
          "height": 211
        },
        "id": "zB3NBvAiFqFh",
        "outputId": "cec191a6-7fe3-48cd-fc7b-3fe1c1f91f74"
      },
      "source": [
        "plt.figure(figsize=(5,3))\n",
        "plt.scatter(xx[:,0], xx[:,1], c=y, marker='+')\n",
        "plt.show()"
      ],
      "execution_count": 21,
      "outputs": [
        {
          "output_type": "display_data",
          "data": {
            "image/png": "[encoded data removed]",
            "text/plain": [
              "<Figure size 360x216 with 1 Axes>"
            ]
          },
          "metadata": {
            "tags": [],
            "needs_background": "light"
          }
        }
      ]
    },
    {
      "cell_type": "code",
      "metadata": {
        "id": "1NOzZYry564C"
      },
      "source": [
        "X_pca = pd.DataFrame(data = xx)"
      ],
      "execution_count": 30,
      "outputs": []
    },
    {
      "cell_type": "code",
      "metadata": {
        "id": "xkXCJR3Gjvpr"
      },
      "source": [
        "X_pca = X_pca.iloc[0:100,0:].reset_index(drop = True)"
      ],
      "execution_count": 56,
      "outputs": []
    },
    {
      "cell_type": "code",
      "metadata": {
        "colab": {
          "base_uri": "https://localhost:8080/",
          "height": 419
        },
        "id": "ZR_Jo1qvluED",
        "outputId": "a9813287-e8d9-4aaa-83bb-ae37d0e1a608"
      },
      "source": [
        "X_pca"
      ],
      "execution_count": 57,
      "outputs": [
        {
          "output_type": "execute_result",
          "data": {
            "text/html": [
              "<div>\n",
              "<style scoped>\n",
              "    .dataframe tbody tr th:only-of-type {\n",
              "        vertical-align: middle;\n",
              "    }\n",
              "\n",
              "    .dataframe tbody tr th {\n",
              "        vertical-align: top;\n",
              "    }\n",
              "\n",
              "    .dataframe thead th {\n",
              "        text-align: right;\n",
              "    }\n",
              "</style>\n",
              "<table border=\"1\" class=\"dataframe\">\n",
              "  <thead>\n",
              "    <tr style=\"text-align: right;\">\n",
              "      <th></th>\n",
              "      <th>0</th>\n",
              "      <th>1</th>\n",
              "      <th>2</th>\n",
              "      <th>3</th>\n",
              "      <th>4</th>\n",
              "    </tr>\n",
              "  </thead>\n",
              "  <tbody>\n",
              "    <tr>\n",
              "      <th>0</th>\n",
              "      <td>-0.702097</td>\n",
              "      <td>0.118376</td>\n",
              "      <td>0.911553</td>\n",
              "      <td>-0.292464</td>\n",
              "      <td>1.437860</td>\n",
              "    </tr>\n",
              "    <tr>\n",
              "      <th>1</th>\n",
              "      <td>0.157707</td>\n",
              "      <td>-1.093349</td>\n",
              "      <td>-0.197908</td>\n",
              "      <td>-0.660046</td>\n",
              "      <td>0.342724</td>\n",
              "    </tr>\n",
              "    <tr>\n",
              "      <th>2</th>\n",
              "      <td>-0.457965</td>\n",
              "      <td>-0.116159</td>\n",
              "      <td>0.468661</td>\n",
              "      <td>-0.954617</td>\n",
              "      <td>0.558571</td>\n",
              "    </tr>\n",
              "    <tr>\n",
              "      <th>3</th>\n",
              "      <td>-0.385362</td>\n",
              "      <td>-0.180933</td>\n",
              "      <td>0.174356</td>\n",
              "      <td>-2.015900</td>\n",
              "      <td>0.102781</td>\n",
              "    </tr>\n",
              "    <tr>\n",
              "      <th>4</th>\n",
              "      <td>-0.448805</td>\n",
              "      <td>-0.301738</td>\n",
              "      <td>-2.812156</td>\n",
              "      <td>0.702869</td>\n",
              "      <td>-1.078226</td>\n",
              "    </tr>\n",
              "    <tr>\n",
              "      <th>...</th>\n",
              "      <td>...</td>\n",
              "      <td>...</td>\n",
              "      <td>...</td>\n",
              "      <td>...</td>\n",
              "      <td>...</td>\n",
              "    </tr>\n",
              "    <tr>\n",
              "      <th>95</th>\n",
              "      <td>0.006358</td>\n",
              "      <td>-0.694519</td>\n",
              "      <td>-3.315927</td>\n",
              "      <td>-0.657137</td>\n",
              "      <td>-0.896700</td>\n",
              "    </tr>\n",
              "    <tr>\n",
              "      <th>96</th>\n",
              "      <td>-2.373880</td>\n",
              "      <td>2.042845</td>\n",
              "      <td>1.751621</td>\n",
              "      <td>3.023293</td>\n",
              "      <td>-0.270853</td>\n",
              "    </tr>\n",
              "    <tr>\n",
              "      <th>97</th>\n",
              "      <td>0.267498</td>\n",
              "      <td>-1.630060</td>\n",
              "      <td>1.026310</td>\n",
              "      <td>-0.737111</td>\n",
              "      <td>0.643528</td>\n",
              "    </tr>\n",
              "    <tr>\n",
              "      <th>98</th>\n",
              "      <td>-1.444852</td>\n",
              "      <td>0.055409</td>\n",
              "      <td>1.566633</td>\n",
              "      <td>1.865922</td>\n",
              "      <td>-2.392082</td>\n",
              "    </tr>\n",
              "    <tr>\n",
              "      <th>99</th>\n",
              "      <td>0.417649</td>\n",
              "      <td>2.864047</td>\n",
              "      <td>0.465162</td>\n",
              "      <td>2.970894</td>\n",
              "      <td>-3.150464</td>\n",
              "    </tr>\n",
              "  </tbody>\n",
              "</table>\n",
              "<p>100 rows × 5 columns</p>\n",
              "</div>"
            ],
            "text/plain": [
              "           0         1         2         3         4\n",
              "0  -0.702097  0.118376  0.911553 -0.292464  1.437860\n",
              "1   0.157707 -1.093349 -0.197908 -0.660046  0.342724\n",
              "2  -0.457965 -0.116159  0.468661 -0.954617  0.558571\n",
              "3  -0.385362 -0.180933  0.174356 -2.015900  0.102781\n",
              "4  -0.448805 -0.301738 -2.812156  0.702869 -1.078226\n",
              "..       ...       ...       ...       ...       ...\n",
              "95  0.006358 -0.694519 -3.315927 -0.657137 -0.896700\n",
              "96 -2.373880  2.042845  1.751621  3.023293 -0.270853\n",
              "97  0.267498 -1.630060  1.026310 -0.737111  0.643528\n",
              "98 -1.444852  0.055409  1.566633  1.865922 -2.392082\n",
              "99  0.417649  2.864047  0.465162  2.970894 -3.150464\n",
              "\n",
              "[100 rows x 5 columns]"
            ]
          },
          "metadata": {
            "tags": []
          },
          "execution_count": 57
        }
      ]
    },
    {
      "cell_type": "code",
      "metadata": {
        "colab": {
          "base_uri": "https://localhost:8080/"
        },
        "id": "xV4g7bdDkCY0",
        "outputId": "ce054d40-31aa-4e64-bd21-eb7e88020607"
      },
      "source": [
        "y = pd.DataFrame(data = y).iloc[0:100,0].reset_index(drop = True)\n",
        "y"
      ],
      "execution_count": 58,
      "outputs": [
        {
          "output_type": "execute_result",
          "data": {
            "text/plain": [
              "0     0\n",
              "1     0\n",
              "2     0\n",
              "3     0\n",
              "4     0\n",
              "     ..\n",
              "95    0\n",
              "96    1\n",
              "97    0\n",
              "98    1\n",
              "99    0\n",
              "Name: 0, Length: 100, dtype: int64"
            ]
          },
          "metadata": {
            "tags": []
          },
          "execution_count": 58
        }
      ]
    },
    {
      "cell_type": "code",
      "metadata": {
        "id": "hlZHHNR_Mee1",
        "colab": {
          "base_uri": "https://localhost:8080/"
        },
        "outputId": "35f72a7f-adfc-43b2-dee2-01d044a41bfc"
      },
      "source": [
        "## Otra implementacion de validacion cruzada estratificada\n",
        "from sklearn.model_selection import StratifiedKFold # validacion cruzada estratificada\n",
        "#from sklearn.preprocessing import StandardScaler\n",
        "from sklearn.metrics import accuracy_score\n",
        "from sklearn.metrics import confusion_matrix\n",
        "from imblearn.over_sampling import RandomOverSampler\n",
        "from sklearn.metrics import balanced_accuracy_score\n",
        "from sklearn.metrics import recall_score\n",
        "from sklearn.metrics import precision_recall_fscore_support\n",
        "from sklearn.metrics import precision_score\n",
        "from sklearn.metrics import f1_score\n",
        "from sklearn.metrics import roc_auc_score\n",
        "def cross_validation_stratific_pca(X,y,model,k):\n",
        "\n",
        "  #Configurando la Validacion cruzada estratificada\n",
        "  skf = StratifiedKFold(n_splits=k, shuffle=True, random_state=42)\n",
        "\n",
        "\n",
        "  metrics = pd.DataFrame()\n",
        "# Creamos matriz vacia para guardar la matriz de confusion total\n",
        "  matriz_confusion = np.zeros((2,2))\n",
        "  acc_score = []\n",
        "  balance_score = []\n",
        "  recall_macro = []\n",
        "  pres_recall_fs = []\n",
        "  pres = []\n",
        "  f_1score = []\n",
        "  auc_roc = []\n",
        "  count = 0\n",
        "  for train_index , test_index in skf.split(X,y):\n",
        "    X_train, X_test = X.iloc[train_index], X.iloc[test_index]\n",
        "    y_train, y_test = y.iloc[train_index] , y.iloc[test_index]\n",
        "    count = count + 1\n",
        "    print('Iteracion: ', count)\n",
        "    ## Balanceamos las clases del conjunto de  train, referencia --> https://machinelearningmastery.com/random-oversampling-and-undersampling-for-imbalanced-classification/\n",
        "    oversample = RandomOverSampler(sampling_strategy= 'minority')\n",
        "    #fit y aplicamos la transformacion\n",
        "    X_train, y_train = oversample.fit_resample(X_train, y_train)\n",
        "    #print('tipe y_test: ',type(y_test))\n",
        "\n",
        "    print(pd.DataFrame(y_train).value_counts())\n",
        "    # Escalamos los datos   \n",
        "    #scaler = StandardScaler()\n",
        "    #scaler.fit(X_train)\n",
        "    #X_train = scaler.transform(X_train)\n",
        "    #X_test = scaler.transform(X_test)\n",
        "\n",
        "\n",
        "    model.fit(X_train,y_train)\n",
        "    pred_values = model.predict(X_test)\n",
        "\n",
        "    \n",
        "\n",
        "    ##Creamos matriz de confusión\n",
        "    matrix = confusion_matrix(y_test, pred_values)\n",
        "    print(matrix)\n",
        "    # sumamos la matriz de confusion\n",
        "    matriz_confusion = matriz_confusion + matrix\n",
        "\n",
        "    # Accuracy metrica\n",
        "    acc = accuracy_score(y_test, pred_values)\n",
        "    acc_score.append(acc)\n",
        "\n",
        "    # Balanced score\n",
        "    bal_score = balanced_accuracy_score(y_test, pred_values)\n",
        "    balance_score.append(bal_score)\n",
        "\n",
        "    #recall macro\n",
        "    recall = recall_score(y_test, pred_values, average='macro')\n",
        "    recall_macro.append(recall)\n",
        "\n",
        "    #precision, recall, fscore\n",
        "    pres_rec_f = precision_recall_fscore_support(y_test, pred_values, average='macro')\n",
        "    pres_recall_fs.append(pres_rec_f)\n",
        "\n",
        "    #precision\n",
        "    presci = precision_score(y_test, pred_values, average='macro')\n",
        "    pres.append(presci)\n",
        "\n",
        "    #f1_score\n",
        "    f1score = f1_score(y_test, pred_values,average='macro')\n",
        "    f_1score.append(f1score)\n",
        "\n",
        "    # auc\n",
        "    auc_metric = roc_auc_score(y_test, pred_values,average='macro')\n",
        "    auc_roc.append(auc_metric)\n",
        "\n",
        "  metrics['Model'] = ['Random Forest']\n",
        "  metrics['metric_avg_acc_score'] = [sum(acc_score)/k]\n",
        "  metrics['balanced_acc_score'] = [sum(balance_score)/k]\n",
        "  metrics['recall_macro'] =  [sum(recall_macro)/k]\n",
        "  metrics['presicion_macro'] = [sum(pres)/k]\n",
        "  metrics['f1_score_macro'] = [sum(f_1score) / k]\n",
        "  metrics['AUC'] = [sum(auc_roc) / k]\n",
        "\n",
        "  #return avg_acc_score, matriz_confusion , balanced_acc_score, recall_macro, pres_recall_fs, presicion_macro, f1_score_macro\n",
        "  return metrics , matriz_confusion"
      ],
      "execution_count": null,
      "outputs": [
        {
          "output_type": "stream",
          "text": [
            "/usr/local/lib/python3.6/dist-packages/sklearn/externals/six.py:31: FutureWarning: The module is deprecated in version 0.21 and will be removed in version 0.23 since we've dropped support for Python 2.7. Please rely on the official version of six (https://pypi.org/project/six/).\n",
            "  \"(https://pypi.org/project/six/).\", FutureWarning)\n",
            "/usr/local/lib/python3.6/dist-packages/sklearn/utils/deprecation.py:144: FutureWarning: The sklearn.neighbors.base module is  deprecated in version 0.22 and will be removed in version 0.24. The corresponding classes / functions should instead be imported from sklearn.neighbors. Anything that cannot be imported from sklearn.neighbors is now part of the private API.\n",
            "  warnings.warn(message, FutureWarning)\n"
          ],
          "name": "stderr"
        }
      ]
    },
    {
      "cell_type": "code",
      "metadata": {
        "id": "x0UCZrikguFF"
      },
      "source": [
        "## Otra implementacion de validacion cruzada estratificada\n",
        "from sklearn.model_selection import StratifiedKFold # validacion cruzada estratificada\n",
        "#from sklearn.preprocessing import StandardScaler\n",
        "from sklearn.metrics import accuracy_score\n",
        "from sklearn.metrics import confusion_matrix\n",
        "from imblearn.over_sampling import RandomOverSampler\n",
        "from sklearn.metrics import balanced_accuracy_score\n",
        "from sklearn.metrics import recall_score\n",
        "from sklearn.metrics import precision_recall_fscore_support\n",
        "from sklearn.metrics import precision_score\n",
        "from sklearn.metrics import f1_score\n",
        "from sklearn.metrics import roc_auc_score\n",
        "\n",
        "import numpy as np\n",
        "import matplotlib.pyplot as plt\n",
        "\n",
        "from sklearn.metrics import auc\n",
        "from sklearn.metrics import plot_roc_curve\n",
        "def StratificPcaRoc(X,y,model,k):\n",
        "  \n",
        "  skf = StratifiedKFold(n_splits=k, shuffle=True, random_state=42)\n",
        "  metrics = pd.DataFrame()\n",
        "  # Creamos matriz vacia para guardar la matriz de confusion total\n",
        "  matriz_confusion = np.zeros((2,2))\n",
        "  acc_score = []\n",
        "  balance_score = []\n",
        "  recall_macro = []\n",
        "  pres_recall_fs = []\n",
        "  pres = []\n",
        "  f_1score = []\n",
        "  auc_roc = []\n",
        "  ## variables para crear la curva de ROC\n",
        "  tprs = []\n",
        "  aucs = []\n",
        "  mean_fpr = np.linspace(0, 1, 100)\n",
        "  fig, ax = plt.subplots()\n",
        "  for i, (train, test) in enumerate(skf.split(X, y)):\n",
        "\n",
        "      X_train = X.iloc[train]\n",
        "      y_train = y.iloc[train]\n",
        "      X_test = X.iloc[test]\n",
        "      y_test = y.iloc[test]\n",
        "      ## Balanceamos las clases del conjunto de  train, referencia --> https://machinelearningmastery.com/random-oversampling-and-undersampling-for-imbalanced-classification/\n",
        "      oversample = RandomOverSampler(sampling_strategy= 'minority')\n",
        "      #fit y aplicamos la transformacion\n",
        "      X_train, y_train = oversample.fit_resample(X_train, y_train)\n",
        "\n",
        "      y_train = pd.DataFrame(y_train)\n",
        "      print(y_train[0].value_counts())\n",
        "      print('*************')\n",
        "      X_train = pd.DataFrame(data = X_train)\n",
        "      print(X_train.shape)\n",
        "      print('****************************')\n",
        "\n",
        "\n",
        "      # Entrenamiento\n",
        "      model.fit(X_train, y_train)\n",
        "      # Prediccion\n",
        "      pred_values = model.predict(X_test)\n",
        "\n",
        "          ##Creamos matriz de confusión\n",
        "      matrix = confusion_matrix(y_test, pred_values)\n",
        "      print(matrix)\n",
        "      # sumamos la matriz de confusion\n",
        "      matriz_confusion = matriz_confusion + matrix\n",
        "      ## Calculo de metricas para cada fold\n",
        "\n",
        "      # Accuracy metrica\n",
        "      acc = accuracy_score(y_test, pred_values)\n",
        "      acc_score.append(acc)\n",
        "      # Balanced score\n",
        "      bal_score = balanced_accuracy_score(y_test, pred_values)\n",
        "      balance_score.append(bal_score)\n",
        "\n",
        "      #recall macro\n",
        "      recall = recall_score(y_test, pred_values, average='macro')\n",
        "      recall_macro.append(recall)\n",
        "\n",
        "      #precision, recall, fscore\n",
        "      pres_rec_f = precision_recall_fscore_support(y_test, pred_values, average='macro')\n",
        "      pres_recall_fs.append(pres_rec_f)\n",
        "\n",
        "      #precision\n",
        "      presci = precision_score(y_test, pred_values, average='macro')\n",
        "      pres.append(presci)\n",
        "\n",
        "      #f1_score\n",
        "      f1score = f1_score(y_test, pred_values,average='macro')\n",
        "      f_1score.append(f1score)\n",
        "\n",
        "      # auc\n",
        "      auc_metric = roc_auc_score(y_test, pred_values,average='macro')\n",
        "      auc_roc.append(auc_metric)\n",
        "\n",
        "\n",
        "      viz = plot_roc_curve(model, X_test, y_test,\n",
        "                          name='ROC fold {}'.format(i),\n",
        "                          alpha=0.3, lw=1, ax=ax)\n",
        "      interp_tpr = np.interp(mean_fpr, viz.fpr, viz.tpr)\n",
        "      interp_tpr[0] = 0.0\n",
        "      tprs.append(interp_tpr)\n",
        "      aucs.append(viz.roc_auc)\n",
        "\n",
        "  ## Armando el dataframe con metricas\n",
        "  metrics['Model'] = ['Random Forest']\n",
        "  metrics['metric_avg_acc_score'] = [sum(acc_score)/k]\n",
        "  metrics['balanced_acc_score'] = [sum(balance_score)/k]\n",
        "  metrics['recall_macro'] =  [sum(recall_macro)/k]\n",
        "  metrics['presicion_macro'] = [sum(pres)/k]\n",
        "  metrics['f1_score_macro'] = [sum(f_1score) / k]\n",
        "  metrics['AUC'] = [sum(auc_roc) / k]\n",
        "\n",
        "\n",
        "  ax.plot([0, 1], [0, 1], linestyle='--', lw=2, color='r',\n",
        "          label='Chance', alpha=.8)\n",
        "\n",
        "  mean_tpr = np.mean(tprs, axis=0)\n",
        "  mean_tpr[-1] = 1.0\n",
        "  mean_auc = auc(mean_fpr, mean_tpr)\n",
        "  std_auc = np.std(aucs)\n",
        "  ax.plot(mean_fpr, mean_tpr, color='b',\n",
        "          label=r'Mean ROC (AUC = %0.2f $\\pm$ %0.2f)' % (mean_auc, std_auc),\n",
        "          lw=2, alpha=.8)\n",
        "\n",
        "  std_tpr = np.std(tprs, axis=0)\n",
        "  tprs_upper = np.minimum(mean_tpr + std_tpr, 1)\n",
        "  tprs_lower = np.maximum(mean_tpr - std_tpr, 0)\n",
        "  ax.fill_between(mean_fpr, tprs_lower, tprs_upper, color='grey', alpha=.2,\n",
        "                  label=r'$\\pm$ 1 std. dev.')\n",
        "\n",
        "  ax.set(xlim=[-0.05, 1.05], ylim=[-0.05, 1.05],\n",
        "        title=\"Curva ROC\")\n",
        "  ax.legend(loc=\"lower right\")\n",
        "  plt.show()\n",
        "\n",
        "  return metrics , matriz_confusion/k"
      ],
      "execution_count": 104,
      "outputs": []
    },
    {
      "cell_type": "code",
      "metadata": {
        "colab": {
          "base_uri": "https://localhost:8080/",
          "height": 1000
        },
        "id": "6q737TW3jPK7",
        "outputId": "2bcdde97-93bd-4c2b-cc1e-d9d80dfcdec3"
      },
      "source": [
        "from sklearn.ensemble import RandomForestClassifier #Random forest\n",
        "metrics, mc = StratificPcaRoc(X_pca,y, RandomForestClassifier(n_estimators=1, random_state=0) , 5)"
      ],
      "execution_count": 110,
      "outputs": [
        {
          "output_type": "stream",
          "text": [
            "/usr/local/lib/python3.6/dist-packages/sklearn/utils/deprecation.py:87: FutureWarning: Function safe_indexing is deprecated; safe_indexing is deprecated in version 0.22 and will be removed in version 0.24.\n",
            "  warnings.warn(msg, category=FutureWarning)\n",
            "/usr/local/lib/python3.6/dist-packages/ipykernel_launcher.py:57: DataConversionWarning: A column-vector y was passed when a 1d array was expected. Please change the shape of y to (n_samples,), for example using ravel().\n",
            "/usr/local/lib/python3.6/dist-packages/sklearn/utils/deprecation.py:87: FutureWarning: Function safe_indexing is deprecated; safe_indexing is deprecated in version 0.22 and will be removed in version 0.24.\n",
            "  warnings.warn(msg, category=FutureWarning)\n",
            "/usr/local/lib/python3.6/dist-packages/ipykernel_launcher.py:57: DataConversionWarning: A column-vector y was passed when a 1d array was expected. Please change the shape of y to (n_samples,), for example using ravel().\n",
            "/usr/local/lib/python3.6/dist-packages/sklearn/utils/deprecation.py:87: FutureWarning: Function safe_indexing is deprecated; safe_indexing is deprecated in version 0.22 and will be removed in version 0.24.\n",
            "  warnings.warn(msg, category=FutureWarning)\n",
            "/usr/local/lib/python3.6/dist-packages/ipykernel_launcher.py:57: DataConversionWarning: A column-vector y was passed when a 1d array was expected. Please change the shape of y to (n_samples,), for example using ravel().\n",
            "/usr/local/lib/python3.6/dist-packages/sklearn/utils/deprecation.py:87: FutureWarning: Function safe_indexing is deprecated; safe_indexing is deprecated in version 0.22 and will be removed in version 0.24.\n",
            "  warnings.warn(msg, category=FutureWarning)\n",
            "/usr/local/lib/python3.6/dist-packages/ipykernel_launcher.py:57: DataConversionWarning: A column-vector y was passed when a 1d array was expected. Please change the shape of y to (n_samples,), for example using ravel().\n",
            "/usr/local/lib/python3.6/dist-packages/sklearn/utils/deprecation.py:87: FutureWarning: Function safe_indexing is deprecated; safe_indexing is deprecated in version 0.22 and will be removed in version 0.24.\n",
            "  warnings.warn(msg, category=FutureWarning)\n",
            "/usr/local/lib/python3.6/dist-packages/ipykernel_launcher.py:57: DataConversionWarning: A column-vector y was passed when a 1d array was expected. Please change the shape of y to (n_samples,), for example using ravel().\n"
          ],
          "name": "stderr"
        },
        {
          "output_type": "stream",
          "text": [
            "1    72\n",
            "0    72\n",
            "Name: 0, dtype: int64\n",
            "*************\n",
            "(144, 5)\n",
            "****************************\n",
            "[[16  2]\n",
            " [ 2  0]]\n",
            "1    72\n",
            "0    72\n",
            "Name: 0, dtype: int64\n",
            "*************\n",
            "(144, 5)\n",
            "****************************\n",
            "[[15  3]\n",
            " [ 2  0]]\n",
            "1    72\n",
            "0    72\n",
            "Name: 0, dtype: int64\n",
            "*************\n",
            "(144, 5)\n",
            "****************************\n",
            "[[16  2]\n",
            " [ 1  1]]\n",
            "1    72\n",
            "0    72\n",
            "Name: 0, dtype: int64\n",
            "*************\n",
            "(144, 5)\n",
            "****************************\n",
            "[[15  3]\n",
            " [ 2  0]]\n",
            "1    72\n",
            "0    72\n",
            "Name: 0, dtype: int64\n",
            "*************\n",
            "(144, 5)\n",
            "****************************\n",
            "[[15  3]\n",
            " [ 2  0]]\n"
          ],
          "name": "stdout"
        },
        {
          "output_type": "display_data",
          "data": {
            "image/png": "[encoded data removed]",
            "text/plain": [
              "<Figure size 432x288 with 1 Axes>"
            ]
          },
          "metadata": {
            "tags": [],
            "needs_background": "light"
          }
        }
      ]
    },
    {
      "cell_type": "code",
      "metadata": {
        "colab": {
          "base_uri": "https://localhost:8080/",
          "height": 80
        },
        "id": "LSsn-RIEox2y",
        "outputId": "6a802b23-47be-41d5-f74a-97f534334377"
      },
      "source": [
        "metrics"
      ],
      "execution_count": 111,
      "outputs": [
        {
          "output_type": "execute_result",
          "data": {
            "text/html": [
              "<div>\n",
              "<style scoped>\n",
              "    .dataframe tbody tr th:only-of-type {\n",
              "        vertical-align: middle;\n",
              "    }\n",
              "\n",
              "    .dataframe tbody tr th {\n",
              "        vertical-align: top;\n",
              "    }\n",
              "\n",
              "    .dataframe thead th {\n",
              "        text-align: right;\n",
              "    }\n",
              "</style>\n",
              "<table border=\"1\" class=\"dataframe\">\n",
              "  <thead>\n",
              "    <tr style=\"text-align: right;\">\n",
              "      <th></th>\n",
              "      <th>Model</th>\n",
              "      <th>metric_avg_acc_score</th>\n",
              "      <th>balanced_acc_score</th>\n",
              "      <th>recall_macro</th>\n",
              "      <th>presicion_macro</th>\n",
              "      <th>f1_score_macro</th>\n",
              "      <th>AUC</th>\n",
              "    </tr>\n",
              "  </thead>\n",
              "  <tbody>\n",
              "    <tr>\n",
              "      <th>0</th>\n",
              "      <td>Random Forest</td>\n",
              "      <td>0.78</td>\n",
              "      <td>0.477778</td>\n",
              "      <td>0.477778</td>\n",
              "      <td>0.481046</td>\n",
              "      <td>0.47746</td>\n",
              "      <td>0.477778</td>\n",
              "    </tr>\n",
              "  </tbody>\n",
              "</table>\n",
              "</div>"
            ],
            "text/plain": [
              "           Model  metric_avg_acc_score  ...  f1_score_macro       AUC\n",
              "0  Random Forest                  0.78  ...         0.47746  0.477778\n",
              "\n",
              "[1 rows x 7 columns]"
            ]
          },
          "metadata": {
            "tags": []
          },
          "execution_count": 111
        }
      ]
    },
    {
      "cell_type": "code",
      "metadata": {
        "colab": {
          "base_uri": "https://localhost:8080/"
        },
        "id": "Pnp8ALnlqVBu",
        "outputId": "8a500ffb-94c6-4ee3-eda3-b83f2cf10532"
      },
      "source": [
        "mc"
      ],
      "execution_count": 107,
      "outputs": [
        {
          "output_type": "execute_result",
          "data": {
            "text/plain": [
              "array([[15.6,  2.4],\n",
              "       [ 1.8,  0.2]])"
            ]
          },
          "metadata": {
            "tags": []
          },
          "execution_count": 107
        }
      ]
    },
    {
      "cell_type": "code",
      "metadata": {
        "colab": {
          "base_uri": "https://localhost:8080/"
        },
        "id": "AebhL8K3NCd7",
        "outputId": "d25c69df-6c9b-4a21-e90f-bfb58e4ff01d"
      },
      "source": [
        "# Probamos el modelo con las 5 componentes principales\n",
        "#Importamos Librerias\n",
        "from sklearn.ensemble import RandomForestClassifier #Random forest\n",
        "metrics = cross_validation_stratific_pca(X,y,RandomForestClassifier(n_estimators=200, random_state=0),10)"
      ],
      "execution_count": null,
      "outputs": [
        {
          "output_type": "stream",
          "text": [
            "Iteracion:  1\n",
            "1    54692\n",
            "0    54692\n",
            "dtype: int64\n"
          ],
          "name": "stdout"
        },
        {
          "output_type": "stream",
          "text": [
            "/usr/local/lib/python3.6/dist-packages/sklearn/utils/deprecation.py:87: FutureWarning: Function safe_indexing is deprecated; safe_indexing is deprecated in version 0.22 and will be removed in version 0.24.\n",
            "  warnings.warn(msg, category=FutureWarning)\n"
          ],
          "name": "stderr"
        },
        {
          "output_type": "stream",
          "text": [
            "[[6060   17]\n",
            " [ 596   12]]\n",
            "Iteracion:  2\n",
            "1    54692\n",
            "0    54692\n",
            "dtype: int64\n"
          ],
          "name": "stdout"
        },
        {
          "output_type": "stream",
          "text": [
            "/usr/local/lib/python3.6/dist-packages/sklearn/utils/deprecation.py:87: FutureWarning: Function safe_indexing is deprecated; safe_indexing is deprecated in version 0.22 and will be removed in version 0.24.\n",
            "  warnings.warn(msg, category=FutureWarning)\n"
          ],
          "name": "stderr"
        },
        {
          "output_type": "stream",
          "text": [
            "[[6058   19]\n",
            " [ 595   13]]\n",
            "Iteracion:  3\n",
            "1    54692\n",
            "0    54692\n",
            "dtype: int64\n"
          ],
          "name": "stdout"
        },
        {
          "output_type": "stream",
          "text": [
            "/usr/local/lib/python3.6/dist-packages/sklearn/utils/deprecation.py:87: FutureWarning: Function safe_indexing is deprecated; safe_indexing is deprecated in version 0.22 and will be removed in version 0.24.\n",
            "  warnings.warn(msg, category=FutureWarning)\n"
          ],
          "name": "stderr"
        },
        {
          "output_type": "stream",
          "text": [
            "[[6045   32]\n",
            " [ 602    6]]\n",
            "Iteracion:  4\n",
            "1    54692\n",
            "0    54692\n",
            "dtype: int64\n"
          ],
          "name": "stdout"
        },
        {
          "output_type": "stream",
          "text": [
            "/usr/local/lib/python3.6/dist-packages/sklearn/utils/deprecation.py:87: FutureWarning: Function safe_indexing is deprecated; safe_indexing is deprecated in version 0.22 and will be removed in version 0.24.\n",
            "  warnings.warn(msg, category=FutureWarning)\n"
          ],
          "name": "stderr"
        },
        {
          "output_type": "stream",
          "text": [
            "[[6053   24]\n",
            " [ 599    8]]\n",
            "Iteracion:  5\n",
            "1    54692\n",
            "0    54692\n",
            "dtype: int64\n"
          ],
          "name": "stdout"
        },
        {
          "output_type": "stream",
          "text": [
            "/usr/local/lib/python3.6/dist-packages/sklearn/utils/deprecation.py:87: FutureWarning: Function safe_indexing is deprecated; safe_indexing is deprecated in version 0.22 and will be removed in version 0.24.\n",
            "  warnings.warn(msg, category=FutureWarning)\n"
          ],
          "name": "stderr"
        },
        {
          "output_type": "stream",
          "text": [
            "[[6055   22]\n",
            " [ 593   14]]\n",
            "Iteracion:  6\n",
            "1    54692\n",
            "0    54692\n",
            "dtype: int64\n"
          ],
          "name": "stdout"
        },
        {
          "output_type": "stream",
          "text": [
            "/usr/local/lib/python3.6/dist-packages/sklearn/utils/deprecation.py:87: FutureWarning: Function safe_indexing is deprecated; safe_indexing is deprecated in version 0.22 and will be removed in version 0.24.\n",
            "  warnings.warn(msg, category=FutureWarning)\n"
          ],
          "name": "stderr"
        },
        {
          "output_type": "stream",
          "text": [
            "[[6058   19]\n",
            " [ 597   10]]\n",
            "Iteracion:  7\n",
            "1    54692\n",
            "0    54692\n",
            "dtype: int64\n"
          ],
          "name": "stdout"
        },
        {
          "output_type": "stream",
          "text": [
            "/usr/local/lib/python3.6/dist-packages/sklearn/utils/deprecation.py:87: FutureWarning: Function safe_indexing is deprecated; safe_indexing is deprecated in version 0.22 and will be removed in version 0.24.\n",
            "  warnings.warn(msg, category=FutureWarning)\n"
          ],
          "name": "stderr"
        },
        {
          "output_type": "stream",
          "text": [
            "[[6052   25]\n",
            " [ 597   10]]\n",
            "Iteracion:  8\n",
            "1    54692\n",
            "0    54692\n",
            "dtype: int64\n"
          ],
          "name": "stdout"
        },
        {
          "output_type": "stream",
          "text": [
            "/usr/local/lib/python3.6/dist-packages/sklearn/utils/deprecation.py:87: FutureWarning: Function safe_indexing is deprecated; safe_indexing is deprecated in version 0.22 and will be removed in version 0.24.\n",
            "  warnings.warn(msg, category=FutureWarning)\n"
          ],
          "name": "stderr"
        },
        {
          "output_type": "stream",
          "text": [
            "[[6058   19]\n",
            " [ 600    7]]\n",
            "Iteracion:  9\n",
            "1    54692\n",
            "0    54692\n",
            "dtype: int64\n"
          ],
          "name": "stdout"
        },
        {
          "output_type": "stream",
          "text": [
            "/usr/local/lib/python3.6/dist-packages/sklearn/utils/deprecation.py:87: FutureWarning: Function safe_indexing is deprecated; safe_indexing is deprecated in version 0.22 and will be removed in version 0.24.\n",
            "  warnings.warn(msg, category=FutureWarning)\n"
          ],
          "name": "stderr"
        },
        {
          "output_type": "stream",
          "text": [
            "[[6051   26]\n",
            " [ 599    8]]\n",
            "Iteracion:  10\n",
            "1    54693\n",
            "0    54693\n",
            "dtype: int64\n"
          ],
          "name": "stdout"
        },
        {
          "output_type": "stream",
          "text": [
            "/usr/local/lib/python3.6/dist-packages/sklearn/utils/deprecation.py:87: FutureWarning: Function safe_indexing is deprecated; safe_indexing is deprecated in version 0.22 and will be removed in version 0.24.\n",
            "  warnings.warn(msg, category=FutureWarning)\n"
          ],
          "name": "stderr"
        },
        {
          "output_type": "stream",
          "text": [
            "[[6053   23]\n",
            " [ 593   15]]\n"
          ],
          "name": "stdout"
        }
      ]
    },
    {
      "cell_type": "code",
      "metadata": {
        "colab": {
          "base_uri": "https://localhost:8080/",
          "height": 80
        },
        "id": "i1fFdilFNCPl",
        "outputId": "635a8eee-a025-430f-fe16-09612c302c7b"
      },
      "source": [
        "metrics"
      ],
      "execution_count": null,
      "outputs": [
        {
          "output_type": "execute_result",
          "data": {
            "text/html": [
              "<div>\n",
              "<style scoped>\n",
              "    .dataframe tbody tr th:only-of-type {\n",
              "        vertical-align: middle;\n",
              "    }\n",
              "\n",
              "    .dataframe tbody tr th {\n",
              "        vertical-align: top;\n",
              "    }\n",
              "\n",
              "    .dataframe thead th {\n",
              "        text-align: right;\n",
              "    }\n",
              "</style>\n",
              "<table border=\"1\" class=\"dataframe\">\n",
              "  <thead>\n",
              "    <tr style=\"text-align: right;\">\n",
              "      <th></th>\n",
              "      <th>Model</th>\n",
              "      <th>metric_avg_acc_score</th>\n",
              "      <th>balanced_acc_score</th>\n",
              "      <th>recall_macro</th>\n",
              "      <th>presicion_macro</th>\n",
              "      <th>f1_score_macro</th>\n",
              "      <th>AUC</th>\n",
              "    </tr>\n",
              "  </thead>\n",
              "  <tbody>\n",
              "    <tr>\n",
              "      <th>0</th>\n",
              "      <td>Random Forest</td>\n",
              "      <td>0.90729</td>\n",
              "      <td>0.506619</td>\n",
              "      <td>0.506619</td>\n",
              "      <td>0.612446</td>\n",
              "      <td>0.491736</td>\n",
              "      <td>0.506619</td>\n",
              "    </tr>\n",
              "  </tbody>\n",
              "</table>\n",
              "</div>"
            ],
            "text/plain": [
              "           Model  metric_avg_acc_score  ...  f1_score_macro       AUC\n",
              "0  Random Forest               0.90729  ...        0.491736  0.506619\n",
              "\n",
              "[1 rows x 7 columns]"
            ]
          },
          "metadata": {
            "tags": []
          },
          "execution_count": 86
        }
      ]
    },
    {
      "cell_type": "code",
      "metadata": {
        "colab": {
          "base_uri": "https://localhost:8080/",
          "height": 439
        },
        "id": "rDbaLFan5uqX",
        "outputId": "a1f6931c-e806-4910-b212-3017e02750e6"
      },
      "source": [
        "df"
      ],
      "execution_count": null,
      "outputs": [
        {
          "output_type": "execute_result",
          "data": {
            "text/html": [
              "<div>\n",
              "<style scoped>\n",
              "    .dataframe tbody tr th:only-of-type {\n",
              "        vertical-align: middle;\n",
              "    }\n",
              "\n",
              "    .dataframe tbody tr th {\n",
              "        vertical-align: top;\n",
              "    }\n",
              "\n",
              "    .dataframe thead th {\n",
              "        text-align: right;\n",
              "    }\n",
              "</style>\n",
              "<table border=\"1\" class=\"dataframe\">\n",
              "  <thead>\n",
              "    <tr style=\"text-align: right;\">\n",
              "      <th></th>\n",
              "      <th>age</th>\n",
              "      <th>time_in_hospital</th>\n",
              "      <th>num_lab_procedures</th>\n",
              "      <th>num_procedures</th>\n",
              "      <th>num_medications</th>\n",
              "      <th>number_outpatient</th>\n",
              "      <th>number_emergency</th>\n",
              "      <th>number_inpatient</th>\n",
              "      <th>number_diagnoses</th>\n",
              "      <th>tratamientos_tomados</th>\n",
              "      <th>race_Asian</th>\n",
              "      <th>race_Caucasian</th>\n",
              "      <th>race_Hispanic</th>\n",
              "      <th>race_Other</th>\n",
              "      <th>gender_Male</th>\n",
              "      <th>admission_type_id_2</th>\n",
              "      <th>admission_type_id_3</th>\n",
              "      <th>admission_type_id_4</th>\n",
              "      <th>admission_type_id_5</th>\n",
              "      <th>admission_type_id_6</th>\n",
              "      <th>admission_type_id_7</th>\n",
              "      <th>admission_type_id_8</th>\n",
              "      <th>discharge_disposition_id_2</th>\n",
              "      <th>discharge_disposition_id_3</th>\n",
              "      <th>discharge_disposition_id_4</th>\n",
              "      <th>discharge_disposition_id_5</th>\n",
              "      <th>discharge_disposition_id_6</th>\n",
              "      <th>discharge_disposition_id_7</th>\n",
              "      <th>discharge_disposition_id_8</th>\n",
              "      <th>discharge_disposition_id_9</th>\n",
              "      <th>discharge_disposition_id_10</th>\n",
              "      <th>discharge_disposition_id_12</th>\n",
              "      <th>discharge_disposition_id_15</th>\n",
              "      <th>discharge_disposition_id_16</th>\n",
              "      <th>discharge_disposition_id_17</th>\n",
              "      <th>discharge_disposition_id_18</th>\n",
              "      <th>discharge_disposition_id_22</th>\n",
              "      <th>discharge_disposition_id_23</th>\n",
              "      <th>discharge_disposition_id_24</th>\n",
              "      <th>discharge_disposition_id_25</th>\n",
              "      <th>discharge_disposition_id_27</th>\n",
              "      <th>discharge_disposition_id_28</th>\n",
              "      <th>admission_source_id_2</th>\n",
              "      <th>admission_source_id_3</th>\n",
              "      <th>admission_source_id_4</th>\n",
              "      <th>admission_source_id_5</th>\n",
              "      <th>admission_source_id_6</th>\n",
              "      <th>admission_source_id_7</th>\n",
              "      <th>admission_source_id_8</th>\n",
              "      <th>admission_source_id_9</th>\n",
              "      <th>admission_source_id_10</th>\n",
              "      <th>admission_source_id_11</th>\n",
              "      <th>admission_source_id_13</th>\n",
              "      <th>admission_source_id_14</th>\n",
              "      <th>admission_source_id_17</th>\n",
              "      <th>admission_source_id_20</th>\n",
              "      <th>admission_source_id_22</th>\n",
              "      <th>admission_source_id_25</th>\n",
              "      <th>max_glu_serum_&gt;300</th>\n",
              "      <th>max_glu_serum_None</th>\n",
              "      <th>max_glu_serum_Norm</th>\n",
              "      <th>A1Cresult_&gt;8</th>\n",
              "      <th>A1Cresult_None</th>\n",
              "      <th>A1Cresult_Norm</th>\n",
              "      <th>change_No</th>\n",
              "      <th>diabetesMed_Yes</th>\n",
              "      <th>categorias_diag_1_1</th>\n",
              "      <th>categorias_diag_1_2</th>\n",
              "      <th>categorias_diag_1_3</th>\n",
              "      <th>categorias_diag_1_4</th>\n",
              "      <th>categorias_diag_1_5</th>\n",
              "      <th>categorias_diag_1_6</th>\n",
              "      <th>categorias_diag_1_7</th>\n",
              "      <th>categorias_diag_1_8</th>\n",
              "      <th>OUTPUT_LABEL</th>\n",
              "    </tr>\n",
              "  </thead>\n",
              "  <tbody>\n",
              "    <tr>\n",
              "      <th>0</th>\n",
              "      <td>15</td>\n",
              "      <td>3</td>\n",
              "      <td>59</td>\n",
              "      <td>0</td>\n",
              "      <td>18</td>\n",
              "      <td>0</td>\n",
              "      <td>0</td>\n",
              "      <td>0</td>\n",
              "      <td>9</td>\n",
              "      <td>1.0</td>\n",
              "      <td>0</td>\n",
              "      <td>1</td>\n",
              "      <td>0</td>\n",
              "      <td>0</td>\n",
              "      <td>0</td>\n",
              "      <td>0</td>\n",
              "      <td>0</td>\n",
              "      <td>0</td>\n",
              "      <td>0</td>\n",
              "      <td>0</td>\n",
              "      <td>0</td>\n",
              "      <td>0</td>\n",
              "      <td>0</td>\n",
              "      <td>0</td>\n",
              "      <td>0</td>\n",
              "      <td>0</td>\n",
              "      <td>0</td>\n",
              "      <td>0</td>\n",
              "      <td>0</td>\n",
              "      <td>0</td>\n",
              "      <td>0</td>\n",
              "      <td>0</td>\n",
              "      <td>0</td>\n",
              "      <td>0</td>\n",
              "      <td>0</td>\n",
              "      <td>0</td>\n",
              "      <td>0</td>\n",
              "      <td>0</td>\n",
              "      <td>0</td>\n",
              "      <td>0</td>\n",
              "      <td>0</td>\n",
              "      <td>0</td>\n",
              "      <td>0</td>\n",
              "      <td>0</td>\n",
              "      <td>0</td>\n",
              "      <td>0</td>\n",
              "      <td>0</td>\n",
              "      <td>1</td>\n",
              "      <td>0</td>\n",
              "      <td>0</td>\n",
              "      <td>0</td>\n",
              "      <td>0</td>\n",
              "      <td>0</td>\n",
              "      <td>0</td>\n",
              "      <td>0</td>\n",
              "      <td>0</td>\n",
              "      <td>0</td>\n",
              "      <td>0</td>\n",
              "      <td>0</td>\n",
              "      <td>1</td>\n",
              "      <td>0</td>\n",
              "      <td>0</td>\n",
              "      <td>1</td>\n",
              "      <td>0</td>\n",
              "      <td>0</td>\n",
              "      <td>1</td>\n",
              "      <td>0</td>\n",
              "      <td>0</td>\n",
              "      <td>0</td>\n",
              "      <td>0</td>\n",
              "      <td>0</td>\n",
              "      <td>0</td>\n",
              "      <td>0</td>\n",
              "      <td>0</td>\n",
              "      <td>0</td>\n",
              "    </tr>\n",
              "    <tr>\n",
              "      <th>1</th>\n",
              "      <td>25</td>\n",
              "      <td>2</td>\n",
              "      <td>11</td>\n",
              "      <td>5</td>\n",
              "      <td>13</td>\n",
              "      <td>2</td>\n",
              "      <td>0</td>\n",
              "      <td>1</td>\n",
              "      <td>6</td>\n",
              "      <td>1.0</td>\n",
              "      <td>0</td>\n",
              "      <td>0</td>\n",
              "      <td>0</td>\n",
              "      <td>0</td>\n",
              "      <td>0</td>\n",
              "      <td>0</td>\n",
              "      <td>0</td>\n",
              "      <td>0</td>\n",
              "      <td>0</td>\n",
              "      <td>0</td>\n",
              "      <td>0</td>\n",
              "      <td>0</td>\n",
              "      <td>0</td>\n",
              "      <td>0</td>\n",
              "      <td>0</td>\n",
              "      <td>0</td>\n",
              "      <td>0</td>\n",
              "      <td>0</td>\n",
              "      <td>0</td>\n",
              "      <td>0</td>\n",
              "      <td>0</td>\n",
              "      <td>0</td>\n",
              "      <td>0</td>\n",
              "      <td>0</td>\n",
              "      <td>0</td>\n",
              "      <td>0</td>\n",
              "      <td>0</td>\n",
              "      <td>0</td>\n",
              "      <td>0</td>\n",
              "      <td>0</td>\n",
              "      <td>0</td>\n",
              "      <td>0</td>\n",
              "      <td>0</td>\n",
              "      <td>0</td>\n",
              "      <td>0</td>\n",
              "      <td>0</td>\n",
              "      <td>0</td>\n",
              "      <td>1</td>\n",
              "      <td>0</td>\n",
              "      <td>0</td>\n",
              "      <td>0</td>\n",
              "      <td>0</td>\n",
              "      <td>0</td>\n",
              "      <td>0</td>\n",
              "      <td>0</td>\n",
              "      <td>0</td>\n",
              "      <td>0</td>\n",
              "      <td>0</td>\n",
              "      <td>0</td>\n",
              "      <td>1</td>\n",
              "      <td>0</td>\n",
              "      <td>0</td>\n",
              "      <td>1</td>\n",
              "      <td>0</td>\n",
              "      <td>1</td>\n",
              "      <td>1</td>\n",
              "      <td>0</td>\n",
              "      <td>0</td>\n",
              "      <td>0</td>\n",
              "      <td>0</td>\n",
              "      <td>0</td>\n",
              "      <td>0</td>\n",
              "      <td>0</td>\n",
              "      <td>0</td>\n",
              "      <td>0</td>\n",
              "    </tr>\n",
              "    <tr>\n",
              "      <th>2</th>\n",
              "      <td>35</td>\n",
              "      <td>2</td>\n",
              "      <td>44</td>\n",
              "      <td>1</td>\n",
              "      <td>16</td>\n",
              "      <td>0</td>\n",
              "      <td>0</td>\n",
              "      <td>0</td>\n",
              "      <td>7</td>\n",
              "      <td>1.0</td>\n",
              "      <td>0</td>\n",
              "      <td>1</td>\n",
              "      <td>0</td>\n",
              "      <td>0</td>\n",
              "      <td>1</td>\n",
              "      <td>0</td>\n",
              "      <td>0</td>\n",
              "      <td>0</td>\n",
              "      <td>0</td>\n",
              "      <td>0</td>\n",
              "      <td>0</td>\n",
              "      <td>0</td>\n",
              "      <td>0</td>\n",
              "      <td>0</td>\n",
              "      <td>0</td>\n",
              "      <td>0</td>\n",
              "      <td>0</td>\n",
              "      <td>0</td>\n",
              "      <td>0</td>\n",
              "      <td>0</td>\n",
              "      <td>0</td>\n",
              "      <td>0</td>\n",
              "      <td>0</td>\n",
              "      <td>0</td>\n",
              "      <td>0</td>\n",
              "      <td>0</td>\n",
              "      <td>0</td>\n",
              "      <td>0</td>\n",
              "      <td>0</td>\n",
              "      <td>0</td>\n",
              "      <td>0</td>\n",
              "      <td>0</td>\n",
              "      <td>0</td>\n",
              "      <td>0</td>\n",
              "      <td>0</td>\n",
              "      <td>0</td>\n",
              "      <td>0</td>\n",
              "      <td>1</td>\n",
              "      <td>0</td>\n",
              "      <td>0</td>\n",
              "      <td>0</td>\n",
              "      <td>0</td>\n",
              "      <td>0</td>\n",
              "      <td>0</td>\n",
              "      <td>0</td>\n",
              "      <td>0</td>\n",
              "      <td>0</td>\n",
              "      <td>0</td>\n",
              "      <td>0</td>\n",
              "      <td>1</td>\n",
              "      <td>0</td>\n",
              "      <td>0</td>\n",
              "      <td>1</td>\n",
              "      <td>0</td>\n",
              "      <td>0</td>\n",
              "      <td>1</td>\n",
              "      <td>0</td>\n",
              "      <td>0</td>\n",
              "      <td>0</td>\n",
              "      <td>0</td>\n",
              "      <td>0</td>\n",
              "      <td>0</td>\n",
              "      <td>0</td>\n",
              "      <td>0</td>\n",
              "      <td>0</td>\n",
              "    </tr>\n",
              "    <tr>\n",
              "      <th>3</th>\n",
              "      <td>45</td>\n",
              "      <td>1</td>\n",
              "      <td>51</td>\n",
              "      <td>0</td>\n",
              "      <td>8</td>\n",
              "      <td>0</td>\n",
              "      <td>0</td>\n",
              "      <td>0</td>\n",
              "      <td>5</td>\n",
              "      <td>2.0</td>\n",
              "      <td>0</td>\n",
              "      <td>1</td>\n",
              "      <td>0</td>\n",
              "      <td>0</td>\n",
              "      <td>1</td>\n",
              "      <td>0</td>\n",
              "      <td>0</td>\n",
              "      <td>0</td>\n",
              "      <td>0</td>\n",
              "      <td>0</td>\n",
              "      <td>0</td>\n",
              "      <td>0</td>\n",
              "      <td>0</td>\n",
              "      <td>0</td>\n",
              "      <td>0</td>\n",
              "      <td>0</td>\n",
              "      <td>0</td>\n",
              "      <td>0</td>\n",
              "      <td>0</td>\n",
              "      <td>0</td>\n",
              "      <td>0</td>\n",
              "      <td>0</td>\n",
              "      <td>0</td>\n",
              "      <td>0</td>\n",
              "      <td>0</td>\n",
              "      <td>0</td>\n",
              "      <td>0</td>\n",
              "      <td>0</td>\n",
              "      <td>0</td>\n",
              "      <td>0</td>\n",
              "      <td>0</td>\n",
              "      <td>0</td>\n",
              "      <td>0</td>\n",
              "      <td>0</td>\n",
              "      <td>0</td>\n",
              "      <td>0</td>\n",
              "      <td>0</td>\n",
              "      <td>1</td>\n",
              "      <td>0</td>\n",
              "      <td>0</td>\n",
              "      <td>0</td>\n",
              "      <td>0</td>\n",
              "      <td>0</td>\n",
              "      <td>0</td>\n",
              "      <td>0</td>\n",
              "      <td>0</td>\n",
              "      <td>0</td>\n",
              "      <td>0</td>\n",
              "      <td>0</td>\n",
              "      <td>1</td>\n",
              "      <td>0</td>\n",
              "      <td>0</td>\n",
              "      <td>1</td>\n",
              "      <td>0</td>\n",
              "      <td>0</td>\n",
              "      <td>1</td>\n",
              "      <td>0</td>\n",
              "      <td>0</td>\n",
              "      <td>0</td>\n",
              "      <td>0</td>\n",
              "      <td>0</td>\n",
              "      <td>0</td>\n",
              "      <td>0</td>\n",
              "      <td>1</td>\n",
              "      <td>0</td>\n",
              "    </tr>\n",
              "    <tr>\n",
              "      <th>4</th>\n",
              "      <td>55</td>\n",
              "      <td>3</td>\n",
              "      <td>31</td>\n",
              "      <td>6</td>\n",
              "      <td>16</td>\n",
              "      <td>0</td>\n",
              "      <td>0</td>\n",
              "      <td>0</td>\n",
              "      <td>9</td>\n",
              "      <td>1.0</td>\n",
              "      <td>0</td>\n",
              "      <td>1</td>\n",
              "      <td>0</td>\n",
              "      <td>0</td>\n",
              "      <td>1</td>\n",
              "      <td>1</td>\n",
              "      <td>0</td>\n",
              "      <td>0</td>\n",
              "      <td>0</td>\n",
              "      <td>0</td>\n",
              "      <td>0</td>\n",
              "      <td>0</td>\n",
              "      <td>0</td>\n",
              "      <td>0</td>\n",
              "      <td>0</td>\n",
              "      <td>0</td>\n",
              "      <td>0</td>\n",
              "      <td>0</td>\n",
              "      <td>0</td>\n",
              "      <td>0</td>\n",
              "      <td>0</td>\n",
              "      <td>0</td>\n",
              "      <td>0</td>\n",
              "      <td>0</td>\n",
              "      <td>0</td>\n",
              "      <td>0</td>\n",
              "      <td>0</td>\n",
              "      <td>0</td>\n",
              "      <td>0</td>\n",
              "      <td>0</td>\n",
              "      <td>0</td>\n",
              "      <td>0</td>\n",
              "      <td>1</td>\n",
              "      <td>0</td>\n",
              "      <td>0</td>\n",
              "      <td>0</td>\n",
              "      <td>0</td>\n",
              "      <td>0</td>\n",
              "      <td>0</td>\n",
              "      <td>0</td>\n",
              "      <td>0</td>\n",
              "      <td>0</td>\n",
              "      <td>0</td>\n",
              "      <td>0</td>\n",
              "      <td>0</td>\n",
              "      <td>0</td>\n",
              "      <td>0</td>\n",
              "      <td>0</td>\n",
              "      <td>0</td>\n",
              "      <td>1</td>\n",
              "      <td>0</td>\n",
              "      <td>0</td>\n",
              "      <td>1</td>\n",
              "      <td>0</td>\n",
              "      <td>1</td>\n",
              "      <td>1</td>\n",
              "      <td>1</td>\n",
              "      <td>0</td>\n",
              "      <td>0</td>\n",
              "      <td>0</td>\n",
              "      <td>0</td>\n",
              "      <td>0</td>\n",
              "      <td>0</td>\n",
              "      <td>0</td>\n",
              "      <td>0</td>\n",
              "    </tr>\n",
              "    <tr>\n",
              "      <th>...</th>\n",
              "      <td>...</td>\n",
              "      <td>...</td>\n",
              "      <td>...</td>\n",
              "      <td>...</td>\n",
              "      <td>...</td>\n",
              "      <td>...</td>\n",
              "      <td>...</td>\n",
              "      <td>...</td>\n",
              "      <td>...</td>\n",
              "      <td>...</td>\n",
              "      <td>...</td>\n",
              "      <td>...</td>\n",
              "      <td>...</td>\n",
              "      <td>...</td>\n",
              "      <td>...</td>\n",
              "      <td>...</td>\n",
              "      <td>...</td>\n",
              "      <td>...</td>\n",
              "      <td>...</td>\n",
              "      <td>...</td>\n",
              "      <td>...</td>\n",
              "      <td>...</td>\n",
              "      <td>...</td>\n",
              "      <td>...</td>\n",
              "      <td>...</td>\n",
              "      <td>...</td>\n",
              "      <td>...</td>\n",
              "      <td>...</td>\n",
              "      <td>...</td>\n",
              "      <td>...</td>\n",
              "      <td>...</td>\n",
              "      <td>...</td>\n",
              "      <td>...</td>\n",
              "      <td>...</td>\n",
              "      <td>...</td>\n",
              "      <td>...</td>\n",
              "      <td>...</td>\n",
              "      <td>...</td>\n",
              "      <td>...</td>\n",
              "      <td>...</td>\n",
              "      <td>...</td>\n",
              "      <td>...</td>\n",
              "      <td>...</td>\n",
              "      <td>...</td>\n",
              "      <td>...</td>\n",
              "      <td>...</td>\n",
              "      <td>...</td>\n",
              "      <td>...</td>\n",
              "      <td>...</td>\n",
              "      <td>...</td>\n",
              "      <td>...</td>\n",
              "      <td>...</td>\n",
              "      <td>...</td>\n",
              "      <td>...</td>\n",
              "      <td>...</td>\n",
              "      <td>...</td>\n",
              "      <td>...</td>\n",
              "      <td>...</td>\n",
              "      <td>...</td>\n",
              "      <td>...</td>\n",
              "      <td>...</td>\n",
              "      <td>...</td>\n",
              "      <td>...</td>\n",
              "      <td>...</td>\n",
              "      <td>...</td>\n",
              "      <td>...</td>\n",
              "      <td>...</td>\n",
              "      <td>...</td>\n",
              "      <td>...</td>\n",
              "      <td>...</td>\n",
              "      <td>...</td>\n",
              "      <td>...</td>\n",
              "      <td>...</td>\n",
              "      <td>...</td>\n",
              "      <td>...</td>\n",
              "    </tr>\n",
              "    <tr>\n",
              "      <th>66838</th>\n",
              "      <td>75</td>\n",
              "      <td>9</td>\n",
              "      <td>50</td>\n",
              "      <td>2</td>\n",
              "      <td>33</td>\n",
              "      <td>0</td>\n",
              "      <td>0</td>\n",
              "      <td>0</td>\n",
              "      <td>9</td>\n",
              "      <td>2.0</td>\n",
              "      <td>0</td>\n",
              "      <td>1</td>\n",
              "      <td>0</td>\n",
              "      <td>0</td>\n",
              "      <td>0</td>\n",
              "      <td>0</td>\n",
              "      <td>0</td>\n",
              "      <td>0</td>\n",
              "      <td>0</td>\n",
              "      <td>0</td>\n",
              "      <td>0</td>\n",
              "      <td>0</td>\n",
              "      <td>0</td>\n",
              "      <td>0</td>\n",
              "      <td>0</td>\n",
              "      <td>0</td>\n",
              "      <td>0</td>\n",
              "      <td>0</td>\n",
              "      <td>0</td>\n",
              "      <td>0</td>\n",
              "      <td>0</td>\n",
              "      <td>0</td>\n",
              "      <td>0</td>\n",
              "      <td>0</td>\n",
              "      <td>0</td>\n",
              "      <td>0</td>\n",
              "      <td>0</td>\n",
              "      <td>0</td>\n",
              "      <td>0</td>\n",
              "      <td>0</td>\n",
              "      <td>0</td>\n",
              "      <td>0</td>\n",
              "      <td>0</td>\n",
              "      <td>0</td>\n",
              "      <td>0</td>\n",
              "      <td>0</td>\n",
              "      <td>0</td>\n",
              "      <td>1</td>\n",
              "      <td>0</td>\n",
              "      <td>0</td>\n",
              "      <td>0</td>\n",
              "      <td>0</td>\n",
              "      <td>0</td>\n",
              "      <td>0</td>\n",
              "      <td>0</td>\n",
              "      <td>0</td>\n",
              "      <td>0</td>\n",
              "      <td>0</td>\n",
              "      <td>0</td>\n",
              "      <td>1</td>\n",
              "      <td>0</td>\n",
              "      <td>0</td>\n",
              "      <td>0</td>\n",
              "      <td>0</td>\n",
              "      <td>0</td>\n",
              "      <td>1</td>\n",
              "      <td>0</td>\n",
              "      <td>0</td>\n",
              "      <td>1</td>\n",
              "      <td>0</td>\n",
              "      <td>0</td>\n",
              "      <td>0</td>\n",
              "      <td>0</td>\n",
              "      <td>0</td>\n",
              "      <td>0</td>\n",
              "    </tr>\n",
              "    <tr>\n",
              "      <th>66839</th>\n",
              "      <td>45</td>\n",
              "      <td>14</td>\n",
              "      <td>73</td>\n",
              "      <td>6</td>\n",
              "      <td>26</td>\n",
              "      <td>0</td>\n",
              "      <td>1</td>\n",
              "      <td>0</td>\n",
              "      <td>9</td>\n",
              "      <td>2.0</td>\n",
              "      <td>0</td>\n",
              "      <td>0</td>\n",
              "      <td>0</td>\n",
              "      <td>1</td>\n",
              "      <td>0</td>\n",
              "      <td>0</td>\n",
              "      <td>0</td>\n",
              "      <td>0</td>\n",
              "      <td>0</td>\n",
              "      <td>0</td>\n",
              "      <td>0</td>\n",
              "      <td>0</td>\n",
              "      <td>0</td>\n",
              "      <td>0</td>\n",
              "      <td>0</td>\n",
              "      <td>0</td>\n",
              "      <td>0</td>\n",
              "      <td>0</td>\n",
              "      <td>0</td>\n",
              "      <td>0</td>\n",
              "      <td>0</td>\n",
              "      <td>0</td>\n",
              "      <td>0</td>\n",
              "      <td>0</td>\n",
              "      <td>0</td>\n",
              "      <td>0</td>\n",
              "      <td>0</td>\n",
              "      <td>0</td>\n",
              "      <td>0</td>\n",
              "      <td>0</td>\n",
              "      <td>0</td>\n",
              "      <td>0</td>\n",
              "      <td>0</td>\n",
              "      <td>0</td>\n",
              "      <td>0</td>\n",
              "      <td>0</td>\n",
              "      <td>0</td>\n",
              "      <td>1</td>\n",
              "      <td>0</td>\n",
              "      <td>0</td>\n",
              "      <td>0</td>\n",
              "      <td>0</td>\n",
              "      <td>0</td>\n",
              "      <td>0</td>\n",
              "      <td>0</td>\n",
              "      <td>0</td>\n",
              "      <td>0</td>\n",
              "      <td>0</td>\n",
              "      <td>0</td>\n",
              "      <td>1</td>\n",
              "      <td>0</td>\n",
              "      <td>1</td>\n",
              "      <td>0</td>\n",
              "      <td>0</td>\n",
              "      <td>0</td>\n",
              "      <td>1</td>\n",
              "      <td>0</td>\n",
              "      <td>0</td>\n",
              "      <td>0</td>\n",
              "      <td>0</td>\n",
              "      <td>0</td>\n",
              "      <td>0</td>\n",
              "      <td>1</td>\n",
              "      <td>0</td>\n",
              "      <td>0</td>\n",
              "    </tr>\n",
              "    <tr>\n",
              "      <th>66840</th>\n",
              "      <td>65</td>\n",
              "      <td>2</td>\n",
              "      <td>46</td>\n",
              "      <td>6</td>\n",
              "      <td>17</td>\n",
              "      <td>1</td>\n",
              "      <td>1</td>\n",
              "      <td>1</td>\n",
              "      <td>9</td>\n",
              "      <td>1.0</td>\n",
              "      <td>0</td>\n",
              "      <td>0</td>\n",
              "      <td>0</td>\n",
              "      <td>1</td>\n",
              "      <td>0</td>\n",
              "      <td>0</td>\n",
              "      <td>0</td>\n",
              "      <td>0</td>\n",
              "      <td>0</td>\n",
              "      <td>0</td>\n",
              "      <td>0</td>\n",
              "      <td>0</td>\n",
              "      <td>0</td>\n",
              "      <td>0</td>\n",
              "      <td>0</td>\n",
              "      <td>0</td>\n",
              "      <td>0</td>\n",
              "      <td>0</td>\n",
              "      <td>0</td>\n",
              "      <td>0</td>\n",
              "      <td>0</td>\n",
              "      <td>0</td>\n",
              "      <td>0</td>\n",
              "      <td>0</td>\n",
              "      <td>0</td>\n",
              "      <td>0</td>\n",
              "      <td>0</td>\n",
              "      <td>0</td>\n",
              "      <td>0</td>\n",
              "      <td>0</td>\n",
              "      <td>0</td>\n",
              "      <td>0</td>\n",
              "      <td>0</td>\n",
              "      <td>0</td>\n",
              "      <td>0</td>\n",
              "      <td>0</td>\n",
              "      <td>0</td>\n",
              "      <td>1</td>\n",
              "      <td>0</td>\n",
              "      <td>0</td>\n",
              "      <td>0</td>\n",
              "      <td>0</td>\n",
              "      <td>0</td>\n",
              "      <td>0</td>\n",
              "      <td>0</td>\n",
              "      <td>0</td>\n",
              "      <td>0</td>\n",
              "      <td>0</td>\n",
              "      <td>0</td>\n",
              "      <td>1</td>\n",
              "      <td>0</td>\n",
              "      <td>0</td>\n",
              "      <td>1</td>\n",
              "      <td>0</td>\n",
              "      <td>1</td>\n",
              "      <td>1</td>\n",
              "      <td>0</td>\n",
              "      <td>0</td>\n",
              "      <td>0</td>\n",
              "      <td>0</td>\n",
              "      <td>1</td>\n",
              "      <td>0</td>\n",
              "      <td>0</td>\n",
              "      <td>0</td>\n",
              "      <td>0</td>\n",
              "    </tr>\n",
              "    <tr>\n",
              "      <th>66841</th>\n",
              "      <td>0</td>\n",
              "      <td>5</td>\n",
              "      <td>76</td>\n",
              "      <td>1</td>\n",
              "      <td>22</td>\n",
              "      <td>0</td>\n",
              "      <td>1</td>\n",
              "      <td>0</td>\n",
              "      <td>9</td>\n",
              "      <td>1.0</td>\n",
              "      <td>0</td>\n",
              "      <td>1</td>\n",
              "      <td>0</td>\n",
              "      <td>0</td>\n",
              "      <td>0</td>\n",
              "      <td>0</td>\n",
              "      <td>0</td>\n",
              "      <td>0</td>\n",
              "      <td>0</td>\n",
              "      <td>0</td>\n",
              "      <td>0</td>\n",
              "      <td>0</td>\n",
              "      <td>0</td>\n",
              "      <td>0</td>\n",
              "      <td>0</td>\n",
              "      <td>0</td>\n",
              "      <td>0</td>\n",
              "      <td>0</td>\n",
              "      <td>0</td>\n",
              "      <td>0</td>\n",
              "      <td>0</td>\n",
              "      <td>0</td>\n",
              "      <td>0</td>\n",
              "      <td>0</td>\n",
              "      <td>0</td>\n",
              "      <td>0</td>\n",
              "      <td>0</td>\n",
              "      <td>0</td>\n",
              "      <td>0</td>\n",
              "      <td>0</td>\n",
              "      <td>0</td>\n",
              "      <td>0</td>\n",
              "      <td>0</td>\n",
              "      <td>0</td>\n",
              "      <td>0</td>\n",
              "      <td>0</td>\n",
              "      <td>0</td>\n",
              "      <td>1</td>\n",
              "      <td>0</td>\n",
              "      <td>0</td>\n",
              "      <td>0</td>\n",
              "      <td>0</td>\n",
              "      <td>0</td>\n",
              "      <td>0</td>\n",
              "      <td>0</td>\n",
              "      <td>0</td>\n",
              "      <td>0</td>\n",
              "      <td>0</td>\n",
              "      <td>0</td>\n",
              "      <td>1</td>\n",
              "      <td>0</td>\n",
              "      <td>0</td>\n",
              "      <td>1</td>\n",
              "      <td>0</td>\n",
              "      <td>0</td>\n",
              "      <td>1</td>\n",
              "      <td>0</td>\n",
              "      <td>0</td>\n",
              "      <td>0</td>\n",
              "      <td>0</td>\n",
              "      <td>0</td>\n",
              "      <td>0</td>\n",
              "      <td>0</td>\n",
              "      <td>0</td>\n",
              "      <td>0</td>\n",
              "    </tr>\n",
              "    <tr>\n",
              "      <th>66842</th>\n",
              "      <td>75</td>\n",
              "      <td>6</td>\n",
              "      <td>13</td>\n",
              "      <td>3</td>\n",
              "      <td>3</td>\n",
              "      <td>0</td>\n",
              "      <td>0</td>\n",
              "      <td>0</td>\n",
              "      <td>9</td>\n",
              "      <td>0.0</td>\n",
              "      <td>0</td>\n",
              "      <td>1</td>\n",
              "      <td>0</td>\n",
              "      <td>0</td>\n",
              "      <td>1</td>\n",
              "      <td>0</td>\n",
              "      <td>0</td>\n",
              "      <td>0</td>\n",
              "      <td>0</td>\n",
              "      <td>0</td>\n",
              "      <td>0</td>\n",
              "      <td>0</td>\n",
              "      <td>0</td>\n",
              "      <td>0</td>\n",
              "      <td>0</td>\n",
              "      <td>0</td>\n",
              "      <td>0</td>\n",
              "      <td>0</td>\n",
              "      <td>0</td>\n",
              "      <td>0</td>\n",
              "      <td>0</td>\n",
              "      <td>0</td>\n",
              "      <td>0</td>\n",
              "      <td>0</td>\n",
              "      <td>0</td>\n",
              "      <td>0</td>\n",
              "      <td>0</td>\n",
              "      <td>0</td>\n",
              "      <td>0</td>\n",
              "      <td>0</td>\n",
              "      <td>0</td>\n",
              "      <td>0</td>\n",
              "      <td>0</td>\n",
              "      <td>0</td>\n",
              "      <td>0</td>\n",
              "      <td>0</td>\n",
              "      <td>0</td>\n",
              "      <td>1</td>\n",
              "      <td>0</td>\n",
              "      <td>0</td>\n",
              "      <td>0</td>\n",
              "      <td>0</td>\n",
              "      <td>0</td>\n",
              "      <td>0</td>\n",
              "      <td>0</td>\n",
              "      <td>0</td>\n",
              "      <td>0</td>\n",
              "      <td>0</td>\n",
              "      <td>0</td>\n",
              "      <td>1</td>\n",
              "      <td>0</td>\n",
              "      <td>0</td>\n",
              "      <td>1</td>\n",
              "      <td>0</td>\n",
              "      <td>1</td>\n",
              "      <td>0</td>\n",
              "      <td>0</td>\n",
              "      <td>0</td>\n",
              "      <td>1</td>\n",
              "      <td>0</td>\n",
              "      <td>0</td>\n",
              "      <td>0</td>\n",
              "      <td>0</td>\n",
              "      <td>0</td>\n",
              "      <td>0</td>\n",
              "    </tr>\n",
              "  </tbody>\n",
              "</table>\n",
              "<p>66843 rows × 75 columns</p>\n",
              "</div>"
            ],
            "text/plain": [
              "       age  time_in_hospital  ...  categorias_diag_1_8  OUTPUT_LABEL\n",
              "0       15                 3  ...                    0             0\n",
              "1       25                 2  ...                    0             0\n",
              "2       35                 2  ...                    0             0\n",
              "3       45                 1  ...                    1             0\n",
              "4       55                 3  ...                    0             0\n",
              "...    ...               ...  ...                  ...           ...\n",
              "66838   75                 9  ...                    0             0\n",
              "66839   45                14  ...                    0             0\n",
              "66840   65                 2  ...                    0             0\n",
              "66841    0                 5  ...                    0             0\n",
              "66842   75                 6  ...                    0             0\n",
              "\n",
              "[66843 rows x 75 columns]"
            ]
          },
          "metadata": {
            "tags": []
          },
          "execution_count": 87
        }
      ]
    },
    {
      "cell_type": "markdown",
      "metadata": {
        "id": "ol8_0BOj5jhy"
      },
      "source": [
        "# Agregando la curva de roc"
      ]
    },
    {
      "cell_type": "code",
      "metadata": {
        "id": "6yJwHjOz38Dt"
      },
      "source": [
        "## Agragando la curva de ROC\n",
        "## Otra implementacion de validacion cruzada estratificada\n",
        "from sklearn.model_selection import StratifiedKFold # validacion cruzada estratificada\n",
        "#from sklearn.preprocessing import StandardScaler\n",
        "from sklearn.metrics import accuracy_score\n",
        "from sklearn.metrics import confusion_matrix\n",
        "from imblearn.over_sampling import RandomOverSampler\n",
        "from sklearn.metrics import balanced_accuracy_score\n",
        "from sklearn.metrics import recall_score\n",
        "from sklearn.metrics import precision_recall_fscore_support\n",
        "from sklearn.metrics import precision_score\n",
        "from sklearn.metrics import f1_score\n",
        "from sklearn.metrics import roc_auc_score\n",
        "from sklearn import metrics\n",
        "def cross_validation_stratific_roc(X,y,model,k):\n",
        "\n",
        "  #Configurando la Validacion cruzada estratificada\n",
        "  skf = StratifiedKFold(n_splits=k, shuffle=True, random_state=42)\n",
        "\n",
        "\n",
        "  metrics = pd.DataFrame()\n",
        "# Creamos matriz vacia para guardar la matriz de confusion total\n",
        "  matriz_confusion = np.zeros((2,2))\n",
        "  acc_score = []\n",
        "  balance_score = []\n",
        "  recall_macro = []\n",
        "  pres_recall_fs = []\n",
        "  pres = []\n",
        "  f_1score = []\n",
        "  auc_roc = []\n",
        "  count = 0\n",
        "  tprs = []\n",
        "  aucs = []\n",
        "  mean_fpr = np.linspace(0, 1, 100)\n",
        "  plt.figure(figsize=(10,10))\n",
        "  i = 0\n",
        "  for train_index , test_index in skf.split(X,y):\n",
        "    X_train, X_test = X.iloc[train_index], X.iloc[test_index]\n",
        "    y_train, y_test = y.iloc[train_index] , y.iloc[test_index]\n",
        "    count = count + 1\n",
        "    print('Iteracion: ', count)\n",
        "    ## Balanceamos las clases del conjunto de  train, referencia --> https://machinelearningmastery.com/random-oversampling-and-undersampling-for-imbalanced-classification/\n",
        "    oversample = RandomOverSampler(sampling_strategy= 'minority')\n",
        "    #fit y aplicamos la transformacion\n",
        "    X_train, y_train = oversample.fit_resample(X_train, y_train)\n",
        "    #print('tipe y_test: ',type(y_test))\n",
        "\n",
        "    print(pd.DataFrame(y_train).value_counts())\n",
        "    # Escalamos los datos   \n",
        "    scaler = StandardScaler()\n",
        "    scaler.fit(X_train)\n",
        "    X_train = scaler.transform(X_train)\n",
        "    X_test = scaler.transform(X_test)\n",
        "\n",
        "\n",
        "    model.fit(X_train,y_train)\n",
        "    pred_values = model.predict(X_test)\n",
        "\n",
        "    ## Calculamos la probabilidad para cada fila\n",
        "    probs = model.predict_proba(X_test)\n",
        "\n",
        "    # Graficando Curva de ROC\n",
        "    fpr, tpr, thresholds = metrics.roc_curve(y_test, probs[:, 1])\n",
        "    tprs.append(interp(mean_fpr, fpr, tpr))\n",
        "    tprs[-1][0] = 0.0\n",
        "    roc_auc = auc(fpr, tpr)\n",
        "    aucs.append(roc_auc)\n",
        "    plt.plot(fpr, tpr, lw=1, alpha=0.3, label='ROC fold %d (AUC = %0.2f)' % (i, roc_auc))\n",
        "\n",
        "\n",
        "    ##Creamos matriz de confusión\n",
        "    matrix = confusion_matrix(y_test, pred_values)\n",
        "    print(matrix)\n",
        "    # sumamos la matriz de confusion\n",
        "    matriz_confusion = matriz_confusion + matrix\n",
        "\n",
        "    # Accuracy metrica\n",
        "    acc = accuracy_score(y_test, pred_values)\n",
        "    acc_score.append(acc)\n",
        "\n",
        "    # Balanced score\n",
        "    bal_score = balanced_accuracy_score(y_test, pred_values)\n",
        "    balance_score.append(bal_score)\n",
        "\n",
        "    #recall macro\n",
        "    recall = recall_score(y_test, pred_values, average='macro')\n",
        "    recall_macro.append(recall)\n",
        "\n",
        "    #precision, recall, fscore\n",
        "    pres_rec_f = precision_recall_fscore_support(y_test, pred_values, average='macro')\n",
        "    pres_recall_fs.append(pres_rec_f)\n",
        "\n",
        "    #precision\n",
        "    presci = precision_score(y_test, pred_values, average='macro')\n",
        "    pres.append(presci)\n",
        "\n",
        "    #f1_score\n",
        "    f1score = f1_score(y_test, pred_values,average='macro')\n",
        "    f_1score.append(f1score)\n",
        "\n",
        "    # auc\n",
        "    auc_metric = roc_auc_score(y_test, pred_values,average='macro')\n",
        "    auc_roc.append(auc_metric)\n",
        "\n",
        "    i += 1\n",
        "\n",
        "\n",
        "  \n",
        "  metrics['Model'] = ['Random Forest']\n",
        "  metrics['metric_avg_acc_score'] = [sum(acc_score)/k]\n",
        "  metrics['balanced_acc_score'] = [sum(balance_score)/k]\n",
        "  metrics['recall_macro'] =  [sum(recall_macro)/k]\n",
        "  metrics['presicion_macro'] = [sum(pres)/k]\n",
        "  metrics['f1_score_macro'] = [sum(f_1score) / k]\n",
        "  metrics['AUC'] = [sum(auc_roc) / k]\n",
        "\n",
        "\n",
        "  plt.plot([0, 1], [0, 1], linestyle='--', lw=2, color='r', label='Chance', alpha=.8)\n",
        "\n",
        "  mean_tpr = np.mean(tprs, axis=0)\n",
        "  mean_tpr[-1] = 1.0\n",
        "  mean_auc = auc(mean_fpr, mean_tpr)\n",
        "  std_auc = np.std(aucs)\n",
        "  plt.plot(mean_fpr, mean_tpr, color='b',\n",
        "          label=r'Mean ROC (AUC = %0.2f $\\pm$ %0.2f)' % (mean_auc, std_auc),\n",
        "          lw=2, alpha=.8)\n",
        "\n",
        "  std_tpr = np.std(tprs, axis=0)\n",
        "  tprs_upper = np.minimum(mean_tpr + std_tpr, 1)\n",
        "  tprs_lower = np.maximum(mean_tpr - std_tpr, 0)\n",
        "  plt.fill_between(mean_fpr, tprs_lower, tprs_upper, color='grey', alpha=.2,\n",
        "                  label=r'$\\pm$ 1 std. dev.')\n",
        "\n",
        "  plt.xlim([-0.01, 1.01])\n",
        "  plt.ylim([-0.01, 1.01])\n",
        "  plt.xlabel('False Positive Rate',fontsize=18)\n",
        "  plt.ylabel('True Positive Rate',fontsize=18)\n",
        "  plt.title('Cross-Validation ROC of SVM',fontsize=18)\n",
        "  plt.legend(loc=\"lower right\", prop={'size': 15})\n",
        "  plt.show()\n",
        "\n",
        "  #return avg_acc_score, matriz_confusion , balanced_acc_score, recall_macro, pres_recall_fs, presicion_macro, f1_score_macro\n",
        "  return metrics , matriz_confusion"
      ],
      "execution_count": null,
      "outputs": []
    },
    {
      "cell_type": "code",
      "metadata": {
        "colab": {
          "base_uri": "https://localhost:8080/",
          "height": 299
        },
        "id": "WKbGhcBJ7D2Q",
        "outputId": "b408d0a2-c562-4c39-f209-bb7fa1111849"
      },
      "source": [
        "cross_validation_stratific_roc(X,y,RandomForestClassifier(n_estimators=200,random_state=0),10)"
      ],
      "execution_count": null,
      "outputs": [
        {
          "output_type": "error",
          "ename": "AttributeError",
          "evalue": "ignored",
          "traceback": [
            "\u001b[0;31m---------------------------------------------------------------------------\u001b[0m",
            "\u001b[0;31mAttributeError\u001b[0m                            Traceback (most recent call last)",
            "\u001b[0;32m<ipython-input-104-3d7b1a16c56c>\u001b[0m in \u001b[0;36m<module>\u001b[0;34m()\u001b[0m\n\u001b[0;32m----> 1\u001b[0;31m \u001b[0mcross_validation_stratific_roc\u001b[0m\u001b[0;34m(\u001b[0m\u001b[0mX\u001b[0m\u001b[0;34m,\u001b[0m\u001b[0my\u001b[0m\u001b[0;34m,\u001b[0m\u001b[0mRandomForestClassifier\u001b[0m\u001b[0;34m(\u001b[0m\u001b[0mn_estimators\u001b[0m\u001b[0;34m=\u001b[0m\u001b[0;36m200\u001b[0m\u001b[0;34m,\u001b[0m\u001b[0mrandom_state\u001b[0m\u001b[0;34m=\u001b[0m\u001b[0;36m0\u001b[0m\u001b[0;34m)\u001b[0m\u001b[0;34m,\u001b[0m\u001b[0;36m10\u001b[0m\u001b[0;34m)\u001b[0m\u001b[0;34m\u001b[0m\u001b[0;34m\u001b[0m\u001b[0m\n\u001b[0m",
            "\u001b[0;32m<ipython-input-103-f7870a6d14d4>\u001b[0m in \u001b[0;36mcross_validation_stratific_roc\u001b[0;34m(X, y, model, k)\u001b[0m\n\u001b[1;32m     37\u001b[0m   \u001b[0;32mfor\u001b[0m \u001b[0mtrain_index\u001b[0m \u001b[0;34m,\u001b[0m \u001b[0mtest_index\u001b[0m \u001b[0;32min\u001b[0m \u001b[0mskf\u001b[0m\u001b[0;34m.\u001b[0m\u001b[0msplit\u001b[0m\u001b[0;34m(\u001b[0m\u001b[0mX\u001b[0m\u001b[0;34m,\u001b[0m\u001b[0my\u001b[0m\u001b[0;34m)\u001b[0m\u001b[0;34m:\u001b[0m\u001b[0;34m\u001b[0m\u001b[0;34m\u001b[0m\u001b[0m\n\u001b[1;32m     38\u001b[0m     \u001b[0mX_train\u001b[0m\u001b[0;34m,\u001b[0m \u001b[0mX_test\u001b[0m \u001b[0;34m=\u001b[0m \u001b[0mX\u001b[0m\u001b[0;34m.\u001b[0m\u001b[0miloc\u001b[0m\u001b[0;34m[\u001b[0m\u001b[0mtrain_index\u001b[0m\u001b[0;34m]\u001b[0m\u001b[0;34m,\u001b[0m \u001b[0mX\u001b[0m\u001b[0;34m.\u001b[0m\u001b[0miloc\u001b[0m\u001b[0;34m[\u001b[0m\u001b[0mtest_index\u001b[0m\u001b[0;34m]\u001b[0m\u001b[0;34m\u001b[0m\u001b[0;34m\u001b[0m\u001b[0m\n\u001b[0;32m---> 39\u001b[0;31m     \u001b[0my_train\u001b[0m\u001b[0;34m,\u001b[0m \u001b[0my_test\u001b[0m \u001b[0;34m=\u001b[0m \u001b[0my\u001b[0m\u001b[0;34m.\u001b[0m\u001b[0miloc\u001b[0m\u001b[0;34m[\u001b[0m\u001b[0mtrain_index\u001b[0m\u001b[0;34m]\u001b[0m \u001b[0;34m,\u001b[0m \u001b[0my\u001b[0m\u001b[0;34m.\u001b[0m\u001b[0miloc\u001b[0m\u001b[0;34m[\u001b[0m\u001b[0mtest_index\u001b[0m\u001b[0;34m]\u001b[0m\u001b[0;34m\u001b[0m\u001b[0;34m\u001b[0m\u001b[0m\n\u001b[0m\u001b[1;32m     40\u001b[0m     \u001b[0mcount\u001b[0m \u001b[0;34m=\u001b[0m \u001b[0mcount\u001b[0m \u001b[0;34m+\u001b[0m \u001b[0;36m1\u001b[0m\u001b[0;34m\u001b[0m\u001b[0;34m\u001b[0m\u001b[0m\n\u001b[1;32m     41\u001b[0m     \u001b[0mprint\u001b[0m\u001b[0;34m(\u001b[0m\u001b[0;34m'Iteracion: '\u001b[0m\u001b[0;34m,\u001b[0m \u001b[0mcount\u001b[0m\u001b[0;34m)\u001b[0m\u001b[0;34m\u001b[0m\u001b[0;34m\u001b[0m\u001b[0m\n",
            "\u001b[0;31mAttributeError\u001b[0m: 'list' object has no attribute 'iloc'"
          ]
        },
        {
          "output_type": "display_data",
          "data": {
            "text/plain": [
              "<Figure size 720x720 with 0 Axes>"
            ]
          },
          "metadata": {
            "tags": []
          }
        }
      ]
    },
    {
      "cell_type": "code",
      "metadata": {
        "id": "jOkwAwKC3703"
      },
      "source": [
        "cv = StratifiedKFold(n_splits=10)\n",
        "classifier = SVC(kernel='sigmoid',probability=True,random_state=0)\n",
        "\n",
        "tprs = []\n",
        "aucs = []\n",
        "mean_fpr = np.linspace(0, 1, 100)\n",
        "plt.figure(figsize=(10,10))\n",
        "i = 0\n",
        "for train, test in cv.split(X_train_res, y_train_res):\n",
        "    probas_ = classifier.fit(X_train_res[train], y_train_res[train]).predict_proba(X_train_res[test])\n",
        "    # Compute ROC curve and area the curve\n",
        "    fpr, tpr, thresholds = roc_curve(y_train_res[test], probas_[:, 1])\n",
        "    tprs.append(interp(mean_fpr, fpr, tpr))\n",
        "    tprs[-1][0] = 0.0\n",
        "    roc_auc = auc(fpr, tpr)\n",
        "    aucs.append(roc_auc)\n",
        "    plt.plot(fpr, tpr, lw=1, alpha=0.3,\n",
        "             label='ROC fold %d (AUC = %0.2f)' % (i, roc_auc))\n",
        "\n",
        "    i += 1\n",
        "plt.plot([0, 1], [0, 1], linestyle='--', lw=2, color='r',\n",
        "         label='Chance', alpha=.8)\n",
        "\n",
        "mean_tpr = np.mean(tprs, axis=0)\n",
        "mean_tpr[-1] = 1.0\n",
        "mean_auc = auc(mean_fpr, mean_tpr)\n",
        "std_auc = np.std(aucs)\n",
        "plt.plot(mean_fpr, mean_tpr, color='b',\n",
        "         label=r'Mean ROC (AUC = %0.2f $\\pm$ %0.2f)' % (mean_auc, std_auc),\n",
        "         lw=2, alpha=.8)\n",
        "\n",
        "std_tpr = np.std(tprs, axis=0)\n",
        "tprs_upper = np.minimum(mean_tpr + std_tpr, 1)\n",
        "tprs_lower = np.maximum(mean_tpr - std_tpr, 0)\n",
        "plt.fill_between(mean_fpr, tprs_lower, tprs_upper, color='grey', alpha=.2,\n",
        "                 label=r'$\\pm$ 1 std. dev.')\n",
        "\n",
        "plt.xlim([-0.01, 1.01])\n",
        "plt.ylim([-0.01, 1.01])\n",
        "plt.xlabel('False Positive Rate',fontsize=18)\n",
        "plt.ylabel('True Positive Rate',fontsize=18)\n",
        "plt.title('Cross-Validation ROC of SVM',fontsize=18)\n",
        "plt.legend(loc=\"lower right\", prop={'size': 15})\n",
        "plt.show()"
      ],
      "execution_count": null,
      "outputs": []
    },
    {
      "cell_type": "code",
      "metadata": {
        "id": "G2AYGRXk37pJ"
      },
      "source": [
        ""
      ],
      "execution_count": null,
      "outputs": []
    },
    {
      "cell_type": "markdown",
      "metadata": {
        "id": "OfkOBIAvw8AY"
      },
      "source": [
        "# <center><h1>Reduccion de Dimensionalidad LDA</h1></center>"
      ]
    },
    {
      "cell_type": "code",
      "metadata": {
        "id": "sLsxMpwxw2vf"
      },
      "source": [
        "from sklearn.discriminant_analysis import LinearDiscriminantAnalysis"
      ],
      "execution_count": null,
      "outputs": []
    },
    {
      "cell_type": "code",
      "metadata": {
        "colab": {
          "base_uri": "https://localhost:8080/"
        },
        "id": "yB1Rmd02w2m0",
        "outputId": "e8c2416c-09b0-458f-952f-07718bef5c34"
      },
      "source": [
        "lda = LinearDiscriminantAnalysis(n_components=2)\n",
        "lda = lda.fit(X_scaled, y)\n",
        "X_r2 = lda.transform(X_scaled)\n",
        "np.unique(y)"
      ],
      "execution_count": null,
      "outputs": [
        {
          "output_type": "stream",
          "text": [
            "/usr/local/lib/python3.6/dist-packages/sklearn/discriminant_analysis.py:463: ChangedBehaviorWarning: n_components cannot be larger than min(n_features, n_classes - 1). Using min(n_features, n_classes - 1) = min(74, 2 - 1) = 1 components.\n",
            "  ChangedBehaviorWarning)\n",
            "/usr/local/lib/python3.6/dist-packages/sklearn/discriminant_analysis.py:469: FutureWarning: In version 0.23, setting n_components > min(n_features, n_classes - 1) will raise a ValueError. You should set n_components to None (default), or a value smaller or equal to min(n_features, n_classes - 1).\n",
            "  warnings.warn(future_msg, FutureWarning)\n"
          ],
          "name": "stderr"
        },
        {
          "output_type": "execute_result",
          "data": {
            "text/plain": [
              "array([0, 1])"
            ]
          },
          "metadata": {
            "tags": []
          },
          "execution_count": 361
        }
      ]
    },
    {
      "cell_type": "code",
      "metadata": {
        "colab": {
          "base_uri": "https://localhost:8080/"
        },
        "id": "uBQj5cxoy80Q",
        "outputId": "ed86461a-30eb-409b-9b74-af3133f24b53"
      },
      "source": [
        "X_r2.shape"
      ],
      "execution_count": null,
      "outputs": [
        {
          "output_type": "execute_result",
          "data": {
            "text/plain": [
              "(66843, 1)"
            ]
          },
          "metadata": {
            "tags": []
          },
          "execution_count": 359
        }
      ]
    },
    {
      "cell_type": "code",
      "metadata": {
        "colab": {
          "base_uri": "https://localhost:8080/",
          "height": 248
        },
        "id": "LDPkOxcCw2c4",
        "outputId": "3b9e5335-1e4b-4fb7-83f2-6186bc4e3a74"
      },
      "source": [
        "colors = ['navy', 'turquoise']\n",
        "\n",
        "plt.figure()\n",
        "for color, i, target_name in zip(colors, [1, 2], ['clase 1', 'clase 2']):\n",
        "    plt.scatter(X_r2[y == i][:, 0], X_r2[y == i][:, 1], alpha=.8, color=color,\n",
        "                label=target_name, s=10)\n",
        "    \n",
        "plt.legend(loc='best', shadow=False, scatterpoints=1)\n",
        "plt.title('Reduccion LDA')\n",
        "\n",
        "plt.legend(bbox_to_anchor=(1.3, 1.05))\n",
        "plt.show()"
      ],
      "execution_count": null,
      "outputs": [
        {
          "output_type": "error",
          "ename": "TypeError",
          "evalue": "ignored",
          "traceback": [
            "\u001b[0;31m---------------------------------------------------------------------------\u001b[0m",
            "\u001b[0;31mTypeError\u001b[0m                                 Traceback (most recent call last)",
            "\u001b[0;32m<ipython-input-360-162c22583a3b>\u001b[0m in \u001b[0;36m<module>\u001b[0;34m()\u001b[0m\n\u001b[1;32m      4\u001b[0m \u001b[0;32mfor\u001b[0m \u001b[0mcolor\u001b[0m\u001b[0;34m,\u001b[0m \u001b[0mi\u001b[0m\u001b[0;34m,\u001b[0m \u001b[0mtarget_name\u001b[0m \u001b[0;32min\u001b[0m \u001b[0mzip\u001b[0m\u001b[0;34m(\u001b[0m\u001b[0mcolors\u001b[0m\u001b[0;34m,\u001b[0m \u001b[0;34m[\u001b[0m\u001b[0;36m1\u001b[0m\u001b[0;34m,\u001b[0m \u001b[0;36m2\u001b[0m\u001b[0;34m]\u001b[0m\u001b[0;34m,\u001b[0m \u001b[0;34m[\u001b[0m\u001b[0;34m'clase 1'\u001b[0m\u001b[0;34m,\u001b[0m \u001b[0;34m'clase 2'\u001b[0m\u001b[0;34m]\u001b[0m\u001b[0;34m)\u001b[0m\u001b[0;34m:\u001b[0m\u001b[0;34m\u001b[0m\u001b[0;34m\u001b[0m\u001b[0m\n\u001b[1;32m      5\u001b[0m     plt.scatter(X_r2[y == i][:, 0], alpha=.8, color=color,\n\u001b[0;32m----> 6\u001b[0;31m                 label=target_name, s=10)\n\u001b[0m\u001b[1;32m      7\u001b[0m \u001b[0;34m\u001b[0m\u001b[0m\n\u001b[1;32m      8\u001b[0m \u001b[0mplt\u001b[0m\u001b[0;34m.\u001b[0m\u001b[0mlegend\u001b[0m\u001b[0;34m(\u001b[0m\u001b[0mloc\u001b[0m\u001b[0;34m=\u001b[0m\u001b[0;34m'best'\u001b[0m\u001b[0;34m,\u001b[0m \u001b[0mshadow\u001b[0m\u001b[0;34m=\u001b[0m\u001b[0;32mFalse\u001b[0m\u001b[0;34m,\u001b[0m \u001b[0mscatterpoints\u001b[0m\u001b[0;34m=\u001b[0m\u001b[0;36m1\u001b[0m\u001b[0;34m)\u001b[0m\u001b[0;34m\u001b[0m\u001b[0;34m\u001b[0m\u001b[0m\n",
            "\u001b[0;31mTypeError\u001b[0m: scatter() missing 1 required positional argument: 'y'"
          ]
        },
        {
          "output_type": "display_data",
          "data": {
            "text/plain": [
              "<Figure size 432x288 with 0 Axes>"
            ]
          },
          "metadata": {
            "tags": []
          }
        }
      ]
    },
    {
      "cell_type": "code",
      "metadata": {
        "colab": {
          "base_uri": "https://localhost:8080/"
        },
        "id": "6HbvEf_rw2I1",
        "outputId": "39de871b-ded7-4cf4-d129-c5d6b5365d3b"
      },
      "source": [
        "X_r2"
      ],
      "execution_count": null,
      "outputs": [
        {
          "output_type": "execute_result",
          "data": {
            "text/plain": [
              "array([[-0.45434152],\n",
              "       [ 0.12308009],\n",
              "       [-0.56827499],\n",
              "       ...,\n",
              "       [ 0.16376414],\n",
              "       [-0.22639475],\n",
              "       [-0.66462956]])"
            ]
          },
          "metadata": {
            "tags": []
          },
          "execution_count": 325
        }
      ]
    },
    {
      "cell_type": "code",
      "metadata": {
        "id": "BSMqYhV3xWiK"
      },
      "source": [
        "#### Pruebas,  seleccionando un dataframe mas pequeño\n",
        "muestras_positivas = df.OUTPUT_LABEL == 1\n",
        "positivas = df.loc[muestras_positivas].iloc[0:60].reset_index(drop = True)\n",
        "negativas = df.loc[~muestras_positivas].iloc[0:600].reset_index(drop = True)\n",
        "df = pd.concat([positivas, negativas], axis = 0).reset_index(drop = True)"
      ],
      "execution_count": null,
      "outputs": []
    },
    {
      "cell_type": "code",
      "metadata": {
        "id": "g4fO4oq-zO1y"
      },
      "source": [
        "## dividimos el conjunto de datos \n",
        "X = df.drop(['OUTPUT_LABEL'],axis = 1)\n",
        "y = df['OUTPUT_LABEL']"
      ],
      "execution_count": null,
      "outputs": []
    },
    {
      "cell_type": "code",
      "metadata": {
        "id": "wUFS24VzdUi3"
      },
      "source": [
        "#y = pd.DataFrame(data = y.values.reshape(660,1))"
      ],
      "execution_count": null,
      "outputs": []
    },
    {
      "cell_type": "code",
      "metadata": {
        "id": "GveNTu8EdjHb"
      },
      "source": [
        "#type(y)"
      ],
      "execution_count": null,
      "outputs": []
    },
    {
      "cell_type": "code",
      "metadata": {
        "id": "i9X8SFoGy_Ek"
      },
      "source": [
        "## Dividimos los datos en train (70%) y test (30%)\n",
        "#from sklearn.model_selection import train_test_split\n",
        "#X_train, X_test, y_train, y_test = train_test_split(X, y, test_size=0.3, random_state=42)"
      ],
      "execution_count": null,
      "outputs": []
    },
    {
      "cell_type": "code",
      "metadata": {
        "id": "EYk5QcLD0XOz"
      },
      "source": [
        "#print(y_train.value_counts())"
      ],
      "execution_count": null,
      "outputs": []
    },
    {
      "cell_type": "code",
      "metadata": {
        "id": "AftrlkI80LH2"
      },
      "source": [
        "#desbalance en el conjunto de train\n",
        "# plot the distribution\n",
        "#plt.bar(y_train.unique(), y_train.value_counts())\n",
        "#plt.show()"
      ],
      "execution_count": null,
      "outputs": []
    },
    {
      "cell_type": "code",
      "metadata": {
        "id": "TEM2Eyo5Z2-x"
      },
      "source": [
        "## Instalando libreria \n",
        "#!pip install imbalanced-learn"
      ],
      "execution_count": null,
      "outputs": []
    },
    {
      "cell_type": "code",
      "metadata": {
        "id": "x6ow06H-sbF3"
      },
      "source": [
        "## dividimos el conjunto de datos \n",
        "#X = df.drop(['OUTPUT_LABEL'],axis = 1)\n",
        "#y = df['OUTPUT_LABEL']"
      ],
      "execution_count": null,
      "outputs": []
    },
    {
      "cell_type": "code",
      "metadata": {
        "id": "o_XBml81bqGu"
      },
      "source": [
        "#y = pd.DataFrame(data = y)\n",
        "#y.head()"
      ],
      "execution_count": null,
      "outputs": []
    },
    {
      "cell_type": "markdown",
      "metadata": {
        "id": "_LsUistX2pD6"
      },
      "source": [
        "# Implementando cross-validation k-Fold Estratificada para Algoritmos de Clasificación\n",
        "\n",
        "*Con validación cruzada estratificada, no es necesario oversamplear los datos de entrenamiento:\n",
        "\n",
        "**StratifiedKFold** es una variación de k-fold que devuelve pliegues estratificados: cada conjunto contiene aproximadamente el mismo porcentaje de muestras de cada clase objetivo que el conjunto completo"
      ]
    },
    {
      "cell_type": "markdown",
      "metadata": {
        "id": "LQfpxI4H98Du"
      },
      "source": [
        "# Solo con validacion cruzada estratificada\n",
        "def Only_Stratified_Kfold(X,y,model):\n",
        "  from sklearn.model_selection import StratifiedKFold # validacion cruzada estratificada\n",
        "  from sklearn.preprocessing import StandardScaler\n",
        "  import imblearn\n",
        "  \n",
        "  #Configurando la Validacion cruzada estratificada\n",
        "  skf = StratifiedKFold(n_splits=10, shuffle=True, random_state=42)\n",
        "\n",
        "  from sklearn.metrics import confusion_matrix\n",
        "  from sklearn.model_selection import cross_val_score\n",
        "  from sklearn import metrics\n",
        "\n",
        "  # Creamos matriz vacia para guardar la matriz de confusion total\n",
        "  matriz_confusion = np.zeros((2,2))\n",
        "  confusion_matrix_array = []\n",
        "  accuracy_train = []\n",
        "  accuracy_test = []\n",
        "\n",
        "  ## Probando con el modelo\n",
        "  #tiempo_inicial = time()\n",
        "  for train_index , test_index in skf.split(X,y):\n",
        "    X_train, X_test = X.iloc[train_index], X.iloc[test_index]\n",
        "    y_train, y_test = y.iloc[train_index], y.iloc[test_index]\n",
        "\n",
        "    ## Balanceamos las clases del conjunto de  train, referencia --> https://machinelearningmastery.com/random-oversampling-and-undersampling-for-imbalanced-classification/\n",
        "   # oversample = RandomOverSampler(sampling_strategy= 'minority')\n",
        "    ## fit y aplicamos la transformacion\n",
        "    #X_over_train, y_over_train = oversample.fit_resample(X_train, y_train)\n",
        "    #print('tipe y_test: ',type(y_test))\n",
        "\n",
        "\n",
        "    # Escalamos los datos   \n",
        "    scaler = StandardScaler()\n",
        "    scaler.fit(X_train)\n",
        "    X_train = scaler.transform(X_train)\n",
        "    X_test = scaler.transform(X_test)\n",
        "\n",
        "    # Entrenamos el modelo\n",
        "    model.fit(X_train, y_train)\n",
        "\n",
        "    #accuracy de train\n",
        "    score_train = cross_val_score(model, X_train, X_test, cv = skf, scoring = 'accuracy')\n",
        "    accuracy_train.append(score_train)\n",
        "\n",
        "\n",
        "    #Predicciones\n",
        "    pred = model.predict(X_test)\n",
        "    #print('type de pred :', type(pred))\n",
        "\n",
        "    ## Accuracy test\n",
        "    score_test = metrics.accuracy_score(y_test, pred)\n",
        "    accuracy_test.append(score_test)\n",
        "\n",
        "    #pred = pd.DataFrame(data = pred)\n",
        "    #print('type de pred_dataframe:', type(pred))\n",
        "    # Probabilidad para la fila\n",
        "    #prob = model.predict_proba(X_test)\n",
        "\n",
        "\n",
        "    ##Creamos matriz de confusión\n",
        "    matrix = confusion_matrix(y_test, pred)\n",
        "    # sumamos la matriz de confusion\n",
        "    matriz_confusion = matriz_confusion + matrix\n",
        "    # Guardamos los arrays de la amtriz en una lista\n",
        "    #confusion_matrix_array.append(matrix)\n",
        "\n",
        "  accuracy_test = accuracy_test.mean()\n",
        "  accuracy_cross_validation = accuracy_train.mean()\n",
        "  # Scores\n",
        "  from sklearn.model_selection import cross_validate\n",
        "  from sklearn.metrics import recall_score\n",
        "  from sklearn.metrics import make_scorer\n",
        "  #scoring = {'prec_macro':'precision_macro','rec_macro': make_scorer(recall_score, avarage = 'macro')}\n",
        "  #scores = cross_validate(model, X,y, scoring = scoring, cv = skf, return_train_score=True)\n",
        "  #accuracy = cross_validate(model, X, y, cv = 10)\n",
        "  #from sklearn import model_selection\n",
        "  #accuracy = model_selection.cross_val_score(model, X, y, cv = skf)\n",
        "  return matriz_confusion, accuracy_cross_validation"
      ]
    },
    {
      "cell_type": "code",
      "metadata": {
        "id": "-tPtU4NbYG-h"
      },
      "source": [
        "#Importamos Librerias\n",
        "from sklearn.ensemble import RandomForestClassifier #Random forest\n",
        "#confusion, accuracy  = Only_Stratified_Kfold(X,y, RandomForestClassifier(n_estimators=200, random_state=0))\n",
        "## dividimos el conjunto de datos \n",
        "X = df.drop(['OUTPUT_LABEL'],axis = 1)\n",
        "y = df['OUTPUT_LABEL']"
      ],
      "execution_count": null,
      "outputs": []
    },
    {
      "cell_type": "code",
      "metadata": {
        "id": "WRS4Vq1-CoGg"
      },
      "source": [
        "## Otra implementacion de validacion cruzada estratificada\n",
        "def cross_validation_stratific(X,y,model,k):\n",
        "  from sklearn.model_selection import StratifiedKFold # validacion cruzada estratificada\n",
        "  from sklearn.preprocessing import StandardScaler\n",
        "  from sklearn.metrics import accuracy_score\n",
        "  from sklearn.metrics import confusion_matrix\n",
        "  from imblearn.over_sampling import RandomOverSampler\n",
        "  from sklearn.metrics import balanced_accuracy_score\n",
        "  from sklearn.metrics import recall_score\n",
        "  from sklearn.metrics import precision_recall_fscore_support\n",
        "  from sklearn.metrics import precision_score\n",
        "  from sklearn.metrics import f1_score\n",
        "  from sklearn.metrics import roc_auc_score\n",
        "  #Configurando la Validacion cruzada estratificada\n",
        "  skf = StratifiedKFold(n_splits=k, shuffle=True, random_state=42)\n",
        "\n",
        "# Creamos matriz vacia para guardar la matriz de confusion total\n",
        "  matriz_confusion = np.zeros((2,2))\n",
        "  acc_score = []\n",
        "  balance_score = []\n",
        "  recall_macro = []\n",
        "  pres_recall_fs = []\n",
        "  pres = []\n",
        "  f_1score = []\n",
        "  auc_roc = []\n",
        "  for train_index , test_index in skf.split(X,y):\n",
        "    X_train, X_test = X.iloc[train_index], X.iloc[test_index]\n",
        "    y_train, y_test = y.iloc[train_index] , y.iloc[test_index]\n",
        "\n",
        "    ## Balanceamos las clases del conjunto de  train, referencia --> https://machinelearningmastery.com/random-oversampling-and-undersampling-for-imbalanced-classification/\n",
        "    oversample = RandomOverSampler(sampling_strategy= 'minority')\n",
        "    #fit y aplicamos la transformacion\n",
        "    X_train, y_train = oversample.fit_resample(X_train, y_train)\n",
        "    #print('tipe y_test: ',type(y_test))\n",
        "\n",
        "    #print(pd.DataFrame(y_train).value_counts())\n",
        "    # Escalamos los datos   \n",
        "    scaler = StandardScaler()\n",
        "    scaler.fit(X_train)\n",
        "    X_train = scaler.transform(X_train)\n",
        "    X_test = scaler.transform(X_test)\n",
        "\n",
        "\n",
        "    model.fit(X_train,y_train)\n",
        "    pred_values = model.predict(X_test)\n",
        "\n",
        "    ##Creamos matriz de confusión\n",
        "    matrix = confusion_matrix(y_test, pred_values)\n",
        "    #print(matrix)\n",
        "    # sumamos la matriz de confusion\n",
        "    matriz_confusion = matriz_confusion + matrix\n",
        "\n",
        "    # Accuracy metrica\n",
        "    acc = accuracy_score(y_test, pred_values)\n",
        "    acc_score.append(acc)\n",
        "\n",
        "    # Balanced score\n",
        "    bal_score = balanced_accuracy_score(y_test, pred_values)\n",
        "    balance_score.append(bal_score)\n",
        "\n",
        "    #recall macro\n",
        "    recall = recall_score(y_test, pred_values, average='macro')\n",
        "    recall_macro.append(recall)\n",
        "\n",
        "    #precision, recall, fscore\n",
        "    pres_rec_f = precision_recall_fscore_support(y_test, pred_values, average='macro')\n",
        "    pres_recall_fs.append(pres_rec_f)\n",
        "\n",
        "    #precision\n",
        "    presci = precision_score(y_test, pred_values, average='macro')\n",
        "    pres.append(presci)\n",
        "\n",
        "    #f1_score\n",
        "    f1score = f1_score(y_test, pred_values,average='macro')\n",
        "    f_1score.append(f1score)\n",
        "\n",
        "\n",
        "    # auc\n",
        "    auc_metric = roc_auc_score(y_test, pred_values,average='macro')\n",
        "    auc_roc.append(auc_metric)\n",
        "\n",
        "  metrics['Model'] = ['Random Forest']\n",
        "  metrics['metric_avg_acc_score'] = [sum(acc_score)/k]\n",
        "  metrics['balanced_acc_score'] = [sum(balance_score)/k]\n",
        "  metrics['recall_macro'] =  [sum(recall_macro)/k]\n",
        "  metrics['presicion_macro'] = [sum(pres)/k]\n",
        "  metrics['f1_score_macro'] = [sum(f_1score) / k]\n",
        "  metrics['AUC'] = [sum(auc_roc) / k]\n",
        "\n",
        "  #return avg_acc_score, matriz_confusion , balanced_acc_score, recall_macro, pres_recall_fs, presicion_macro, f1_score_macro\n",
        "  return metrics\n"
      ],
      "execution_count": null,
      "outputs": []
    },
    {
      "cell_type": "code",
      "metadata": {
        "colab": {
          "base_uri": "https://localhost:8080/"
        },
        "id": "zDD4t3OmgIwC",
        "outputId": "c761b049-4e05-4610-ad4f-760356896a68"
      },
      "source": [
        "#Importamos Librerias\n",
        "from sklearn.ensemble import RandomForestClassifier #Random forest\n",
        "metrics = cross_validation_stratific(X,y,RandomForestClassifier(n_estimators=200, random_state=0),10)"
      ],
      "execution_count": null,
      "outputs": [
        {
          "output_type": "stream",
          "text": [
            "/usr/local/lib/python3.6/dist-packages/sklearn/utils/deprecation.py:87: FutureWarning: Function safe_indexing is deprecated; safe_indexing is deprecated in version 0.22 and will be removed in version 0.24.\n",
            "  warnings.warn(msg, category=FutureWarning)\n",
            "/usr/local/lib/python3.6/dist-packages/sklearn/utils/deprecation.py:87: FutureWarning: Function safe_indexing is deprecated; safe_indexing is deprecated in version 0.22 and will be removed in version 0.24.\n",
            "  warnings.warn(msg, category=FutureWarning)\n",
            "/usr/local/lib/python3.6/dist-packages/sklearn/utils/deprecation.py:87: FutureWarning: Function safe_indexing is deprecated; safe_indexing is deprecated in version 0.22 and will be removed in version 0.24.\n",
            "  warnings.warn(msg, category=FutureWarning)\n",
            "/usr/local/lib/python3.6/dist-packages/sklearn/utils/deprecation.py:87: FutureWarning: Function safe_indexing is deprecated; safe_indexing is deprecated in version 0.22 and will be removed in version 0.24.\n",
            "  warnings.warn(msg, category=FutureWarning)\n",
            "/usr/local/lib/python3.6/dist-packages/sklearn/utils/deprecation.py:87: FutureWarning: Function safe_indexing is deprecated; safe_indexing is deprecated in version 0.22 and will be removed in version 0.24.\n",
            "  warnings.warn(msg, category=FutureWarning)\n",
            "/usr/local/lib/python3.6/dist-packages/sklearn/utils/deprecation.py:87: FutureWarning: Function safe_indexing is deprecated; safe_indexing is deprecated in version 0.22 and will be removed in version 0.24.\n",
            "  warnings.warn(msg, category=FutureWarning)\n",
            "/usr/local/lib/python3.6/dist-packages/sklearn/utils/deprecation.py:87: FutureWarning: Function safe_indexing is deprecated; safe_indexing is deprecated in version 0.22 and will be removed in version 0.24.\n",
            "  warnings.warn(msg, category=FutureWarning)\n",
            "/usr/local/lib/python3.6/dist-packages/sklearn/utils/deprecation.py:87: FutureWarning: Function safe_indexing is deprecated; safe_indexing is deprecated in version 0.22 and will be removed in version 0.24.\n",
            "  warnings.warn(msg, category=FutureWarning)\n",
            "/usr/local/lib/python3.6/dist-packages/sklearn/utils/deprecation.py:87: FutureWarning: Function safe_indexing is deprecated; safe_indexing is deprecated in version 0.22 and will be removed in version 0.24.\n",
            "  warnings.warn(msg, category=FutureWarning)\n",
            "/usr/local/lib/python3.6/dist-packages/sklearn/utils/deprecation.py:87: FutureWarning: Function safe_indexing is deprecated; safe_indexing is deprecated in version 0.22 and will be removed in version 0.24.\n",
            "  warnings.warn(msg, category=FutureWarning)\n"
          ],
          "name": "stderr"
        }
      ]
    },
    {
      "cell_type": "code",
      "metadata": {
        "colab": {
          "base_uri": "https://localhost:8080/",
          "height": 80
        },
        "id": "GTxpZCjUg0wG",
        "outputId": "e92f494d-ed06-4350-adba-87aa137e5c95"
      },
      "source": [
        "metrics"
      ],
      "execution_count": null,
      "outputs": [
        {
          "output_type": "execute_result",
          "data": {
            "text/html": [
              "<div>\n",
              "<style scoped>\n",
              "    .dataframe tbody tr th:only-of-type {\n",
              "        vertical-align: middle;\n",
              "    }\n",
              "\n",
              "    .dataframe tbody tr th {\n",
              "        vertical-align: top;\n",
              "    }\n",
              "\n",
              "    .dataframe thead th {\n",
              "        text-align: right;\n",
              "    }\n",
              "</style>\n",
              "<table border=\"1\" class=\"dataframe\">\n",
              "  <thead>\n",
              "    <tr style=\"text-align: right;\">\n",
              "      <th></th>\n",
              "      <th>Model</th>\n",
              "      <th>metric_avg_acc_score</th>\n",
              "      <th>balanced_acc_score</th>\n",
              "      <th>recall_macro</th>\n",
              "      <th>presicion_macro</th>\n",
              "      <th>f1_score_macro</th>\n",
              "      <th>AUC</th>\n",
              "    </tr>\n",
              "  </thead>\n",
              "  <tbody>\n",
              "    <tr>\n",
              "      <th>0</th>\n",
              "      <td>Random Forest</td>\n",
              "      <td>0.907664</td>\n",
              "      <td>0.508233</td>\n",
              "      <td>0.508233</td>\n",
              "      <td>0.634178</td>\n",
              "      <td>0.494745</td>\n",
              "      <td>0.508233</td>\n",
              "    </tr>\n",
              "  </tbody>\n",
              "</table>\n",
              "</div>"
            ],
            "text/plain": [
              "           Model  metric_avg_acc_score  ...  f1_score_macro       AUC\n",
              "0  Random Forest              0.907664  ...        0.494745  0.508233\n",
              "\n",
              "[1 rows x 7 columns]"
            ]
          },
          "metadata": {
            "tags": []
          },
          "execution_count": 320
        }
      ]
    },
    {
      "cell_type": "code",
      "metadata": {
        "colab": {
          "base_uri": "https://localhost:8080/"
        },
        "id": "gU3TsWKd3Rsk",
        "outputId": "4d965716-dfa5-471e-99d2-0e17e5cb7859"
      },
      "source": [
        "recall_macro"
      ],
      "execution_count": null,
      "outputs": [
        {
          "output_type": "execute_result",
          "data": {
            "text/plain": [
              "0.4966666666666667"
            ]
          },
          "metadata": {
            "tags": []
          },
          "execution_count": 223
        }
      ]
    },
    {
      "cell_type": "code",
      "metadata": {
        "colab": {
          "base_uri": "https://localhost:8080/"
        },
        "id": "erfndc7zy7Qb",
        "outputId": "e778f8b9-a6ef-4a77-bb44-955a1ea8fc51"
      },
      "source": [
        "pres_rec_fs"
      ],
      "execution_count": null,
      "outputs": [
        {
          "output_type": "execute_result",
          "data": {
            "text/plain": [
              "[(0.45454545454545453, 0.5, 0.47619047619047616, None),\n",
              " (0.45384615384615384, 0.49166666666666664, 0.472, None),\n",
              " (0.45454545454545453, 0.5, 0.47619047619047616, None),\n",
              " (0.45454545454545453, 0.5, 0.47619047619047616, None),\n",
              " (0.45454545454545453, 0.5, 0.47619047619047616, None),\n",
              " (0.45454545454545453, 0.5, 0.47619047619047616, None),\n",
              " (0.4523809523809524, 0.475, 0.46341463414634143, None),\n",
              " (0.45454545454545453, 0.5, 0.47619047619047616, None),\n",
              " (0.45454545454545453, 0.5, 0.47619047619047616, None),\n",
              " (0.45454545454545453, 0.5, 0.47619047619047616, None)]"
            ]
          },
          "metadata": {
            "tags": []
          },
          "execution_count": 221
        }
      ]
    },
    {
      "cell_type": "code",
      "metadata": {
        "colab": {
          "base_uri": "https://localhost:8080/",
          "height": 391
        },
        "id": "PGidjzvTgqx4",
        "outputId": "a676924e-0227-475c-cd60-15086882e652"
      },
      "source": [
        "from sklearn import metrics\n",
        "from sklearn.model_selection import train_test_split\n",
        "from sklearn.model_selection import cross_val_score\n",
        "from sklearn.linear_model import LogisticRegression\n",
        "from sklearn.model_selection import StratifiedKFold # validacion cruzada estratificada\n",
        " \n",
        "\n",
        " \n",
        "X_train, X_test, y_train, y_test = train_test_split(X, y, test_size=0.3, random_state=0)\n",
        " \n",
        "\n",
        "skf = StratifiedKFold(n_splits=10, shuffle=True, random_state=42)\n",
        "\n",
        "# Random Forest \n",
        "from sklearn.ensemble import RandomForestClassifier #Random forest\n",
        "\n",
        "cld_rf = RandomForestClassifier(n_estimators=200, random_state=0)\n",
        "\n",
        " \n",
        "cld_rf.fit(X_train, y_train)\n",
        " \n",
        "score = cld_rf.score(X_train,y_train)\n",
        " \n",
        "print(\"Metrica del modelo\", score)\n",
        " \n",
        "scores = cross_val_score(cld_rf, X_train, y_train, cv=skf, scoring=\"accuracy\")\n",
        " \n",
        "print(\"Metricas cross_validation\", scores)\n",
        " \n",
        "print(\"Media de cross_validation\", scores.mean())\n",
        " \n",
        "preds = cld_rf.predict(X_test)\n",
        " \n",
        "score_pred = metrics.accuracy_score(y_test, preds)\n",
        " \n",
        "print(\"Metrica en Test\", score_pred)"
      ],
      "execution_count": null,
      "outputs": [
        {
          "output_type": "stream",
          "text": [
            "Metrica del modelo 1.0\n"
          ],
          "name": "stdout"
        },
        {
          "output_type": "error",
          "ename": "KeyboardInterrupt",
          "evalue": "ignored",
          "traceback": [
            "\u001b[0;31m---------------------------------------------------------------------------\u001b[0m",
            "\u001b[0;31mKeyboardInterrupt\u001b[0m                         Traceback (most recent call last)",
            "\u001b[0;32m<ipython-input-362-d8980a24c5e4>\u001b[0m in \u001b[0;36m<module>\u001b[0;34m()\u001b[0m\n\u001b[1;32m     24\u001b[0m \u001b[0mprint\u001b[0m\u001b[0;34m(\u001b[0m\u001b[0;34m\"Metrica del modelo\"\u001b[0m\u001b[0;34m,\u001b[0m \u001b[0mscore\u001b[0m\u001b[0;34m)\u001b[0m\u001b[0;34m\u001b[0m\u001b[0;34m\u001b[0m\u001b[0m\n\u001b[1;32m     25\u001b[0m \u001b[0;34m\u001b[0m\u001b[0m\n\u001b[0;32m---> 26\u001b[0;31m \u001b[0mscores\u001b[0m \u001b[0;34m=\u001b[0m \u001b[0mcross_val_score\u001b[0m\u001b[0;34m(\u001b[0m\u001b[0mcld_rf\u001b[0m\u001b[0;34m,\u001b[0m \u001b[0mX_train\u001b[0m\u001b[0;34m,\u001b[0m \u001b[0my_train\u001b[0m\u001b[0;34m,\u001b[0m \u001b[0mcv\u001b[0m\u001b[0;34m=\u001b[0m\u001b[0mskf\u001b[0m\u001b[0;34m,\u001b[0m \u001b[0mscoring\u001b[0m\u001b[0;34m=\u001b[0m\u001b[0;34m\"accuracy\"\u001b[0m\u001b[0;34m)\u001b[0m\u001b[0;34m\u001b[0m\u001b[0;34m\u001b[0m\u001b[0m\n\u001b[0m\u001b[1;32m     27\u001b[0m \u001b[0;34m\u001b[0m\u001b[0m\n\u001b[1;32m     28\u001b[0m \u001b[0mprint\u001b[0m\u001b[0;34m(\u001b[0m\u001b[0;34m\"Metricas cross_validation\"\u001b[0m\u001b[0;34m,\u001b[0m \u001b[0mscores\u001b[0m\u001b[0;34m)\u001b[0m\u001b[0;34m\u001b[0m\u001b[0;34m\u001b[0m\u001b[0m\n",
            "\u001b[0;32m/usr/local/lib/python3.6/dist-packages/sklearn/model_selection/_validation.py\u001b[0m in \u001b[0;36mcross_val_score\u001b[0;34m(estimator, X, y, groups, scoring, cv, n_jobs, verbose, fit_params, pre_dispatch, error_score)\u001b[0m\n\u001b[1;32m    388\u001b[0m                                 \u001b[0mfit_params\u001b[0m\u001b[0;34m=\u001b[0m\u001b[0mfit_params\u001b[0m\u001b[0;34m,\u001b[0m\u001b[0;34m\u001b[0m\u001b[0;34m\u001b[0m\u001b[0m\n\u001b[1;32m    389\u001b[0m                                 \u001b[0mpre_dispatch\u001b[0m\u001b[0;34m=\u001b[0m\u001b[0mpre_dispatch\u001b[0m\u001b[0;34m,\u001b[0m\u001b[0;34m\u001b[0m\u001b[0;34m\u001b[0m\u001b[0m\n\u001b[0;32m--> 390\u001b[0;31m                                 error_score=error_score)\n\u001b[0m\u001b[1;32m    391\u001b[0m     \u001b[0;32mreturn\u001b[0m \u001b[0mcv_results\u001b[0m\u001b[0;34m[\u001b[0m\u001b[0;34m'test_score'\u001b[0m\u001b[0;34m]\u001b[0m\u001b[0;34m\u001b[0m\u001b[0;34m\u001b[0m\u001b[0m\n\u001b[1;32m    392\u001b[0m \u001b[0;34m\u001b[0m\u001b[0m\n",
            "\u001b[0;32m/usr/local/lib/python3.6/dist-packages/sklearn/model_selection/_validation.py\u001b[0m in \u001b[0;36mcross_validate\u001b[0;34m(estimator, X, y, groups, scoring, cv, n_jobs, verbose, fit_params, pre_dispatch, return_train_score, return_estimator, error_score)\u001b[0m\n\u001b[1;32m    234\u001b[0m             \u001b[0mreturn_times\u001b[0m\u001b[0;34m=\u001b[0m\u001b[0;32mTrue\u001b[0m\u001b[0;34m,\u001b[0m \u001b[0mreturn_estimator\u001b[0m\u001b[0;34m=\u001b[0m\u001b[0mreturn_estimator\u001b[0m\u001b[0;34m,\u001b[0m\u001b[0;34m\u001b[0m\u001b[0;34m\u001b[0m\u001b[0m\n\u001b[1;32m    235\u001b[0m             error_score=error_score)\n\u001b[0;32m--> 236\u001b[0;31m         for train, test in cv.split(X, y, groups))\n\u001b[0m\u001b[1;32m    237\u001b[0m \u001b[0;34m\u001b[0m\u001b[0m\n\u001b[1;32m    238\u001b[0m     \u001b[0mzipped_scores\u001b[0m \u001b[0;34m=\u001b[0m \u001b[0mlist\u001b[0m\u001b[0;34m(\u001b[0m\u001b[0mzip\u001b[0m\u001b[0;34m(\u001b[0m\u001b[0;34m*\u001b[0m\u001b[0mscores\u001b[0m\u001b[0;34m)\u001b[0m\u001b[0;34m)\u001b[0m\u001b[0;34m\u001b[0m\u001b[0;34m\u001b[0m\u001b[0m\n",
            "\u001b[0;32m/usr/local/lib/python3.6/dist-packages/joblib/parallel.py\u001b[0m in \u001b[0;36m__call__\u001b[0;34m(self, iterable)\u001b[0m\n\u001b[1;32m   1042\u001b[0m                 \u001b[0mself\u001b[0m\u001b[0;34m.\u001b[0m\u001b[0m_iterating\u001b[0m \u001b[0;34m=\u001b[0m \u001b[0mself\u001b[0m\u001b[0;34m.\u001b[0m\u001b[0m_original_iterator\u001b[0m \u001b[0;32mis\u001b[0m \u001b[0;32mnot\u001b[0m \u001b[0;32mNone\u001b[0m\u001b[0;34m\u001b[0m\u001b[0;34m\u001b[0m\u001b[0m\n\u001b[1;32m   1043\u001b[0m \u001b[0;34m\u001b[0m\u001b[0m\n\u001b[0;32m-> 1044\u001b[0;31m             \u001b[0;32mwhile\u001b[0m \u001b[0mself\u001b[0m\u001b[0;34m.\u001b[0m\u001b[0mdispatch_one_batch\u001b[0m\u001b[0;34m(\u001b[0m\u001b[0miterator\u001b[0m\u001b[0;34m)\u001b[0m\u001b[0;34m:\u001b[0m\u001b[0;34m\u001b[0m\u001b[0;34m\u001b[0m\u001b[0m\n\u001b[0m\u001b[1;32m   1045\u001b[0m                 \u001b[0;32mpass\u001b[0m\u001b[0;34m\u001b[0m\u001b[0;34m\u001b[0m\u001b[0m\n\u001b[1;32m   1046\u001b[0m \u001b[0;34m\u001b[0m\u001b[0m\n",
            "\u001b[0;32m/usr/local/lib/python3.6/dist-packages/joblib/parallel.py\u001b[0m in \u001b[0;36mdispatch_one_batch\u001b[0;34m(self, iterator)\u001b[0m\n\u001b[1;32m    857\u001b[0m                 \u001b[0;32mreturn\u001b[0m \u001b[0;32mFalse\u001b[0m\u001b[0;34m\u001b[0m\u001b[0;34m\u001b[0m\u001b[0m\n\u001b[1;32m    858\u001b[0m             \u001b[0;32melse\u001b[0m\u001b[0;34m:\u001b[0m\u001b[0;34m\u001b[0m\u001b[0;34m\u001b[0m\u001b[0m\n\u001b[0;32m--> 859\u001b[0;31m                 \u001b[0mself\u001b[0m\u001b[0;34m.\u001b[0m\u001b[0m_dispatch\u001b[0m\u001b[0;34m(\u001b[0m\u001b[0mtasks\u001b[0m\u001b[0;34m)\u001b[0m\u001b[0;34m\u001b[0m\u001b[0;34m\u001b[0m\u001b[0m\n\u001b[0m\u001b[1;32m    860\u001b[0m                 \u001b[0;32mreturn\u001b[0m \u001b[0;32mTrue\u001b[0m\u001b[0;34m\u001b[0m\u001b[0;34m\u001b[0m\u001b[0m\n\u001b[1;32m    861\u001b[0m \u001b[0;34m\u001b[0m\u001b[0m\n",
            "\u001b[0;32m/usr/local/lib/python3.6/dist-packages/joblib/parallel.py\u001b[0m in \u001b[0;36m_dispatch\u001b[0;34m(self, batch)\u001b[0m\n\u001b[1;32m    775\u001b[0m         \u001b[0;32mwith\u001b[0m \u001b[0mself\u001b[0m\u001b[0;34m.\u001b[0m\u001b[0m_lock\u001b[0m\u001b[0;34m:\u001b[0m\u001b[0;34m\u001b[0m\u001b[0;34m\u001b[0m\u001b[0m\n\u001b[1;32m    776\u001b[0m             \u001b[0mjob_idx\u001b[0m \u001b[0;34m=\u001b[0m \u001b[0mlen\u001b[0m\u001b[0;34m(\u001b[0m\u001b[0mself\u001b[0m\u001b[0;34m.\u001b[0m\u001b[0m_jobs\u001b[0m\u001b[0;34m)\u001b[0m\u001b[0;34m\u001b[0m\u001b[0;34m\u001b[0m\u001b[0m\n\u001b[0;32m--> 777\u001b[0;31m             \u001b[0mjob\u001b[0m \u001b[0;34m=\u001b[0m \u001b[0mself\u001b[0m\u001b[0;34m.\u001b[0m\u001b[0m_backend\u001b[0m\u001b[0;34m.\u001b[0m\u001b[0mapply_async\u001b[0m\u001b[0;34m(\u001b[0m\u001b[0mbatch\u001b[0m\u001b[0;34m,\u001b[0m \u001b[0mcallback\u001b[0m\u001b[0;34m=\u001b[0m\u001b[0mcb\u001b[0m\u001b[0;34m)\u001b[0m\u001b[0;34m\u001b[0m\u001b[0;34m\u001b[0m\u001b[0m\n\u001b[0m\u001b[1;32m    778\u001b[0m             \u001b[0;31m# A job can complete so quickly than its callback is\u001b[0m\u001b[0;34m\u001b[0m\u001b[0;34m\u001b[0m\u001b[0;34m\u001b[0m\u001b[0m\n\u001b[1;32m    779\u001b[0m             \u001b[0;31m# called before we get here, causing self._jobs to\u001b[0m\u001b[0;34m\u001b[0m\u001b[0;34m\u001b[0m\u001b[0;34m\u001b[0m\u001b[0m\n",
            "\u001b[0;32m/usr/local/lib/python3.6/dist-packages/joblib/_parallel_backends.py\u001b[0m in \u001b[0;36mapply_async\u001b[0;34m(self, func, callback)\u001b[0m\n\u001b[1;32m    206\u001b[0m     \u001b[0;32mdef\u001b[0m \u001b[0mapply_async\u001b[0m\u001b[0;34m(\u001b[0m\u001b[0mself\u001b[0m\u001b[0;34m,\u001b[0m \u001b[0mfunc\u001b[0m\u001b[0;34m,\u001b[0m \u001b[0mcallback\u001b[0m\u001b[0;34m=\u001b[0m\u001b[0;32mNone\u001b[0m\u001b[0;34m)\u001b[0m\u001b[0;34m:\u001b[0m\u001b[0;34m\u001b[0m\u001b[0;34m\u001b[0m\u001b[0m\n\u001b[1;32m    207\u001b[0m         \u001b[0;34m\"\"\"Schedule a func to be run\"\"\"\u001b[0m\u001b[0;34m\u001b[0m\u001b[0;34m\u001b[0m\u001b[0m\n\u001b[0;32m--> 208\u001b[0;31m         \u001b[0mresult\u001b[0m \u001b[0;34m=\u001b[0m \u001b[0mImmediateResult\u001b[0m\u001b[0;34m(\u001b[0m\u001b[0mfunc\u001b[0m\u001b[0;34m)\u001b[0m\u001b[0;34m\u001b[0m\u001b[0;34m\u001b[0m\u001b[0m\n\u001b[0m\u001b[1;32m    209\u001b[0m         \u001b[0;32mif\u001b[0m \u001b[0mcallback\u001b[0m\u001b[0;34m:\u001b[0m\u001b[0;34m\u001b[0m\u001b[0;34m\u001b[0m\u001b[0m\n\u001b[1;32m    210\u001b[0m             \u001b[0mcallback\u001b[0m\u001b[0;34m(\u001b[0m\u001b[0mresult\u001b[0m\u001b[0;34m)\u001b[0m\u001b[0;34m\u001b[0m\u001b[0;34m\u001b[0m\u001b[0m\n",
            "\u001b[0;32m/usr/local/lib/python3.6/dist-packages/joblib/_parallel_backends.py\u001b[0m in \u001b[0;36m__init__\u001b[0;34m(self, batch)\u001b[0m\n\u001b[1;32m    570\u001b[0m         \u001b[0;31m# Don't delay the application, to avoid keeping the input\u001b[0m\u001b[0;34m\u001b[0m\u001b[0;34m\u001b[0m\u001b[0;34m\u001b[0m\u001b[0m\n\u001b[1;32m    571\u001b[0m         \u001b[0;31m# arguments in memory\u001b[0m\u001b[0;34m\u001b[0m\u001b[0;34m\u001b[0m\u001b[0;34m\u001b[0m\u001b[0m\n\u001b[0;32m--> 572\u001b[0;31m         \u001b[0mself\u001b[0m\u001b[0;34m.\u001b[0m\u001b[0mresults\u001b[0m \u001b[0;34m=\u001b[0m \u001b[0mbatch\u001b[0m\u001b[0;34m(\u001b[0m\u001b[0;34m)\u001b[0m\u001b[0;34m\u001b[0m\u001b[0;34m\u001b[0m\u001b[0m\n\u001b[0m\u001b[1;32m    573\u001b[0m \u001b[0;34m\u001b[0m\u001b[0m\n\u001b[1;32m    574\u001b[0m     \u001b[0;32mdef\u001b[0m \u001b[0mget\u001b[0m\u001b[0;34m(\u001b[0m\u001b[0mself\u001b[0m\u001b[0;34m)\u001b[0m\u001b[0;34m:\u001b[0m\u001b[0;34m\u001b[0m\u001b[0;34m\u001b[0m\u001b[0m\n",
            "\u001b[0;32m/usr/local/lib/python3.6/dist-packages/joblib/parallel.py\u001b[0m in \u001b[0;36m__call__\u001b[0;34m(self)\u001b[0m\n\u001b[1;32m    261\u001b[0m         \u001b[0;32mwith\u001b[0m \u001b[0mparallel_backend\u001b[0m\u001b[0;34m(\u001b[0m\u001b[0mself\u001b[0m\u001b[0;34m.\u001b[0m\u001b[0m_backend\u001b[0m\u001b[0;34m,\u001b[0m \u001b[0mn_jobs\u001b[0m\u001b[0;34m=\u001b[0m\u001b[0mself\u001b[0m\u001b[0;34m.\u001b[0m\u001b[0m_n_jobs\u001b[0m\u001b[0;34m)\u001b[0m\u001b[0;34m:\u001b[0m\u001b[0;34m\u001b[0m\u001b[0;34m\u001b[0m\u001b[0m\n\u001b[1;32m    262\u001b[0m             return [func(*args, **kwargs)\n\u001b[0;32m--> 263\u001b[0;31m                     for func, args, kwargs in self.items]\n\u001b[0m\u001b[1;32m    264\u001b[0m \u001b[0;34m\u001b[0m\u001b[0m\n\u001b[1;32m    265\u001b[0m     \u001b[0;32mdef\u001b[0m \u001b[0m__reduce__\u001b[0m\u001b[0;34m(\u001b[0m\u001b[0mself\u001b[0m\u001b[0;34m)\u001b[0m\u001b[0;34m:\u001b[0m\u001b[0;34m\u001b[0m\u001b[0;34m\u001b[0m\u001b[0m\n",
            "\u001b[0;32m/usr/local/lib/python3.6/dist-packages/joblib/parallel.py\u001b[0m in \u001b[0;36m<listcomp>\u001b[0;34m(.0)\u001b[0m\n\u001b[1;32m    261\u001b[0m         \u001b[0;32mwith\u001b[0m \u001b[0mparallel_backend\u001b[0m\u001b[0;34m(\u001b[0m\u001b[0mself\u001b[0m\u001b[0;34m.\u001b[0m\u001b[0m_backend\u001b[0m\u001b[0;34m,\u001b[0m \u001b[0mn_jobs\u001b[0m\u001b[0;34m=\u001b[0m\u001b[0mself\u001b[0m\u001b[0;34m.\u001b[0m\u001b[0m_n_jobs\u001b[0m\u001b[0;34m)\u001b[0m\u001b[0;34m:\u001b[0m\u001b[0;34m\u001b[0m\u001b[0;34m\u001b[0m\u001b[0m\n\u001b[1;32m    262\u001b[0m             return [func(*args, **kwargs)\n\u001b[0;32m--> 263\u001b[0;31m                     for func, args, kwargs in self.items]\n\u001b[0m\u001b[1;32m    264\u001b[0m \u001b[0;34m\u001b[0m\u001b[0m\n\u001b[1;32m    265\u001b[0m     \u001b[0;32mdef\u001b[0m \u001b[0m__reduce__\u001b[0m\u001b[0;34m(\u001b[0m\u001b[0mself\u001b[0m\u001b[0;34m)\u001b[0m\u001b[0;34m:\u001b[0m\u001b[0;34m\u001b[0m\u001b[0;34m\u001b[0m\u001b[0m\n",
            "\u001b[0;32m/usr/local/lib/python3.6/dist-packages/sklearn/model_selection/_validation.py\u001b[0m in \u001b[0;36m_fit_and_score\u001b[0;34m(estimator, X, y, scorer, train, test, verbose, parameters, fit_params, return_train_score, return_parameters, return_n_test_samples, return_times, return_estimator, error_score)\u001b[0m\n\u001b[1;32m    513\u001b[0m             \u001b[0mestimator\u001b[0m\u001b[0;34m.\u001b[0m\u001b[0mfit\u001b[0m\u001b[0;34m(\u001b[0m\u001b[0mX_train\u001b[0m\u001b[0;34m,\u001b[0m \u001b[0;34m**\u001b[0m\u001b[0mfit_params\u001b[0m\u001b[0;34m)\u001b[0m\u001b[0;34m\u001b[0m\u001b[0;34m\u001b[0m\u001b[0m\n\u001b[1;32m    514\u001b[0m         \u001b[0;32melse\u001b[0m\u001b[0;34m:\u001b[0m\u001b[0;34m\u001b[0m\u001b[0;34m\u001b[0m\u001b[0m\n\u001b[0;32m--> 515\u001b[0;31m             \u001b[0mestimator\u001b[0m\u001b[0;34m.\u001b[0m\u001b[0mfit\u001b[0m\u001b[0;34m(\u001b[0m\u001b[0mX_train\u001b[0m\u001b[0;34m,\u001b[0m \u001b[0my_train\u001b[0m\u001b[0;34m,\u001b[0m \u001b[0;34m**\u001b[0m\u001b[0mfit_params\u001b[0m\u001b[0;34m)\u001b[0m\u001b[0;34m\u001b[0m\u001b[0;34m\u001b[0m\u001b[0m\n\u001b[0m\u001b[1;32m    516\u001b[0m \u001b[0;34m\u001b[0m\u001b[0m\n\u001b[1;32m    517\u001b[0m     \u001b[0;32mexcept\u001b[0m \u001b[0mException\u001b[0m \u001b[0;32mas\u001b[0m \u001b[0me\u001b[0m\u001b[0;34m:\u001b[0m\u001b[0;34m\u001b[0m\u001b[0;34m\u001b[0m\u001b[0m\n",
            "\u001b[0;32m/usr/local/lib/python3.6/dist-packages/sklearn/ensemble/_forest.py\u001b[0m in \u001b[0;36mfit\u001b[0;34m(self, X, y, sample_weight)\u001b[0m\n\u001b[1;32m    381\u001b[0m                     \u001b[0mverbose\u001b[0m\u001b[0;34m=\u001b[0m\u001b[0mself\u001b[0m\u001b[0;34m.\u001b[0m\u001b[0mverbose\u001b[0m\u001b[0;34m,\u001b[0m \u001b[0mclass_weight\u001b[0m\u001b[0;34m=\u001b[0m\u001b[0mself\u001b[0m\u001b[0;34m.\u001b[0m\u001b[0mclass_weight\u001b[0m\u001b[0;34m,\u001b[0m\u001b[0;34m\u001b[0m\u001b[0;34m\u001b[0m\u001b[0m\n\u001b[1;32m    382\u001b[0m                     n_samples_bootstrap=n_samples_bootstrap)\n\u001b[0;32m--> 383\u001b[0;31m                 for i, t in enumerate(trees))\n\u001b[0m\u001b[1;32m    384\u001b[0m \u001b[0;34m\u001b[0m\u001b[0m\n\u001b[1;32m    385\u001b[0m             \u001b[0;31m# Collect newly grown trees\u001b[0m\u001b[0;34m\u001b[0m\u001b[0;34m\u001b[0m\u001b[0;34m\u001b[0m\u001b[0m\n",
            "\u001b[0;32m/usr/local/lib/python3.6/dist-packages/joblib/parallel.py\u001b[0m in \u001b[0;36m__call__\u001b[0;34m(self, iterable)\u001b[0m\n\u001b[1;32m   1042\u001b[0m                 \u001b[0mself\u001b[0m\u001b[0;34m.\u001b[0m\u001b[0m_iterating\u001b[0m \u001b[0;34m=\u001b[0m \u001b[0mself\u001b[0m\u001b[0;34m.\u001b[0m\u001b[0m_original_iterator\u001b[0m \u001b[0;32mis\u001b[0m \u001b[0;32mnot\u001b[0m \u001b[0;32mNone\u001b[0m\u001b[0;34m\u001b[0m\u001b[0;34m\u001b[0m\u001b[0m\n\u001b[1;32m   1043\u001b[0m \u001b[0;34m\u001b[0m\u001b[0m\n\u001b[0;32m-> 1044\u001b[0;31m             \u001b[0;32mwhile\u001b[0m \u001b[0mself\u001b[0m\u001b[0;34m.\u001b[0m\u001b[0mdispatch_one_batch\u001b[0m\u001b[0;34m(\u001b[0m\u001b[0miterator\u001b[0m\u001b[0;34m)\u001b[0m\u001b[0;34m:\u001b[0m\u001b[0;34m\u001b[0m\u001b[0;34m\u001b[0m\u001b[0m\n\u001b[0m\u001b[1;32m   1045\u001b[0m                 \u001b[0;32mpass\u001b[0m\u001b[0;34m\u001b[0m\u001b[0;34m\u001b[0m\u001b[0m\n\u001b[1;32m   1046\u001b[0m \u001b[0;34m\u001b[0m\u001b[0m\n",
            "\u001b[0;32m/usr/local/lib/python3.6/dist-packages/joblib/parallel.py\u001b[0m in \u001b[0;36mdispatch_one_batch\u001b[0;34m(self, iterator)\u001b[0m\n\u001b[1;32m    857\u001b[0m                 \u001b[0;32mreturn\u001b[0m \u001b[0;32mFalse\u001b[0m\u001b[0;34m\u001b[0m\u001b[0;34m\u001b[0m\u001b[0m\n\u001b[1;32m    858\u001b[0m             \u001b[0;32melse\u001b[0m\u001b[0;34m:\u001b[0m\u001b[0;34m\u001b[0m\u001b[0;34m\u001b[0m\u001b[0m\n\u001b[0;32m--> 859\u001b[0;31m                 \u001b[0mself\u001b[0m\u001b[0;34m.\u001b[0m\u001b[0m_dispatch\u001b[0m\u001b[0;34m(\u001b[0m\u001b[0mtasks\u001b[0m\u001b[0;34m)\u001b[0m\u001b[0;34m\u001b[0m\u001b[0;34m\u001b[0m\u001b[0m\n\u001b[0m\u001b[1;32m    860\u001b[0m                 \u001b[0;32mreturn\u001b[0m \u001b[0;32mTrue\u001b[0m\u001b[0;34m\u001b[0m\u001b[0;34m\u001b[0m\u001b[0m\n\u001b[1;32m    861\u001b[0m \u001b[0;34m\u001b[0m\u001b[0m\n",
            "\u001b[0;32m/usr/local/lib/python3.6/dist-packages/joblib/parallel.py\u001b[0m in \u001b[0;36m_dispatch\u001b[0;34m(self, batch)\u001b[0m\n\u001b[1;32m    775\u001b[0m         \u001b[0;32mwith\u001b[0m \u001b[0mself\u001b[0m\u001b[0;34m.\u001b[0m\u001b[0m_lock\u001b[0m\u001b[0;34m:\u001b[0m\u001b[0;34m\u001b[0m\u001b[0;34m\u001b[0m\u001b[0m\n\u001b[1;32m    776\u001b[0m             \u001b[0mjob_idx\u001b[0m \u001b[0;34m=\u001b[0m \u001b[0mlen\u001b[0m\u001b[0;34m(\u001b[0m\u001b[0mself\u001b[0m\u001b[0;34m.\u001b[0m\u001b[0m_jobs\u001b[0m\u001b[0;34m)\u001b[0m\u001b[0;34m\u001b[0m\u001b[0;34m\u001b[0m\u001b[0m\n\u001b[0;32m--> 777\u001b[0;31m             \u001b[0mjob\u001b[0m \u001b[0;34m=\u001b[0m \u001b[0mself\u001b[0m\u001b[0;34m.\u001b[0m\u001b[0m_backend\u001b[0m\u001b[0;34m.\u001b[0m\u001b[0mapply_async\u001b[0m\u001b[0;34m(\u001b[0m\u001b[0mbatch\u001b[0m\u001b[0;34m,\u001b[0m \u001b[0mcallback\u001b[0m\u001b[0;34m=\u001b[0m\u001b[0mcb\u001b[0m\u001b[0;34m)\u001b[0m\u001b[0;34m\u001b[0m\u001b[0;34m\u001b[0m\u001b[0m\n\u001b[0m\u001b[1;32m    778\u001b[0m             \u001b[0;31m# A job can complete so quickly than its callback is\u001b[0m\u001b[0;34m\u001b[0m\u001b[0;34m\u001b[0m\u001b[0;34m\u001b[0m\u001b[0m\n\u001b[1;32m    779\u001b[0m             \u001b[0;31m# called before we get here, causing self._jobs to\u001b[0m\u001b[0;34m\u001b[0m\u001b[0;34m\u001b[0m\u001b[0;34m\u001b[0m\u001b[0m\n",
            "\u001b[0;32m/usr/local/lib/python3.6/dist-packages/joblib/_parallel_backends.py\u001b[0m in \u001b[0;36mapply_async\u001b[0;34m(self, func, callback)\u001b[0m\n\u001b[1;32m    206\u001b[0m     \u001b[0;32mdef\u001b[0m \u001b[0mapply_async\u001b[0m\u001b[0;34m(\u001b[0m\u001b[0mself\u001b[0m\u001b[0;34m,\u001b[0m \u001b[0mfunc\u001b[0m\u001b[0;34m,\u001b[0m \u001b[0mcallback\u001b[0m\u001b[0;34m=\u001b[0m\u001b[0;32mNone\u001b[0m\u001b[0;34m)\u001b[0m\u001b[0;34m:\u001b[0m\u001b[0;34m\u001b[0m\u001b[0;34m\u001b[0m\u001b[0m\n\u001b[1;32m    207\u001b[0m         \u001b[0;34m\"\"\"Schedule a func to be run\"\"\"\u001b[0m\u001b[0;34m\u001b[0m\u001b[0;34m\u001b[0m\u001b[0m\n\u001b[0;32m--> 208\u001b[0;31m         \u001b[0mresult\u001b[0m \u001b[0;34m=\u001b[0m \u001b[0mImmediateResult\u001b[0m\u001b[0;34m(\u001b[0m\u001b[0mfunc\u001b[0m\u001b[0;34m)\u001b[0m\u001b[0;34m\u001b[0m\u001b[0;34m\u001b[0m\u001b[0m\n\u001b[0m\u001b[1;32m    209\u001b[0m         \u001b[0;32mif\u001b[0m \u001b[0mcallback\u001b[0m\u001b[0;34m:\u001b[0m\u001b[0;34m\u001b[0m\u001b[0;34m\u001b[0m\u001b[0m\n\u001b[1;32m    210\u001b[0m             \u001b[0mcallback\u001b[0m\u001b[0;34m(\u001b[0m\u001b[0mresult\u001b[0m\u001b[0;34m)\u001b[0m\u001b[0;34m\u001b[0m\u001b[0;34m\u001b[0m\u001b[0m\n",
            "\u001b[0;32m/usr/local/lib/python3.6/dist-packages/joblib/_parallel_backends.py\u001b[0m in \u001b[0;36m__init__\u001b[0;34m(self, batch)\u001b[0m\n\u001b[1;32m    570\u001b[0m         \u001b[0;31m# Don't delay the application, to avoid keeping the input\u001b[0m\u001b[0;34m\u001b[0m\u001b[0;34m\u001b[0m\u001b[0;34m\u001b[0m\u001b[0m\n\u001b[1;32m    571\u001b[0m         \u001b[0;31m# arguments in memory\u001b[0m\u001b[0;34m\u001b[0m\u001b[0;34m\u001b[0m\u001b[0;34m\u001b[0m\u001b[0m\n\u001b[0;32m--> 572\u001b[0;31m         \u001b[0mself\u001b[0m\u001b[0;34m.\u001b[0m\u001b[0mresults\u001b[0m \u001b[0;34m=\u001b[0m \u001b[0mbatch\u001b[0m\u001b[0;34m(\u001b[0m\u001b[0;34m)\u001b[0m\u001b[0;34m\u001b[0m\u001b[0;34m\u001b[0m\u001b[0m\n\u001b[0m\u001b[1;32m    573\u001b[0m \u001b[0;34m\u001b[0m\u001b[0m\n\u001b[1;32m    574\u001b[0m     \u001b[0;32mdef\u001b[0m \u001b[0mget\u001b[0m\u001b[0;34m(\u001b[0m\u001b[0mself\u001b[0m\u001b[0;34m)\u001b[0m\u001b[0;34m:\u001b[0m\u001b[0;34m\u001b[0m\u001b[0;34m\u001b[0m\u001b[0m\n",
            "\u001b[0;32m/usr/local/lib/python3.6/dist-packages/joblib/parallel.py\u001b[0m in \u001b[0;36m__call__\u001b[0;34m(self)\u001b[0m\n\u001b[1;32m    261\u001b[0m         \u001b[0;32mwith\u001b[0m \u001b[0mparallel_backend\u001b[0m\u001b[0;34m(\u001b[0m\u001b[0mself\u001b[0m\u001b[0;34m.\u001b[0m\u001b[0m_backend\u001b[0m\u001b[0;34m,\u001b[0m \u001b[0mn_jobs\u001b[0m\u001b[0;34m=\u001b[0m\u001b[0mself\u001b[0m\u001b[0;34m.\u001b[0m\u001b[0m_n_jobs\u001b[0m\u001b[0;34m)\u001b[0m\u001b[0;34m:\u001b[0m\u001b[0;34m\u001b[0m\u001b[0;34m\u001b[0m\u001b[0m\n\u001b[1;32m    262\u001b[0m             return [func(*args, **kwargs)\n\u001b[0;32m--> 263\u001b[0;31m                     for func, args, kwargs in self.items]\n\u001b[0m\u001b[1;32m    264\u001b[0m \u001b[0;34m\u001b[0m\u001b[0m\n\u001b[1;32m    265\u001b[0m     \u001b[0;32mdef\u001b[0m \u001b[0m__reduce__\u001b[0m\u001b[0;34m(\u001b[0m\u001b[0mself\u001b[0m\u001b[0;34m)\u001b[0m\u001b[0;34m:\u001b[0m\u001b[0;34m\u001b[0m\u001b[0;34m\u001b[0m\u001b[0m\n",
            "\u001b[0;32m/usr/local/lib/python3.6/dist-packages/joblib/parallel.py\u001b[0m in \u001b[0;36m<listcomp>\u001b[0;34m(.0)\u001b[0m\n\u001b[1;32m    261\u001b[0m         \u001b[0;32mwith\u001b[0m \u001b[0mparallel_backend\u001b[0m\u001b[0;34m(\u001b[0m\u001b[0mself\u001b[0m\u001b[0;34m.\u001b[0m\u001b[0m_backend\u001b[0m\u001b[0;34m,\u001b[0m \u001b[0mn_jobs\u001b[0m\u001b[0;34m=\u001b[0m\u001b[0mself\u001b[0m\u001b[0;34m.\u001b[0m\u001b[0m_n_jobs\u001b[0m\u001b[0;34m)\u001b[0m\u001b[0;34m:\u001b[0m\u001b[0;34m\u001b[0m\u001b[0;34m\u001b[0m\u001b[0m\n\u001b[1;32m    262\u001b[0m             return [func(*args, **kwargs)\n\u001b[0;32m--> 263\u001b[0;31m                     for func, args, kwargs in self.items]\n\u001b[0m\u001b[1;32m    264\u001b[0m \u001b[0;34m\u001b[0m\u001b[0m\n\u001b[1;32m    265\u001b[0m     \u001b[0;32mdef\u001b[0m \u001b[0m__reduce__\u001b[0m\u001b[0;34m(\u001b[0m\u001b[0mself\u001b[0m\u001b[0;34m)\u001b[0m\u001b[0;34m:\u001b[0m\u001b[0;34m\u001b[0m\u001b[0;34m\u001b[0m\u001b[0m\n",
            "\u001b[0;32m/usr/local/lib/python3.6/dist-packages/sklearn/ensemble/_forest.py\u001b[0m in \u001b[0;36m_parallel_build_trees\u001b[0;34m(tree, forest, X, y, sample_weight, tree_idx, n_trees, verbose, class_weight, n_samples_bootstrap)\u001b[0m\n\u001b[1;32m    163\u001b[0m             \u001b[0mcurr_sample_weight\u001b[0m \u001b[0;34m*=\u001b[0m \u001b[0mcompute_sample_weight\u001b[0m\u001b[0;34m(\u001b[0m\u001b[0;34m'balanced'\u001b[0m\u001b[0;34m,\u001b[0m \u001b[0my\u001b[0m\u001b[0;34m,\u001b[0m \u001b[0mindices\u001b[0m\u001b[0;34m)\u001b[0m\u001b[0;34m\u001b[0m\u001b[0;34m\u001b[0m\u001b[0m\n\u001b[1;32m    164\u001b[0m \u001b[0;34m\u001b[0m\u001b[0m\n\u001b[0;32m--> 165\u001b[0;31m         \u001b[0mtree\u001b[0m\u001b[0;34m.\u001b[0m\u001b[0mfit\u001b[0m\u001b[0;34m(\u001b[0m\u001b[0mX\u001b[0m\u001b[0;34m,\u001b[0m \u001b[0my\u001b[0m\u001b[0;34m,\u001b[0m \u001b[0msample_weight\u001b[0m\u001b[0;34m=\u001b[0m\u001b[0mcurr_sample_weight\u001b[0m\u001b[0;34m,\u001b[0m \u001b[0mcheck_input\u001b[0m\u001b[0;34m=\u001b[0m\u001b[0;32mFalse\u001b[0m\u001b[0;34m)\u001b[0m\u001b[0;34m\u001b[0m\u001b[0;34m\u001b[0m\u001b[0m\n\u001b[0m\u001b[1;32m    166\u001b[0m     \u001b[0;32melse\u001b[0m\u001b[0;34m:\u001b[0m\u001b[0;34m\u001b[0m\u001b[0;34m\u001b[0m\u001b[0m\n\u001b[1;32m    167\u001b[0m         \u001b[0mtree\u001b[0m\u001b[0;34m.\u001b[0m\u001b[0mfit\u001b[0m\u001b[0;34m(\u001b[0m\u001b[0mX\u001b[0m\u001b[0;34m,\u001b[0m \u001b[0my\u001b[0m\u001b[0;34m,\u001b[0m \u001b[0msample_weight\u001b[0m\u001b[0;34m=\u001b[0m\u001b[0msample_weight\u001b[0m\u001b[0;34m,\u001b[0m \u001b[0mcheck_input\u001b[0m\u001b[0;34m=\u001b[0m\u001b[0;32mFalse\u001b[0m\u001b[0;34m)\u001b[0m\u001b[0;34m\u001b[0m\u001b[0;34m\u001b[0m\u001b[0m\n",
            "\u001b[0;32m/usr/local/lib/python3.6/dist-packages/sklearn/tree/_classes.py\u001b[0m in \u001b[0;36mfit\u001b[0;34m(self, X, y, sample_weight, check_input, X_idx_sorted)\u001b[0m\n\u001b[1;32m    875\u001b[0m             \u001b[0msample_weight\u001b[0m\u001b[0;34m=\u001b[0m\u001b[0msample_weight\u001b[0m\u001b[0;34m,\u001b[0m\u001b[0;34m\u001b[0m\u001b[0;34m\u001b[0m\u001b[0m\n\u001b[1;32m    876\u001b[0m             \u001b[0mcheck_input\u001b[0m\u001b[0;34m=\u001b[0m\u001b[0mcheck_input\u001b[0m\u001b[0;34m,\u001b[0m\u001b[0;34m\u001b[0m\u001b[0;34m\u001b[0m\u001b[0m\n\u001b[0;32m--> 877\u001b[0;31m             X_idx_sorted=X_idx_sorted)\n\u001b[0m\u001b[1;32m    878\u001b[0m         \u001b[0;32mreturn\u001b[0m \u001b[0mself\u001b[0m\u001b[0;34m\u001b[0m\u001b[0;34m\u001b[0m\u001b[0m\n\u001b[1;32m    879\u001b[0m \u001b[0;34m\u001b[0m\u001b[0m\n",
            "\u001b[0;32m/usr/local/lib/python3.6/dist-packages/sklearn/tree/_classes.py\u001b[0m in \u001b[0;36mfit\u001b[0;34m(self, X, y, sample_weight, check_input, X_idx_sorted)\u001b[0m\n\u001b[1;32m    365\u001b[0m                                            min_impurity_split)\n\u001b[1;32m    366\u001b[0m \u001b[0;34m\u001b[0m\u001b[0m\n\u001b[0;32m--> 367\u001b[0;31m         \u001b[0mbuilder\u001b[0m\u001b[0;34m.\u001b[0m\u001b[0mbuild\u001b[0m\u001b[0;34m(\u001b[0m\u001b[0mself\u001b[0m\u001b[0;34m.\u001b[0m\u001b[0mtree_\u001b[0m\u001b[0;34m,\u001b[0m \u001b[0mX\u001b[0m\u001b[0;34m,\u001b[0m \u001b[0my\u001b[0m\u001b[0;34m,\u001b[0m \u001b[0msample_weight\u001b[0m\u001b[0;34m,\u001b[0m \u001b[0mX_idx_sorted\u001b[0m\u001b[0;34m)\u001b[0m\u001b[0;34m\u001b[0m\u001b[0;34m\u001b[0m\u001b[0m\n\u001b[0m\u001b[1;32m    368\u001b[0m \u001b[0;34m\u001b[0m\u001b[0m\n\u001b[1;32m    369\u001b[0m         \u001b[0;32mif\u001b[0m \u001b[0mself\u001b[0m\u001b[0;34m.\u001b[0m\u001b[0mn_outputs_\u001b[0m \u001b[0;34m==\u001b[0m \u001b[0;36m1\u001b[0m \u001b[0;32mand\u001b[0m \u001b[0mis_classifier\u001b[0m\u001b[0;34m(\u001b[0m\u001b[0mself\u001b[0m\u001b[0;34m)\u001b[0m\u001b[0;34m:\u001b[0m\u001b[0;34m\u001b[0m\u001b[0;34m\u001b[0m\u001b[0m\n",
            "\u001b[0;31mKeyboardInterrupt\u001b[0m: "
          ]
        }
      ]
    },
    {
      "cell_type": "code",
      "metadata": {
        "colab": {
          "base_uri": "https://localhost:8080/"
        },
        "id": "54YoyyHvA15r",
        "outputId": "b3365083-8256-49a1-90c3-ce508a61bf0b"
      },
      "source": [
        "y_train.value_counts()"
      ],
      "execution_count": null,
      "outputs": [
        {
          "output_type": "execute_result",
          "data": {
            "text/plain": [
              "0    422\n",
              "1     40\n",
              "Name: OUTPUT_LABEL, dtype: int64"
            ]
          },
          "metadata": {
            "tags": []
          },
          "execution_count": 84
        }
      ]
    },
    {
      "cell_type": "code",
      "metadata": {
        "colab": {
          "base_uri": "https://localhost:8080/",
          "height": 295
        },
        "id": "bB0Eum53CsI_",
        "outputId": "1ac40c9c-3c13-4078-deaa-f6fc424619f1"
      },
      "source": [
        "# Curva ROC\n",
        "\n",
        "import numpy as np\n",
        "import matplotlib.pyplot as plt\n",
        "\n",
        "from sklearn import svm, datasets\n",
        "from sklearn.metrics import auc\n",
        "from sklearn.metrics import plot_roc_curve\n",
        "from sklearn.model_selection import StratifiedKFold\n",
        "\n",
        "# #############################################################################\n",
        "# Data IO and generation\n",
        "\n",
        "# Import some data to play with\n",
        "## dividimos el conjunto de datos \n",
        "X = df.drop(['OUTPUT_LABEL'],axis = 1)\n",
        "y = df['OUTPUT_LABEL']\n",
        "#X, y = X[y != 2], y[y != 2]\n",
        "n_samples, n_features = X.shape\n",
        "\n",
        "# Add noisy features\n",
        "random_state = np.random.RandomState(0)\n",
        "X = np.c_[X, random_state.randn(n_samples, 200 * n_features)]\n",
        "\n",
        "# #############################################################################\n",
        "# Classification and ROC analysis\n",
        "\n",
        "# Run classifier with cross-validation and plot ROC curves\n",
        "#cv = StratifiedKFold(n_splits=6)\n",
        "  \n",
        "#Configurando la Validacion cruzada estratificada\n",
        "cv = StratifiedKFold(n_splits=10, shuffle=True, random_state=42)\n",
        "classifier = RandomForestClassifier(n_estimators=200, random_state=0)\n",
        "\n",
        "tprs = []\n",
        "aucs = []\n",
        "mean_fpr = np.linspace(0, 1, 100)\n",
        "\n",
        "fig, ax = plt.subplots()\n",
        "for i, (train, test) in enumerate(cv.split(X, y)):\n",
        "    classifier.fit(X[train], y[train])\n",
        "    viz = plot_roc_curve(classifier, X[test], y[test],\n",
        "                         name='ROC fold {}'.format(i),\n",
        "                         alpha=0.3, lw=1, ax=ax)\n",
        "    interp_tpr = np.interp(mean_fpr, viz.fpr, viz.tpr)\n",
        "    interp_tpr[0] = 0.0\n",
        "    tprs.append(interp_tpr)\n",
        "    aucs.append(viz.roc_auc)\n",
        "\n",
        "ax.plot([0, 1], [0, 1], linestyle='--', lw=2, color='r',\n",
        "        label='Chance', alpha=.8)\n",
        "\n",
        "mxean_tpr = np.mean(tprs, axis=0)\n",
        "mean_tpr[-1] = 1.0\n",
        "mean_auc = auc(mean_fpr, mean_tpr)\n",
        "std_auc = np.std(aucs)\n",
        "ax.plot(mean_fpr, mean_tpr, color='b',\n",
        "        label=r'Mean ROC (AUC = %0.2f $\\pm$ %0.2f)' % (mean_auc, std_auc),\n",
        "        lw=2, alpha=.8)\n",
        "\n",
        "std_tpr = np.std(tprs, axis=0)\n",
        "tprs_upper = np.minimum(mean_tpr + std_tpr, 1)\n",
        "tprs_lower = np.maximum(mean_tpr - std_tpr, 0)\n",
        "ax.fill_between(mean_fpr, tprs_lower, tprs_upper, color='grey', alpha=.2,\n",
        "                label=r'$\\pm$ 1 std. dev.')\n",
        "\n",
        "ax.set(xlim=[-0.05, 1.05], ylim=[-0.05, 1.05],\n",
        "       title=\"Receiver operating characteristic example\")\n",
        "ax.legend(loc=\"lower right\")\n",
        "plt.show()"
      ],
      "execution_count": null,
      "outputs": [
        {
          "output_type": "display_data",
          "data": {
            "image/png": "[encoded data removed]",
            "text/plain": [
              "<Figure size 432x288 with 1 Axes>"
            ]
          },
          "metadata": {
            "tags": [],
            "needs_background": "light"
          }
        }
      ]
    },
    {
      "cell_type": "code",
      "metadata": {
        "colab": {
          "base_uri": "https://localhost:8080/",
          "height": 920
        },
        "id": "aFGJnbnfCr_M",
        "outputId": "3f8f66e2-7a7d-4ad7-e092-5fc54b6aeffd"
      },
      "source": [
        "import matplotlib.patches as patches\n",
        "from sklearn.metrics import roc_curve,auc\n",
        "from scipy import interp\n",
        "\n",
        "x = df.drop(['OUTPUT_LABEL'],axis = 1)\n",
        "y = df['OUTPUT_LABEL']\n",
        "\n",
        "cv = StratifiedKFold(n_splits=10, shuffle=True, random_state=42)\n",
        "clf = RandomForestClassifier(n_estimators=200, random_state=0)\n",
        "# plot arrows\n",
        "fig1 = plt.figure(figsize=[12,12])\n",
        "ax1 = fig1.add_subplot(111,aspect = 'equal')\n",
        "ax1.add_patch(\n",
        "    patches.Arrow(0.45,0.5,-0.25,0.25,width=0.3,color='green',alpha = 0.5)\n",
        "    )\n",
        "ax1.add_patch(\n",
        "    patches.Arrow(0.5,0.45,0.25,-0.25,width=0.3,color='red',alpha = 0.5)\n",
        "    )\n",
        "\n",
        "tprs = []\n",
        "aucs = []\n",
        "mean_fpr = np.linspace(0,1,100)\n",
        "i = 1\n",
        "for train,test in cv.split(x,y):\n",
        "    prediction = clf.fit(x.iloc[train],y.iloc[train]).predict_proba(x.iloc[test])\n",
        "    fpr, tpr, t = roc_curve(y[test], prediction[:, 1])\n",
        "    tprs.append(interp(mean_fpr, fpr, tpr))\n",
        "    roc_auc = auc(fpr, tpr)\n",
        "    aucs.append(roc_auc)\n",
        "    plt.plot(fpr, tpr, lw=2, alpha=0.3, label='ROC fold %d (AUC = %0.2f)' % (i, roc_auc))\n",
        "    i= i+1\n",
        "\n",
        "plt.plot([0,1],[0,1],linestyle = '--',lw = 2,color = 'black')\n",
        "mean_tpr = np.mean(tprs, axis=0)\n",
        "mean_auc = auc(mean_fpr, mean_tpr)\n",
        "plt.plot(mean_fpr, mean_tpr, color='blue',\n",
        "         label=r'Mean ROC (AUC = %0.2f )' % (mean_auc),lw=2, alpha=1)\n",
        "\n",
        "plt.xlabel('False Positive Rate')\n",
        "plt.ylabel('True Positive Rate')\n",
        "plt.title('ROC')\n",
        "plt.legend(loc=\"lower right\")\n",
        "plt.text(0.32,0.7,'More accurate area',fontsize = 12)\n",
        "plt.text(0.63,0.4,'Less accurate area',fontsize = 12)\n",
        "plt.show()"
      ],
      "execution_count": null,
      "outputs": [
        {
          "output_type": "stream",
          "text": [
            "/usr/local/lib/python3.6/dist-packages/ipykernel_launcher.py:27: DeprecationWarning: scipy.interp is deprecated and will be removed in SciPy 2.0.0, use numpy.interp instead\n",
            "/usr/local/lib/python3.6/dist-packages/ipykernel_launcher.py:27: DeprecationWarning: scipy.interp is deprecated and will be removed in SciPy 2.0.0, use numpy.interp instead\n",
            "/usr/local/lib/python3.6/dist-packages/ipykernel_launcher.py:27: DeprecationWarning: scipy.interp is deprecated and will be removed in SciPy 2.0.0, use numpy.interp instead\n",
            "/usr/local/lib/python3.6/dist-packages/ipykernel_launcher.py:27: DeprecationWarning: scipy.interp is deprecated and will be removed in SciPy 2.0.0, use numpy.interp instead\n",
            "/usr/local/lib/python3.6/dist-packages/ipykernel_launcher.py:27: DeprecationWarning: scipy.interp is deprecated and will be removed in SciPy 2.0.0, use numpy.interp instead\n",
            "/usr/local/lib/python3.6/dist-packages/ipykernel_launcher.py:27: DeprecationWarning: scipy.interp is deprecated and will be removed in SciPy 2.0.0, use numpy.interp instead\n",
            "/usr/local/lib/python3.6/dist-packages/ipykernel_launcher.py:27: DeprecationWarning: scipy.interp is deprecated and will be removed in SciPy 2.0.0, use numpy.interp instead\n",
            "/usr/local/lib/python3.6/dist-packages/ipykernel_launcher.py:27: DeprecationWarning: scipy.interp is deprecated and will be removed in SciPy 2.0.0, use numpy.interp instead\n",
            "/usr/local/lib/python3.6/dist-packages/ipykernel_launcher.py:27: DeprecationWarning: scipy.interp is deprecated and will be removed in SciPy 2.0.0, use numpy.interp instead\n",
            "/usr/local/lib/python3.6/dist-packages/ipykernel_launcher.py:27: DeprecationWarning: scipy.interp is deprecated and will be removed in SciPy 2.0.0, use numpy.interp instead\n"
          ],
          "name": "stderr"
        },
        {
          "output_type": "display_data",
          "data": {
            "image/png": "[encoded data removed]",
            "text/plain": [
              "<Figure size 864x864 with 1 Axes>"
            ]
          },
          "metadata": {
            "tags": [],
            "needs_background": "light"
          }
        }
      ]
    },
    {
      "cell_type": "code",
      "metadata": {
        "id": "PbfNI8LDGcLj"
      },
      "source": [
        "import numpy as np\n",
        "from sklearn.model_selection import StratifiedKFold # validacion cruzada estratificada\n",
        "from sklearn.preprocessing import StandardScaler\n",
        "from sklearn import metrics\n",
        "\n",
        "#Configurando la Validacion cruzada estratificada\n",
        "skf = StratifiedKFold(n_splits=10, shuffle= True, random_state= 42)\n",
        "\n",
        "# Random Forest \n",
        "from sklearn.ensemble import RandomForestClassifier #Random forest\n",
        "\n",
        "cld_rf = RandomForestClassifier(n_estimators=200, random_state=0)\n",
        "\n",
        "## Probando con el modelo\n",
        "\n",
        "for train_index , test_index in skf.split(X,y):\n",
        "  X_train, X_test = X.iloc[train_index], X.iloc[test_index]\n",
        "  y_train, y_test = y.iloc[train_index], y.iloc[test_index]\n",
        "\n",
        "  ## Balanceo de la clase de entrenamiento usando oversampling\n",
        "\n",
        "\n",
        "\n",
        "\n",
        "  # Escalamos los datos\n",
        "  scaler = StandardScaler()\n",
        "  scaler.fit(X_train)\n",
        "  X_train = scaler.transform(X_train)\n",
        "  X_test = scaler.transform(X_test)\n",
        "\n",
        "  # Entrenamos el modelo\n",
        "  cld_rf.fit(X_train, y_train)\n",
        "\n",
        "  #Predicciones\n",
        "  #train_pred = cld_rf.predict(X_train)\n",
        "  pred = cld_rf.predict(X_test)\n",
        "\n",
        "  # Probabilidad para la fila\n",
        "\n",
        "  prob = cld_rf.predict_proba(X_test)\n"
      ],
      "execution_count": null,
      "outputs": []
    },
    {
      "cell_type": "code",
      "metadata": {
        "colab": {
          "base_uri": "https://localhost:8080/",
          "height": 456
        },
        "id": "N5XnsdsZ75X8",
        "outputId": "b7fa8319-c539-42e0-caff-ca35f60c6ce6"
      },
      "source": [
        "random_forest = Stratified_Kfold(X,y, RandomForestClassifier(n_estimators=200, random_state=0))\n"
      ],
      "execution_count": null,
      "outputs": [
        {
          "output_type": "stream",
          "text": [
            "/usr/local/lib/python3.6/dist-packages/ipykernel_launcher.py:18: DataConversionWarning: A column-vector y was passed when a 1d array was expected. Please change the shape of y to (n_samples,), for example using ravel().\n"
          ],
          "name": "stderr"
        },
        {
          "output_type": "execute_result",
          "data": {
            "text/html": [
              "<div>\n",
              "<style scoped>\n",
              "    .dataframe tbody tr th:only-of-type {\n",
              "        vertical-align: middle;\n",
              "    }\n",
              "\n",
              "    .dataframe tbody tr th {\n",
              "        vertical-align: top;\n",
              "    }\n",
              "\n",
              "    .dataframe thead th {\n",
              "        text-align: right;\n",
              "    }\n",
              "</style>\n",
              "<table border=\"1\" class=\"dataframe\">\n",
              "  <thead>\n",
              "    <tr style=\"text-align: right;\">\n",
              "      <th></th>\n",
              "      <th>Prediccion</th>\n",
              "      <th>0</th>\n",
              "      <th>1</th>\n",
              "      <th>2</th>\n",
              "      <th>label</th>\n",
              "    </tr>\n",
              "  </thead>\n",
              "  <tbody>\n",
              "    <tr>\n",
              "      <th>0</th>\n",
              "      <td>2</td>\n",
              "      <td>0.160</td>\n",
              "      <td>0.370</td>\n",
              "      <td>0.470</td>\n",
              "      <td>2</td>\n",
              "    </tr>\n",
              "    <tr>\n",
              "      <th>1</th>\n",
              "      <td>2</td>\n",
              "      <td>0.080</td>\n",
              "      <td>0.355</td>\n",
              "      <td>0.565</td>\n",
              "      <td>2</td>\n",
              "    </tr>\n",
              "    <tr>\n",
              "      <th>2</th>\n",
              "      <td>2</td>\n",
              "      <td>0.035</td>\n",
              "      <td>0.240</td>\n",
              "      <td>0.725</td>\n",
              "      <td>2</td>\n",
              "    </tr>\n",
              "    <tr>\n",
              "      <th>3</th>\n",
              "      <td>2</td>\n",
              "      <td>0.070</td>\n",
              "      <td>0.185</td>\n",
              "      <td>0.745</td>\n",
              "      <td>2</td>\n",
              "    </tr>\n",
              "    <tr>\n",
              "      <th>4</th>\n",
              "      <td>1</td>\n",
              "      <td>0.035</td>\n",
              "      <td>0.575</td>\n",
              "      <td>0.390</td>\n",
              "      <td>2</td>\n",
              "    </tr>\n",
              "    <tr>\n",
              "      <th>...</th>\n",
              "      <td>...</td>\n",
              "      <td>...</td>\n",
              "      <td>...</td>\n",
              "      <td>...</td>\n",
              "      <td>...</td>\n",
              "    </tr>\n",
              "    <tr>\n",
              "      <th>11769</th>\n",
              "      <td>1</td>\n",
              "      <td>0.400</td>\n",
              "      <td>0.595</td>\n",
              "      <td>0.005</td>\n",
              "      <td>1</td>\n",
              "    </tr>\n",
              "    <tr>\n",
              "      <th>11770</th>\n",
              "      <td>0</td>\n",
              "      <td>0.515</td>\n",
              "      <td>0.475</td>\n",
              "      <td>0.010</td>\n",
              "      <td>1</td>\n",
              "    </tr>\n",
              "    <tr>\n",
              "      <th>11771</th>\n",
              "      <td>1</td>\n",
              "      <td>0.070</td>\n",
              "      <td>0.795</td>\n",
              "      <td>0.135</td>\n",
              "      <td>1</td>\n",
              "    </tr>\n",
              "    <tr>\n",
              "      <th>11772</th>\n",
              "      <td>0</td>\n",
              "      <td>0.535</td>\n",
              "      <td>0.465</td>\n",
              "      <td>0.000</td>\n",
              "      <td>1</td>\n",
              "    </tr>\n",
              "    <tr>\n",
              "      <th>11773</th>\n",
              "      <td>1</td>\n",
              "      <td>0.350</td>\n",
              "      <td>0.645</td>\n",
              "      <td>0.005</td>\n",
              "      <td>1</td>\n",
              "    </tr>\n",
              "  </tbody>\n",
              "</table>\n",
              "<p>11774 rows × 5 columns</p>\n",
              "</div>"
            ],
            "text/plain": [
              "       Prediccion      0      1      2  label\n",
              "0               2  0.160  0.370  0.470      2\n",
              "1               2  0.080  0.355  0.565      2\n",
              "2               2  0.035  0.240  0.725      2\n",
              "3               2  0.070  0.185  0.745      2\n",
              "4               1  0.035  0.575  0.390      2\n",
              "...           ...    ...    ...    ...    ...\n",
              "11769           1  0.400  0.595  0.005      1\n",
              "11770           0  0.515  0.475  0.010      1\n",
              "11771           1  0.070  0.795  0.135      1\n",
              "11772           0  0.535  0.465  0.000      1\n",
              "11773           1  0.350  0.645  0.005      1\n",
              "\n",
              "[11774 rows x 5 columns]"
            ]
          },
          "metadata": {
            "tags": []
          },
          "execution_count": 87
        }
      ]
    },
    {
      "cell_type": "code",
      "metadata": {
        "colab": {
          "base_uri": "https://localhost:8080/",
          "height": 204
        },
        "id": "7DlkpWmx9o-n",
        "outputId": "7fae660e-8cb1-4945-c888-964299e80caa"
      },
      "source": [
        "random_forest.head()"
      ],
      "execution_count": null,
      "outputs": [
        {
          "output_type": "execute_result",
          "data": {
            "text/html": [
              "<div>\n",
              "<style scoped>\n",
              "    .dataframe tbody tr th:only-of-type {\n",
              "        vertical-align: middle;\n",
              "    }\n",
              "\n",
              "    .dataframe tbody tr th {\n",
              "        vertical-align: top;\n",
              "    }\n",
              "\n",
              "    .dataframe thead th {\n",
              "        text-align: right;\n",
              "    }\n",
              "</style>\n",
              "<table border=\"1\" class=\"dataframe\">\n",
              "  <thead>\n",
              "    <tr style=\"text-align: right;\">\n",
              "      <th></th>\n",
              "      <th>Prediccion</th>\n",
              "      <th>0</th>\n",
              "      <th>1</th>\n",
              "      <th>2</th>\n",
              "      <th>label</th>\n",
              "    </tr>\n",
              "  </thead>\n",
              "  <tbody>\n",
              "    <tr>\n",
              "      <th>0</th>\n",
              "      <td>2</td>\n",
              "      <td>0.160</td>\n",
              "      <td>0.370</td>\n",
              "      <td>0.470</td>\n",
              "      <td>2</td>\n",
              "    </tr>\n",
              "    <tr>\n",
              "      <th>1</th>\n",
              "      <td>2</td>\n",
              "      <td>0.080</td>\n",
              "      <td>0.355</td>\n",
              "      <td>0.565</td>\n",
              "      <td>2</td>\n",
              "    </tr>\n",
              "    <tr>\n",
              "      <th>2</th>\n",
              "      <td>2</td>\n",
              "      <td>0.035</td>\n",
              "      <td>0.240</td>\n",
              "      <td>0.725</td>\n",
              "      <td>2</td>\n",
              "    </tr>\n",
              "    <tr>\n",
              "      <th>3</th>\n",
              "      <td>2</td>\n",
              "      <td>0.070</td>\n",
              "      <td>0.185</td>\n",
              "      <td>0.745</td>\n",
              "      <td>2</td>\n",
              "    </tr>\n",
              "    <tr>\n",
              "      <th>4</th>\n",
              "      <td>1</td>\n",
              "      <td>0.035</td>\n",
              "      <td>0.575</td>\n",
              "      <td>0.390</td>\n",
              "      <td>2</td>\n",
              "    </tr>\n",
              "  </tbody>\n",
              "</table>\n",
              "</div>"
            ],
            "text/plain": [
              "   Prediccion      0      1      2  label\n",
              "0           2  0.160  0.370  0.470      2\n",
              "1           2  0.080  0.355  0.565      2\n",
              "2           2  0.035  0.240  0.725      2\n",
              "3           2  0.070  0.185  0.745      2\n",
              "4           1  0.035  0.575  0.390      2"
            ]
          },
          "metadata": {
            "tags": []
          },
          "execution_count": 88
        }
      ]
    },
    {
      "cell_type": "code",
      "metadata": {
        "colab": {
          "base_uri": "https://localhost:8080/",
          "height": 204
        },
        "id": "1mxx-b2191G3",
        "outputId": "041450a1-c55c-40e2-c3cb-44427a5e86e2"
      },
      "source": [
        "## Matriz de confusion para random forest\n",
        "matriz = pd.crosstab(df['label'], df['Prediccion'],rownames=['Actual'], colnames=['Predicted'], margins = True)\n",
        "matriz"
      ],
      "execution_count": null,
      "outputs": [
        {
          "output_type": "execute_result",
          "data": {
            "text/html": [
              "<div>\n",
              "<style scoped>\n",
              "    .dataframe tbody tr th:only-of-type {\n",
              "        vertical-align: middle;\n",
              "    }\n",
              "\n",
              "    .dataframe tbody tr th {\n",
              "        vertical-align: top;\n",
              "    }\n",
              "\n",
              "    .dataframe thead th {\n",
              "        text-align: right;\n",
              "    }\n",
              "</style>\n",
              "<table border=\"1\" class=\"dataframe\">\n",
              "  <thead>\n",
              "    <tr style=\"text-align: right;\">\n",
              "      <th>Predicted</th>\n",
              "      <th>0</th>\n",
              "      <th>1</th>\n",
              "      <th>2</th>\n",
              "      <th>All</th>\n",
              "    </tr>\n",
              "    <tr>\n",
              "      <th>Actual</th>\n",
              "      <th></th>\n",
              "      <th></th>\n",
              "      <th></th>\n",
              "      <th></th>\n",
              "    </tr>\n",
              "  </thead>\n",
              "  <tbody>\n",
              "    <tr>\n",
              "      <th>0</th>\n",
              "      <td>3865</td>\n",
              "      <td>59</td>\n",
              "      <td>1</td>\n",
              "      <td>3925</td>\n",
              "    </tr>\n",
              "    <tr>\n",
              "      <th>1</th>\n",
              "      <td>1954</td>\n",
              "      <td>1970</td>\n",
              "      <td>0</td>\n",
              "      <td>3924</td>\n",
              "    </tr>\n",
              "    <tr>\n",
              "      <th>2</th>\n",
              "      <td>28</td>\n",
              "      <td>985</td>\n",
              "      <td>2912</td>\n",
              "      <td>3925</td>\n",
              "    </tr>\n",
              "    <tr>\n",
              "      <th>All</th>\n",
              "      <td>5847</td>\n",
              "      <td>3014</td>\n",
              "      <td>2913</td>\n",
              "      <td>11774</td>\n",
              "    </tr>\n",
              "  </tbody>\n",
              "</table>\n",
              "</div>"
            ],
            "text/plain": [
              "Predicted     0     1     2    All\n",
              "Actual                            \n",
              "0          3865    59     1   3925\n",
              "1          1954  1970     0   3924\n",
              "2            28   985  2912   3925\n",
              "All        5847  3014  2913  11774"
            ]
          },
          "metadata": {
            "tags": []
          },
          "execution_count": 89
        }
      ]
    },
    {
      "cell_type": "code",
      "metadata": {
        "colab": {
          "base_uri": "https://localhost:8080/"
        },
        "id": "kLCnrtezSKFi",
        "outputId": "27c25100-bbad-45a8-aff5-d77ecbfa0ab0"
      },
      "source": [
        "from sklearn.metrics import accuracy_score,classification_report\n",
        "print('Accuracy: %.2f' % accuracy_score(random_forest['label'],random_forest['Prediccion']))"
      ],
      "execution_count": null,
      "outputs": [
        {
          "output_type": "stream",
          "text": [
            "Accuracy: 0.74\n"
          ],
          "name": "stdout"
        }
      ]
    },
    {
      "cell_type": "code",
      "metadata": {
        "colab": {
          "base_uri": "https://localhost:8080/"
        },
        "id": "n_I6UBLMZG-E",
        "outputId": "abaf0645-2312-4094-e2e3-d794b8c306f9"
      },
      "source": [
        "print(classification_report(random_forest['label'],random_forest['Prediccion']))"
      ],
      "execution_count": null,
      "outputs": [
        {
          "output_type": "stream",
          "text": [
            "              precision    recall  f1-score   support\n",
            "\n",
            "           0       0.66      0.98      0.79      3925\n",
            "           1       0.65      0.50      0.57      3924\n",
            "           2       1.00      0.74      0.85      3925\n",
            "\n",
            "    accuracy                           0.74     11774\n",
            "   macro avg       0.77      0.74      0.74     11774\n",
            "weighted avg       0.77      0.74      0.74     11774\n",
            "\n"
          ],
          "name": "stdout"
        }
      ]
    },
    {
      "cell_type": "code",
      "metadata": {
        "id": "xL0ITDC1ZoZP"
      },
      "source": [
        "mport matplotlib.pyplot as plt\n",
        "from matplotlib import pyplot\n",
        "%matplotlib inline\n",
        "#Importando librería metrics para visualizar la curva ROC\n",
        "from sklearn import metrics\n",
        "\n",
        "# calculate the fpr and tpr for all thresholds of the classification\n",
        "probs = mlp.predict_proba(X_prueba)\n",
        "preds = probs[:,1]\n",
        "fpr, tpr, threshold = metrics.roc_curve(y_prueba, preds)\n",
        "roc_auc = metrics.auc(fpr, tpr)\n",
        "\n",
        "# metodo curva de ROC\n",
        "import matplotlib.pyplot as plt\n",
        "plt.title('Curva ROC')\n",
        "plt.plot(fpr, tpr, 'b', label = 'AUC = %0.2f' % roc_auc)\n",
        "plt.legend(loc = 'lower right')\n",
        "plt.plot([0, 1], [0, 1],'r--')\n",
        "plt.xlim([0, 1])\n",
        "plt.ylim([0, 1])\n",
        "plt.ylabel('True Positive Rate')\n",
        "plt.xlabel('False Positive Rate')\n",
        "plt.show()"
      ],
      "execution_count": null,
      "outputs": []
    },
    {
      "cell_type": "code",
      "metadata": {
        "id": "ssVISE-vEVhM"
      },
      "source": [
        ""
      ],
      "execution_count": null,
      "outputs": []
    },
    {
      "cell_type": "code",
      "metadata": {
        "id": "gntW_t24EVeK"
      },
      "source": [
        ""
      ],
      "execution_count": null,
      "outputs": []
    },
    {
      "cell_type": "code",
      "metadata": {
        "id": "hccV4Me6EVa-"
      },
      "source": [
        ""
      ],
      "execution_count": null,
      "outputs": []
    },
    {
      "cell_type": "code",
      "metadata": {
        "id": "OEbPNwKkEVXa"
      },
      "source": [
        ""
      ],
      "execution_count": null,
      "outputs": []
    },
    {
      "cell_type": "code",
      "metadata": {
        "id": "cELi7-ztEVkL"
      },
      "source": [
        ""
      ],
      "execution_count": null,
      "outputs": []
    },
    {
      "cell_type": "code",
      "metadata": {
        "id": "9Z0ea7pQEVqK"
      },
      "source": [
        ""
      ],
      "execution_count": null,
      "outputs": []
    },
    {
      "cell_type": "code",
      "metadata": {
        "id": "w0DTLzo6EVnE"
      },
      "source": [
        ""
      ],
      "execution_count": null,
      "outputs": []
    },
    {
      "cell_type": "markdown",
      "metadata": {
        "id": "twpq44rrpR1A"
      },
      "source": [
        "# <center><h1> Aplicando Sobremuestreo SMOTE </h1></center>"
      ]
    },
    {
      "cell_type": "code",
      "metadata": {
        "id": "m1nwMvfmcLgO",
        "colab": {
          "base_uri": "https://localhost:8080/"
        },
        "outputId": "332a80e4-ac92-48af-bc2a-e61b659f4980"
      },
      "source": [
        "## Sobremuestreo, referencia ---> https://machinelearningmastery.com/multi-class-imbalanced-classification/\n",
        "!pip install imbalanced-learn"
      ],
      "execution_count": null,
      "outputs": [
        {
          "output_type": "stream",
          "text": [
            "Requirement already satisfied: imbalanced-learn in /usr/local/lib/python3.6/dist-packages (0.4.3)\n",
            "Requirement already satisfied: scipy>=0.13.3 in /usr/local/lib/python3.6/dist-packages (from imbalanced-learn) (1.4.1)\n",
            "Requirement already satisfied: numpy>=1.8.2 in /usr/local/lib/python3.6/dist-packages (from imbalanced-learn) (1.19.4)\n",
            "Requirement already satisfied: scikit-learn>=0.20 in /usr/local/lib/python3.6/dist-packages (from imbalanced-learn) (0.22.2.post1)\n",
            "Requirement already satisfied: joblib>=0.11 in /usr/local/lib/python3.6/dist-packages (from scikit-learn>=0.20->imbalanced-learn) (1.0.0)\n"
          ],
          "name": "stdout"
        }
      ]
    },
    {
      "cell_type": "code",
      "metadata": {
        "colab": {
          "base_uri": "https://localhost:8080/"
        },
        "id": "lL2jv4-Cc31v",
        "outputId": "6d8f412b-7454-40ae-d24f-36f9e08b9473"
      },
      "source": [
        "# check version number\n",
        "import imblearn\n",
        "print(imblearn.__version__)"
      ],
      "execution_count": null,
      "outputs": [
        {
          "output_type": "stream",
          "text": [
            "/usr/local/lib/python3.6/dist-packages/sklearn/externals/six.py:31: FutureWarning: The module is deprecated in version 0.21 and will be removed in version 0.23 since we've dropped support for Python 2.7. Please rely on the official version of six (https://pypi.org/project/six/).\n",
            "  \"(https://pypi.org/project/six/).\", FutureWarning)\n"
          ],
          "name": "stderr"
        },
        {
          "output_type": "stream",
          "text": [
            "0.4.3\n"
          ],
          "name": "stdout"
        },
        {
          "output_type": "stream",
          "text": [
            "/usr/local/lib/python3.6/dist-packages/sklearn/utils/deprecation.py:144: FutureWarning: The sklearn.neighbors.base module is  deprecated in version 0.22 and will be removed in version 0.24. The corresponding classes / functions should instead be imported from sklearn.neighbors. Anything that cannot be imported from sklearn.neighbors is now part of the private API.\n",
            "  warnings.warn(message, FutureWarning)\n"
          ],
          "name": "stderr"
        }
      ]
    },
    {
      "cell_type": "code",
      "metadata": {
        "colab": {
          "base_uri": "https://localhost:8080/"
        },
        "id": "8D4OaOY2h5yA",
        "outputId": "55c95aba-5a11-488e-ef69-08614ece8e61"
      },
      "source": [
        "from imblearn.over_sampling import SMOTE\n",
        "X = df.drop(['label'],axis = 1)\n",
        "y = df['label']\n",
        "oversample = SMOTE()\n",
        "X,y = oversample.fit_resample(X,y)"
      ],
      "execution_count": null,
      "outputs": [
        {
          "output_type": "stream",
          "text": [
            "/usr/local/lib/python3.6/dist-packages/sklearn/utils/deprecation.py:87: FutureWarning: Function safe_indexing is deprecated; safe_indexing is deprecated in version 0.22 and will be removed in version 0.24.\n",
            "  warnings.warn(msg, category=FutureWarning)\n",
            "/usr/local/lib/python3.6/dist-packages/sklearn/utils/deprecation.py:87: FutureWarning: Function safe_indexing is deprecated; safe_indexing is deprecated in version 0.22 and will be removed in version 0.24.\n",
            "  warnings.warn(msg, category=FutureWarning)\n"
          ],
          "name": "stderr"
        }
      ]
    },
    {
      "cell_type": "markdown",
      "metadata": {
        "id": "FAmJdYaMqkf4"
      },
      "source": [
        "# <center><h1> Clases Balanceadas </h1></center>"
      ]
    },
    {
      "cell_type": "code",
      "metadata": {
        "colab": {
          "base_uri": "https://localhost:8080/",
          "height": 316
        },
        "id": "5zsO6c-Dp0WV",
        "outputId": "cd5379ea-4d27-4c23-d11b-6e1947f24d0e"
      },
      "source": [
        "from collections import Counter\n",
        "# summarize distribution\n",
        "counter = Counter(y)\n",
        "for k,v in counter.items():\n",
        "\tper = v / len(y) * 100\n",
        "\tprint('Class=%d, n=%d (%.3f%%)' % (k, v, per))\n",
        "# plot the distribution\n",
        "plt.bar(counter.keys(), counter.values())\n",
        "plt.show()"
      ],
      "execution_count": null,
      "outputs": [
        {
          "output_type": "stream",
          "text": [
            "Class=1, n=39248 (33.333%)\n",
            "Class=2, n=39248 (33.333%)\n",
            "Class=0, n=39248 (33.333%)\n"
          ],
          "name": "stdout"
        },
        {
          "output_type": "display_data",
          "data": {
            "image/png": "[encoded data removed]",
            "text/plain": [
              "<Figure size 432x288 with 1 Axes>"
            ]
          },
          "metadata": {
            "tags": [],
            "needs_background": "light"
          }
        }
      ]
    },
    {
      "cell_type": "markdown",
      "metadata": {
        "id": "IzNmm_Deq3uZ"
      },
      "source": [
        "# Ahora tenemos las clases balanceadas, aplicaremos algoritmos de clasificacion"
      ]
    },
    {
      "cell_type": "code",
      "metadata": {
        "id": "ODpeSGeyucnJ"
      },
      "source": [
        "## Para una mejor manipulación de los datos se pasarán a dataframes\n",
        "X = pd.DataFrame(data = X, columns = df.drop(['label'],axis = 1).columns)\n",
        "y = pd.DataFrame(data = y, columns = ['label'])"
      ],
      "execution_count": null,
      "outputs": []
    },
    {
      "cell_type": "markdown",
      "metadata": {
        "id": "pipV-hpNy6Vl"
      },
      "source": [
        "## Con selec k-best veremos cuales son los atributos que más poder predictivo tienen"
      ]
    },
    {
      "cell_type": "code",
      "metadata": {
        "colab": {
          "base_uri": "https://localhost:8080/",
          "height": 419
        },
        "id": "8nvPgCtS301A",
        "outputId": "e588c340-b0e5-4d10-a0d6-a12227994817"
      },
      "source": [
        "## Métodos de Filtro\n",
        "from sklearn.feature_selection import SelectKBest\n",
        "from sklearn.feature_selection import chi2\n",
        "\n",
        "# Extracción de Carácterísticas: chi-cuadrado\n",
        "prueba = SelectKBest(score_func = chi2, k=5)\n",
        "entrenamiento = prueba.fit(X,y)\n",
        "\n",
        "scores = pd.DataFrame(data = list(zip(X.columns, entrenamiento.scores_)), columns = ['Atributo','Scores']).sort_values(by='Scores', ascending = False)\n",
        "scores"
      ],
      "execution_count": null,
      "outputs": [
        {
          "output_type": "execute_result",
          "data": {
            "text/html": [
              "<div>\n",
              "<style scoped>\n",
              "    .dataframe tbody tr th:only-of-type {\n",
              "        vertical-align: middle;\n",
              "    }\n",
              "\n",
              "    .dataframe tbody tr th {\n",
              "        vertical-align: top;\n",
              "    }\n",
              "\n",
              "    .dataframe thead th {\n",
              "        text-align: right;\n",
              "    }\n",
              "</style>\n",
              "<table border=\"1\" class=\"dataframe\">\n",
              "  <thead>\n",
              "    <tr style=\"text-align: right;\">\n",
              "      <th></th>\n",
              "      <th>Atributo</th>\n",
              "      <th>Scores</th>\n",
              "    </tr>\n",
              "  </thead>\n",
              "  <tbody>\n",
              "    <tr>\n",
              "      <th>7</th>\n",
              "      <td>number_inpatient</td>\n",
              "      <td>4101.916342</td>\n",
              "    </tr>\n",
              "    <tr>\n",
              "      <th>2</th>\n",
              "      <td>num_lab_procedures</td>\n",
              "      <td>4082.085533</td>\n",
              "    </tr>\n",
              "    <tr>\n",
              "      <th>36</th>\n",
              "      <td>discharge_disposition_id_22</td>\n",
              "      <td>1824.609880</td>\n",
              "    </tr>\n",
              "    <tr>\n",
              "      <th>4</th>\n",
              "      <td>num_medications</td>\n",
              "      <td>1694.227648</td>\n",
              "    </tr>\n",
              "    <tr>\n",
              "      <th>1</th>\n",
              "      <td>time_in_hospital</td>\n",
              "      <td>1560.940693</td>\n",
              "    </tr>\n",
              "    <tr>\n",
              "      <th>...</th>\n",
              "      <td>...</td>\n",
              "      <td>...</td>\n",
              "    </tr>\n",
              "    <tr>\n",
              "      <th>17</th>\n",
              "      <td>admission_type_id_4</td>\n",
              "      <td>1.864267</td>\n",
              "    </tr>\n",
              "    <tr>\n",
              "      <th>60</th>\n",
              "      <td>max_glu_serum_Norm</td>\n",
              "      <td>1.018833</td>\n",
              "    </tr>\n",
              "    <tr>\n",
              "      <th>59</th>\n",
              "      <td>max_glu_serum_None</td>\n",
              "      <td>0.736664</td>\n",
              "    </tr>\n",
              "    <tr>\n",
              "      <th>28</th>\n",
              "      <td>discharge_disposition_id_8</td>\n",
              "      <td>0.010946</td>\n",
              "    </tr>\n",
              "    <tr>\n",
              "      <th>9</th>\n",
              "      <td>tratamientos_tomados</td>\n",
              "      <td>0.000000</td>\n",
              "    </tr>\n",
              "  </tbody>\n",
              "</table>\n",
              "<p>74 rows × 2 columns</p>\n",
              "</div>"
            ],
            "text/plain": [
              "                       Atributo       Scores\n",
              "7              number_inpatient  4101.916342\n",
              "2            num_lab_procedures  4082.085533\n",
              "36  discharge_disposition_id_22  1824.609880\n",
              "4               num_medications  1694.227648\n",
              "1              time_in_hospital  1560.940693\n",
              "..                          ...          ...\n",
              "17          admission_type_id_4     1.864267\n",
              "60           max_glu_serum_Norm     1.018833\n",
              "59           max_glu_serum_None     0.736664\n",
              "28   discharge_disposition_id_8     0.010946\n",
              "9          tratamientos_tomados     0.000000\n",
              "\n",
              "[74 rows x 2 columns]"
            ]
          },
          "metadata": {
            "tags": []
          },
          "execution_count": 16
        }
      ]
    },
    {
      "cell_type": "markdown",
      "metadata": {
        "id": "4vRSD_jHz5oA"
      },
      "source": [
        "# <center><h1>Entrenaremos Algoritmos de Clasificación </h1></center>\n",
        "\n",
        "---\n",
        "\n"
      ]
    },
    {
      "cell_type": "markdown",
      "metadata": {
        "id": "LMJdMOKi_991"
      },
      "source": [
        "# <center><h1> Separación  de datos común </h1></center>"
      ]
    },
    {
      "cell_type": "code",
      "metadata": {
        "colab": {
          "base_uri": "https://localhost:8080/",
          "height": 326
        },
        "id": "0GtflWe40UHF",
        "outputId": "08b3ed0e-0ec7-48fe-bba0-c5c0a5c4a7c5"
      },
      "source": [
        "# Estandarizamos la data\n",
        "from sklearn.preprocessing import StandardScaler\n",
        "sc = StandardScaler()\n",
        "X = sc.fit_transform(X)\n",
        "\n",
        "## Dividimos los datos en train (70%) y test (30%)\n",
        "from sklearn.model_selection import train_test_split\n",
        "X_train, X_test, y_train, y_test = train_test_split(X, y, test_size=0.3, random_state=42)\n",
        "\n",
        "#Importamos Librerias\n",
        "from sklearn.naive_bayes import GaussianNB ## Naive bayes\n",
        "from sklearn.neighbors import KNeighborsClassifier ## KNN\n",
        "from sklearn import svm  # Support Vector Machine\n",
        "from sklearn.ensemble import RandomForestClassifier #Random forest\n",
        "from sklearn.tree import DecisionTreeClassifier, export_graphviz ## Arboles de descision \n",
        "\n",
        "## Naive Bayes\n",
        "clf_gnb = GaussianNB()\n",
        "## Entrenamiento\n",
        "clf_gnb = clf_gnb.fit(X_train, y_train)\n",
        "## Prediccion\n",
        "y_hat_gnb = clf_gnb.predict(X_test)\n",
        "\n",
        "## KNN\n",
        "clf_knn = KNeighborsClassifier(n_neighbors=100)\n",
        "## Entrenamiento\n",
        "clf_knn = clf_knn.fit(X_train, y_train)\n",
        "## Prediccion\n",
        "y_hat_knn = clf_knn.predict(X_test)\n",
        "\n",
        "## SVM\n",
        "clf_svm = svm.SVC(kernel='rbf') \n",
        "clf_svm = clf_svm.fit(X_train, y_train)\n",
        "y_hat_svm = clf_svm.predict(X_test)\n",
        "\n",
        "# Decision Tree Classifier\n",
        "clf_dt = DecisionTreeClassifier()\n",
        "clf_dt = clf_dt.fit(X_train,y_train)\n",
        "y_hat_dt = clf_dt.predict(X_test)\n",
        "\n",
        "## Random Forest\n",
        "cld_rf = RandomForestClassifier(n_estimators=200, random_state=0)\n",
        "cld_rf = cld_rf.fit(X_train,y_train)\n",
        "y_hat_rf = cld_rf.predict(X_test)\n",
        "\n",
        "\n",
        "from sklearn.metrics import accuracy_score\n",
        "from sklearn.metrics import balanced_accuracy_score\n",
        "from sklearn.metrics import precision_score\n",
        "from sklearn.metrics import recall_score\n",
        "from sklearn.metrics import f1_score\n",
        "\n",
        "\n",
        "metrics = pd.DataFrame()\n",
        "\n",
        "acc_list = []\n",
        "bacc_list = []\n",
        "pre_list = []\n",
        "reca_list = []\n",
        "f1_list = []\n",
        "for pred in [y_hat_gnb, y_hat_knn, y_hat_svm, y_hat_dt, y_hat_rf]:\n",
        "    acc_list.append(accuracy_score(y_test, pred))\n",
        "    bacc_list.append(balanced_accuracy_score(y_test, pred))\n",
        "    pre_list.append(precision_score(y_test, pred, average='macro'))\n",
        "    reca_list.append(recall_score(y_test, pred, average='macro'))\n",
        "    f1_list.append(f1_score(y_test, pred, average='macro'))\n",
        "\n",
        "models = ['Gaussian Naive Bayes', \"kNN\", \"SVM\", \"Decision Tree\", \"Random Forest\"]\n",
        "\n",
        "metrics['Model'] = models\n",
        "metrics['ACC'] = acc_list\n",
        "metrics['BACC'] = bacc_list\n",
        "metrics['Precision'] = pre_list\n",
        "metrics['Recall'] = reca_list\n",
        "metrics['F1'] = f1_list\n",
        "\n",
        "metrics.sort_values('F1', ascending=False)"
      ],
      "execution_count": null,
      "outputs": [
        {
          "output_type": "stream",
          "text": [
            "/usr/local/lib/python3.6/dist-packages/sklearn/naive_bayes.py:206: DataConversionWarning: A column-vector y was passed when a 1d array was expected. Please change the shape of y to (n_samples, ), for example using ravel().\n",
            "  y = column_or_1d(y, warn=True)\n",
            "/usr/local/lib/python3.6/dist-packages/ipykernel_launcher.py:18: DataConversionWarning: A column-vector y was passed when a 1d array was expected. Please change the shape of y to (n_samples, ), for example using ravel().\n",
            "/usr/local/lib/python3.6/dist-packages/sklearn/utils/validation.py:760: DataConversionWarning: A column-vector y was passed when a 1d array was expected. Please change the shape of y to (n_samples, ), for example using ravel().\n",
            "  y = column_or_1d(y, warn=True)\n",
            "/usr/local/lib/python3.6/dist-packages/ipykernel_launcher.py:34: DataConversionWarning: A column-vector y was passed when a 1d array was expected. Please change the shape of y to (n_samples,), for example using ravel().\n"
          ],
          "name": "stderr"
        },
        {
          "output_type": "execute_result",
          "data": {
            "text/html": [
              "<div>\n",
              "<style scoped>\n",
              "    .dataframe tbody tr th:only-of-type {\n",
              "        vertical-align: middle;\n",
              "    }\n",
              "\n",
              "    .dataframe tbody tr th {\n",
              "        vertical-align: top;\n",
              "    }\n",
              "\n",
              "    .dataframe thead th {\n",
              "        text-align: right;\n",
              "    }\n",
              "</style>\n",
              "<table border=\"1\" class=\"dataframe\">\n",
              "  <thead>\n",
              "    <tr style=\"text-align: right;\">\n",
              "      <th></th>\n",
              "      <th>Model</th>\n",
              "      <th>ACC</th>\n",
              "      <th>BACC</th>\n",
              "      <th>Precision</th>\n",
              "      <th>Recall</th>\n",
              "      <th>F1</th>\n",
              "    </tr>\n",
              "  </thead>\n",
              "  <tbody>\n",
              "    <tr>\n",
              "      <th>4</th>\n",
              "      <td>Random Forest</td>\n",
              "      <td>0.693466</td>\n",
              "      <td>0.692599</td>\n",
              "      <td>0.694771</td>\n",
              "      <td>0.692599</td>\n",
              "      <td>0.677544</td>\n",
              "    </tr>\n",
              "    <tr>\n",
              "      <th>2</th>\n",
              "      <td>SVM</td>\n",
              "      <td>0.605764</td>\n",
              "      <td>0.604581</td>\n",
              "      <td>0.609522</td>\n",
              "      <td>0.604581</td>\n",
              "      <td>0.595892</td>\n",
              "    </tr>\n",
              "    <tr>\n",
              "      <th>3</th>\n",
              "      <td>Decision Tree</td>\n",
              "      <td>0.593449</td>\n",
              "      <td>0.593356</td>\n",
              "      <td>0.591566</td>\n",
              "      <td>0.593356</td>\n",
              "      <td>0.592342</td>\n",
              "    </tr>\n",
              "    <tr>\n",
              "      <th>1</th>\n",
              "      <td>kNN</td>\n",
              "      <td>0.528649</td>\n",
              "      <td>0.528204</td>\n",
              "      <td>0.525835</td>\n",
              "      <td>0.528204</td>\n",
              "      <td>0.525196</td>\n",
              "    </tr>\n",
              "    <tr>\n",
              "      <th>0</th>\n",
              "      <td>Gaussian Naive Bayes</td>\n",
              "      <td>0.336004</td>\n",
              "      <td>0.337852</td>\n",
              "      <td>0.442278</td>\n",
              "      <td>0.337852</td>\n",
              "      <td>0.183158</td>\n",
              "    </tr>\n",
              "  </tbody>\n",
              "</table>\n",
              "</div>"
            ],
            "text/plain": [
              "                  Model       ACC      BACC  Precision    Recall        F1\n",
              "4         Random Forest  0.693466  0.692599   0.694771  0.692599  0.677544\n",
              "2                   SVM  0.605764  0.604581   0.609522  0.604581  0.595892\n",
              "3         Decision Tree  0.593449  0.593356   0.591566  0.593356  0.592342\n",
              "1                   kNN  0.528649  0.528204   0.525835  0.528204  0.525196\n",
              "0  Gaussian Naive Bayes  0.336004  0.337852   0.442278  0.337852  0.183158"
            ]
          },
          "metadata": {
            "tags": []
          },
          "execution_count": 188
        }
      ]
    },
    {
      "cell_type": "code",
      "metadata": {
        "id": "kwdXUQ2O0UBU"
      },
      "source": [
        "resultados_pred = pd.DataFrame(data = [y_hat_dt,y_hat_gnb,y_hat_knn,y_hat_rf,y_hat_svm, y_test['label']\n",
        "])"
      ],
      "execution_count": null,
      "outputs": []
    },
    {
      "cell_type": "code",
      "metadata": {
        "colab": {
          "base_uri": "https://localhost:8080/",
          "height": 419
        },
        "id": "f6_7xO9c0Tw-",
        "outputId": "3af3bdee-222e-42bd-ace1-0935e289ed77"
      },
      "source": [
        "resultados = resultados_pred.T.rename(columns = {0:'y_hat_dt', 1:'y_hat_gnb', 2:'y_hat_knn',3:'y_hat_rf',4:'y_hat_svm', 5:'y_test'})\n",
        "resultados"
      ],
      "execution_count": null,
      "outputs": [
        {
          "output_type": "execute_result",
          "data": {
            "text/html": [
              "<div>\n",
              "<style scoped>\n",
              "    .dataframe tbody tr th:only-of-type {\n",
              "        vertical-align: middle;\n",
              "    }\n",
              "\n",
              "    .dataframe tbody tr th {\n",
              "        vertical-align: top;\n",
              "    }\n",
              "\n",
              "    .dataframe thead th {\n",
              "        text-align: right;\n",
              "    }\n",
              "</style>\n",
              "<table border=\"1\" class=\"dataframe\">\n",
              "  <thead>\n",
              "    <tr style=\"text-align: right;\">\n",
              "      <th></th>\n",
              "      <th>y_hat_dt</th>\n",
              "      <th>y_hat_gnb</th>\n",
              "      <th>y_hat_knn</th>\n",
              "      <th>y_hat_rf</th>\n",
              "      <th>y_hat_svm</th>\n",
              "      <th>y_test</th>\n",
              "    </tr>\n",
              "  </thead>\n",
              "  <tbody>\n",
              "    <tr>\n",
              "      <th>0</th>\n",
              "      <td>1</td>\n",
              "      <td>0</td>\n",
              "      <td>2</td>\n",
              "      <td>0</td>\n",
              "      <td>0</td>\n",
              "      <td>0</td>\n",
              "    </tr>\n",
              "    <tr>\n",
              "      <th>1</th>\n",
              "      <td>1</td>\n",
              "      <td>0</td>\n",
              "      <td>2</td>\n",
              "      <td>1</td>\n",
              "      <td>0</td>\n",
              "      <td>1</td>\n",
              "    </tr>\n",
              "    <tr>\n",
              "      <th>2</th>\n",
              "      <td>0</td>\n",
              "      <td>0</td>\n",
              "      <td>0</td>\n",
              "      <td>0</td>\n",
              "      <td>0</td>\n",
              "      <td>0</td>\n",
              "    </tr>\n",
              "    <tr>\n",
              "      <th>3</th>\n",
              "      <td>1</td>\n",
              "      <td>0</td>\n",
              "      <td>2</td>\n",
              "      <td>1</td>\n",
              "      <td>2</td>\n",
              "      <td>2</td>\n",
              "    </tr>\n",
              "    <tr>\n",
              "      <th>4</th>\n",
              "      <td>0</td>\n",
              "      <td>0</td>\n",
              "      <td>0</td>\n",
              "      <td>1</td>\n",
              "      <td>2</td>\n",
              "      <td>2</td>\n",
              "    </tr>\n",
              "    <tr>\n",
              "      <th>...</th>\n",
              "      <td>...</td>\n",
              "      <td>...</td>\n",
              "      <td>...</td>\n",
              "      <td>...</td>\n",
              "      <td>...</td>\n",
              "      <td>...</td>\n",
              "    </tr>\n",
              "    <tr>\n",
              "      <th>35319</th>\n",
              "      <td>1</td>\n",
              "      <td>0</td>\n",
              "      <td>2</td>\n",
              "      <td>2</td>\n",
              "      <td>2</td>\n",
              "      <td>2</td>\n",
              "    </tr>\n",
              "    <tr>\n",
              "      <th>35320</th>\n",
              "      <td>0</td>\n",
              "      <td>0</td>\n",
              "      <td>2</td>\n",
              "      <td>0</td>\n",
              "      <td>1</td>\n",
              "      <td>0</td>\n",
              "    </tr>\n",
              "    <tr>\n",
              "      <th>35321</th>\n",
              "      <td>0</td>\n",
              "      <td>0</td>\n",
              "      <td>0</td>\n",
              "      <td>0</td>\n",
              "      <td>0</td>\n",
              "      <td>0</td>\n",
              "    </tr>\n",
              "    <tr>\n",
              "      <th>35322</th>\n",
              "      <td>1</td>\n",
              "      <td>0</td>\n",
              "      <td>2</td>\n",
              "      <td>1</td>\n",
              "      <td>2</td>\n",
              "      <td>1</td>\n",
              "    </tr>\n",
              "    <tr>\n",
              "      <th>35323</th>\n",
              "      <td>2</td>\n",
              "      <td>0</td>\n",
              "      <td>0</td>\n",
              "      <td>2</td>\n",
              "      <td>2</td>\n",
              "      <td>1</td>\n",
              "    </tr>\n",
              "  </tbody>\n",
              "</table>\n",
              "<p>35324 rows × 6 columns</p>\n",
              "</div>"
            ],
            "text/plain": [
              "       y_hat_dt  y_hat_gnb  y_hat_knn  y_hat_rf  y_hat_svm  y_test\n",
              "0             1          0          2         0          0       0\n",
              "1             1          0          2         1          0       1\n",
              "2             0          0          0         0          0       0\n",
              "3             1          0          2         1          2       2\n",
              "4             0          0          0         1          2       2\n",
              "...         ...        ...        ...       ...        ...     ...\n",
              "35319         1          0          2         2          2       2\n",
              "35320         0          0          2         0          1       0\n",
              "35321         0          0          0         0          0       0\n",
              "35322         1          0          2         1          2       1\n",
              "35323         2          0          0         2          2       1\n",
              "\n",
              "[35324 rows x 6 columns]"
            ]
          },
          "metadata": {
            "tags": []
          },
          "execution_count": 210
        }
      ]
    },
    {
      "cell_type": "code",
      "metadata": {
        "id": "KBGXPw4a0TrH"
      },
      "source": [
        "#resultados.to_csv('/content/drive/MyDrive/001_Diplomado Ciencia de datos Avanzado/Proyecto_1/Modelo_de_Prediccion_Reingreso_Hospitalario/resultados_tres_clases.csv')"
      ],
      "execution_count": null,
      "outputs": []
    }
  ]
}
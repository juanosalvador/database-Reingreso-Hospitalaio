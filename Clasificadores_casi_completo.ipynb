{
  "nbformat": 4,
  "nbformat_minor": 0,
  "metadata": {
    "colab": {
      "name": "Clasificadores",
      "provenance": [],
      "collapsed_sections": [],
      "include_colab_link": true
    },
    "kernelspec": {
      "name": "python3",
      "display_name": "Python 3"
    }
  },
  "cells": [
    {
      "cell_type": "markdown",
      "metadata": {
        "id": "view-in-github",
        "colab_type": "text"
      },
      "source": [
        "<a href=\"https://colab.research.google.com/github/juanosalvador/database-Reingreso-Hospitalario/blob/main/Clasificadores_casi_completo.ipynb\" target=\"_parent\"><img src=\"https://colab.research.google.com/assets/colab-badge.svg\" alt=\"Open In Colab\"/></a>"
      ]
    },
    {
      "cell_type": "markdown",
      "metadata": {
        "id": "BmOgKXQS0CVX"
      },
      "source": [
        "\n",
        "# <center><h1> Modelo de Predicción: Reingreso Hospitalario</center></h1>\n",
        "---\n",
        "\n",
        "Un reingreso hospitalario es un episodio cuando un paciente que había sido dado de alta de un hospital es admitido de nuevo dentro de un intervalo de tiempo especificado. Las tasas de readmisión se han utilizado cada vez más como medida de resultado en la **investigación de servicios de salud y como referencia de calidad para los sistemas de salud**. La idea de este proyecto es predecir si un paciente con diabetes va a ser\n",
        "readmitido a un hospital en función de 127 atributos (edad, sexo, tiempo en el hospital,\n",
        "medicamentos, etc.)\n",
        "\n",
        "---\n",
        "\n",
        "<center><h1> Descripción del Set de Datos</h1></center>\n",
        "\n",
        "El conjunto de datos representa 10 años de (1999-2008) de atención clínica en 130 hospitales y redes integradas de prestación de servicios de EE.UU.  Incluye más de 50 funciones que representan los resultados del paciente y del hospital.\n",
        "Se extrajo información de la base de datos para los encuentros que \n",
        "cumplieron con los siguientes criterios.\n",
        "\n",
        "* Es un encuentro hospitalario (una admisión hospitalaria).\n",
        "*  Es un encuentro diabético, es decir, durante el cual se ingresó al sistema cualquier tipo de diabetes como diagnóstico.\n",
        "* La duración de la estancia fue de al menos 1 día y como máximo 14 días.\n",
        "*  Se realizaron pruebas de laboratorio durante el encuentro.\n",
        "* Se administraron medicamentos durante el encuentro.\n",
        "\n",
        "Los datos contienen atributos tales como número de paciente, raza, sexo, edad, tipo de admisión, tiempo en el hospital, especialidad médica del médico que lo admite, número de pruebas de laboratorio realizadas, resultado de la prueba de HbA1c, diagnóstico, cantidad de medicación, medicamentos para diabéticos, cantidad de pacientes ambulatorios , visitas hospitalarias y urgentes en el año anterior a la hospitalización, etc.\n",
        "\n",
        "En general, la bd cuenta con 50 atributos con la información anteriormente señalada, y un total de 101766 registros. La base de datos buscar predecir la readmisión de un paciente, esta variable esta compuesta de dos valores: \n",
        "* Readmisión del paciente dentro de los 30 días posteriores al alta.\n",
        "* Readmisión del paciente despues de los 30 días posteriores al alta, que también engloba la no readmisión.\n",
        "\n",
        "\n",
        "Datos: http://bit.ly/1aZzTmO\n",
        "---"
      ]
    },
    {
      "cell_type": "code",
      "metadata": {
        "id": "o3f_NhfhbQL9"
      },
      "source": [
        "import pandas as pd\n",
        "import numpy as np\n",
        "import matplotlib.pyplot as plt"
      ],
      "execution_count": null,
      "outputs": []
    },
    {
      "cell_type": "code",
      "metadata": {
        "id": "Iqlzbwzwa-Ke"
      },
      "source": [
        "url = 'https://raw.githubusercontent.com/juanosalvador/database-Reingreso-Hospitalario/main/diabetic_data.csv'"
      ],
      "execution_count": null,
      "outputs": []
    },
    {
      "cell_type": "markdown",
      "metadata": {
        "id": "3uJ_953a-djP"
      },
      "source": [
        "# <center><h1> 1. Exploración y Limpieza de datos </h1></center>\n",
        "\n",
        "---"
      ]
    },
    {
      "cell_type": "code",
      "metadata": {
        "id": "fGzuMPlabjS9"
      },
      "source": [
        "df = pd.read_csv(url)"
      ],
      "execution_count": null,
      "outputs": []
    },
    {
      "cell_type": "code",
      "metadata": {
        "id": "sUgHe1vdbk0R",
        "colab": {
          "base_uri": "https://localhost:8080/",
          "height": 326
        },
        "outputId": "50a0b94e-6b9b-4721-ba86-a5a8b61b0ed5"
      },
      "source": [
        "df.head()"
      ],
      "execution_count": null,
      "outputs": [
        {
          "output_type": "execute_result",
          "data": {
            "text/html": [
              "<div>\n",
              "<style scoped>\n",
              "    .dataframe tbody tr th:only-of-type {\n",
              "        vertical-align: middle;\n",
              "    }\n",
              "\n",
              "    .dataframe tbody tr th {\n",
              "        vertical-align: top;\n",
              "    }\n",
              "\n",
              "    .dataframe thead th {\n",
              "        text-align: right;\n",
              "    }\n",
              "</style>\n",
              "<table border=\"1\" class=\"dataframe\">\n",
              "  <thead>\n",
              "    <tr style=\"text-align: right;\">\n",
              "      <th></th>\n",
              "      <th>encounter_id</th>\n",
              "      <th>patient_nbr</th>\n",
              "      <th>race</th>\n",
              "      <th>gender</th>\n",
              "      <th>age</th>\n",
              "      <th>weight</th>\n",
              "      <th>admission_type_id</th>\n",
              "      <th>discharge_disposition_id</th>\n",
              "      <th>admission_source_id</th>\n",
              "      <th>time_in_hospital</th>\n",
              "      <th>payer_code</th>\n",
              "      <th>medical_specialty</th>\n",
              "      <th>num_lab_procedures</th>\n",
              "      <th>num_procedures</th>\n",
              "      <th>num_medications</th>\n",
              "      <th>number_outpatient</th>\n",
              "      <th>number_emergency</th>\n",
              "      <th>number_inpatient</th>\n",
              "      <th>diag_1</th>\n",
              "      <th>diag_2</th>\n",
              "      <th>diag_3</th>\n",
              "      <th>number_diagnoses</th>\n",
              "      <th>max_glu_serum</th>\n",
              "      <th>A1Cresult</th>\n",
              "      <th>metformin</th>\n",
              "      <th>repaglinide</th>\n",
              "      <th>nateglinide</th>\n",
              "      <th>chlorpropamide</th>\n",
              "      <th>glimepiride</th>\n",
              "      <th>acetohexamide</th>\n",
              "      <th>glipizide</th>\n",
              "      <th>glyburide</th>\n",
              "      <th>tolbutamide</th>\n",
              "      <th>pioglitazone</th>\n",
              "      <th>rosiglitazone</th>\n",
              "      <th>acarbose</th>\n",
              "      <th>miglitol</th>\n",
              "      <th>troglitazone</th>\n",
              "      <th>tolazamide</th>\n",
              "      <th>examide</th>\n",
              "      <th>citoglipton</th>\n",
              "      <th>insulin</th>\n",
              "      <th>glyburide-metformin</th>\n",
              "      <th>glipizide-metformin</th>\n",
              "      <th>glimepiride-pioglitazone</th>\n",
              "      <th>metformin-rosiglitazone</th>\n",
              "      <th>metformin-pioglitazone</th>\n",
              "      <th>change</th>\n",
              "      <th>diabetesMed</th>\n",
              "      <th>readmitted</th>\n",
              "    </tr>\n",
              "  </thead>\n",
              "  <tbody>\n",
              "    <tr>\n",
              "      <th>0</th>\n",
              "      <td>2278392</td>\n",
              "      <td>8222157</td>\n",
              "      <td>Caucasian</td>\n",
              "      <td>Female</td>\n",
              "      <td>[0-10)</td>\n",
              "      <td>?</td>\n",
              "      <td>6</td>\n",
              "      <td>25</td>\n",
              "      <td>1</td>\n",
              "      <td>1</td>\n",
              "      <td>?</td>\n",
              "      <td>Pediatrics-Endocrinology</td>\n",
              "      <td>41</td>\n",
              "      <td>0</td>\n",
              "      <td>1</td>\n",
              "      <td>0</td>\n",
              "      <td>0</td>\n",
              "      <td>0</td>\n",
              "      <td>250.83</td>\n",
              "      <td>?</td>\n",
              "      <td>?</td>\n",
              "      <td>1</td>\n",
              "      <td>None</td>\n",
              "      <td>None</td>\n",
              "      <td>No</td>\n",
              "      <td>No</td>\n",
              "      <td>No</td>\n",
              "      <td>No</td>\n",
              "      <td>No</td>\n",
              "      <td>No</td>\n",
              "      <td>No</td>\n",
              "      <td>No</td>\n",
              "      <td>No</td>\n",
              "      <td>No</td>\n",
              "      <td>No</td>\n",
              "      <td>No</td>\n",
              "      <td>No</td>\n",
              "      <td>No</td>\n",
              "      <td>No</td>\n",
              "      <td>No</td>\n",
              "      <td>No</td>\n",
              "      <td>No</td>\n",
              "      <td>No</td>\n",
              "      <td>No</td>\n",
              "      <td>No</td>\n",
              "      <td>No</td>\n",
              "      <td>No</td>\n",
              "      <td>No</td>\n",
              "      <td>No</td>\n",
              "      <td>NO</td>\n",
              "    </tr>\n",
              "    <tr>\n",
              "      <th>1</th>\n",
              "      <td>149190</td>\n",
              "      <td>55629189</td>\n",
              "      <td>Caucasian</td>\n",
              "      <td>Female</td>\n",
              "      <td>[10-20)</td>\n",
              "      <td>?</td>\n",
              "      <td>1</td>\n",
              "      <td>1</td>\n",
              "      <td>7</td>\n",
              "      <td>3</td>\n",
              "      <td>?</td>\n",
              "      <td>?</td>\n",
              "      <td>59</td>\n",
              "      <td>0</td>\n",
              "      <td>18</td>\n",
              "      <td>0</td>\n",
              "      <td>0</td>\n",
              "      <td>0</td>\n",
              "      <td>276</td>\n",
              "      <td>250.01</td>\n",
              "      <td>255</td>\n",
              "      <td>9</td>\n",
              "      <td>None</td>\n",
              "      <td>None</td>\n",
              "      <td>No</td>\n",
              "      <td>No</td>\n",
              "      <td>No</td>\n",
              "      <td>No</td>\n",
              "      <td>No</td>\n",
              "      <td>No</td>\n",
              "      <td>No</td>\n",
              "      <td>No</td>\n",
              "      <td>No</td>\n",
              "      <td>No</td>\n",
              "      <td>No</td>\n",
              "      <td>No</td>\n",
              "      <td>No</td>\n",
              "      <td>No</td>\n",
              "      <td>No</td>\n",
              "      <td>No</td>\n",
              "      <td>No</td>\n",
              "      <td>Up</td>\n",
              "      <td>No</td>\n",
              "      <td>No</td>\n",
              "      <td>No</td>\n",
              "      <td>No</td>\n",
              "      <td>No</td>\n",
              "      <td>Ch</td>\n",
              "      <td>Yes</td>\n",
              "      <td>&gt;30</td>\n",
              "    </tr>\n",
              "    <tr>\n",
              "      <th>2</th>\n",
              "      <td>64410</td>\n",
              "      <td>86047875</td>\n",
              "      <td>AfricanAmerican</td>\n",
              "      <td>Female</td>\n",
              "      <td>[20-30)</td>\n",
              "      <td>?</td>\n",
              "      <td>1</td>\n",
              "      <td>1</td>\n",
              "      <td>7</td>\n",
              "      <td>2</td>\n",
              "      <td>?</td>\n",
              "      <td>?</td>\n",
              "      <td>11</td>\n",
              "      <td>5</td>\n",
              "      <td>13</td>\n",
              "      <td>2</td>\n",
              "      <td>0</td>\n",
              "      <td>1</td>\n",
              "      <td>648</td>\n",
              "      <td>250</td>\n",
              "      <td>V27</td>\n",
              "      <td>6</td>\n",
              "      <td>None</td>\n",
              "      <td>None</td>\n",
              "      <td>No</td>\n",
              "      <td>No</td>\n",
              "      <td>No</td>\n",
              "      <td>No</td>\n",
              "      <td>No</td>\n",
              "      <td>No</td>\n",
              "      <td>Steady</td>\n",
              "      <td>No</td>\n",
              "      <td>No</td>\n",
              "      <td>No</td>\n",
              "      <td>No</td>\n",
              "      <td>No</td>\n",
              "      <td>No</td>\n",
              "      <td>No</td>\n",
              "      <td>No</td>\n",
              "      <td>No</td>\n",
              "      <td>No</td>\n",
              "      <td>No</td>\n",
              "      <td>No</td>\n",
              "      <td>No</td>\n",
              "      <td>No</td>\n",
              "      <td>No</td>\n",
              "      <td>No</td>\n",
              "      <td>No</td>\n",
              "      <td>Yes</td>\n",
              "      <td>NO</td>\n",
              "    </tr>\n",
              "    <tr>\n",
              "      <th>3</th>\n",
              "      <td>500364</td>\n",
              "      <td>82442376</td>\n",
              "      <td>Caucasian</td>\n",
              "      <td>Male</td>\n",
              "      <td>[30-40)</td>\n",
              "      <td>?</td>\n",
              "      <td>1</td>\n",
              "      <td>1</td>\n",
              "      <td>7</td>\n",
              "      <td>2</td>\n",
              "      <td>?</td>\n",
              "      <td>?</td>\n",
              "      <td>44</td>\n",
              "      <td>1</td>\n",
              "      <td>16</td>\n",
              "      <td>0</td>\n",
              "      <td>0</td>\n",
              "      <td>0</td>\n",
              "      <td>8</td>\n",
              "      <td>250.43</td>\n",
              "      <td>403</td>\n",
              "      <td>7</td>\n",
              "      <td>None</td>\n",
              "      <td>None</td>\n",
              "      <td>No</td>\n",
              "      <td>No</td>\n",
              "      <td>No</td>\n",
              "      <td>No</td>\n",
              "      <td>No</td>\n",
              "      <td>No</td>\n",
              "      <td>No</td>\n",
              "      <td>No</td>\n",
              "      <td>No</td>\n",
              "      <td>No</td>\n",
              "      <td>No</td>\n",
              "      <td>No</td>\n",
              "      <td>No</td>\n",
              "      <td>No</td>\n",
              "      <td>No</td>\n",
              "      <td>No</td>\n",
              "      <td>No</td>\n",
              "      <td>Up</td>\n",
              "      <td>No</td>\n",
              "      <td>No</td>\n",
              "      <td>No</td>\n",
              "      <td>No</td>\n",
              "      <td>No</td>\n",
              "      <td>Ch</td>\n",
              "      <td>Yes</td>\n",
              "      <td>NO</td>\n",
              "    </tr>\n",
              "    <tr>\n",
              "      <th>4</th>\n",
              "      <td>16680</td>\n",
              "      <td>42519267</td>\n",
              "      <td>Caucasian</td>\n",
              "      <td>Male</td>\n",
              "      <td>[40-50)</td>\n",
              "      <td>?</td>\n",
              "      <td>1</td>\n",
              "      <td>1</td>\n",
              "      <td>7</td>\n",
              "      <td>1</td>\n",
              "      <td>?</td>\n",
              "      <td>?</td>\n",
              "      <td>51</td>\n",
              "      <td>0</td>\n",
              "      <td>8</td>\n",
              "      <td>0</td>\n",
              "      <td>0</td>\n",
              "      <td>0</td>\n",
              "      <td>197</td>\n",
              "      <td>157</td>\n",
              "      <td>250</td>\n",
              "      <td>5</td>\n",
              "      <td>None</td>\n",
              "      <td>None</td>\n",
              "      <td>No</td>\n",
              "      <td>No</td>\n",
              "      <td>No</td>\n",
              "      <td>No</td>\n",
              "      <td>No</td>\n",
              "      <td>No</td>\n",
              "      <td>Steady</td>\n",
              "      <td>No</td>\n",
              "      <td>No</td>\n",
              "      <td>No</td>\n",
              "      <td>No</td>\n",
              "      <td>No</td>\n",
              "      <td>No</td>\n",
              "      <td>No</td>\n",
              "      <td>No</td>\n",
              "      <td>No</td>\n",
              "      <td>No</td>\n",
              "      <td>Steady</td>\n",
              "      <td>No</td>\n",
              "      <td>No</td>\n",
              "      <td>No</td>\n",
              "      <td>No</td>\n",
              "      <td>No</td>\n",
              "      <td>Ch</td>\n",
              "      <td>Yes</td>\n",
              "      <td>NO</td>\n",
              "    </tr>\n",
              "  </tbody>\n",
              "</table>\n",
              "</div>"
            ],
            "text/plain": [
              "   encounter_id  patient_nbr             race  ... change diabetesMed readmitted\n",
              "0       2278392      8222157        Caucasian  ...     No          No         NO\n",
              "1        149190     55629189        Caucasian  ...     Ch         Yes        >30\n",
              "2         64410     86047875  AfricanAmerican  ...     No         Yes         NO\n",
              "3        500364     82442376        Caucasian  ...     Ch         Yes         NO\n",
              "4         16680     42519267        Caucasian  ...     Ch         Yes         NO\n",
              "\n",
              "[5 rows x 50 columns]"
            ]
          },
          "metadata": {
            "tags": []
          },
          "execution_count": 90
        }
      ]
    },
    {
      "cell_type": "markdown",
      "metadata": {
        "id": "qpmXJN9jVGkz"
      },
      "source": [
        "La base de datos cuenta con un total de 50 atributos. La gran mayoría de las variables son no métricas del tipo nominal. También se registran variables métricas, específicamente discretas o cuantitativas discretas, no se regsitraron variables cuantitativas continuas."
      ]
    },
    {
      "cell_type": "code",
      "metadata": {
        "colab": {
          "base_uri": "https://localhost:8080/"
        },
        "id": "hW9rwfT1LK27",
        "outputId": "d5ab58d6-b819-45cc-ce38-e9e2e05884ac"
      },
      "source": [
        "df.info()"
      ],
      "execution_count": null,
      "outputs": [
        {
          "output_type": "stream",
          "text": [
            "<class 'pandas.core.frame.DataFrame'>\n",
            "RangeIndex: 101766 entries, 0 to 101765\n",
            "Data columns (total 50 columns):\n",
            " #   Column                    Non-Null Count   Dtype \n",
            "---  ------                    --------------   ----- \n",
            " 0   encounter_id              101766 non-null  int64 \n",
            " 1   patient_nbr               101766 non-null  int64 \n",
            " 2   race                      101766 non-null  object\n",
            " 3   gender                    101766 non-null  object\n",
            " 4   age                       101766 non-null  object\n",
            " 5   weight                    101766 non-null  object\n",
            " 6   admission_type_id         101766 non-null  int64 \n",
            " 7   discharge_disposition_id  101766 non-null  int64 \n",
            " 8   admission_source_id       101766 non-null  int64 \n",
            " 9   time_in_hospital          101766 non-null  int64 \n",
            " 10  payer_code                101766 non-null  object\n",
            " 11  medical_specialty         101766 non-null  object\n",
            " 12  num_lab_procedures        101766 non-null  int64 \n",
            " 13  num_procedures            101766 non-null  int64 \n",
            " 14  num_medications           101766 non-null  int64 \n",
            " 15  number_outpatient         101766 non-null  int64 \n",
            " 16  number_emergency          101766 non-null  int64 \n",
            " 17  number_inpatient          101766 non-null  int64 \n",
            " 18  diag_1                    101766 non-null  object\n",
            " 19  diag_2                    101766 non-null  object\n",
            " 20  diag_3                    101766 non-null  object\n",
            " 21  number_diagnoses          101766 non-null  int64 \n",
            " 22  max_glu_serum             101766 non-null  object\n",
            " 23  A1Cresult                 101766 non-null  object\n",
            " 24  metformin                 101766 non-null  object\n",
            " 25  repaglinide               101766 non-null  object\n",
            " 26  nateglinide               101766 non-null  object\n",
            " 27  chlorpropamide            101766 non-null  object\n",
            " 28  glimepiride               101766 non-null  object\n",
            " 29  acetohexamide             101766 non-null  object\n",
            " 30  glipizide                 101766 non-null  object\n",
            " 31  glyburide                 101766 non-null  object\n",
            " 32  tolbutamide               101766 non-null  object\n",
            " 33  pioglitazone              101766 non-null  object\n",
            " 34  rosiglitazone             101766 non-null  object\n",
            " 35  acarbose                  101766 non-null  object\n",
            " 36  miglitol                  101766 non-null  object\n",
            " 37  troglitazone              101766 non-null  object\n",
            " 38  tolazamide                101766 non-null  object\n",
            " 39  examide                   101766 non-null  object\n",
            " 40  citoglipton               101766 non-null  object\n",
            " 41  insulin                   101766 non-null  object\n",
            " 42  glyburide-metformin       101766 non-null  object\n",
            " 43  glipizide-metformin       101766 non-null  object\n",
            " 44  glimepiride-pioglitazone  101766 non-null  object\n",
            " 45  metformin-rosiglitazone   101766 non-null  object\n",
            " 46  metformin-pioglitazone    101766 non-null  object\n",
            " 47  change                    101766 non-null  object\n",
            " 48  diabetesMed               101766 non-null  object\n",
            " 49  readmitted                101766 non-null  object\n",
            "dtypes: int64(13), object(37)\n",
            "memory usage: 38.8+ MB\n"
          ],
          "name": "stdout"
        }
      ]
    },
    {
      "cell_type": "markdown",
      "metadata": {
        "id": "jiui5di5R2Wj"
      },
      "source": [
        "La BD contiene un total de 101766 registros, de los cuales hay pacientes duplicados debido a que ya han reingresado con anterioridad. Estos registros serán eliminados, solo se conservará el primer ingreso registrado para cada paciente, esto evitará sesgar los resultados hacia los pacientes que tienen multiples encuentros. Por lo tanto, la base de datos queda con un total de 71518 registros y 50 columnas."
      ]
    },
    {
      "cell_type": "code",
      "metadata": {
        "id": "gqNN0iLvR1hr"
      },
      "source": [
        "df = df.drop_duplicates(subset= ['patient_nbr'], keep = 'first')"
      ],
      "execution_count": null,
      "outputs": []
    },
    {
      "cell_type": "code",
      "metadata": {
        "colab": {
          "base_uri": "https://localhost:8080/"
        },
        "id": "PKbzrX7UR1Wg",
        "outputId": "0cc97c09-9d46-4457-863d-a32a55900aea"
      },
      "source": [
        "df.shape"
      ],
      "execution_count": null,
      "outputs": [
        {
          "output_type": "execute_result",
          "data": {
            "text/plain": [
              "(71518, 50)"
            ]
          },
          "metadata": {
            "tags": []
          },
          "execution_count": 93
        }
      ]
    },
    {
      "cell_type": "markdown",
      "metadata": {
        "id": "soNcF15NLJkz"
      },
      "source": [
        "# 1.1 Detección de valores faltantes.\n",
        "\n",
        "En la BD, los datos faltantes están representados con un signo de interrogación \"?\", para el atributo \"gender\" los datos faltantes están representados como \"Unknow/Invalid\". Estos registros serán reemplazados por \"nan\"."
      ]
    },
    {
      "cell_type": "code",
      "metadata": {
        "id": "GMKl_dgVLJXx"
      },
      "source": [
        "## reemplazando por faltantes\n",
        "df = df.replace('Unknown/Invalid', np.nan)\n",
        "df = df.replace('?',np.nan)"
      ],
      "execution_count": null,
      "outputs": []
    },
    {
      "cell_type": "code",
      "metadata": {
        "colab": {
          "base_uri": "https://localhost:8080/"
        },
        "id": "Udu4PpR_OrA3",
        "outputId": "d4088a26-d469-4c97-cbcc-6468f08374f3"
      },
      "source": [
        "## Columnas con valores faltantes\n",
        "print('Columnas con valores faltantes:')\n",
        "print('')\n",
        "for col in df.columns:\n",
        "  if df[col].isnull().sum() >0 :\n",
        "    faltantes = round(df[col].isnull().sum()*100 / len(df), 3)\n",
        "    print(col,'-->',str(faltantes) + ' %')"
      ],
      "execution_count": null,
      "outputs": [
        {
          "output_type": "stream",
          "text": [
            "Columnas con valores faltantes:\n",
            "\n",
            "race --> 2.724 %\n",
            "gender --> 0.004 %\n",
            "weight --> 96.011 %\n",
            "payer_code --> 43.406 %\n",
            "medical_specialty --> 48.207 %\n",
            "diag_1 --> 0.015 %\n",
            "diag_2 --> 0.411 %\n",
            "diag_3 --> 1.713 %\n"
          ],
          "name": "stdout"
        }
      ]
    },
    {
      "cell_type": "markdown",
      "metadata": {
        "id": "PTFk83jWP41N"
      },
      "source": [
        "# 1.2 Tratamiento de valores Faltantes\n",
        "\n",
        "* Race: Solo tiene un 2.724% de valores faltantes por lo cual estos registros serán eliminados.\n",
        "\n",
        "* Gender: Solo tiene un 0.004% de faltantes, estos registros serán eliminados.\n",
        "\n",
        "* Weight: Tiene un total de 96.011%, tratar esta columnas e inviable por lo tanto será eliminada\n",
        "\n",
        "* Payer Code: Con un total de 43.406%. Se completarán los faltantes con \"No value\".\n",
        "\n",
        "* Medical especialty: Con un total de 48.2% de datos faltantes. Se completarán los faltantes con \"No value\".\n",
        "\n",
        "* diag_1, diag_2, diag_3: De estos tres atributos solo se utilizará la columnas diag_1, de acuerdo a lo planteado en el paper.\n",
        "\n"
      ]
    },
    {
      "cell_type": "code",
      "metadata": {
        "id": "wARN30htOq9U"
      },
      "source": [
        "## Eliminando columnas\n",
        "df = df.drop(['weight'], axis = 1)"
      ],
      "execution_count": null,
      "outputs": []
    },
    {
      "cell_type": "code",
      "metadata": {
        "id": "ZvJMg31isTeD"
      },
      "source": [
        "## Completando con \"No value\" los valores nan\n",
        "df['payer_code'].fillna('No value', inplace = True)\n",
        "df['medical_specialty'].fillna('No value', inplace = True)"
      ],
      "execution_count": null,
      "outputs": []
    },
    {
      "cell_type": "code",
      "metadata": {
        "id": "_ksF8NB1YZ1T"
      },
      "source": [
        "#ELiminando filas con valores faltantes\n",
        "df.dropna(inplace= True)"
      ],
      "execution_count": null,
      "outputs": []
    },
    {
      "cell_type": "code",
      "metadata": {
        "colab": {
          "base_uri": "https://localhost:8080/"
        },
        "id": "W884EyO1Oq3W",
        "outputId": "f678f445-f2c0-4d12-bfa1-5ff9d887a6ca"
      },
      "source": [
        "df.shape"
      ],
      "execution_count": null,
      "outputs": [
        {
          "output_type": "execute_result",
          "data": {
            "text/plain": [
              "(68357, 49)"
            ]
          },
          "metadata": {
            "tags": []
          },
          "execution_count": 99
        }
      ]
    },
    {
      "cell_type": "markdown",
      "metadata": {
        "id": "dCi0D8OBYznA"
      },
      "source": [
        "# 1.3 Eliminando Columnas categóricas con un solo valor\n",
        "\n"
      ]
    },
    {
      "cell_type": "code",
      "metadata": {
        "id": "9KDrWa78bAWe"
      },
      "source": [
        "categoricos = df.select_dtypes(include = 'object') ## Separando datos categóricos\n",
        "numericos = df.select_dtypes(exclude = 'object') # Separando datos numéricos"
      ],
      "execution_count": null,
      "outputs": []
    },
    {
      "cell_type": "code",
      "metadata": {
        "id": "-fpbrM1ZYzXp"
      },
      "source": [
        "## Identificando columnas con solo una categoría\n",
        "### funcion resumen\n",
        "def resume(data,col):\n",
        "  tabla = data.groupby(col).size().reset_index().rename(columns={0:'Frec. Abs'}).sort_values(by=['Frec. Abs'], ascending = False).reset_index(drop=True)\n",
        "  return tabla\n",
        "def DetectOneCategory(categoricos):\n",
        "  col_1categoria = []\n",
        "  for col in categoricos:\n",
        "    cat = resume(categoricos,col).shape[0]\n",
        "    if cat ==1:\n",
        "      col_1categoria.append(col)\n",
        "      print(col, '-->', resume(categoricos,col).shape[0], 'categoría')"
      ],
      "execution_count": null,
      "outputs": []
    },
    {
      "cell_type": "code",
      "metadata": {
        "colab": {
          "base_uri": "https://localhost:8080/"
        },
        "id": "mCVJrWJGOqsC",
        "outputId": "b496e2a1-3cb3-466c-c0ed-a4951f9aa7ea"
      },
      "source": [
        "DetectOneCategory(categoricos)"
      ],
      "execution_count": null,
      "outputs": [
        {
          "output_type": "stream",
          "text": [
            "examide --> 1 categoría\n",
            "citoglipton --> 1 categoría\n",
            "glimepiride-pioglitazone --> 1 categoría\n",
            "metformin-rosiglitazone --> 1 categoría\n"
          ],
          "name": "stdout"
        }
      ]
    },
    {
      "cell_type": "markdown",
      "metadata": {
        "id": "uZ8fWvL8di8R"
      },
      "source": [
        "* La variable examide y citoglipton solo tienen una categoria, lo cual no aportan información, serán eliminadas.\n",
        "\n",
        "* Las variables metformin-rosiglitazone y metformin-rosglitazonen no se elmiminarán ya que son indicadores que informan su se le suministro medicamentos al paciente durante la estadía hospitalaria."
      ]
    },
    {
      "cell_type": "code",
      "metadata": {
        "id": "Nf6LqamBPEu9"
      },
      "source": [
        "## Removemos el id del encuetntro y el id de paciente\n",
        "df = df.drop(['encounter_id','patient_nbr'], axis = 1)"
      ],
      "execution_count": null,
      "outputs": []
    },
    {
      "cell_type": "code",
      "metadata": {
        "id": "XKLISArZd9SO"
      },
      "source": [
        "df = df.drop(['examide','citoglipton'], axis = 1)"
      ],
      "execution_count": null,
      "outputs": []
    },
    {
      "cell_type": "markdown",
      "metadata": {
        "id": "GyoNGWi5z-Jt"
      },
      "source": [
        "# 1.4 Eliminando registros\n",
        "\n",
        "De la columna discharge_disposition, la cual informa a donde fue el paciente despues del alta, se eliminarán las categorías relacionadas a cuando el paciente falleció o fue alta a un hospicio (según https://www.hindawi.com/journals/bmri/2014/781670/), estos registros se eliminan ya que no se pueden readmitir."
      ]
    },
    {
      "cell_type": "code",
      "metadata": {
        "id": "zAZO6OJ6z8mK"
      },
      "source": [
        "df = df.loc[~df.discharge_disposition_id.isin([11,13,14,19,20,21])]"
      ],
      "execution_count": null,
      "outputs": []
    },
    {
      "cell_type": "markdown",
      "metadata": {
        "id": "3zZPdpGhfPLO"
      },
      "source": [
        "# 2. Reducción de atributos de medicación\n",
        "\n",
        "* Reduciendo los atributos de medicación, estos atributos indican si se subió la dosis o se bajó, si se mantubo constante o no están en tratamiento. Se le asignara un uno a up, down, steady y un 0 a No"
      ]
    },
    {
      "cell_type": "code",
      "metadata": {
        "id": "3Nlfmw2ZfPAe"
      },
      "source": [
        "medicacion = ['metformin' ,'repaglinide','nateglinide','chlorpropamide','glimepiride','acetohexamide' ,'glipizide',\\\n",
        "              'glyburide', 'tolbutamide', 'pioglitazone','rosiglitazone', 'acarbose' ,'miglitol' ,'troglitazone', \\\n",
        "              'tolazamide', 'insulin' ,'glyburide-metformin','glipizide-metformin', \\\n",
        "              'glimepiride-pioglitazone', 'metformin-rosiglitazone', 'metformin-pioglitazone']"
      ],
      "execution_count": null,
      "outputs": []
    },
    {
      "cell_type": "code",
      "metadata": {
        "id": "zfZ9rBSffO20"
      },
      "source": [
        "#asignando un valor de 0 si no están en tratamiento y asignando 1 si están tomando si dosis creciente / decreciente / constante\n",
        "for i in medicacion:\n",
        "    df[i] = df[i].apply(lambda x: 0 if x == \"No\" else 1)"
      ],
      "execution_count": null,
      "outputs": []
    },
    {
      "cell_type": "code",
      "metadata": {
        "id": "gn8zPOCUgK-f"
      },
      "source": [
        "# Calculando el total de tratamientos tomados por el paciente\n",
        "df['indicador_tratamiento'] = np.zeros((len(df['metformin'])))\n",
        "for col in medicacion:\n",
        "    df['indicador_tratamiento'] += df[col]"
      ],
      "execution_count": null,
      "outputs": []
    },
    {
      "cell_type": "code",
      "metadata": {
        "id": "RIXNH17YgKxS"
      },
      "source": [
        "# Eliminamos todas las columnas de medicacion\n",
        "df = df.drop(medicacion, axis = 1)"
      ],
      "execution_count": null,
      "outputs": []
    },
    {
      "cell_type": "markdown",
      "metadata": {
        "id": "Wq5vX5QrgeNy"
      },
      "source": [
        "\n",
        "# 3.Tratamiento columnas diag_1, diag_2, diag_3"
      ]
    },
    {
      "cell_type": "code",
      "metadata": {
        "id": "2kjozxeAgeAQ"
      },
      "source": [
        "# Categorización basada de --> https://www.hindawi.com/journals/bmri/2014/781670/tab2/.Classified diagnóstico en 9 categorías\n",
        "#Categorias[0-8]: Other,Circulatory, Respiratory,Digestive, Diabetes,Injury, Musculoskeletal,Genitourinary,Neoplasms\n",
        "# función para clasificar los números en una de las 8 categorías\n",
        "def getCategor(x):\n",
        "    if 'V' in str(x) or 'E' in str(x):\n",
        "        return 0\n",
        "    \n",
        "    x = float(x)\n",
        "    \n",
        "    if (x >= 390 and x <= 459) or np.floor(x) == 785:\n",
        "        return 1\n",
        "    elif (x >= 460 and x <= 519) or np.floor(x) == 786:\n",
        "        return 2\n",
        "    elif (x >= 520 and x <= 579) or np.floor(x) == 787:\n",
        "        return 3\n",
        "    elif np.floor(x) == 250:\n",
        "        return 4\n",
        "    elif x >= 800 and x <= 999:\n",
        "        return 5\n",
        "    elif x >= 710 and x <= 739:\n",
        "        return 6\n",
        "    elif (x >= 580 and x <= 629) or np.floor(x) == 788:\n",
        "        return 7\n",
        "    elif x >= 140 and x <= 239:\n",
        "        return 8\n",
        "    else:\n",
        "        return 0"
      ],
      "execution_count": null,
      "outputs": []
    },
    {
      "cell_type": "code",
      "metadata": {
        "id": "FdbQJgtugd79"
      },
      "source": [
        "df['categorias_diag_1'] = df['diag_1'].apply(lambda x: getCategor(x))"
      ],
      "execution_count": null,
      "outputs": []
    },
    {
      "cell_type": "code",
      "metadata": {
        "id": "7hJnCJW8hmVt"
      },
      "source": [
        "## Eliminamos las categorias de diagnóstico que no se utilizarán\n",
        "df = df.drop(['diag_1','diag_2', 'diag_3'], axis = 1)"
      ],
      "execution_count": null,
      "outputs": []
    },
    {
      "cell_type": "markdown",
      "metadata": {
        "id": "VY3q9tbv2rOM"
      },
      "source": [
        "# 3.1 Columnas con muchas categorías"
      ]
    },
    {
      "cell_type": "code",
      "metadata": {
        "colab": {
          "base_uri": "https://localhost:8080/"
        },
        "id": "-06og9i82q49",
        "outputId": "9a45838f-6724-4f32-963e-1e50df2bb3ab"
      },
      "source": [
        "categoricos = df.select_dtypes(include = 'object') ## Separando datos categóricos\n",
        "## Identificando columnas con mas de 10 categorias\n",
        "def AlotCategory(categoricos, number_category):\n",
        "  col_cat = []\n",
        "  for col in categoricos:\n",
        "    cant_cat = len(categoricos[col].unique())\n",
        "    if cant_cat > number_category:\n",
        "      print('La columna ' , col , 'tiene ',cant_cat , ' Categorías')\n",
        "\n",
        "AlotCategory(categoricos, 20)"
      ],
      "execution_count": null,
      "outputs": [
        {
          "output_type": "stream",
          "text": [
            "La columna  medical_specialty tiene  71  Categorías\n"
          ],
          "name": "stdout"
        }
      ]
    },
    {
      "cell_type": "code",
      "metadata": {
        "id": "cginnZsg2yl2"
      },
      "source": [
        "## La columnas medical_specialty tiene 71 categorias, se hará un top 10 con las especialidades más frecuentes y el resto se incluíran \n",
        "# la categoría \"Otros\"\n",
        "top_10_medical_specialty = resume(df,'medical_specialty').iloc[0:10,:]['medical_specialty'].to_list()"
      ],
      "execution_count": null,
      "outputs": []
    },
    {
      "cell_type": "code",
      "metadata": {
        "id": "6isx3hYs2ySL"
      },
      "source": [
        "#df['medical_specialty2'] = df['medical_specialty'].copy()\n",
        "# Generamos la categoría \"otros\"\n",
        "#df.loc[~df.med_spe.isin(top_10_medical_specialty), 'med_spe'] = 'Otros'"
      ],
      "execution_count": null,
      "outputs": []
    },
    {
      "cell_type": "code",
      "metadata": {
        "id": "lzCXd4ur_y3a"
      },
      "source": [
        "df.loc[~df.medical_specialty.isin(top_10_medical_specialty), 'medical_specialty'] = 'Otros'"
      ],
      "execution_count": null,
      "outputs": []
    },
    {
      "cell_type": "code",
      "metadata": {
        "colab": {
          "base_uri": "https://localhost:8080/",
          "height": 309
        },
        "id": "o28yHEjr_FvY",
        "outputId": "77af410d-e60a-4a20-bc21-8e05d7a565b1"
      },
      "source": [
        "df.head()"
      ],
      "execution_count": null,
      "outputs": [
        {
          "output_type": "execute_result",
          "data": {
            "text/html": [
              "<div>\n",
              "<style scoped>\n",
              "    .dataframe tbody tr th:only-of-type {\n",
              "        vertical-align: middle;\n",
              "    }\n",
              "\n",
              "    .dataframe tbody tr th {\n",
              "        vertical-align: top;\n",
              "    }\n",
              "\n",
              "    .dataframe thead th {\n",
              "        text-align: right;\n",
              "    }\n",
              "</style>\n",
              "<table border=\"1\" class=\"dataframe\">\n",
              "  <thead>\n",
              "    <tr style=\"text-align: right;\">\n",
              "      <th></th>\n",
              "      <th>race</th>\n",
              "      <th>gender</th>\n",
              "      <th>age</th>\n",
              "      <th>admission_type_id</th>\n",
              "      <th>discharge_disposition_id</th>\n",
              "      <th>admission_source_id</th>\n",
              "      <th>time_in_hospital</th>\n",
              "      <th>payer_code</th>\n",
              "      <th>medical_specialty</th>\n",
              "      <th>num_lab_procedures</th>\n",
              "      <th>num_procedures</th>\n",
              "      <th>num_medications</th>\n",
              "      <th>number_outpatient</th>\n",
              "      <th>number_emergency</th>\n",
              "      <th>number_inpatient</th>\n",
              "      <th>number_diagnoses</th>\n",
              "      <th>max_glu_serum</th>\n",
              "      <th>A1Cresult</th>\n",
              "      <th>change</th>\n",
              "      <th>diabetesMed</th>\n",
              "      <th>readmitted</th>\n",
              "      <th>indicador_tratamiento</th>\n",
              "      <th>categorias_diag_1</th>\n",
              "    </tr>\n",
              "  </thead>\n",
              "  <tbody>\n",
              "    <tr>\n",
              "      <th>1</th>\n",
              "      <td>Caucasian</td>\n",
              "      <td>Female</td>\n",
              "      <td>[10-20)</td>\n",
              "      <td>1</td>\n",
              "      <td>1</td>\n",
              "      <td>7</td>\n",
              "      <td>3</td>\n",
              "      <td>No value</td>\n",
              "      <td>No value</td>\n",
              "      <td>59</td>\n",
              "      <td>0</td>\n",
              "      <td>18</td>\n",
              "      <td>0</td>\n",
              "      <td>0</td>\n",
              "      <td>0</td>\n",
              "      <td>9</td>\n",
              "      <td>None</td>\n",
              "      <td>None</td>\n",
              "      <td>Ch</td>\n",
              "      <td>Yes</td>\n",
              "      <td>&gt;30</td>\n",
              "      <td>1.0</td>\n",
              "      <td>0</td>\n",
              "    </tr>\n",
              "    <tr>\n",
              "      <th>2</th>\n",
              "      <td>AfricanAmerican</td>\n",
              "      <td>Female</td>\n",
              "      <td>[20-30)</td>\n",
              "      <td>1</td>\n",
              "      <td>1</td>\n",
              "      <td>7</td>\n",
              "      <td>2</td>\n",
              "      <td>No value</td>\n",
              "      <td>No value</td>\n",
              "      <td>11</td>\n",
              "      <td>5</td>\n",
              "      <td>13</td>\n",
              "      <td>2</td>\n",
              "      <td>0</td>\n",
              "      <td>1</td>\n",
              "      <td>6</td>\n",
              "      <td>None</td>\n",
              "      <td>None</td>\n",
              "      <td>No</td>\n",
              "      <td>Yes</td>\n",
              "      <td>NO</td>\n",
              "      <td>1.0</td>\n",
              "      <td>0</td>\n",
              "    </tr>\n",
              "    <tr>\n",
              "      <th>3</th>\n",
              "      <td>Caucasian</td>\n",
              "      <td>Male</td>\n",
              "      <td>[30-40)</td>\n",
              "      <td>1</td>\n",
              "      <td>1</td>\n",
              "      <td>7</td>\n",
              "      <td>2</td>\n",
              "      <td>No value</td>\n",
              "      <td>No value</td>\n",
              "      <td>44</td>\n",
              "      <td>1</td>\n",
              "      <td>16</td>\n",
              "      <td>0</td>\n",
              "      <td>0</td>\n",
              "      <td>0</td>\n",
              "      <td>7</td>\n",
              "      <td>None</td>\n",
              "      <td>None</td>\n",
              "      <td>Ch</td>\n",
              "      <td>Yes</td>\n",
              "      <td>NO</td>\n",
              "      <td>1.0</td>\n",
              "      <td>0</td>\n",
              "    </tr>\n",
              "    <tr>\n",
              "      <th>4</th>\n",
              "      <td>Caucasian</td>\n",
              "      <td>Male</td>\n",
              "      <td>[40-50)</td>\n",
              "      <td>1</td>\n",
              "      <td>1</td>\n",
              "      <td>7</td>\n",
              "      <td>1</td>\n",
              "      <td>No value</td>\n",
              "      <td>No value</td>\n",
              "      <td>51</td>\n",
              "      <td>0</td>\n",
              "      <td>8</td>\n",
              "      <td>0</td>\n",
              "      <td>0</td>\n",
              "      <td>0</td>\n",
              "      <td>5</td>\n",
              "      <td>None</td>\n",
              "      <td>None</td>\n",
              "      <td>Ch</td>\n",
              "      <td>Yes</td>\n",
              "      <td>NO</td>\n",
              "      <td>2.0</td>\n",
              "      <td>8</td>\n",
              "    </tr>\n",
              "    <tr>\n",
              "      <th>5</th>\n",
              "      <td>Caucasian</td>\n",
              "      <td>Male</td>\n",
              "      <td>[50-60)</td>\n",
              "      <td>2</td>\n",
              "      <td>1</td>\n",
              "      <td>2</td>\n",
              "      <td>3</td>\n",
              "      <td>No value</td>\n",
              "      <td>No value</td>\n",
              "      <td>31</td>\n",
              "      <td>6</td>\n",
              "      <td>16</td>\n",
              "      <td>0</td>\n",
              "      <td>0</td>\n",
              "      <td>0</td>\n",
              "      <td>9</td>\n",
              "      <td>None</td>\n",
              "      <td>None</td>\n",
              "      <td>No</td>\n",
              "      <td>Yes</td>\n",
              "      <td>&gt;30</td>\n",
              "      <td>1.0</td>\n",
              "      <td>1</td>\n",
              "    </tr>\n",
              "  </tbody>\n",
              "</table>\n",
              "</div>"
            ],
            "text/plain": [
              "              race  gender  ... indicador_tratamiento  categorias_diag_1\n",
              "1        Caucasian  Female  ...                   1.0                  0\n",
              "2  AfricanAmerican  Female  ...                   1.0                  0\n",
              "3        Caucasian    Male  ...                   1.0                  0\n",
              "4        Caucasian    Male  ...                   2.0                  8\n",
              "5        Caucasian    Male  ...                   1.0                  1\n",
              "\n",
              "[5 rows x 23 columns]"
            ]
          },
          "metadata": {
            "tags": []
          },
          "execution_count": 117
        }
      ]
    },
    {
      "cell_type": "markdown",
      "metadata": {
        "id": "ZdzfPH8Thu9X"
      },
      "source": [
        "# 4. Tratamiento variable age"
      ]
    },
    {
      "cell_type": "code",
      "metadata": {
        "id": "nQsb3Z7Khusr"
      },
      "source": [
        "## Age\n",
        "# funcion para establecer el valor promedio en la variable edad\n",
        "def agecategory(x):\n",
        "    \n",
        "    if x == \"[0-10)\" :\n",
        "        return 5\n",
        "    elif x == \"[10-20)\":\n",
        "        return 15\n",
        "    elif x == \"[20-30)\":\n",
        "        return 25\n",
        "    elif x == \"[30-40)\":\n",
        "        return 35\n",
        "    elif x == \"[40-50)\":\n",
        "        return 45\n",
        "    elif x == \"[50-60)\":\n",
        "        return 55\n",
        "    elif x == \"[60-70)\":\n",
        "        return 65\n",
        "    elif x == \"[70-80)\":\n",
        "        return 75\n",
        "    else:\n",
        "        return 0"
      ],
      "execution_count": null,
      "outputs": []
    },
    {
      "cell_type": "code",
      "metadata": {
        "id": "2I-lidrChupS"
      },
      "source": [
        "df['age'] = df['age'].apply(lambda x: agecategory(x))"
      ],
      "execution_count": null,
      "outputs": []
    },
    {
      "cell_type": "markdown",
      "metadata": {
        "id": "PaAa_WwCN_Y1"
      },
      "source": [
        "# <center><h1> 5. Cambiando el tipo de datos de variables numéricas que en realidad son categóricas nominales. </h1></center>"
      ]
    },
    {
      "cell_type": "code",
      "metadata": {
        "id": "zyNAvAgXhuYv"
      },
      "source": [
        "#cambiando el tipo de datos a las variables admission_type_id, discharge_disposition_id, admission_source_id diag_1_category, \\\n",
        "# max_glu_serum, A1Cresult into categorical ya que no son variables numéricas precisamente\n",
        "df['admission_type_id'] = df['admission_type_id'].astype('object')\n",
        "df['admission_source_id'] = df['admission_source_id'].astype('object')\n",
        "df['discharge_disposition_id'] = df['discharge_disposition_id'].astype('object')\n",
        "df['categorias_diag_1'] = df['categorias_diag_1'].astype('object')\n",
        "df['max_glu_serum'] = df['max_glu_serum'].astype('object')\n",
        "df['A1Cresult'] = df['A1Cresult'].astype('object')"
      ],
      "execution_count": null,
      "outputs": []
    },
    {
      "cell_type": "code",
      "metadata": {
        "id": "VWiuhLMphuVN"
      },
      "source": [
        "#Creamos una copia del dataframe\n",
        "df_copia = df.copy()"
      ],
      "execution_count": null,
      "outputs": []
    },
    {
      "cell_type": "code",
      "metadata": {
        "id": "bYFCKDmshuRr"
      },
      "source": [
        "#df.info()"
      ],
      "execution_count": null,
      "outputs": []
    },
    {
      "cell_type": "code",
      "metadata": {
        "id": "_IV1LJhPhuOP"
      },
      "source": [
        "numericos = df.select_dtypes(exclude = 'object') # Separando datos numéricos"
      ],
      "execution_count": null,
      "outputs": []
    },
    {
      "cell_type": "code",
      "metadata": {
        "colab": {
          "base_uri": "https://localhost:8080/",
          "height": 317
        },
        "id": "Cb75SoWkQuy8",
        "outputId": "da294abc-caec-4510-de38-57ed17f2968f"
      },
      "source": [
        "numericos.describe()"
      ],
      "execution_count": null,
      "outputs": [
        {
          "output_type": "execute_result",
          "data": {
            "text/html": [
              "<div>\n",
              "<style scoped>\n",
              "    .dataframe tbody tr th:only-of-type {\n",
              "        vertical-align: middle;\n",
              "    }\n",
              "\n",
              "    .dataframe tbody tr th {\n",
              "        vertical-align: top;\n",
              "    }\n",
              "\n",
              "    .dataframe thead th {\n",
              "        text-align: right;\n",
              "    }\n",
              "</style>\n",
              "<table border=\"1\" class=\"dataframe\">\n",
              "  <thead>\n",
              "    <tr style=\"text-align: right;\">\n",
              "      <th></th>\n",
              "      <th>age</th>\n",
              "      <th>time_in_hospital</th>\n",
              "      <th>num_lab_procedures</th>\n",
              "      <th>num_procedures</th>\n",
              "      <th>num_medications</th>\n",
              "      <th>number_outpatient</th>\n",
              "      <th>number_emergency</th>\n",
              "      <th>number_inpatient</th>\n",
              "      <th>number_diagnoses</th>\n",
              "      <th>indicador_tratamiento</th>\n",
              "    </tr>\n",
              "  </thead>\n",
              "  <tbody>\n",
              "    <tr>\n",
              "      <th>count</th>\n",
              "      <td>66843.000000</td>\n",
              "      <td>66843.000000</td>\n",
              "      <td>66843.000000</td>\n",
              "      <td>66843.000000</td>\n",
              "      <td>66843.000000</td>\n",
              "      <td>66843.000000</td>\n",
              "      <td>66843.000000</td>\n",
              "      <td>66843.000000</td>\n",
              "      <td>66843.000000</td>\n",
              "      <td>66843.000000</td>\n",
              "    </tr>\n",
              "    <tr>\n",
              "      <th>mean</th>\n",
              "      <td>49.761082</td>\n",
              "      <td>4.302096</td>\n",
              "      <td>42.936194</td>\n",
              "      <td>1.440600</td>\n",
              "      <td>15.775324</td>\n",
              "      <td>0.285669</td>\n",
              "      <td>0.106414</td>\n",
              "      <td>0.179824</td>\n",
              "      <td>7.329010</td>\n",
              "      <td>1.188846</td>\n",
              "    </tr>\n",
              "    <tr>\n",
              "      <th>std</th>\n",
              "      <td>26.611839</td>\n",
              "      <td>2.942765</td>\n",
              "      <td>19.946200</td>\n",
              "      <td>1.761042</td>\n",
              "      <td>8.265633</td>\n",
              "      <td>1.079720</td>\n",
              "      <td>0.518992</td>\n",
              "      <td>0.606860</td>\n",
              "      <td>1.890657</td>\n",
              "      <td>0.944886</td>\n",
              "    </tr>\n",
              "    <tr>\n",
              "      <th>min</th>\n",
              "      <td>0.000000</td>\n",
              "      <td>1.000000</td>\n",
              "      <td>1.000000</td>\n",
              "      <td>0.000000</td>\n",
              "      <td>1.000000</td>\n",
              "      <td>0.000000</td>\n",
              "      <td>0.000000</td>\n",
              "      <td>0.000000</td>\n",
              "      <td>3.000000</td>\n",
              "      <td>0.000000</td>\n",
              "    </tr>\n",
              "    <tr>\n",
              "      <th>25%</th>\n",
              "      <td>45.000000</td>\n",
              "      <td>2.000000</td>\n",
              "      <td>31.000000</td>\n",
              "      <td>0.000000</td>\n",
              "      <td>10.000000</td>\n",
              "      <td>0.000000</td>\n",
              "      <td>0.000000</td>\n",
              "      <td>0.000000</td>\n",
              "      <td>6.000000</td>\n",
              "      <td>1.000000</td>\n",
              "    </tr>\n",
              "    <tr>\n",
              "      <th>50%</th>\n",
              "      <td>55.000000</td>\n",
              "      <td>4.000000</td>\n",
              "      <td>44.000000</td>\n",
              "      <td>1.000000</td>\n",
              "      <td>14.000000</td>\n",
              "      <td>0.000000</td>\n",
              "      <td>0.000000</td>\n",
              "      <td>0.000000</td>\n",
              "      <td>8.000000</td>\n",
              "      <td>1.000000</td>\n",
              "    </tr>\n",
              "    <tr>\n",
              "      <th>75%</th>\n",
              "      <td>75.000000</td>\n",
              "      <td>6.000000</td>\n",
              "      <td>57.000000</td>\n",
              "      <td>2.000000</td>\n",
              "      <td>20.000000</td>\n",
              "      <td>0.000000</td>\n",
              "      <td>0.000000</td>\n",
              "      <td>0.000000</td>\n",
              "      <td>9.000000</td>\n",
              "      <td>2.000000</td>\n",
              "    </tr>\n",
              "    <tr>\n",
              "      <th>max</th>\n",
              "      <td>75.000000</td>\n",
              "      <td>14.000000</td>\n",
              "      <td>132.000000</td>\n",
              "      <td>6.000000</td>\n",
              "      <td>81.000000</td>\n",
              "      <td>42.000000</td>\n",
              "      <td>42.000000</td>\n",
              "      <td>12.000000</td>\n",
              "      <td>16.000000</td>\n",
              "      <td>6.000000</td>\n",
              "    </tr>\n",
              "  </tbody>\n",
              "</table>\n",
              "</div>"
            ],
            "text/plain": [
              "                age  time_in_hospital  ...  number_diagnoses  indicador_tratamiento\n",
              "count  66843.000000      66843.000000  ...      66843.000000           66843.000000\n",
              "mean      49.761082          4.302096  ...          7.329010               1.188846\n",
              "std       26.611839          2.942765  ...          1.890657               0.944886\n",
              "min        0.000000          1.000000  ...          3.000000               0.000000\n",
              "25%       45.000000          2.000000  ...          6.000000               1.000000\n",
              "50%       55.000000          4.000000  ...          8.000000               1.000000\n",
              "75%       75.000000          6.000000  ...          9.000000               2.000000\n",
              "max       75.000000         14.000000  ...         16.000000               6.000000\n",
              "\n",
              "[8 rows x 10 columns]"
            ]
          },
          "metadata": {
            "tags": []
          },
          "execution_count": 124
        }
      ]
    },
    {
      "cell_type": "markdown",
      "metadata": {
        "id": "T3iWmmb0yJFT"
      },
      "source": [
        "# <center><h1> 6. Detección de Outliers </h1></center>\n",
        "---"
      ]
    },
    {
      "cell_type": "code",
      "metadata": {
        "id": "uAPeAtD9yIoO"
      },
      "source": [
        "#numericos[numericos['num_medications'] == 81]"
      ],
      "execution_count": null,
      "outputs": []
    },
    {
      "cell_type": "code",
      "metadata": {
        "id": "JrsXySowRdEE"
      },
      "source": [
        "#numericos[numericos['num_lab_procedures'] == 132]"
      ],
      "execution_count": null,
      "outputs": []
    },
    {
      "cell_type": "markdown",
      "metadata": {
        "id": "zwHHhCM9r4QP"
      },
      "source": [
        "#<center><h1>7. Aplicando de correlacion de Pearson a variables numéricas</h1></center>"
      ]
    },
    {
      "cell_type": "code",
      "metadata": {
        "id": "qPNo3u6vr4Dn"
      },
      "source": [
        "from matplotlib.colors import ListedColormap\n",
        "import seaborn as sns\n",
        "my_cmap = ListedColormap(sns.light_palette((250, 100, 50), input=\"husl\", n_colors=50).as_hex())"
      ],
      "execution_count": null,
      "outputs": []
    },
    {
      "cell_type": "code",
      "metadata": {
        "colab": {
          "base_uri": "https://localhost:8080/",
          "height": 270
        },
        "id": "ON9Nm98Ir3_1",
        "outputId": "c918413d-3e3d-46fc-a1c6-9eed8db90997"
      },
      "source": [
        "pearson_correlation = df.corr(method='pearson')\n",
        "pearson_correlation.style.background_gradient(cmap = my_cmap, axis = 0)"
      ],
      "execution_count": null,
      "outputs": [
        {
          "output_type": "execute_result",
          "data": {
            "text/html": [
              "<style  type=\"text/css\" >\n",
              "#T_f36682fc_52fa_11eb_85f3_0242ac1c0002row0_col0,#T_f36682fc_52fa_11eb_85f3_0242ac1c0002row1_col1,#T_f36682fc_52fa_11eb_85f3_0242ac1c0002row2_col2,#T_f36682fc_52fa_11eb_85f3_0242ac1c0002row3_col3,#T_f36682fc_52fa_11eb_85f3_0242ac1c0002row4_col4,#T_f36682fc_52fa_11eb_85f3_0242ac1c0002row5_col5,#T_f36682fc_52fa_11eb_85f3_0242ac1c0002row6_col6,#T_f36682fc_52fa_11eb_85f3_0242ac1c0002row7_col7,#T_f36682fc_52fa_11eb_85f3_0242ac1c0002row8_col8,#T_f36682fc_52fa_11eb_85f3_0242ac1c0002row9_col9{\n",
              "            background-color:  #007ad1;\n",
              "            color:  #f1f1f1;\n",
              "        }#T_f36682fc_52fa_11eb_85f3_0242ac1c0002row0_col1,#T_f36682fc_52fa_11eb_85f3_0242ac1c0002row0_col2,#T_f36682fc_52fa_11eb_85f3_0242ac1c0002row0_col5,#T_f36682fc_52fa_11eb_85f3_0242ac1c0002row0_col8,#T_f36682fc_52fa_11eb_85f3_0242ac1c0002row1_col0,#T_f36682fc_52fa_11eb_85f3_0242ac1c0002row1_col5,#T_f36682fc_52fa_11eb_85f3_0242ac1c0002row2_col0,#T_f36682fc_52fa_11eb_85f3_0242ac1c0002row2_col5,#T_f36682fc_52fa_11eb_85f3_0242ac1c0002row3_col5,#T_f36682fc_52fa_11eb_85f3_0242ac1c0002row3_col6,#T_f36682fc_52fa_11eb_85f3_0242ac1c0002row3_col7,#T_f36682fc_52fa_11eb_85f3_0242ac1c0002row3_col9,#T_f36682fc_52fa_11eb_85f3_0242ac1c0002row5_col1,#T_f36682fc_52fa_11eb_85f3_0242ac1c0002row5_col2,#T_f36682fc_52fa_11eb_85f3_0242ac1c0002row5_col3,#T_f36682fc_52fa_11eb_85f3_0242ac1c0002row6_col0,#T_f36682fc_52fa_11eb_85f3_0242ac1c0002row6_col1,#T_f36682fc_52fa_11eb_85f3_0242ac1c0002row6_col3,#T_f36682fc_52fa_11eb_85f3_0242ac1c0002row6_col4,#T_f36682fc_52fa_11eb_85f3_0242ac1c0002row7_col3,#T_f36682fc_52fa_11eb_85f3_0242ac1c0002row7_col9,#T_f36682fc_52fa_11eb_85f3_0242ac1c0002row8_col0,#T_f36682fc_52fa_11eb_85f3_0242ac1c0002row9_col7{\n",
              "            background-color:  #f0f1f3;\n",
              "            color:  #000000;\n",
              "        }#T_f36682fc_52fa_11eb_85f3_0242ac1c0002row0_col3,#T_f36682fc_52fa_11eb_85f3_0242ac1c0002row3_col0{\n",
              "            background-color:  #cee0ee;\n",
              "            color:  #000000;\n",
              "        }#T_f36682fc_52fa_11eb_85f3_0242ac1c0002row0_col4,#T_f36682fc_52fa_11eb_85f3_0242ac1c0002row1_col7,#T_f36682fc_52fa_11eb_85f3_0242ac1c0002row1_col9,#T_f36682fc_52fa_11eb_85f3_0242ac1c0002row3_col8,#T_f36682fc_52fa_11eb_85f3_0242ac1c0002row5_col7,#T_f36682fc_52fa_11eb_85f3_0242ac1c0002row5_col8,#T_f36682fc_52fa_11eb_85f3_0242ac1c0002row7_col1,#T_f36682fc_52fa_11eb_85f3_0242ac1c0002row7_col5,#T_f36682fc_52fa_11eb_85f3_0242ac1c0002row7_col8,#T_f36682fc_52fa_11eb_85f3_0242ac1c0002row8_col5,#T_f36682fc_52fa_11eb_85f3_0242ac1c0002row8_col6,#T_f36682fc_52fa_11eb_85f3_0242ac1c0002row8_col7,#T_f36682fc_52fa_11eb_85f3_0242ac1c0002row9_col0{\n",
              "            background-color:  #dde7f0;\n",
              "            color:  #000000;\n",
              "        }#T_f36682fc_52fa_11eb_85f3_0242ac1c0002row0_col6,#T_f36682fc_52fa_11eb_85f3_0242ac1c0002row0_col7,#T_f36682fc_52fa_11eb_85f3_0242ac1c0002row1_col6,#T_f36682fc_52fa_11eb_85f3_0242ac1c0002row4_col6,#T_f36682fc_52fa_11eb_85f3_0242ac1c0002row5_col0,#T_f36682fc_52fa_11eb_85f3_0242ac1c0002row5_col4,#T_f36682fc_52fa_11eb_85f3_0242ac1c0002row5_col9,#T_f36682fc_52fa_11eb_85f3_0242ac1c0002row6_col9,#T_f36682fc_52fa_11eb_85f3_0242ac1c0002row7_col0,#T_f36682fc_52fa_11eb_85f3_0242ac1c0002row7_col4,#T_f36682fc_52fa_11eb_85f3_0242ac1c0002row8_col9,#T_f36682fc_52fa_11eb_85f3_0242ac1c0002row9_col3,#T_f36682fc_52fa_11eb_85f3_0242ac1c0002row9_col5{\n",
              "            background-color:  #ebeef2;\n",
              "            color:  #000000;\n",
              "        }#T_f36682fc_52fa_11eb_85f3_0242ac1c0002row0_col9,#T_f36682fc_52fa_11eb_85f3_0242ac1c0002row2_col3,#T_f36682fc_52fa_11eb_85f3_0242ac1c0002row3_col2,#T_f36682fc_52fa_11eb_85f3_0242ac1c0002row4_col7,#T_f36682fc_52fa_11eb_85f3_0242ac1c0002row6_col8,#T_f36682fc_52fa_11eb_85f3_0242ac1c0002row9_col2{\n",
              "            background-color:  #e2eaf1;\n",
              "            color:  #000000;\n",
              "        }#T_f36682fc_52fa_11eb_85f3_0242ac1c0002row1_col2,#T_f36682fc_52fa_11eb_85f3_0242ac1c0002row2_col1{\n",
              "            background-color:  #9dc8e7;\n",
              "            color:  #000000;\n",
              "        }#T_f36682fc_52fa_11eb_85f3_0242ac1c0002row1_col3,#T_f36682fc_52fa_11eb_85f3_0242ac1c0002row3_col1{\n",
              "            background-color:  #bfd8ec;\n",
              "            color:  #000000;\n",
              "        }#T_f36682fc_52fa_11eb_85f3_0242ac1c0002row1_col4{\n",
              "            background-color:  #7fb9e3;\n",
              "            color:  #000000;\n",
              "        }#T_f36682fc_52fa_11eb_85f3_0242ac1c0002row1_col8,#T_f36682fc_52fa_11eb_85f3_0242ac1c0002row2_col4,#T_f36682fc_52fa_11eb_85f3_0242ac1c0002row4_col8,#T_f36682fc_52fa_11eb_85f3_0242ac1c0002row8_col1{\n",
              "            background-color:  #b5d4ea;\n",
              "            color:  #000000;\n",
              "        }#T_f36682fc_52fa_11eb_85f3_0242ac1c0002row2_col6,#T_f36682fc_52fa_11eb_85f3_0242ac1c0002row2_col9,#T_f36682fc_52fa_11eb_85f3_0242ac1c0002row4_col5,#T_f36682fc_52fa_11eb_85f3_0242ac1c0002row6_col2,#T_f36682fc_52fa_11eb_85f3_0242ac1c0002row9_col6,#T_f36682fc_52fa_11eb_85f3_0242ac1c0002row9_col8{\n",
              "            background-color:  #e6ecf1;\n",
              "            color:  #000000;\n",
              "        }#T_f36682fc_52fa_11eb_85f3_0242ac1c0002row2_col7,#T_f36682fc_52fa_11eb_85f3_0242ac1c0002row6_col5,#T_f36682fc_52fa_11eb_85f3_0242ac1c0002row7_col2,#T_f36682fc_52fa_11eb_85f3_0242ac1c0002row8_col3,#T_f36682fc_52fa_11eb_85f3_0242ac1c0002row9_col1{\n",
              "            background-color:  #d7e5ef;\n",
              "            color:  #000000;\n",
              "        }#T_f36682fc_52fa_11eb_85f3_0242ac1c0002row2_col8,#T_f36682fc_52fa_11eb_85f3_0242ac1c0002row6_col7,#T_f36682fc_52fa_11eb_85f3_0242ac1c0002row7_col6,#T_f36682fc_52fa_11eb_85f3_0242ac1c0002row8_col2{\n",
              "            background-color:  #c9deed;\n",
              "            color:  #000000;\n",
              "        }#T_f36682fc_52fa_11eb_85f3_0242ac1c0002row3_col4{\n",
              "            background-color:  #93c2e6;\n",
              "            color:  #000000;\n",
              "        }#T_f36682fc_52fa_11eb_85f3_0242ac1c0002row4_col0,#T_f36682fc_52fa_11eb_85f3_0242ac1c0002row5_col6{\n",
              "            background-color:  #d3e2ef;\n",
              "            color:  #000000;\n",
              "        }#T_f36682fc_52fa_11eb_85f3_0242ac1c0002row4_col1{\n",
              "            background-color:  #7ab6e2;\n",
              "            color:  #000000;\n",
              "        }#T_f36682fc_52fa_11eb_85f3_0242ac1c0002row4_col2{\n",
              "            background-color:  #b1d1ea;\n",
              "            color:  #000000;\n",
              "        }#T_f36682fc_52fa_11eb_85f3_0242ac1c0002row4_col3{\n",
              "            background-color:  #8ec0e5;\n",
              "            color:  #000000;\n",
              "        }#T_f36682fc_52fa_11eb_85f3_0242ac1c0002row4_col9,#T_f36682fc_52fa_11eb_85f3_0242ac1c0002row8_col4,#T_f36682fc_52fa_11eb_85f3_0242ac1c0002row9_col4{\n",
              "            background-color:  #bad6eb;\n",
              "            color:  #000000;\n",
              "        }</style><table id=\"T_f36682fc_52fa_11eb_85f3_0242ac1c0002\" ><thead>    <tr>        <th class=\"blank level0\" ></th>        <th class=\"col_heading level0 col0\" >age</th>        <th class=\"col_heading level0 col1\" >time_in_hospital</th>        <th class=\"col_heading level0 col2\" >num_lab_procedures</th>        <th class=\"col_heading level0 col3\" >num_procedures</th>        <th class=\"col_heading level0 col4\" >num_medications</th>        <th class=\"col_heading level0 col5\" >number_outpatient</th>        <th class=\"col_heading level0 col6\" >number_emergency</th>        <th class=\"col_heading level0 col7\" >number_inpatient</th>        <th class=\"col_heading level0 col8\" >number_diagnoses</th>        <th class=\"col_heading level0 col9\" >indicador_tratamiento</th>    </tr></thead><tbody>\n",
              "                <tr>\n",
              "                        <th id=\"T_f36682fc_52fa_11eb_85f3_0242ac1c0002level0_row0\" class=\"row_heading level0 row0\" >age</th>\n",
              "                        <td id=\"T_f36682fc_52fa_11eb_85f3_0242ac1c0002row0_col0\" class=\"data row0 col0\" >1.000000</td>\n",
              "                        <td id=\"T_f36682fc_52fa_11eb_85f3_0242ac1c0002row0_col1\" class=\"data row0 col1\" >-0.029746</td>\n",
              "                        <td id=\"T_f36682fc_52fa_11eb_85f3_0242ac1c0002row0_col2\" class=\"data row0 col2\" >-0.025750</td>\n",
              "                        <td id=\"T_f36682fc_52fa_11eb_85f3_0242ac1c0002row0_col3\" class=\"data row0 col3\" >0.120809</td>\n",
              "                        <td id=\"T_f36682fc_52fa_11eb_85f3_0242ac1c0002row0_col4\" class=\"data row0 col4\" >0.095560</td>\n",
              "                        <td id=\"T_f36682fc_52fa_11eb_85f3_0242ac1c0002row0_col5\" class=\"data row0 col5\" >-0.002360</td>\n",
              "                        <td id=\"T_f36682fc_52fa_11eb_85f3_0242ac1c0002row0_col6\" class=\"data row0 col6\" >-0.014808</td>\n",
              "                        <td id=\"T_f36682fc_52fa_11eb_85f3_0242ac1c0002row0_col7\" class=\"data row0 col7\" >-0.004116</td>\n",
              "                        <td id=\"T_f36682fc_52fa_11eb_85f3_0242ac1c0002row0_col8\" class=\"data row0 col8\" >-0.023733</td>\n",
              "                        <td id=\"T_f36682fc_52fa_11eb_85f3_0242ac1c0002row0_col9\" class=\"data row0 col9\" >0.055312</td>\n",
              "            </tr>\n",
              "            <tr>\n",
              "                        <th id=\"T_f36682fc_52fa_11eb_85f3_0242ac1c0002level0_row1\" class=\"row_heading level0 row1\" >time_in_hospital</th>\n",
              "                        <td id=\"T_f36682fc_52fa_11eb_85f3_0242ac1c0002row1_col0\" class=\"data row1 col0\" >-0.029746</td>\n",
              "                        <td id=\"T_f36682fc_52fa_11eb_85f3_0242ac1c0002row1_col1\" class=\"data row1 col1\" >1.000000</td>\n",
              "                        <td id=\"T_f36682fc_52fa_11eb_85f3_0242ac1c0002row1_col2\" class=\"data row1 col2\" >0.331883</td>\n",
              "                        <td id=\"T_f36682fc_52fa_11eb_85f3_0242ac1c0002row1_col3\" class=\"data row1 col3\" >0.187207</td>\n",
              "                        <td id=\"T_f36682fc_52fa_11eb_85f3_0242ac1c0002row1_col4\" class=\"data row1 col4\" >0.465518</td>\n",
              "                        <td id=\"T_f36682fc_52fa_11eb_85f3_0242ac1c0002row1_col5\" class=\"data row1 col5\" >-0.017815</td>\n",
              "                        <td id=\"T_f36682fc_52fa_11eb_85f3_0242ac1c0002row1_col6\" class=\"data row1 col6\" >-0.010313</td>\n",
              "                        <td id=\"T_f36682fc_52fa_11eb_85f3_0242ac1c0002row1_col7\" class=\"data row1 col7\" >0.062435</td>\n",
              "                        <td id=\"T_f36682fc_52fa_11eb_85f3_0242ac1c0002row1_col8\" class=\"data row1 col8\" >0.223883</td>\n",
              "                        <td id=\"T_f36682fc_52fa_11eb_85f3_0242ac1c0002row1_col9\" class=\"data row1 col9\" >0.085009</td>\n",
              "            </tr>\n",
              "            <tr>\n",
              "                        <th id=\"T_f36682fc_52fa_11eb_85f3_0242ac1c0002level0_row2\" class=\"row_heading level0 row2\" >num_lab_procedures</th>\n",
              "                        <td id=\"T_f36682fc_52fa_11eb_85f3_0242ac1c0002row2_col0\" class=\"data row2 col0\" >-0.025750</td>\n",
              "                        <td id=\"T_f36682fc_52fa_11eb_85f3_0242ac1c0002row2_col1\" class=\"data row2 col1\" >0.331883</td>\n",
              "                        <td id=\"T_f36682fc_52fa_11eb_85f3_0242ac1c0002row2_col2\" class=\"data row2 col2\" >1.000000</td>\n",
              "                        <td id=\"T_f36682fc_52fa_11eb_85f3_0242ac1c0002row2_col3\" class=\"data row2 col3\" >0.043894</td>\n",
              "                        <td id=\"T_f36682fc_52fa_11eb_85f3_0242ac1c0002row2_col4\" class=\"data row2 col4\" >0.258576</td>\n",
              "                        <td id=\"T_f36682fc_52fa_11eb_85f3_0242ac1c0002row2_col5\" class=\"data row2 col5\" >-0.009265</td>\n",
              "                        <td id=\"T_f36682fc_52fa_11eb_85f3_0242ac1c0002row2_col6\" class=\"data row2 col6\" >0.015995</td>\n",
              "                        <td id=\"T_f36682fc_52fa_11eb_85f3_0242ac1c0002row2_col7\" class=\"data row2 col7\" >0.080321</td>\n",
              "                        <td id=\"T_f36682fc_52fa_11eb_85f3_0242ac1c0002row2_col8\" class=\"data row2 col8\" >0.151241</td>\n",
              "                        <td id=\"T_f36682fc_52fa_11eb_85f3_0242ac1c0002row2_col9\" class=\"data row2 col9\" >0.042912</td>\n",
              "            </tr>\n",
              "            <tr>\n",
              "                        <th id=\"T_f36682fc_52fa_11eb_85f3_0242ac1c0002level0_row3\" class=\"row_heading level0 row3\" >num_procedures</th>\n",
              "                        <td id=\"T_f36682fc_52fa_11eb_85f3_0242ac1c0002row3_col0\" class=\"data row3 col0\" >0.120809</td>\n",
              "                        <td id=\"T_f36682fc_52fa_11eb_85f3_0242ac1c0002row3_col1\" class=\"data row3 col1\" >0.187207</td>\n",
              "                        <td id=\"T_f36682fc_52fa_11eb_85f3_0242ac1c0002row3_col2\" class=\"data row3 col2\" >0.043894</td>\n",
              "                        <td id=\"T_f36682fc_52fa_11eb_85f3_0242ac1c0002row3_col3\" class=\"data row3 col3\" >1.000000</td>\n",
              "                        <td id=\"T_f36682fc_52fa_11eb_85f3_0242ac1c0002row3_col4\" class=\"data row3 col4\" >0.397342</td>\n",
              "                        <td id=\"T_f36682fc_52fa_11eb_85f3_0242ac1c0002row3_col5\" class=\"data row3 col5\" >-0.020939</td>\n",
              "                        <td id=\"T_f36682fc_52fa_11eb_85f3_0242ac1c0002row3_col6\" class=\"data row3 col6\" >-0.035930</td>\n",
              "                        <td id=\"T_f36682fc_52fa_11eb_85f3_0242ac1c0002row3_col7\" class=\"data row3 col7\" >-0.025100</td>\n",
              "                        <td id=\"T_f36682fc_52fa_11eb_85f3_0242ac1c0002row3_col8\" class=\"data row3 col8\" >0.068498</td>\n",
              "                        <td id=\"T_f36682fc_52fa_11eb_85f3_0242ac1c0002row3_col9\" class=\"data row3 col9\" >0.003455</td>\n",
              "            </tr>\n",
              "            <tr>\n",
              "                        <th id=\"T_f36682fc_52fa_11eb_85f3_0242ac1c0002level0_row4\" class=\"row_heading level0 row4\" >num_medications</th>\n",
              "                        <td id=\"T_f36682fc_52fa_11eb_85f3_0242ac1c0002row4_col0\" class=\"data row4 col0\" >0.095560</td>\n",
              "                        <td id=\"T_f36682fc_52fa_11eb_85f3_0242ac1c0002row4_col1\" class=\"data row4 col1\" >0.465518</td>\n",
              "                        <td id=\"T_f36682fc_52fa_11eb_85f3_0242ac1c0002row4_col2\" class=\"data row4 col2\" >0.258576</td>\n",
              "                        <td id=\"T_f36682fc_52fa_11eb_85f3_0242ac1c0002row4_col3\" class=\"data row4 col3\" >0.397342</td>\n",
              "                        <td id=\"T_f36682fc_52fa_11eb_85f3_0242ac1c0002row4_col4\" class=\"data row4 col4\" >1.000000</td>\n",
              "                        <td id=\"T_f36682fc_52fa_11eb_85f3_0242ac1c0002row4_col5\" class=\"data row4 col5\" >0.024054</td>\n",
              "                        <td id=\"T_f36682fc_52fa_11eb_85f3_0242ac1c0002row4_col6\" class=\"data row4 col6\" >0.002013</td>\n",
              "                        <td id=\"T_f36682fc_52fa_11eb_85f3_0242ac1c0002row4_col7\" class=\"data row4 col7\" >0.037340</td>\n",
              "                        <td id=\"T_f36682fc_52fa_11eb_85f3_0242ac1c0002row4_col8\" class=\"data row4 col8\" >0.236459</td>\n",
              "                        <td id=\"T_f36682fc_52fa_11eb_85f3_0242ac1c0002row4_col9\" class=\"data row4 col9\" >0.236039</td>\n",
              "            </tr>\n",
              "            <tr>\n",
              "                        <th id=\"T_f36682fc_52fa_11eb_85f3_0242ac1c0002level0_row5\" class=\"row_heading level0 row5\" >number_outpatient</th>\n",
              "                        <td id=\"T_f36682fc_52fa_11eb_85f3_0242ac1c0002row5_col0\" class=\"data row5 col0\" >-0.002360</td>\n",
              "                        <td id=\"T_f36682fc_52fa_11eb_85f3_0242ac1c0002row5_col1\" class=\"data row5 col1\" >-0.017815</td>\n",
              "                        <td id=\"T_f36682fc_52fa_11eb_85f3_0242ac1c0002row5_col2\" class=\"data row5 col2\" >-0.009265</td>\n",
              "                        <td id=\"T_f36682fc_52fa_11eb_85f3_0242ac1c0002row5_col3\" class=\"data row5 col3\" >-0.020939</td>\n",
              "                        <td id=\"T_f36682fc_52fa_11eb_85f3_0242ac1c0002row5_col4\" class=\"data row5 col4\" >0.024054</td>\n",
              "                        <td id=\"T_f36682fc_52fa_11eb_85f3_0242ac1c0002row5_col5\" class=\"data row5 col5\" >1.000000</td>\n",
              "                        <td id=\"T_f36682fc_52fa_11eb_85f3_0242ac1c0002row5_col6\" class=\"data row5 col6\" >0.094805</td>\n",
              "                        <td id=\"T_f36682fc_52fa_11eb_85f3_0242ac1c0002row5_col7\" class=\"data row5 col7\" >0.067612</td>\n",
              "                        <td id=\"T_f36682fc_52fa_11eb_85f3_0242ac1c0002row5_col8\" class=\"data row5 col8\" >0.073936</td>\n",
              "                        <td id=\"T_f36682fc_52fa_11eb_85f3_0242ac1c0002row5_col9\" class=\"data row5 col9\" >0.014943</td>\n",
              "            </tr>\n",
              "            <tr>\n",
              "                        <th id=\"T_f36682fc_52fa_11eb_85f3_0242ac1c0002level0_row6\" class=\"row_heading level0 row6\" >number_emergency</th>\n",
              "                        <td id=\"T_f36682fc_52fa_11eb_85f3_0242ac1c0002row6_col0\" class=\"data row6 col0\" >-0.014808</td>\n",
              "                        <td id=\"T_f36682fc_52fa_11eb_85f3_0242ac1c0002row6_col1\" class=\"data row6 col1\" >-0.010313</td>\n",
              "                        <td id=\"T_f36682fc_52fa_11eb_85f3_0242ac1c0002row6_col2\" class=\"data row6 col2\" >0.015995</td>\n",
              "                        <td id=\"T_f36682fc_52fa_11eb_85f3_0242ac1c0002row6_col3\" class=\"data row6 col3\" >-0.035930</td>\n",
              "                        <td id=\"T_f36682fc_52fa_11eb_85f3_0242ac1c0002row6_col4\" class=\"data row6 col4\" >0.002013</td>\n",
              "                        <td id=\"T_f36682fc_52fa_11eb_85f3_0242ac1c0002row6_col5\" class=\"data row6 col5\" >0.094805</td>\n",
              "                        <td id=\"T_f36682fc_52fa_11eb_85f3_0242ac1c0002row6_col6\" class=\"data row6 col6\" >1.000000</td>\n",
              "                        <td id=\"T_f36682fc_52fa_11eb_85f3_0242ac1c0002row6_col7\" class=\"data row6 col7\" >0.148483</td>\n",
              "                        <td id=\"T_f36682fc_52fa_11eb_85f3_0242ac1c0002row6_col8\" class=\"data row6 col8\" >0.049411</td>\n",
              "                        <td id=\"T_f36682fc_52fa_11eb_85f3_0242ac1c0002row6_col9\" class=\"data row6 col9\" >0.015215</td>\n",
              "            </tr>\n",
              "            <tr>\n",
              "                        <th id=\"T_f36682fc_52fa_11eb_85f3_0242ac1c0002level0_row7\" class=\"row_heading level0 row7\" >number_inpatient</th>\n",
              "                        <td id=\"T_f36682fc_52fa_11eb_85f3_0242ac1c0002row7_col0\" class=\"data row7 col0\" >-0.004116</td>\n",
              "                        <td id=\"T_f36682fc_52fa_11eb_85f3_0242ac1c0002row7_col1\" class=\"data row7 col1\" >0.062435</td>\n",
              "                        <td id=\"T_f36682fc_52fa_11eb_85f3_0242ac1c0002row7_col2\" class=\"data row7 col2\" >0.080321</td>\n",
              "                        <td id=\"T_f36682fc_52fa_11eb_85f3_0242ac1c0002row7_col3\" class=\"data row7 col3\" >-0.025100</td>\n",
              "                        <td id=\"T_f36682fc_52fa_11eb_85f3_0242ac1c0002row7_col4\" class=\"data row7 col4\" >0.037340</td>\n",
              "                        <td id=\"T_f36682fc_52fa_11eb_85f3_0242ac1c0002row7_col5\" class=\"data row7 col5\" >0.067612</td>\n",
              "                        <td id=\"T_f36682fc_52fa_11eb_85f3_0242ac1c0002row7_col6\" class=\"data row7 col6\" >0.148483</td>\n",
              "                        <td id=\"T_f36682fc_52fa_11eb_85f3_0242ac1c0002row7_col7\" class=\"data row7 col7\" >1.000000</td>\n",
              "                        <td id=\"T_f36682fc_52fa_11eb_85f3_0242ac1c0002row7_col8\" class=\"data row7 col8\" >0.064991</td>\n",
              "                        <td id=\"T_f36682fc_52fa_11eb_85f3_0242ac1c0002row7_col9\" class=\"data row7 col9\" >-0.005190</td>\n",
              "            </tr>\n",
              "            <tr>\n",
              "                        <th id=\"T_f36682fc_52fa_11eb_85f3_0242ac1c0002level0_row8\" class=\"row_heading level0 row8\" >number_diagnoses</th>\n",
              "                        <td id=\"T_f36682fc_52fa_11eb_85f3_0242ac1c0002row8_col0\" class=\"data row8 col0\" >-0.023733</td>\n",
              "                        <td id=\"T_f36682fc_52fa_11eb_85f3_0242ac1c0002row8_col1\" class=\"data row8 col1\" >0.223883</td>\n",
              "                        <td id=\"T_f36682fc_52fa_11eb_85f3_0242ac1c0002row8_col2\" class=\"data row8 col2\" >0.151241</td>\n",
              "                        <td id=\"T_f36682fc_52fa_11eb_85f3_0242ac1c0002row8_col3\" class=\"data row8 col3\" >0.068498</td>\n",
              "                        <td id=\"T_f36682fc_52fa_11eb_85f3_0242ac1c0002row8_col4\" class=\"data row8 col4\" >0.236459</td>\n",
              "                        <td id=\"T_f36682fc_52fa_11eb_85f3_0242ac1c0002row8_col5\" class=\"data row8 col5\" >0.073936</td>\n",
              "                        <td id=\"T_f36682fc_52fa_11eb_85f3_0242ac1c0002row8_col6\" class=\"data row8 col6\" >0.049411</td>\n",
              "                        <td id=\"T_f36682fc_52fa_11eb_85f3_0242ac1c0002row8_col7\" class=\"data row8 col7\" >0.064991</td>\n",
              "                        <td id=\"T_f36682fc_52fa_11eb_85f3_0242ac1c0002row8_col8\" class=\"data row8 col8\" >1.000000</td>\n",
              "                        <td id=\"T_f36682fc_52fa_11eb_85f3_0242ac1c0002row8_col9\" class=\"data row8 col9\" >0.017242</td>\n",
              "            </tr>\n",
              "            <tr>\n",
              "                        <th id=\"T_f36682fc_52fa_11eb_85f3_0242ac1c0002level0_row9\" class=\"row_heading level0 row9\" >indicador_tratamiento</th>\n",
              "                        <td id=\"T_f36682fc_52fa_11eb_85f3_0242ac1c0002row9_col0\" class=\"data row9 col0\" >0.055312</td>\n",
              "                        <td id=\"T_f36682fc_52fa_11eb_85f3_0242ac1c0002row9_col1\" class=\"data row9 col1\" >0.085009</td>\n",
              "                        <td id=\"T_f36682fc_52fa_11eb_85f3_0242ac1c0002row9_col2\" class=\"data row9 col2\" >0.042912</td>\n",
              "                        <td id=\"T_f36682fc_52fa_11eb_85f3_0242ac1c0002row9_col3\" class=\"data row9 col3\" >0.003455</td>\n",
              "                        <td id=\"T_f36682fc_52fa_11eb_85f3_0242ac1c0002row9_col4\" class=\"data row9 col4\" >0.236039</td>\n",
              "                        <td id=\"T_f36682fc_52fa_11eb_85f3_0242ac1c0002row9_col5\" class=\"data row9 col5\" >0.014943</td>\n",
              "                        <td id=\"T_f36682fc_52fa_11eb_85f3_0242ac1c0002row9_col6\" class=\"data row9 col6\" >0.015215</td>\n",
              "                        <td id=\"T_f36682fc_52fa_11eb_85f3_0242ac1c0002row9_col7\" class=\"data row9 col7\" >-0.005190</td>\n",
              "                        <td id=\"T_f36682fc_52fa_11eb_85f3_0242ac1c0002row9_col8\" class=\"data row9 col8\" >0.017242</td>\n",
              "                        <td id=\"T_f36682fc_52fa_11eb_85f3_0242ac1c0002row9_col9\" class=\"data row9 col9\" >1.000000</td>\n",
              "            </tr>\n",
              "    </tbody></table>"
            ],
            "text/plain": [
              "<pandas.io.formats.style.Styler at 0x7fe39a8856d8>"
            ]
          },
          "metadata": {
            "tags": []
          },
          "execution_count": 128
        }
      ]
    },
    {
      "cell_type": "code",
      "metadata": {
        "id": "9tGogObkuSgP"
      },
      "source": [
        "## Funcion para identificar correlaciones\n",
        "def PearsonCorrelation(df, umbral):\n",
        "  count = 0\n",
        "  correlacion = 0\n",
        "  for i in range(len(df)):\n",
        "    #print('---')\n",
        "    count = count +1\n",
        "    for j in range(count,len(df)):\n",
        "      #print(count,'--',df.iloc[i][j], '--', i, '--',j)\n",
        "      if abs(df.iloc[i][j]) >= umbral:\n",
        "        correlacion = correlacion + 1\n",
        "        print(df.columns[i], ' y ', df.columns[j], ' están correlacionas con un r de: ', df.iloc[i][j])\n",
        "  if correlacion == 0:\n",
        "    print('No hay columnas correlacionas con ese umbral')"
      ],
      "execution_count": null,
      "outputs": []
    },
    {
      "cell_type": "code",
      "metadata": {
        "colab": {
          "base_uri": "https://localhost:8080/"
        },
        "id": "_xBNTYQ_r30d",
        "outputId": "ef2cf7ac-6d27-41e3-89a7-accf18fa2922"
      },
      "source": [
        "PearsonCorrelation(pearson_correlation, 0.5)"
      ],
      "execution_count": null,
      "outputs": [
        {
          "output_type": "stream",
          "text": [
            "No hay columnas correlacionas con ese umbral\n"
          ],
          "name": "stdout"
        }
      ]
    },
    {
      "cell_type": "markdown",
      "metadata": {
        "id": "A9-fpjjG3NcU"
      },
      "source": [
        "Se estableció un coeficiente de correlación de 0.5. El atributo visitas totales es la suma de tres atributos; number_outpatient, number_inpatient y number_emergency, por eso están tan correlacionadas. No se eliminarán atributos por este método."
      ]
    },
    {
      "cell_type": "markdown",
      "metadata": {
        "id": "_niW-AOuVD4U"
      },
      "source": [
        "# <center><h1> 8. Creando Variables dummies </h1></center>"
      ]
    },
    {
      "cell_type": "code",
      "metadata": {
        "colab": {
          "base_uri": "https://localhost:8080/",
          "height": 270
        },
        "id": "mvvOOafIVDnA",
        "outputId": "b3e62878-b18b-415b-a219-b92aae37d6a0"
      },
      "source": [
        "categoricos = df.select_dtypes(include = 'object') ## Separando datos categóricos\n",
        "categoricos = categoricos.drop(['readmitted'], axis = 1)\n",
        "## Creamos variables dummies\n",
        "dummies = categoricos.columns\n",
        "df_dummies = pd.get_dummies(df[dummies], drop_first= True)\n",
        "#df_dummies\n",
        "## Eliminando variables\n",
        "df = df.drop(dummies, axis = 1)\n",
        "## Agregamos las variables duumies al dataset\n",
        "df = pd.concat([df,df_dummies], axis = 1)\n",
        "df.head()"
      ],
      "execution_count": null,
      "outputs": [
        {
          "output_type": "execute_result",
          "data": {
            "text/html": [
              "<div>\n",
              "<style scoped>\n",
              "    .dataframe tbody tr th:only-of-type {\n",
              "        vertical-align: middle;\n",
              "    }\n",
              "\n",
              "    .dataframe tbody tr th {\n",
              "        vertical-align: top;\n",
              "    }\n",
              "\n",
              "    .dataframe thead th {\n",
              "        text-align: right;\n",
              "    }\n",
              "</style>\n",
              "<table border=\"1\" class=\"dataframe\">\n",
              "  <thead>\n",
              "    <tr style=\"text-align: right;\">\n",
              "      <th></th>\n",
              "      <th>age</th>\n",
              "      <th>time_in_hospital</th>\n",
              "      <th>num_lab_procedures</th>\n",
              "      <th>num_procedures</th>\n",
              "      <th>num_medications</th>\n",
              "      <th>number_outpatient</th>\n",
              "      <th>number_emergency</th>\n",
              "      <th>number_inpatient</th>\n",
              "      <th>number_diagnoses</th>\n",
              "      <th>readmitted</th>\n",
              "      <th>indicador_tratamiento</th>\n",
              "      <th>race_Asian</th>\n",
              "      <th>race_Caucasian</th>\n",
              "      <th>race_Hispanic</th>\n",
              "      <th>race_Other</th>\n",
              "      <th>gender_Male</th>\n",
              "      <th>admission_type_id_2</th>\n",
              "      <th>admission_type_id_3</th>\n",
              "      <th>admission_type_id_4</th>\n",
              "      <th>admission_type_id_5</th>\n",
              "      <th>admission_type_id_6</th>\n",
              "      <th>admission_type_id_7</th>\n",
              "      <th>admission_type_id_8</th>\n",
              "      <th>discharge_disposition_id_2</th>\n",
              "      <th>discharge_disposition_id_3</th>\n",
              "      <th>discharge_disposition_id_4</th>\n",
              "      <th>discharge_disposition_id_5</th>\n",
              "      <th>discharge_disposition_id_6</th>\n",
              "      <th>discharge_disposition_id_7</th>\n",
              "      <th>discharge_disposition_id_8</th>\n",
              "      <th>discharge_disposition_id_9</th>\n",
              "      <th>discharge_disposition_id_10</th>\n",
              "      <th>discharge_disposition_id_12</th>\n",
              "      <th>discharge_disposition_id_15</th>\n",
              "      <th>discharge_disposition_id_16</th>\n",
              "      <th>discharge_disposition_id_17</th>\n",
              "      <th>discharge_disposition_id_18</th>\n",
              "      <th>discharge_disposition_id_22</th>\n",
              "      <th>discharge_disposition_id_23</th>\n",
              "      <th>discharge_disposition_id_24</th>\n",
              "      <th>...</th>\n",
              "      <th>payer_code_CP</th>\n",
              "      <th>payer_code_DM</th>\n",
              "      <th>payer_code_HM</th>\n",
              "      <th>payer_code_MC</th>\n",
              "      <th>payer_code_MD</th>\n",
              "      <th>payer_code_MP</th>\n",
              "      <th>payer_code_No value</th>\n",
              "      <th>payer_code_OG</th>\n",
              "      <th>payer_code_OT</th>\n",
              "      <th>payer_code_PO</th>\n",
              "      <th>payer_code_SI</th>\n",
              "      <th>payer_code_SP</th>\n",
              "      <th>payer_code_UN</th>\n",
              "      <th>payer_code_WC</th>\n",
              "      <th>medical_specialty_Emergency/Trauma</th>\n",
              "      <th>medical_specialty_Family/GeneralPractice</th>\n",
              "      <th>medical_specialty_InternalMedicine</th>\n",
              "      <th>medical_specialty_Nephrology</th>\n",
              "      <th>medical_specialty_No value</th>\n",
              "      <th>medical_specialty_Orthopedics</th>\n",
              "      <th>medical_specialty_Orthopedics-Reconstructive</th>\n",
              "      <th>medical_specialty_Otros</th>\n",
              "      <th>medical_specialty_Radiologist</th>\n",
              "      <th>medical_specialty_Surgery-General</th>\n",
              "      <th>max_glu_serum_&gt;300</th>\n",
              "      <th>max_glu_serum_None</th>\n",
              "      <th>max_glu_serum_Norm</th>\n",
              "      <th>A1Cresult_&gt;8</th>\n",
              "      <th>A1Cresult_None</th>\n",
              "      <th>A1Cresult_Norm</th>\n",
              "      <th>change_No</th>\n",
              "      <th>diabetesMed_Yes</th>\n",
              "      <th>categorias_diag_1_1</th>\n",
              "      <th>categorias_diag_1_2</th>\n",
              "      <th>categorias_diag_1_3</th>\n",
              "      <th>categorias_diag_1_4</th>\n",
              "      <th>categorias_diag_1_5</th>\n",
              "      <th>categorias_diag_1_6</th>\n",
              "      <th>categorias_diag_1_7</th>\n",
              "      <th>categorias_diag_1_8</th>\n",
              "    </tr>\n",
              "  </thead>\n",
              "  <tbody>\n",
              "    <tr>\n",
              "      <th>1</th>\n",
              "      <td>15</td>\n",
              "      <td>3</td>\n",
              "      <td>59</td>\n",
              "      <td>0</td>\n",
              "      <td>18</td>\n",
              "      <td>0</td>\n",
              "      <td>0</td>\n",
              "      <td>0</td>\n",
              "      <td>9</td>\n",
              "      <td>&gt;30</td>\n",
              "      <td>1.0</td>\n",
              "      <td>0</td>\n",
              "      <td>1</td>\n",
              "      <td>0</td>\n",
              "      <td>0</td>\n",
              "      <td>0</td>\n",
              "      <td>0</td>\n",
              "      <td>0</td>\n",
              "      <td>0</td>\n",
              "      <td>0</td>\n",
              "      <td>0</td>\n",
              "      <td>0</td>\n",
              "      <td>0</td>\n",
              "      <td>0</td>\n",
              "      <td>0</td>\n",
              "      <td>0</td>\n",
              "      <td>0</td>\n",
              "      <td>0</td>\n",
              "      <td>0</td>\n",
              "      <td>0</td>\n",
              "      <td>0</td>\n",
              "      <td>0</td>\n",
              "      <td>0</td>\n",
              "      <td>0</td>\n",
              "      <td>0</td>\n",
              "      <td>0</td>\n",
              "      <td>0</td>\n",
              "      <td>0</td>\n",
              "      <td>0</td>\n",
              "      <td>0</td>\n",
              "      <td>...</td>\n",
              "      <td>0</td>\n",
              "      <td>0</td>\n",
              "      <td>0</td>\n",
              "      <td>0</td>\n",
              "      <td>0</td>\n",
              "      <td>0</td>\n",
              "      <td>1</td>\n",
              "      <td>0</td>\n",
              "      <td>0</td>\n",
              "      <td>0</td>\n",
              "      <td>0</td>\n",
              "      <td>0</td>\n",
              "      <td>0</td>\n",
              "      <td>0</td>\n",
              "      <td>0</td>\n",
              "      <td>0</td>\n",
              "      <td>0</td>\n",
              "      <td>0</td>\n",
              "      <td>1</td>\n",
              "      <td>0</td>\n",
              "      <td>0</td>\n",
              "      <td>0</td>\n",
              "      <td>0</td>\n",
              "      <td>0</td>\n",
              "      <td>0</td>\n",
              "      <td>1</td>\n",
              "      <td>0</td>\n",
              "      <td>0</td>\n",
              "      <td>1</td>\n",
              "      <td>0</td>\n",
              "      <td>0</td>\n",
              "      <td>1</td>\n",
              "      <td>0</td>\n",
              "      <td>0</td>\n",
              "      <td>0</td>\n",
              "      <td>0</td>\n",
              "      <td>0</td>\n",
              "      <td>0</td>\n",
              "      <td>0</td>\n",
              "      <td>0</td>\n",
              "    </tr>\n",
              "    <tr>\n",
              "      <th>2</th>\n",
              "      <td>25</td>\n",
              "      <td>2</td>\n",
              "      <td>11</td>\n",
              "      <td>5</td>\n",
              "      <td>13</td>\n",
              "      <td>2</td>\n",
              "      <td>0</td>\n",
              "      <td>1</td>\n",
              "      <td>6</td>\n",
              "      <td>NO</td>\n",
              "      <td>1.0</td>\n",
              "      <td>0</td>\n",
              "      <td>0</td>\n",
              "      <td>0</td>\n",
              "      <td>0</td>\n",
              "      <td>0</td>\n",
              "      <td>0</td>\n",
              "      <td>0</td>\n",
              "      <td>0</td>\n",
              "      <td>0</td>\n",
              "      <td>0</td>\n",
              "      <td>0</td>\n",
              "      <td>0</td>\n",
              "      <td>0</td>\n",
              "      <td>0</td>\n",
              "      <td>0</td>\n",
              "      <td>0</td>\n",
              "      <td>0</td>\n",
              "      <td>0</td>\n",
              "      <td>0</td>\n",
              "      <td>0</td>\n",
              "      <td>0</td>\n",
              "      <td>0</td>\n",
              "      <td>0</td>\n",
              "      <td>0</td>\n",
              "      <td>0</td>\n",
              "      <td>0</td>\n",
              "      <td>0</td>\n",
              "      <td>0</td>\n",
              "      <td>0</td>\n",
              "      <td>...</td>\n",
              "      <td>0</td>\n",
              "      <td>0</td>\n",
              "      <td>0</td>\n",
              "      <td>0</td>\n",
              "      <td>0</td>\n",
              "      <td>0</td>\n",
              "      <td>1</td>\n",
              "      <td>0</td>\n",
              "      <td>0</td>\n",
              "      <td>0</td>\n",
              "      <td>0</td>\n",
              "      <td>0</td>\n",
              "      <td>0</td>\n",
              "      <td>0</td>\n",
              "      <td>0</td>\n",
              "      <td>0</td>\n",
              "      <td>0</td>\n",
              "      <td>0</td>\n",
              "      <td>1</td>\n",
              "      <td>0</td>\n",
              "      <td>0</td>\n",
              "      <td>0</td>\n",
              "      <td>0</td>\n",
              "      <td>0</td>\n",
              "      <td>0</td>\n",
              "      <td>1</td>\n",
              "      <td>0</td>\n",
              "      <td>0</td>\n",
              "      <td>1</td>\n",
              "      <td>0</td>\n",
              "      <td>1</td>\n",
              "      <td>1</td>\n",
              "      <td>0</td>\n",
              "      <td>0</td>\n",
              "      <td>0</td>\n",
              "      <td>0</td>\n",
              "      <td>0</td>\n",
              "      <td>0</td>\n",
              "      <td>0</td>\n",
              "      <td>0</td>\n",
              "    </tr>\n",
              "    <tr>\n",
              "      <th>3</th>\n",
              "      <td>35</td>\n",
              "      <td>2</td>\n",
              "      <td>44</td>\n",
              "      <td>1</td>\n",
              "      <td>16</td>\n",
              "      <td>0</td>\n",
              "      <td>0</td>\n",
              "      <td>0</td>\n",
              "      <td>7</td>\n",
              "      <td>NO</td>\n",
              "      <td>1.0</td>\n",
              "      <td>0</td>\n",
              "      <td>1</td>\n",
              "      <td>0</td>\n",
              "      <td>0</td>\n",
              "      <td>1</td>\n",
              "      <td>0</td>\n",
              "      <td>0</td>\n",
              "      <td>0</td>\n",
              "      <td>0</td>\n",
              "      <td>0</td>\n",
              "      <td>0</td>\n",
              "      <td>0</td>\n",
              "      <td>0</td>\n",
              "      <td>0</td>\n",
              "      <td>0</td>\n",
              "      <td>0</td>\n",
              "      <td>0</td>\n",
              "      <td>0</td>\n",
              "      <td>0</td>\n",
              "      <td>0</td>\n",
              "      <td>0</td>\n",
              "      <td>0</td>\n",
              "      <td>0</td>\n",
              "      <td>0</td>\n",
              "      <td>0</td>\n",
              "      <td>0</td>\n",
              "      <td>0</td>\n",
              "      <td>0</td>\n",
              "      <td>0</td>\n",
              "      <td>...</td>\n",
              "      <td>0</td>\n",
              "      <td>0</td>\n",
              "      <td>0</td>\n",
              "      <td>0</td>\n",
              "      <td>0</td>\n",
              "      <td>0</td>\n",
              "      <td>1</td>\n",
              "      <td>0</td>\n",
              "      <td>0</td>\n",
              "      <td>0</td>\n",
              "      <td>0</td>\n",
              "      <td>0</td>\n",
              "      <td>0</td>\n",
              "      <td>0</td>\n",
              "      <td>0</td>\n",
              "      <td>0</td>\n",
              "      <td>0</td>\n",
              "      <td>0</td>\n",
              "      <td>1</td>\n",
              "      <td>0</td>\n",
              "      <td>0</td>\n",
              "      <td>0</td>\n",
              "      <td>0</td>\n",
              "      <td>0</td>\n",
              "      <td>0</td>\n",
              "      <td>1</td>\n",
              "      <td>0</td>\n",
              "      <td>0</td>\n",
              "      <td>1</td>\n",
              "      <td>0</td>\n",
              "      <td>0</td>\n",
              "      <td>1</td>\n",
              "      <td>0</td>\n",
              "      <td>0</td>\n",
              "      <td>0</td>\n",
              "      <td>0</td>\n",
              "      <td>0</td>\n",
              "      <td>0</td>\n",
              "      <td>0</td>\n",
              "      <td>0</td>\n",
              "    </tr>\n",
              "    <tr>\n",
              "      <th>4</th>\n",
              "      <td>45</td>\n",
              "      <td>1</td>\n",
              "      <td>51</td>\n",
              "      <td>0</td>\n",
              "      <td>8</td>\n",
              "      <td>0</td>\n",
              "      <td>0</td>\n",
              "      <td>0</td>\n",
              "      <td>5</td>\n",
              "      <td>NO</td>\n",
              "      <td>2.0</td>\n",
              "      <td>0</td>\n",
              "      <td>1</td>\n",
              "      <td>0</td>\n",
              "      <td>0</td>\n",
              "      <td>1</td>\n",
              "      <td>0</td>\n",
              "      <td>0</td>\n",
              "      <td>0</td>\n",
              "      <td>0</td>\n",
              "      <td>0</td>\n",
              "      <td>0</td>\n",
              "      <td>0</td>\n",
              "      <td>0</td>\n",
              "      <td>0</td>\n",
              "      <td>0</td>\n",
              "      <td>0</td>\n",
              "      <td>0</td>\n",
              "      <td>0</td>\n",
              "      <td>0</td>\n",
              "      <td>0</td>\n",
              "      <td>0</td>\n",
              "      <td>0</td>\n",
              "      <td>0</td>\n",
              "      <td>0</td>\n",
              "      <td>0</td>\n",
              "      <td>0</td>\n",
              "      <td>0</td>\n",
              "      <td>0</td>\n",
              "      <td>0</td>\n",
              "      <td>...</td>\n",
              "      <td>0</td>\n",
              "      <td>0</td>\n",
              "      <td>0</td>\n",
              "      <td>0</td>\n",
              "      <td>0</td>\n",
              "      <td>0</td>\n",
              "      <td>1</td>\n",
              "      <td>0</td>\n",
              "      <td>0</td>\n",
              "      <td>0</td>\n",
              "      <td>0</td>\n",
              "      <td>0</td>\n",
              "      <td>0</td>\n",
              "      <td>0</td>\n",
              "      <td>0</td>\n",
              "      <td>0</td>\n",
              "      <td>0</td>\n",
              "      <td>0</td>\n",
              "      <td>1</td>\n",
              "      <td>0</td>\n",
              "      <td>0</td>\n",
              "      <td>0</td>\n",
              "      <td>0</td>\n",
              "      <td>0</td>\n",
              "      <td>0</td>\n",
              "      <td>1</td>\n",
              "      <td>0</td>\n",
              "      <td>0</td>\n",
              "      <td>1</td>\n",
              "      <td>0</td>\n",
              "      <td>0</td>\n",
              "      <td>1</td>\n",
              "      <td>0</td>\n",
              "      <td>0</td>\n",
              "      <td>0</td>\n",
              "      <td>0</td>\n",
              "      <td>0</td>\n",
              "      <td>0</td>\n",
              "      <td>0</td>\n",
              "      <td>1</td>\n",
              "    </tr>\n",
              "    <tr>\n",
              "      <th>5</th>\n",
              "      <td>55</td>\n",
              "      <td>3</td>\n",
              "      <td>31</td>\n",
              "      <td>6</td>\n",
              "      <td>16</td>\n",
              "      <td>0</td>\n",
              "      <td>0</td>\n",
              "      <td>0</td>\n",
              "      <td>9</td>\n",
              "      <td>&gt;30</td>\n",
              "      <td>1.0</td>\n",
              "      <td>0</td>\n",
              "      <td>1</td>\n",
              "      <td>0</td>\n",
              "      <td>0</td>\n",
              "      <td>1</td>\n",
              "      <td>1</td>\n",
              "      <td>0</td>\n",
              "      <td>0</td>\n",
              "      <td>0</td>\n",
              "      <td>0</td>\n",
              "      <td>0</td>\n",
              "      <td>0</td>\n",
              "      <td>0</td>\n",
              "      <td>0</td>\n",
              "      <td>0</td>\n",
              "      <td>0</td>\n",
              "      <td>0</td>\n",
              "      <td>0</td>\n",
              "      <td>0</td>\n",
              "      <td>0</td>\n",
              "      <td>0</td>\n",
              "      <td>0</td>\n",
              "      <td>0</td>\n",
              "      <td>0</td>\n",
              "      <td>0</td>\n",
              "      <td>0</td>\n",
              "      <td>0</td>\n",
              "      <td>0</td>\n",
              "      <td>0</td>\n",
              "      <td>...</td>\n",
              "      <td>0</td>\n",
              "      <td>0</td>\n",
              "      <td>0</td>\n",
              "      <td>0</td>\n",
              "      <td>0</td>\n",
              "      <td>0</td>\n",
              "      <td>1</td>\n",
              "      <td>0</td>\n",
              "      <td>0</td>\n",
              "      <td>0</td>\n",
              "      <td>0</td>\n",
              "      <td>0</td>\n",
              "      <td>0</td>\n",
              "      <td>0</td>\n",
              "      <td>0</td>\n",
              "      <td>0</td>\n",
              "      <td>0</td>\n",
              "      <td>0</td>\n",
              "      <td>1</td>\n",
              "      <td>0</td>\n",
              "      <td>0</td>\n",
              "      <td>0</td>\n",
              "      <td>0</td>\n",
              "      <td>0</td>\n",
              "      <td>0</td>\n",
              "      <td>1</td>\n",
              "      <td>0</td>\n",
              "      <td>0</td>\n",
              "      <td>1</td>\n",
              "      <td>0</td>\n",
              "      <td>1</td>\n",
              "      <td>1</td>\n",
              "      <td>1</td>\n",
              "      <td>0</td>\n",
              "      <td>0</td>\n",
              "      <td>0</td>\n",
              "      <td>0</td>\n",
              "      <td>0</td>\n",
              "      <td>0</td>\n",
              "      <td>0</td>\n",
              "    </tr>\n",
              "  </tbody>\n",
              "</table>\n",
              "<p>5 rows × 101 columns</p>\n",
              "</div>"
            ],
            "text/plain": [
              "   age  time_in_hospital  ...  categorias_diag_1_7  categorias_diag_1_8\n",
              "1   15                 3  ...                    0                    0\n",
              "2   25                 2  ...                    0                    0\n",
              "3   35                 2  ...                    0                    0\n",
              "4   45                 1  ...                    0                    1\n",
              "5   55                 3  ...                    0                    0\n",
              "\n",
              "[5 rows x 101 columns]"
            ]
          },
          "metadata": {
            "tags": []
          },
          "execution_count": 131
        }
      ]
    },
    {
      "cell_type": "markdown",
      "metadata": {
        "id": "7VsBB-cPW-mY"
      },
      "source": [
        "# <center><h1> Binarizando Label </h1></center>"
      ]
    },
    {
      "cell_type": "code",
      "metadata": {
        "colab": {
          "base_uri": "https://localhost:8080/"
        },
        "id": "q-cIQlF5W_FM",
        "outputId": "d0997fbd-82f5-4fcf-c22c-2ce48cc46c26"
      },
      "source": [
        "## Binarizamos el label donde 1 es readmitted <30 y 0 No readmitido\n",
        "df['OUTPUT_LABEL'] = (df.readmitted == '<30').astype('int')\n",
        "##ELIMINAMOS COLUMNA READMITTED\n",
        "df = df.drop('readmitted', axis = 1)\n",
        "df['OUTPUT_LABEL'].value_counts()"
      ],
      "execution_count": null,
      "outputs": [
        {
          "output_type": "execute_result",
          "data": {
            "text/plain": [
              "0    60769\n",
              "1     6074\n",
              "Name: OUTPUT_LABEL, dtype: int64"
            ]
          },
          "metadata": {
            "tags": []
          },
          "execution_count": 132
        }
      ]
    },
    {
      "cell_type": "code",
      "metadata": {
        "colab": {
          "base_uri": "https://localhost:8080/"
        },
        "id": "yikzaO8qw8rW",
        "outputId": "f07ff492-cb0f-4a64-9f38-83a134c350cb"
      },
      "source": [
        "## Binarizamos el label donde 1 es readmitted <30 y 0 No readmitido\n",
        "df_copia['OUTPUT_LABEL'] = (df_copia.readmitted == '<30').astype('int')\n",
        "##ELIMINAMOS COLUMNA READMITTED\n",
        "df_copia = df_copia.drop('readmitted', axis = 1)\n",
        "df_copia['OUTPUT_LABEL'].value_counts()"
      ],
      "execution_count": null,
      "outputs": [
        {
          "output_type": "execute_result",
          "data": {
            "text/plain": [
              "0    60769\n",
              "1     6074\n",
              "Name: OUTPUT_LABEL, dtype: int64"
            ]
          },
          "metadata": {
            "tags": []
          },
          "execution_count": 133
        }
      ]
    },
    {
      "cell_type": "markdown",
      "metadata": {
        "id": "dm9J5tU0nl5A"
      },
      "source": [
        "# <center><h1> 9. Feature Selection </h1></center>"
      ]
    },
    {
      "cell_type": "markdown",
      "metadata": {
        "id": "OaQlTYQcjHyR"
      },
      "source": [
        "# 9.1 Chi-Square "
      ]
    },
    {
      "cell_type": "code",
      "metadata": {
        "id": "q0kKyJSTnmSq"
      },
      "source": [
        "## Métodos de Filtro\n",
        "from sklearn.feature_selection import SelectKBest\n",
        "from sklearn.feature_selection import chi2\n",
        "\n",
        "## Separando el dataset en X e y\n",
        "X = df.drop(['OUTPUT_LABEL'], axis = 1)\n",
        "y = df['OUTPUT_LABEL']\n",
        "\n",
        "# Extracción de Carácterísticas: chi-cuadrado\n",
        "prueba = SelectKBest(score_func = chi2, k=10)\n",
        "entrenamiento = prueba.fit(X,y)\n",
        "\n",
        "scores = pd.DataFrame(data = list(zip(X.columns, entrenamiento.scores_)), columns = ['Atributo','Scores']).sort_values(by='Scores', ascending = False)\n",
        "\n",
        "scores.reset_index(drop = True, inplace = True)\n",
        "top_50_atributos = scores.head(50)['Atributo'].to_list()\n",
        "#scores.head(50)"
      ],
      "execution_count": null,
      "outputs": []
    },
    {
      "cell_type": "code",
      "metadata": {
        "id": "gI5Ytyhvgt5F"
      },
      "source": [
        "# Creamos un dataframe con los 50 atributos con mayor dependencia con la variable de salida\n",
        "df_top_50 = df[top_50_atributos]"
      ],
      "execution_count": null,
      "outputs": []
    },
    {
      "cell_type": "markdown",
      "metadata": {
        "id": "1eyjcJ2_EnoI"
      },
      "source": [
        "# 9.2 Feature Selection Random Forest"
      ]
    },
    {
      "cell_type": "code",
      "metadata": {
        "id": "Yhg2oCQaEnVV"
      },
      "source": [
        "from sklearn.ensemble import RandomForestClassifier"
      ],
      "execution_count": null,
      "outputs": []
    },
    {
      "cell_type": "code",
      "metadata": {
        "id": "zVj5tAvTt0FV"
      },
      "source": [
        "# Separamos el dataset en X e y\n",
        "X = df.drop(['OUTPUT_LABEL'], axis= 1)\n",
        "y = df['OUTPUT_LABEL']"
      ],
      "execution_count": null,
      "outputs": []
    },
    {
      "cell_type": "code",
      "metadata": {
        "id": "bsQ-QlJKEnRA"
      },
      "source": [
        "# definimos el modelo\n",
        "model = RandomForestClassifier(class_weight= 'balanced', criterion='entropy' )\n",
        "#model = RandomForestClassifier()\n",
        "# Ajustamos el modelo\n",
        "model.fit(X, y)\n",
        "# Obtenemos la importancia\n",
        "\n",
        "importance = model.feature_importances_"
      ],
      "execution_count": null,
      "outputs": []
    },
    {
      "cell_type": "code",
      "metadata": {
        "colab": {
          "base_uri": "https://localhost:8080/",
          "height": 419
        },
        "id": "csbzp1NF1G_a",
        "outputId": "9e73ff1c-388e-41dc-f00d-e7b171369b54"
      },
      "source": [
        "importance_rf = pd.DataFrame(data = list(zip(X.columns, importance ))).rename(columns={0:'Atributo',1:'Importancia'}).sort_values(by='Importancia', ascending= False)\n",
        "importance_rf"
      ],
      "execution_count": null,
      "outputs": [
        {
          "output_type": "execute_result",
          "data": {
            "text/html": [
              "<div>\n",
              "<style scoped>\n",
              "    .dataframe tbody tr th:only-of-type {\n",
              "        vertical-align: middle;\n",
              "    }\n",
              "\n",
              "    .dataframe tbody tr th {\n",
              "        vertical-align: top;\n",
              "    }\n",
              "\n",
              "    .dataframe thead th {\n",
              "        text-align: right;\n",
              "    }\n",
              "</style>\n",
              "<table border=\"1\" class=\"dataframe\">\n",
              "  <thead>\n",
              "    <tr style=\"text-align: right;\">\n",
              "      <th></th>\n",
              "      <th>Atributo</th>\n",
              "      <th>Importancia</th>\n",
              "    </tr>\n",
              "  </thead>\n",
              "  <tbody>\n",
              "    <tr>\n",
              "      <th>2</th>\n",
              "      <td>num_lab_procedures</td>\n",
              "      <td>1.182486e-01</td>\n",
              "    </tr>\n",
              "    <tr>\n",
              "      <th>4</th>\n",
              "      <td>num_medications</td>\n",
              "      <td>1.037084e-01</td>\n",
              "    </tr>\n",
              "    <tr>\n",
              "      <th>1</th>\n",
              "      <td>time_in_hospital</td>\n",
              "      <td>7.294589e-02</td>\n",
              "    </tr>\n",
              "    <tr>\n",
              "      <th>3</th>\n",
              "      <td>num_procedures</td>\n",
              "      <td>5.330156e-02</td>\n",
              "    </tr>\n",
              "    <tr>\n",
              "      <th>0</th>\n",
              "      <td>age</td>\n",
              "      <td>5.239543e-02</td>\n",
              "    </tr>\n",
              "    <tr>\n",
              "      <th>...</th>\n",
              "      <td>...</td>\n",
              "      <td>...</td>\n",
              "    </tr>\n",
              "    <tr>\n",
              "      <th>40</th>\n",
              "      <td>discharge_disposition_id_27</td>\n",
              "      <td>1.854084e-06</td>\n",
              "    </tr>\n",
              "    <tr>\n",
              "      <th>33</th>\n",
              "      <td>discharge_disposition_id_16</td>\n",
              "      <td>1.776365e-06</td>\n",
              "    </tr>\n",
              "    <tr>\n",
              "      <th>53</th>\n",
              "      <td>admission_source_id_14</td>\n",
              "      <td>7.306658e-07</td>\n",
              "    </tr>\n",
              "    <tr>\n",
              "      <th>51</th>\n",
              "      <td>admission_source_id_11</td>\n",
              "      <td>6.042437e-07</td>\n",
              "    </tr>\n",
              "    <tr>\n",
              "      <th>52</th>\n",
              "      <td>admission_source_id_13</td>\n",
              "      <td>1.362207e-07</td>\n",
              "    </tr>\n",
              "  </tbody>\n",
              "</table>\n",
              "<p>100 rows × 2 columns</p>\n",
              "</div>"
            ],
            "text/plain": [
              "                       Atributo   Importancia\n",
              "2            num_lab_procedures  1.182486e-01\n",
              "4               num_medications  1.037084e-01\n",
              "1              time_in_hospital  7.294589e-02\n",
              "3                num_procedures  5.330156e-02\n",
              "0                           age  5.239543e-02\n",
              "..                          ...           ...\n",
              "40  discharge_disposition_id_27  1.854084e-06\n",
              "33  discharge_disposition_id_16  1.776365e-06\n",
              "53       admission_source_id_14  7.306658e-07\n",
              "51       admission_source_id_11  6.042437e-07\n",
              "52       admission_source_id_13  1.362207e-07\n",
              "\n",
              "[100 rows x 2 columns]"
            ]
          },
          "metadata": {
            "tags": []
          },
          "execution_count": 139
        }
      ]
    },
    {
      "cell_type": "code",
      "metadata": {
        "id": "IQAYuCOkEmxM"
      },
      "source": [
        "## Otra alternativa de random forest importance\n",
        "from sklearn.ensemble import RandomForestClassifier\n",
        "from sklearn.feature_selection import SelectFromModel\n",
        "from sklearn.model_selection import train_test_split\n",
        "X_train, X_test, y_train, y_test = train_test_split(X, y, test_size=0.3, random_state=42)\n",
        "\n",
        "## definimos el modelo\n",
        "clf = RandomForestClassifier(n_estimators=64, max_features='sqrt', class_weight='balanced', criterion = 'entropy' )\n",
        "# Ajustamos el modelo\n",
        "clf = clf.fit(X_train, y_train)"
      ],
      "execution_count": null,
      "outputs": []
    },
    {
      "cell_type": "code",
      "metadata": {
        "id": "pT38lALP6XD7"
      },
      "source": [
        "features = pd.DataFrame()\n",
        "features['feature'] = X_train.columns\n",
        "features['importance'] = clf.feature_importances_\n",
        "features.sort_values(by=['importance'], ascending=False, inplace=True)\n",
        "features.set_index('feature', inplace=True)"
      ],
      "execution_count": null,
      "outputs": []
    },
    {
      "cell_type": "code",
      "metadata": {
        "colab": {
          "base_uri": "https://localhost:8080/",
          "height": 450
        },
        "id": "g7scihzf69nY",
        "outputId": "552e1b44-8359-47f9-ff33-96436866699c"
      },
      "source": [
        "features"
      ],
      "execution_count": null,
      "outputs": [
        {
          "output_type": "execute_result",
          "data": {
            "text/html": [
              "<div>\n",
              "<style scoped>\n",
              "    .dataframe tbody tr th:only-of-type {\n",
              "        vertical-align: middle;\n",
              "    }\n",
              "\n",
              "    .dataframe tbody tr th {\n",
              "        vertical-align: top;\n",
              "    }\n",
              "\n",
              "    .dataframe thead th {\n",
              "        text-align: right;\n",
              "    }\n",
              "</style>\n",
              "<table border=\"1\" class=\"dataframe\">\n",
              "  <thead>\n",
              "    <tr style=\"text-align: right;\">\n",
              "      <th></th>\n",
              "      <th>importance</th>\n",
              "    </tr>\n",
              "    <tr>\n",
              "      <th>feature</th>\n",
              "      <th></th>\n",
              "    </tr>\n",
              "  </thead>\n",
              "  <tbody>\n",
              "    <tr>\n",
              "      <th>num_lab_procedures</th>\n",
              "      <td>1.163891e-01</td>\n",
              "    </tr>\n",
              "    <tr>\n",
              "      <th>num_medications</th>\n",
              "      <td>1.042486e-01</td>\n",
              "    </tr>\n",
              "    <tr>\n",
              "      <th>time_in_hospital</th>\n",
              "      <td>7.184217e-02</td>\n",
              "    </tr>\n",
              "    <tr>\n",
              "      <th>num_procedures</th>\n",
              "      <td>5.250361e-02</td>\n",
              "    </tr>\n",
              "    <tr>\n",
              "      <th>age</th>\n",
              "      <td>5.234678e-02</td>\n",
              "    </tr>\n",
              "    <tr>\n",
              "      <th>...</th>\n",
              "      <td>...</td>\n",
              "    </tr>\n",
              "    <tr>\n",
              "      <th>admission_source_id_25</th>\n",
              "      <td>2.156744e-06</td>\n",
              "    </tr>\n",
              "    <tr>\n",
              "      <th>admission_source_id_22</th>\n",
              "      <td>1.960319e-06</td>\n",
              "    </tr>\n",
              "    <tr>\n",
              "      <th>discharge_disposition_id_16</th>\n",
              "      <td>1.294271e-06</td>\n",
              "    </tr>\n",
              "    <tr>\n",
              "      <th>admission_source_id_13</th>\n",
              "      <td>3.099296e-07</td>\n",
              "    </tr>\n",
              "    <tr>\n",
              "      <th>admission_source_id_11</th>\n",
              "      <td>0.000000e+00</td>\n",
              "    </tr>\n",
              "  </tbody>\n",
              "</table>\n",
              "<p>100 rows × 1 columns</p>\n",
              "</div>"
            ],
            "text/plain": [
              "                               importance\n",
              "feature                                  \n",
              "num_lab_procedures           1.163891e-01\n",
              "num_medications              1.042486e-01\n",
              "time_in_hospital             7.184217e-02\n",
              "num_procedures               5.250361e-02\n",
              "age                          5.234678e-02\n",
              "...                                   ...\n",
              "admission_source_id_25       2.156744e-06\n",
              "admission_source_id_22       1.960319e-06\n",
              "discharge_disposition_id_16  1.294271e-06\n",
              "admission_source_id_13       3.099296e-07\n",
              "admission_source_id_11       0.000000e+00\n",
              "\n",
              "[100 rows x 1 columns]"
            ]
          },
          "metadata": {
            "tags": []
          },
          "execution_count": 142
        }
      ]
    },
    {
      "cell_type": "markdown",
      "metadata": {
        "id": "WDiWmhDSLHUw"
      },
      "source": [
        "# <center><h1> 10. Entrenando Modelos de Clasificación </h1></center>"
      ]
    },
    {
      "cell_type": "code",
      "metadata": {
        "id": "km7KNaLmMjyb"
      },
      "source": [
        "## Algortimos a utilizar\n",
        "#Importamos Librerias\n",
        "from sklearn.naive_bayes import GaussianNB ## Naive bayes\n",
        "from sklearn.neighbors import KNeighborsClassifier ## KNN\n",
        "from sklearn import svm  # Support Vector Machine\n",
        "from sklearn.ensemble import RandomForestClassifier #Random forest\n",
        "from sklearn.tree import DecisionTreeClassifier, export_graphviz ## Arboles de descision \n",
        "\n",
        "# Naive Bayes\n",
        "naive_bayes_model = GaussianNB()\n",
        "# KNN\n",
        "knn_model = KNeighborsClassifier(n_neighbors=100)\n",
        "# Support Vector Machine\n",
        "svm_model = svm.SVC(kernel='rbf') \n",
        "# Random Forest\n",
        "random_forest_model = RandomForestClassifier(n_estimators=100, random_state=0)\n",
        "#Decission Tree\n",
        "decission_tree_model = DecisionTreeClassifier()"
      ],
      "execution_count": null,
      "outputs": []
    },
    {
      "cell_type": "code",
      "metadata": {
        "colab": {
          "base_uri": "https://localhost:8080/"
        },
        "id": "Yt6aC2urPR8M",
        "outputId": "9207b731-b17a-4a55-8980-f788eb5ca1e7"
      },
      "source": [
        "df_top_50.columns"
      ],
      "execution_count": null,
      "outputs": [
        {
          "output_type": "execute_result",
          "data": {
            "text/plain": [
              "Index(['number_inpatient', 'num_lab_procedures', 'discharge_disposition_id_22',\n",
              "       'time_in_hospital', 'num_medications', 'discharge_disposition_id_3',\n",
              "       'discharge_disposition_id_5', 'number_emergency',\n",
              "       'discharge_disposition_id_28', 'discharge_disposition_id_15',\n",
              "       'number_diagnoses', 'discharge_disposition_id_2', 'payer_code_No value',\n",
              "       'categorias_diag_1_2', 'age', 'payer_code_HM', 'number_outpatient',\n",
              "       'categorias_diag_1_5', 'payer_code_CP', 'diabetesMed_Yes',\n",
              "       'categorias_diag_1_1', 'discharge_disposition_id_23',\n",
              "       'medical_specialty_Emergency/Trauma', 'discharge_disposition_id_25',\n",
              "       'medical_specialty_Orthopedics-Reconstructive', 'race_Other',\n",
              "       'admission_type_id_3', 'medical_specialty_InternalMedicine',\n",
              "       'categorias_diag_1_3', 'change_No', 'payer_code_PO',\n",
              "       'indicador_tratamiento', 'admission_type_id_6',\n",
              "       'medical_specialty_Radiologist', 'admission_source_id_20',\n",
              "       'discharge_disposition_id_12', 'medical_specialty_Nephrology',\n",
              "       'discharge_disposition_id_18', 'admission_source_id_3',\n",
              "       'medical_specialty_Family/GeneralPractice', 'admission_source_id_6',\n",
              "       'payer_code_UN', 'admission_source_id_7', 'medical_specialty_Otros',\n",
              "       'payer_code_MD', 'discharge_disposition_id_6', 'admission_source_id_9',\n",
              "       'medical_specialty_No value', 'payer_code_WC', 'A1Cresult_>8'],\n",
              "      dtype='object')"
            ]
          },
          "metadata": {
            "tags": []
          },
          "execution_count": 144
        }
      ]
    },
    {
      "cell_type": "code",
      "metadata": {
        "id": "OuNaAu6JPLVu"
      },
      "source": [
        "## Seleccionamos X e y\n",
        "X = df_top_50\n",
        "y = df['OUTPUT_LABEL']"
      ],
      "execution_count": null,
      "outputs": []
    },
    {
      "cell_type": "markdown",
      "metadata": {
        "id": "kgX58kLOLeH-"
      },
      "source": [
        "# 10.1 Dataset con 50 atributos seleccionados por Chi-square"
      ]
    },
    {
      "cell_type": "code",
      "metadata": {
        "id": "F-OkpvUB69ec"
      },
      "source": [
        "## Otra implementacion de validacion cruzada estratificada\n",
        "from sklearn.model_selection import StratifiedKFold # validacion cruzada estratificada\n",
        "#from sklearn.preprocessing import StandardScaler\n",
        "from sklearn.metrics import accuracy_score\n",
        "from sklearn.metrics import confusion_matrix\n",
        "from imblearn.over_sampling import RandomOverSampler\n",
        "from sklearn.metrics import balanced_accuracy_score\n",
        "from sklearn.metrics import recall_score\n",
        "from sklearn.metrics import precision_recall_fscore_support\n",
        "from sklearn.metrics import precision_score\n",
        "from sklearn.metrics import f1_score\n",
        "from sklearn.metrics import roc_auc_score\n",
        "from google.colab import files\n",
        "from sklearn.preprocessing import StandardScaler\n",
        "import numpy as np\n",
        "import matplotlib.pyplot as plt\n",
        "\n",
        "from sklearn.metrics import auc\n",
        "from sklearn.metrics import plot_roc_curve\n",
        "def StratifickfoldChiSquaredFeatures(X,y,model,k):\n",
        "  \n",
        "  skf = StratifiedKFold(n_splits=k,  random_state=42)\n",
        "\n",
        "  #Dataframe de las metricas\n",
        "  metrics = pd.DataFrame()\n",
        "\n",
        "  # Creamos matriz vacia para guardar la matriz de confusion total\n",
        "  matriz_confusion = np.zeros((2,2))\n",
        "\n",
        "\n",
        "  ## Métricas de Train \n",
        "  acc_score_train = []\n",
        "  balance_score_train = []\n",
        "  recall_macro_train = []\n",
        "  pres_macro_train = []\n",
        "  f1_score_train = []\n",
        "  auc_roc_macro_train = []\n",
        "  \n",
        "  ## Metricas de testing\n",
        "  acc_score = []\n",
        "  balance_score = []\n",
        "  recall_macro = []\n",
        "  #pres_recall_fs = []\n",
        "  pres = []\n",
        "  f_1score = []\n",
        "  auc_roc_macro = []\n",
        "\n",
        "  ## variables para crear la curva ROC\n",
        "  tprs = []\n",
        "  aucs = []\n",
        "  mean_fpr = np.linspace(0, 1, 100)\n",
        "  fig, ax = plt.subplots()\n",
        "  for i, (train, test) in enumerate(skf.split(X, y)):\n",
        "\n",
        "      X_train = X.iloc[train]\n",
        "      y_train = y.iloc[train]\n",
        "      X_test = X.iloc[test]\n",
        "      y_test = y.iloc[test]\n",
        "      ## Balanceamos las clases del conjunto de  train, referencia --> https://machinelearningmastery.com/random-oversampling-and-undersampling-for-imbalanced-classification/\n",
        "      #oversample = RandomOverSampler(sampling_strategy= 'minority')\n",
        "      #fit y aplicamos la transformacion\n",
        "      #X_train, y_train = oversample.fit_resample(X_train, y_train)\n",
        "\n",
        "      #y_train = pd.DataFrame(y_train)\n",
        "      #print(y_train[0].value_counts())\n",
        "      #print('*************')\n",
        "      #X_train = pd.DataFrame(data = X_train)\n",
        "      #print(X_train.shape)\n",
        "      #print('****************************')\n",
        "\n",
        "      # Escalamos los datos   \n",
        "      scaler = StandardScaler()\n",
        "      scaler.fit(X_train)\n",
        "      X_train = scaler.transform(X_train)\n",
        "      X_test = scaler.transform(X_test)\n",
        "\n",
        "      # Entrenamiento\n",
        "      model.fit(X_train, y_train)\n",
        "\n",
        "      ##Predicciones\n",
        "      pred_values_train = model.predict(X_train)\n",
        "      pred_proba_train = model.predict_proba(X_train)\n",
        "      \n",
        "      ############################\n",
        "      ##Metricas de entrenamiento\n",
        "      ############################\n",
        "      # Accuracy metrica\n",
        "      acc_t = accuracy_score(y_train, pred_values_train)\n",
        "      acc_score_train.append(acc_t)\n",
        "\n",
        "      # Balanced score\n",
        "      bal_score_t = balanced_accuracy_score(y_train, pred_values_train)\n",
        "      balance_score_train.append(bal_score_t)\n",
        "\n",
        "      #recall macro\n",
        "      recall_t = recall_score(y_train, pred_values_train, average='macro')\n",
        "      recall_macro_train.append(recall_t)\n",
        "\n",
        "      #precision, recall, fscore\n",
        "      #pres_rec_f = precision_recall_fscore_support(y_test, pred_values, average='macro')\n",
        "      #pres_recall_fs.append(pres_rec_f)\n",
        "\n",
        "      #precision\n",
        "      presci_t = precision_score(y_train, pred_values_train, average='macro')\n",
        "      pres_macro_train.append(presci_t)\n",
        "\n",
        "      #f1_score\n",
        "      f1score_t = f1_score(y_train, pred_values_train,average='macro')\n",
        "      f1_score_train.append(f1score_t)\n",
        "\n",
        "      # auc macro train\n",
        "      auc_metric_macro_t = roc_auc_score(y_train, pred_proba_train[:, 1],average='macro')\n",
        "      auc_roc_macro_train.append(auc_metric_macro_t)\n",
        "      \n",
        "      \n",
        "      ######################\n",
        "      ###Metricas de testing\n",
        "      ######################\n",
        "      \n",
        "      # Prediccion de Testing\n",
        "      pred_values = model.predict(X_test)\n",
        "\n",
        "      # Probabilidad de la prediccion\n",
        "      pred_proba = model.predict_proba(X_test)\n",
        "      #print(pred_proba)\n",
        "\n",
        "      ##Creamos matriz de confusión\n",
        "      matrix = confusion_matrix(y_test, pred_values)\n",
        "      #print(matrix)\n",
        "      # sumamos la matriz de confusion\n",
        "      matriz_confusion = matriz_confusion + matrix\n",
        "      ## Calculo de metricas para cada fold\n",
        "\n",
        "      # Accuracy metrica\n",
        "      acc = accuracy_score(y_test, pred_values)\n",
        "      acc_score.append(acc)\n",
        "\n",
        "      # Balanced score\n",
        "      bal_score = balanced_accuracy_score(y_test, pred_values)\n",
        "      balance_score.append(bal_score)\n",
        "\n",
        "      #recall macro\n",
        "      recall = recall_score(y_test, pred_values, average='macro')\n",
        "      recall_macro.append(recall)\n",
        "\n",
        "      #precision, recall, fscore\n",
        "      #pres_rec_f = precision_recall_fscore_support(y_test, pred_values, average='macro')\n",
        "      #pres_recall_fs.append(pres_rec_f)\n",
        "\n",
        "      #precision\n",
        "      presci = precision_score(y_test, pred_values, average='macro')\n",
        "      pres.append(presci)\n",
        "\n",
        "      #f1_score\n",
        "      f1score = f1_score(y_test, pred_values,average='macro')\n",
        "      f_1score.append(f1score)\n",
        "\n",
        "      # auc macro\n",
        "      auc_metric_macro = roc_auc_score(y_test, pred_proba[:, 1],average='macro')\n",
        "      auc_roc_macro.append(auc_metric_macro)\n",
        "\n",
        "      # auc roc normal\n",
        "      #auc_roc_normal = roc_auc_score(y_test, )\n",
        "\n",
        "\n",
        "\n",
        "\n",
        "      \n",
        "      viz = plot_roc_curve(model, X_test, y_test,\n",
        "                          name='ROC fold {}'.format(i),\n",
        "                          alpha=0.3, lw=1, ax=ax)\n",
        "      interp_tpr = np.interp(mean_fpr, viz.fpr, viz.tpr)\n",
        "      interp_tpr[0] = 0.0\n",
        "      tprs.append(interp_tpr)\n",
        "      aucs.append(viz.roc_auc)\n",
        "\n",
        "  ## Armando el dataframe con metricas\n",
        "  #metrics['Model'] = ['Random Forest']\n",
        "  #metrics['metric_avg_acc_score'] = [sum(acc_score)/k]\n",
        "  #metrics['balanced_acc_score'] = [sum(balance_score)/k]\n",
        "  #metrics['recall_macro'] =  [sum(recall_macro)/k]\n",
        "  #metrics['presicion_macro'] = [sum(pres)/k]\n",
        "  #metrics['f1_score_macro'] = [sum(f_1score) / k]\n",
        "  #metrics['AUC'] = [sum(auc_roc_macro) / k]\n",
        "\n",
        "\n",
        "  ## Armando el dataframe con metricas\n",
        "\n",
        "  lista_train =[sum(acc_score_train)/k ,sum(balance_score_train)/k, sum(recall_macro_train)/k, sum(pres_macro_train)/k, sum(f1_score_train)/k, sum(auc_roc_macro_train)/k ]\n",
        "  lista_test = [sum(acc_score)/k,sum(balance_score)/k,sum(recall_macro)/k,sum(pres)/k,sum(f_1score) / k, sum(auc_roc_macro) / k]\n",
        "  row_name = ['metric_avg_acc_score','balanced_acc_score', 'recall_macro', 'presicion_macro','f1_score_macro', 'AUC_macro']\n",
        "  \n",
        "\n",
        "  ## Armando el dataframe  \n",
        "  metrics['Metricas_RF'] = row_name\n",
        "  metrics['Train'] = lista_train\n",
        "  metrics['Test'] = lista_test\n",
        "\n",
        "\n",
        "  ax.plot([0, 1], [0, 1], linestyle='--', lw=2, color='r',\n",
        "          label='Chance', alpha=.8)\n",
        "\n",
        "  mean_tpr = np.mean(tprs, axis=0)\n",
        "  mean_tpr[-1] = 1.0\n",
        "  mean_auc = auc(mean_fpr, mean_tpr)\n",
        "  std_auc = np.std(aucs)\n",
        "  ax.plot(mean_fpr, mean_tpr, color='b',\n",
        "          label=r'Mean ROC (AUC = %0.2f $\\pm$ %0.2f)' % (mean_auc, std_auc),\n",
        "          lw=2, alpha=.8)\n",
        "\n",
        "  std_tpr = np.std(tprs, axis=0)\n",
        "  tprs_upper = np.minimum(mean_tpr + std_tpr, 1)\n",
        "  tprs_lower = np.maximum(mean_tpr - std_tpr, 0)\n",
        "  ax.fill_between(mean_fpr, tprs_lower, tprs_upper, color='grey', alpha=.2,\n",
        "                  label=r'$\\pm$ 1 std. dev.')\n",
        "\n",
        "  ax.set(xlim=[-0.05, 1.05], ylim=[-0.05, 1.05],\n",
        "        title=\"Curva ROC\")\n",
        "  ax.legend(loc=\"upper left\", bbox_to_anchor=(1,1))\n",
        "  #plt.savefig('/content/gdrive/MyDrive/001_Diplomado Ciencia de datos Avanzado/Proyecto_1/',bbox_inches='tight', dpi = 1500)\n",
        "  plt.show()\n",
        "\n",
        "  return metrics , matriz_confusion/k"
      ],
      "execution_count": null,
      "outputs": []
    },
    {
      "cell_type": "code",
      "metadata": {
        "colab": {
          "base_uri": "https://localhost:8080/",
          "height": 349
        },
        "id": "NqHUAeuY69W-",
        "outputId": "754e62eb-7367-45b5-f7a7-1f02d78916f9"
      },
      "source": [
        "metricas, matriz = StratifickfoldChiSquaredFeatures(X,y,random_forest_model,5)"
      ],
      "execution_count": null,
      "outputs": [
        {
          "output_type": "stream",
          "text": [
            "/usr/local/lib/python3.6/dist-packages/sklearn/model_selection/_split.py:296: FutureWarning: Setting a random_state has no effect since shuffle is False. This will raise an error in 0.24. You should leave random_state to its default (None), or set shuffle=True.\n",
            "  FutureWarning\n"
          ],
          "name": "stderr"
        },
        {
          "output_type": "display_data",
          "data": {
            "image/png": "[encoded data removed]",
            "text/plain": [
              "<Figure size 432x288 with 1 Axes>"
            ]
          },
          "metadata": {
            "tags": [],
            "needs_background": "light"
          }
        }
      ]
    },
    {
      "cell_type": "code",
      "metadata": {
        "colab": {
          "base_uri": "https://localhost:8080/",
          "height": 235
        },
        "id": "pr91-kht680T",
        "outputId": "81285abd-24c6-4003-a0a1-c85e8eea9a17"
      },
      "source": [
        "metricas"
      ],
      "execution_count": null,
      "outputs": [
        {
          "output_type": "execute_result",
          "data": {
            "text/html": [
              "<div>\n",
              "<style scoped>\n",
              "    .dataframe tbody tr th:only-of-type {\n",
              "        vertical-align: middle;\n",
              "    }\n",
              "\n",
              "    .dataframe tbody tr th {\n",
              "        vertical-align: top;\n",
              "    }\n",
              "\n",
              "    .dataframe thead th {\n",
              "        text-align: right;\n",
              "    }\n",
              "</style>\n",
              "<table border=\"1\" class=\"dataframe\">\n",
              "  <thead>\n",
              "    <tr style=\"text-align: right;\">\n",
              "      <th></th>\n",
              "      <th>Metricas_RF</th>\n",
              "      <th>Train</th>\n",
              "      <th>Test</th>\n",
              "    </tr>\n",
              "  </thead>\n",
              "  <tbody>\n",
              "    <tr>\n",
              "      <th>0</th>\n",
              "      <td>metric_avg_acc_score</td>\n",
              "      <td>0.999925</td>\n",
              "      <td>0.879854</td>\n",
              "    </tr>\n",
              "    <tr>\n",
              "      <th>1</th>\n",
              "      <td>balanced_acc_score</td>\n",
              "      <td>0.999607</td>\n",
              "      <td>0.499751</td>\n",
              "    </tr>\n",
              "    <tr>\n",
              "      <th>2</th>\n",
              "      <td>recall_macro</td>\n",
              "      <td>0.999607</td>\n",
              "      <td>0.499751</td>\n",
              "    </tr>\n",
              "    <tr>\n",
              "      <th>3</th>\n",
              "      <td>presicion_macro</td>\n",
              "      <td>0.999940</td>\n",
              "      <td>0.584504</td>\n",
              "    </tr>\n",
              "    <tr>\n",
              "      <th>4</th>\n",
              "      <td>f1_score_macro</td>\n",
              "      <td>0.999774</td>\n",
              "      <td>0.482927</td>\n",
              "    </tr>\n",
              "    <tr>\n",
              "      <th>5</th>\n",
              "      <td>AUC_macro</td>\n",
              "      <td>1.000000</td>\n",
              "      <td>0.591418</td>\n",
              "    </tr>\n",
              "  </tbody>\n",
              "</table>\n",
              "</div>"
            ],
            "text/plain": [
              "            Metricas_RF     Train      Test\n",
              "0  metric_avg_acc_score  0.999925  0.879854\n",
              "1    balanced_acc_score  0.999607  0.499751\n",
              "2          recall_macro  0.999607  0.499751\n",
              "3       presicion_macro  0.999940  0.584504\n",
              "4        f1_score_macro  0.999774  0.482927\n",
              "5             AUC_macro  1.000000  0.591418"
            ]
          },
          "metadata": {
            "tags": []
          },
          "execution_count": 157
        }
      ]
    },
    {
      "cell_type": "code",
      "metadata": {
        "colab": {
          "base_uri": "https://localhost:8080/"
        },
        "id": "5c7LfCHFQeuP",
        "outputId": "7c760ef3-3b8d-4a86-d005-6bdaa72a972e"
      },
      "source": [
        "matriz"
      ],
      "execution_count": null,
      "outputs": [
        {
          "output_type": "execute_result",
          "data": {
            "text/plain": [
              "array([[11719.6,   434.2],\n",
              "       [ 1172. ,    42.8]])"
            ]
          },
          "metadata": {
            "tags": []
          },
          "execution_count": 158
        }
      ]
    },
    {
      "cell_type": "markdown",
      "metadata": {
        "id": "EfBLJVvoth49"
      },
      "source": [
        "<center><h1> Reducción de Dimensionalidad PCA</h1></center>\n",
        "\n",
        "Se aplicará PCA y LDA"
      ]
    },
    {
      "cell_type": "code",
      "metadata": {
        "id": "MCUufdzpEwSO"
      },
      "source": [
        "## dividimos el conjunto de datos \n",
        "X = df.drop(['OUTPUT_LABEL'],axis = 1)\n",
        "y = df['OUTPUT_LABEL'].to_list()"
      ],
      "execution_count": null,
      "outputs": []
    },
    {
      "cell_type": "code",
      "metadata": {
        "id": "p_K1aDBcCgYX"
      },
      "source": [
        "## Para aplicar PCA los datos deben estar estandarizado o escalos\n",
        "# Escalamos los datos   \n",
        "from sklearn.preprocessing import StandardScaler\n",
        "scaler = StandardScaler()\n",
        "scaler.fit(X)\n",
        "X_scaled = scaler.transform(X)\n"
      ],
      "execution_count": null,
      "outputs": []
    },
    {
      "cell_type": "code",
      "metadata": {
        "id": "MyK1g6VE_i6L"
      },
      "source": [
        "from sklearn.decomposition import PCA\n",
        "\n",
        "pca = PCA(n_components=5)\n",
        "pca.fit(X_scaled)\n",
        "xx = pca.transform(X_scaled)"
      ],
      "execution_count": null,
      "outputs": []
    },
    {
      "cell_type": "code",
      "metadata": {
        "colab": {
          "base_uri": "https://localhost:8080/"
        },
        "id": "2wxb5QeG_itb",
        "outputId": "8902fd30-e11e-4833-de11-a099cf23a99d"
      },
      "source": [
        "xx.shape\n"
      ],
      "execution_count": null,
      "outputs": [
        {
          "output_type": "execute_result",
          "data": {
            "text/plain": [
              "(68357, 5)"
            ]
          },
          "metadata": {
            "tags": []
          },
          "execution_count": 137
        }
      ]
    },
    {
      "cell_type": "code",
      "metadata": {
        "colab": {
          "base_uri": "https://localhost:8080/",
          "height": 211
        },
        "id": "zB3NBvAiFqFh",
        "outputId": "716d7bb7-70f4-40f9-9031-f16171cbd04b"
      },
      "source": [
        "plt.figure(figsize=(5,3))\n",
        "plt.scatter(xx[:,0], xx[:,1], c=y, marker='+')\n",
        "plt.show()"
      ],
      "execution_count": null,
      "outputs": [
        {
          "output_type": "display_data",
          "data": {
            "image/png": "[encoded data removed]",
            "text/plain": [
              "<Figure size 360x216 with 1 Axes>"
            ]
          },
          "metadata": {
            "tags": [],
            "needs_background": "light"
          }
        }
      ]
    },
    {
      "cell_type": "code",
      "metadata": {
        "id": "1NOzZYry564C"
      },
      "source": [
        "X_pca = pd.DataFrame(data = xx)"
      ],
      "execution_count": null,
      "outputs": []
    },
    {
      "cell_type": "code",
      "metadata": {
        "id": "xkXCJR3Gjvpr"
      },
      "source": [
        "X_pca = X_pca.iloc[0:100,0:].reset_index(drop = True)"
      ],
      "execution_count": null,
      "outputs": []
    },
    {
      "cell_type": "code",
      "metadata": {
        "colab": {
          "base_uri": "https://localhost:8080/",
          "height": 419
        },
        "id": "ZR_Jo1qvluED",
        "outputId": "4041df08-f46d-4d53-e394-78fb361ec86c"
      },
      "source": [
        "X_pca"
      ],
      "execution_count": null,
      "outputs": [
        {
          "output_type": "execute_result",
          "data": {
            "text/html": [
              "<div>\n",
              "<style scoped>\n",
              "    .dataframe tbody tr th:only-of-type {\n",
              "        vertical-align: middle;\n",
              "    }\n",
              "\n",
              "    .dataframe tbody tr th {\n",
              "        vertical-align: top;\n",
              "    }\n",
              "\n",
              "    .dataframe thead th {\n",
              "        text-align: right;\n",
              "    }\n",
              "</style>\n",
              "<table border=\"1\" class=\"dataframe\">\n",
              "  <thead>\n",
              "    <tr style=\"text-align: right;\">\n",
              "      <th></th>\n",
              "      <th>0</th>\n",
              "      <th>1</th>\n",
              "      <th>2</th>\n",
              "      <th>3</th>\n",
              "      <th>4</th>\n",
              "    </tr>\n",
              "  </thead>\n",
              "  <tbody>\n",
              "    <tr>\n",
              "      <th>0</th>\n",
              "      <td>-0.592640</td>\n",
              "      <td>-0.554429</td>\n",
              "      <td>0.766027</td>\n",
              "      <td>0.299744</td>\n",
              "      <td>-0.637349</td>\n",
              "    </tr>\n",
              "    <tr>\n",
              "      <th>1</th>\n",
              "      <td>0.287238</td>\n",
              "      <td>-0.677544</td>\n",
              "      <td>-0.839387</td>\n",
              "      <td>-0.273711</td>\n",
              "      <td>-0.169412</td>\n",
              "    </tr>\n",
              "    <tr>\n",
              "      <th>2</th>\n",
              "      <td>-0.326119</td>\n",
              "      <td>-0.398469</td>\n",
              "      <td>0.276381</td>\n",
              "      <td>0.082432</td>\n",
              "      <td>0.020455</td>\n",
              "    </tr>\n",
              "    <tr>\n",
              "      <th>3</th>\n",
              "      <td>-0.220826</td>\n",
              "      <td>-0.310719</td>\n",
              "      <td>-0.002208</td>\n",
              "      <td>0.149616</td>\n",
              "      <td>1.041838</td>\n",
              "    </tr>\n",
              "    <tr>\n",
              "      <th>4</th>\n",
              "      <td>0.159568</td>\n",
              "      <td>1.471080</td>\n",
              "      <td>-1.561845</td>\n",
              "      <td>-1.524928</td>\n",
              "      <td>-1.643997</td>\n",
              "    </tr>\n",
              "    <tr>\n",
              "      <th>...</th>\n",
              "      <td>...</td>\n",
              "      <td>...</td>\n",
              "      <td>...</td>\n",
              "      <td>...</td>\n",
              "      <td>...</td>\n",
              "    </tr>\n",
              "    <tr>\n",
              "      <th>95</th>\n",
              "      <td>-1.399078</td>\n",
              "      <td>-0.025688</td>\n",
              "      <td>2.082368</td>\n",
              "      <td>-1.478783</td>\n",
              "      <td>-0.669740</td>\n",
              "    </tr>\n",
              "    <tr>\n",
              "      <th>96</th>\n",
              "      <td>0.236535</td>\n",
              "      <td>-2.499657</td>\n",
              "      <td>0.061643</td>\n",
              "      <td>-1.871815</td>\n",
              "      <td>-0.699665</td>\n",
              "    </tr>\n",
              "    <tr>\n",
              "      <th>97</th>\n",
              "      <td>0.391079</td>\n",
              "      <td>0.901626</td>\n",
              "      <td>-1.441879</td>\n",
              "      <td>-1.411395</td>\n",
              "      <td>-0.458352</td>\n",
              "    </tr>\n",
              "    <tr>\n",
              "      <th>98</th>\n",
              "      <td>0.349336</td>\n",
              "      <td>1.241114</td>\n",
              "      <td>-1.831498</td>\n",
              "      <td>-0.936398</td>\n",
              "      <td>-0.881283</td>\n",
              "    </tr>\n",
              "    <tr>\n",
              "      <th>99</th>\n",
              "      <td>-1.055744</td>\n",
              "      <td>0.416929</td>\n",
              "      <td>1.338567</td>\n",
              "      <td>-1.061771</td>\n",
              "      <td>-0.669272</td>\n",
              "    </tr>\n",
              "  </tbody>\n",
              "</table>\n",
              "<p>100 rows × 5 columns</p>\n",
              "</div>"
            ],
            "text/plain": [
              "           0         1         2         3         4\n",
              "0  -0.592640 -0.554429  0.766027  0.299744 -0.637349\n",
              "1   0.287238 -0.677544 -0.839387 -0.273711 -0.169412\n",
              "2  -0.326119 -0.398469  0.276381  0.082432  0.020455\n",
              "3  -0.220826 -0.310719 -0.002208  0.149616  1.041838\n",
              "4   0.159568  1.471080 -1.561845 -1.524928 -1.643997\n",
              "..       ...       ...       ...       ...       ...\n",
              "95 -1.399078 -0.025688  2.082368 -1.478783 -0.669740\n",
              "96  0.236535 -2.499657  0.061643 -1.871815 -0.699665\n",
              "97  0.391079  0.901626 -1.441879 -1.411395 -0.458352\n",
              "98  0.349336  1.241114 -1.831498 -0.936398 -0.881283\n",
              "99 -1.055744  0.416929  1.338567 -1.061771 -0.669272\n",
              "\n",
              "[100 rows x 5 columns]"
            ]
          },
          "metadata": {
            "tags": []
          },
          "execution_count": 141
        }
      ]
    },
    {
      "cell_type": "code",
      "metadata": {
        "colab": {
          "base_uri": "https://localhost:8080/"
        },
        "id": "xV4g7bdDkCY0",
        "outputId": "dfce6ee0-59b1-43ce-cf56-e594355ee11f"
      },
      "source": [
        "y = pd.DataFrame(data = y).iloc[0:100,0].reset_index(drop = True)\n",
        "y"
      ],
      "execution_count": null,
      "outputs": [
        {
          "output_type": "execute_result",
          "data": {
            "text/plain": [
              "0     0\n",
              "1     0\n",
              "2     0\n",
              "3     0\n",
              "4     0\n",
              "     ..\n",
              "95    0\n",
              "96    0\n",
              "97    0\n",
              "98    0\n",
              "99    0\n",
              "Name: 0, Length: 100, dtype: int64"
            ]
          },
          "metadata": {
            "tags": []
          },
          "execution_count": 142
        }
      ]
    },
    {
      "cell_type": "code",
      "metadata": {
        "colab": {
          "base_uri": "https://localhost:8080/"
        },
        "id": "ZbSR4VXLhar5",
        "outputId": "edbab7f8-611a-4465-f702-017f14cfefe7"
      },
      "source": [
        "y.value_counts()"
      ],
      "execution_count": null,
      "outputs": [
        {
          "output_type": "execute_result",
          "data": {
            "text/plain": [
              "0    92\n",
              "1     8\n",
              "Name: 0, dtype: int64"
            ]
          },
          "metadata": {
            "tags": []
          },
          "execution_count": 146
        }
      ]
    },
    {
      "cell_type": "code",
      "metadata": {
        "id": "g2my6VIEte8h"
      },
      "source": [
        "# mount drive\n",
        "#from google.colab import drive\n",
        "#drive.mount('/content/gdrive')"
      ],
      "execution_count": null,
      "outputs": []
    },
    {
      "cell_type": "code",
      "metadata": {
        "id": "x0UCZrikguFF"
      },
      "source": [
        "## Otra implementacion de validacion cruzada estratificada\n",
        "from sklearn.model_selection import StratifiedKFold # validacion cruzada estratificada\n",
        "#from sklearn.preprocessing import StandardScaler\n",
        "from sklearn.metrics import accuracy_score\n",
        "from sklearn.metrics import confusion_matrix\n",
        "from imblearn.over_sampling import RandomOverSampler\n",
        "from sklearn.metrics import balanced_accuracy_score\n",
        "from sklearn.metrics import recall_score\n",
        "from sklearn.metrics import precision_recall_fscore_support\n",
        "from sklearn.metrics import precision_score\n",
        "from sklearn.metrics import f1_score\n",
        "from sklearn.metrics import roc_auc_score\n",
        "from google.colab import files\n",
        "\n",
        "import numpy as np\n",
        "import matplotlib.pyplot as plt\n",
        "\n",
        "from sklearn.metrics import auc\n",
        "from sklearn.metrics import plot_roc_curve\n",
        "def StratificPcaRoc(X,y,model,k):\n",
        "  \n",
        "  skf = StratifiedKFold(n_splits=k, shuffle=True, random_state=42)\n",
        "  metrics = pd.DataFrame()\n",
        "  # Creamos matriz vacia para guardar la matriz de confusion total\n",
        "  matriz_confusion = np.zeros((2,2))\n",
        "  acc_score = []\n",
        "  balance_score = []\n",
        "  recall_macro = []\n",
        "  pres_recall_fs = []\n",
        "  pres = []\n",
        "  f_1score = []\n",
        "  auc_roc = []\n",
        "  ## variables para crear la curva ROC\n",
        "  tprs = []\n",
        "  aucs = []\n",
        "  mean_fpr = np.linspace(0, 1, 100)\n",
        "  fig, ax = plt.subplots()\n",
        "  for i, (train, test) in enumerate(skf.split(X, y)):\n",
        "\n",
        "      X_train = X.iloc[train]\n",
        "      y_train = y.iloc[train]\n",
        "      X_test = X.iloc[test]\n",
        "      y_test = y.iloc[test]\n",
        "      ## Balanceamos las clases del conjunto de  train, referencia --> https://machinelearningmastery.com/random-oversampling-and-undersampling-for-imbalanced-classification/\n",
        "      oversample = RandomOverSampler(sampling_strategy= 'minority')\n",
        "      #fit y aplicamos la transformacion\n",
        "      X_train, y_train = oversample.fit_resample(X_train, y_train)\n",
        "\n",
        "      #y_train = pd.DataFrame(y_train)\n",
        "      #print(y_train[0].value_counts())\n",
        "      #print('*************')\n",
        "      #X_train = pd.DataFrame(data = X_train)\n",
        "      #print(X_train.shape)\n",
        "      #print('****************************')\n",
        "\n",
        "\n",
        "      # Entrenamiento\n",
        "      model.fit(X_train, y_train)\n",
        "      # Prediccion\n",
        "      pred_values = model.predict(X_test)\n",
        "\n",
        "      # Probabilidad de la prediccion\n",
        "      pred_proba = model.predict_proba(X_test)\n",
        "\n",
        "      ##Creamos matriz de confusión\n",
        "      matrix = confusion_matrix(y_test, pred_values)\n",
        "      #print(matrix)\n",
        "      # sumamos la matriz de confusion\n",
        "      matriz_confusion = matriz_confusion + matrix\n",
        "      ## Calculo de metricas para cada fold\n",
        "\n",
        "      # Accuracy metrica\n",
        "      acc = accuracy_score(y_test, pred_values)\n",
        "      acc_score.append(acc)\n",
        "\n",
        "      # Balanced score\n",
        "      bal_score = balanced_accuracy_score(y_test, pred_values)\n",
        "      balance_score.append(bal_score)\n",
        "\n",
        "      #recall macro\n",
        "      recall = recall_score(y_test, pred_values, average='macro')\n",
        "      recall_macro.append(recall)\n",
        "\n",
        "      #precision, recall, fscore\n",
        "      pres_rec_f = precision_recall_fscore_support(y_test, pred_values, average='macro')\n",
        "      pres_recall_fs.append(pres_rec_f)\n",
        "\n",
        "      #precision\n",
        "      presci = precision_score(y_test, pred_values, average='macro')\n",
        "      pres.append(presci)\n",
        "\n",
        "      #f1_score\n",
        "      f1score = f1_score(y_test, pred_values,average='macro')\n",
        "      f_1score.append(f1score)\n",
        "\n",
        "      # auc\n",
        "      auc_metric = roc_auc_score(y_test, pred_values,average='macro')\n",
        "      auc_roc.append(auc_metric)\n",
        "      \n",
        "      viz = plot_roc_curve(model, X_test, y_test,\n",
        "                          name='ROC fold {}'.format(i),\n",
        "                          alpha=0.3, lw=1, ax=ax)\n",
        "      interp_tpr = np.interp(mean_fpr, viz.fpr, viz.tpr)\n",
        "      interp_tpr[0] = 0.0\n",
        "      tprs.append(interp_tpr)\n",
        "      aucs.append(viz.roc_auc)\n",
        "\n",
        "  ## Armando el dataframe con metricas\n",
        "  metrics['Model'] = ['Random Forest']\n",
        "  metrics['metric_avg_acc_score'] = [sum(acc_score)/k]\n",
        "  metrics['balanced_acc_score'] = [sum(balance_score)/k]\n",
        "  metrics['recall_macro'] =  [sum(recall_macro)/k]\n",
        "  metrics['presicion_macro'] = [sum(pres)/k]\n",
        "  metrics['f1_score_macro'] = [sum(f_1score) / k]\n",
        "  metrics['AUC'] = [sum(auc_roc) / k]\n",
        "\n",
        "\n",
        "  ax.plot([0, 1], [0, 1], linestyle='--', lw=2, color='r',\n",
        "          label='Chance', alpha=.8)\n",
        "\n",
        "  mean_tpr = np.mean(tprs, axis=0)\n",
        "  mean_tpr[-1] = 1.0\n",
        "  mean_auc = auc(mean_fpr, mean_tpr)\n",
        "  std_auc = np.std(aucs)\n",
        "  ax.plot(mean_fpr, mean_tpr, color='b',\n",
        "          label=r'Mean ROC (AUC = %0.2f $\\pm$ %0.2f)' % (mean_auc, std_auc),\n",
        "          lw=2, alpha=.8)\n",
        "\n",
        "  std_tpr = np.std(tprs, axis=0)\n",
        "  tprs_upper = np.minimum(mean_tpr + std_tpr, 1)\n",
        "  tprs_lower = np.maximum(mean_tpr - std_tpr, 0)\n",
        "  ax.fill_between(mean_fpr, tprs_lower, tprs_upper, color='grey', alpha=.2,\n",
        "                  label=r'$\\pm$ 1 std. dev.')\n",
        "\n",
        "  ax.set(xlim=[-0.05, 1.05], ylim=[-0.05, 1.05],\n",
        "        title=\"Curva ROC\")\n",
        "  ax.legend(loc=\"upper left\", bbox_to_anchor=(1,1))\n",
        "  #plt.savefig('/content/gdrive/MyDrive/001_Diplomado Ciencia de datos Avanzado/Proyecto_1/',bbox_inches='tight', dpi = 1500)\n",
        "  plt.show()\n",
        "\n",
        "  return metrics , matriz_confusion/k"
      ],
      "execution_count": null,
      "outputs": []
    },
    {
      "cell_type": "code",
      "metadata": {
        "colab": {
          "base_uri": "https://localhost:8080/",
          "height": 553
        },
        "id": "6q737TW3jPK7",
        "outputId": "206b8f1f-0098-4ead-dca4-11b1a34e7956"
      },
      "source": [
        "from sklearn.ensemble import RandomForestClassifier #Random forest\n",
        "metrics, mc = StratificPcaRoc(X_pca,y, RandomForestClassifier(n_estimators=1, random_state=0) , 5)"
      ],
      "execution_count": null,
      "outputs": [
        {
          "output_type": "stream",
          "text": [
            "/usr/local/lib/python3.6/dist-packages/sklearn/utils/deprecation.py:87: FutureWarning: Function safe_indexing is deprecated; safe_indexing is deprecated in version 0.22 and will be removed in version 0.24.\n",
            "  warnings.warn(msg, category=FutureWarning)\n",
            "/usr/local/lib/python3.6/dist-packages/sklearn/utils/deprecation.py:87: FutureWarning: Function safe_indexing is deprecated; safe_indexing is deprecated in version 0.22 and will be removed in version 0.24.\n",
            "  warnings.warn(msg, category=FutureWarning)\n",
            "/usr/local/lib/python3.6/dist-packages/sklearn/utils/deprecation.py:87: FutureWarning: Function safe_indexing is deprecated; safe_indexing is deprecated in version 0.22 and will be removed in version 0.24.\n",
            "  warnings.warn(msg, category=FutureWarning)\n",
            "/usr/local/lib/python3.6/dist-packages/sklearn/utils/deprecation.py:87: FutureWarning: Function safe_indexing is deprecated; safe_indexing is deprecated in version 0.22 and will be removed in version 0.24.\n",
            "  warnings.warn(msg, category=FutureWarning)\n",
            "/usr/local/lib/python3.6/dist-packages/sklearn/utils/deprecation.py:87: FutureWarning: Function safe_indexing is deprecated; safe_indexing is deprecated in version 0.22 and will be removed in version 0.24.\n",
            "  warnings.warn(msg, category=FutureWarning)\n",
            "/usr/local/lib/python3.6/dist-packages/sklearn/metrics/_classification.py:1272: UndefinedMetricWarning: Precision and F-score are ill-defined and being set to 0.0 in labels with no predicted samples. Use `zero_division` parameter to control this behavior.\n",
            "  _warn_prf(average, modifier, msg_start, len(result))\n",
            "/usr/local/lib/python3.6/dist-packages/sklearn/metrics/_classification.py:1272: UndefinedMetricWarning: Precision is ill-defined and being set to 0.0 in labels with no predicted samples. Use `zero_division` parameter to control this behavior.\n",
            "  _warn_prf(average, modifier, msg_start, len(result))\n"
          ],
          "name": "stderr"
        },
        {
          "output_type": "display_data",
          "data": {
            "image/png": "[encoded data removed]",
            "text/plain": [
              "<Figure size 432x288 with 1 Axes>"
            ]
          },
          "metadata": {
            "tags": [],
            "needs_background": "light"
          }
        }
      ]
    },
    {
      "cell_type": "code",
      "metadata": {
        "colab": {
          "base_uri": "https://localhost:8080/",
          "height": 80
        },
        "id": "LSsn-RIEox2y",
        "outputId": "024b6a44-ebaa-4432-dc58-874163fd4008"
      },
      "source": [
        "metrics"
      ],
      "execution_count": null,
      "outputs": [
        {
          "output_type": "execute_result",
          "data": {
            "text/html": [
              "<div>\n",
              "<style scoped>\n",
              "    .dataframe tbody tr th:only-of-type {\n",
              "        vertical-align: middle;\n",
              "    }\n",
              "\n",
              "    .dataframe tbody tr th {\n",
              "        vertical-align: top;\n",
              "    }\n",
              "\n",
              "    .dataframe thead th {\n",
              "        text-align: right;\n",
              "    }\n",
              "</style>\n",
              "<table border=\"1\" class=\"dataframe\">\n",
              "  <thead>\n",
              "    <tr style=\"text-align: right;\">\n",
              "      <th></th>\n",
              "      <th>Model</th>\n",
              "      <th>metric_avg_acc_score</th>\n",
              "      <th>balanced_acc_score</th>\n",
              "      <th>recall_macro</th>\n",
              "      <th>presicion_macro</th>\n",
              "      <th>f1_score_macro</th>\n",
              "      <th>AUC</th>\n",
              "    </tr>\n",
              "  </thead>\n",
              "  <tbody>\n",
              "    <tr>\n",
              "      <th>0</th>\n",
              "      <td>Random Forest</td>\n",
              "      <td>0.83</td>\n",
              "      <td>0.45117</td>\n",
              "      <td>0.45117</td>\n",
              "      <td>0.455979</td>\n",
              "      <td>0.452966</td>\n",
              "      <td>0.45117</td>\n",
              "    </tr>\n",
              "  </tbody>\n",
              "</table>\n",
              "</div>"
            ],
            "text/plain": [
              "           Model  metric_avg_acc_score  ...  f1_score_macro      AUC\n",
              "0  Random Forest                  0.83  ...        0.452966  0.45117\n",
              "\n",
              "[1 rows x 7 columns]"
            ]
          },
          "metadata": {
            "tags": []
          },
          "execution_count": 158
        }
      ]
    },
    {
      "cell_type": "markdown",
      "metadata": {
        "id": "OfkOBIAvw8AY"
      },
      "source": [
        "# <center><h1>Reduccion de Dimensionalidad LDA</h1></center>"
      ]
    },
    {
      "cell_type": "code",
      "metadata": {
        "id": "sLsxMpwxw2vf"
      },
      "source": [
        "from sklearn.discriminant_analysis import LinearDiscriminantAnalysis"
      ],
      "execution_count": null,
      "outputs": []
    },
    {
      "cell_type": "code",
      "metadata": {
        "colab": {
          "base_uri": "https://localhost:8080/"
        },
        "id": "yB1Rmd02w2m0",
        "outputId": "e8c2416c-09b0-458f-952f-07718bef5c34"
      },
      "source": [
        "lda = LinearDiscriminantAnalysis(n_components=2)\n",
        "lda = lda.fit(X_scaled, y)\n",
        "X_r2 = lda.transform(X_scaled)\n",
        "np.unique(y)"
      ],
      "execution_count": null,
      "outputs": [
        {
          "output_type": "stream",
          "text": [
            "/usr/local/lib/python3.6/dist-packages/sklearn/discriminant_analysis.py:463: ChangedBehaviorWarning: n_components cannot be larger than min(n_features, n_classes - 1). Using min(n_features, n_classes - 1) = min(74, 2 - 1) = 1 components.\n",
            "  ChangedBehaviorWarning)\n",
            "/usr/local/lib/python3.6/dist-packages/sklearn/discriminant_analysis.py:469: FutureWarning: In version 0.23, setting n_components > min(n_features, n_classes - 1) will raise a ValueError. You should set n_components to None (default), or a value smaller or equal to min(n_features, n_classes - 1).\n",
            "  warnings.warn(future_msg, FutureWarning)\n"
          ],
          "name": "stderr"
        },
        {
          "output_type": "execute_result",
          "data": {
            "text/plain": [
              "array([0, 1])"
            ]
          },
          "metadata": {
            "tags": []
          },
          "execution_count": 361
        }
      ]
    },
    {
      "cell_type": "code",
      "metadata": {
        "colab": {
          "base_uri": "https://localhost:8080/"
        },
        "id": "uBQj5cxoy80Q",
        "outputId": "ed86461a-30eb-409b-9b74-af3133f24b53"
      },
      "source": [
        "X_r2.shape"
      ],
      "execution_count": null,
      "outputs": [
        {
          "output_type": "execute_result",
          "data": {
            "text/plain": [
              "(66843, 1)"
            ]
          },
          "metadata": {
            "tags": []
          },
          "execution_count": 359
        }
      ]
    },
    {
      "cell_type": "code",
      "metadata": {
        "colab": {
          "base_uri": "https://localhost:8080/",
          "height": 248
        },
        "id": "LDPkOxcCw2c4",
        "outputId": "3b9e5335-1e4b-4fb7-83f2-6186bc4e3a74"
      },
      "source": [
        "colors = ['navy', 'turquoise']\n",
        "\n",
        "plt.figure()\n",
        "for color, i, target_name in zip(colors, [1, 2], ['clase 1', 'clase 2']):\n",
        "    plt.scatter(X_r2[y == i][:, 0], X_r2[y == i][:, 1], alpha=.8, color=color,\n",
        "                label=target_name, s=10)\n",
        "    \n",
        "plt.legend(loc='best', shadow=False, scatterpoints=1)\n",
        "plt.title('Reduccion LDA')\n",
        "\n",
        "plt.legend(bbox_to_anchor=(1.3, 1.05))\n",
        "plt.show()"
      ],
      "execution_count": null,
      "outputs": [
        {
          "output_type": "error",
          "ename": "TypeError",
          "evalue": "ignored",
          "traceback": [
            "\u001b[0;31m---------------------------------------------------------------------------\u001b[0m",
            "\u001b[0;31mTypeError\u001b[0m                                 Traceback (most recent call last)",
            "\u001b[0;32m<ipython-input-360-162c22583a3b>\u001b[0m in \u001b[0;36m<module>\u001b[0;34m()\u001b[0m\n\u001b[1;32m      4\u001b[0m \u001b[0;32mfor\u001b[0m \u001b[0mcolor\u001b[0m\u001b[0;34m,\u001b[0m \u001b[0mi\u001b[0m\u001b[0;34m,\u001b[0m \u001b[0mtarget_name\u001b[0m \u001b[0;32min\u001b[0m \u001b[0mzip\u001b[0m\u001b[0;34m(\u001b[0m\u001b[0mcolors\u001b[0m\u001b[0;34m,\u001b[0m \u001b[0;34m[\u001b[0m\u001b[0;36m1\u001b[0m\u001b[0;34m,\u001b[0m \u001b[0;36m2\u001b[0m\u001b[0;34m]\u001b[0m\u001b[0;34m,\u001b[0m \u001b[0;34m[\u001b[0m\u001b[0;34m'clase 1'\u001b[0m\u001b[0;34m,\u001b[0m \u001b[0;34m'clase 2'\u001b[0m\u001b[0;34m]\u001b[0m\u001b[0;34m)\u001b[0m\u001b[0;34m:\u001b[0m\u001b[0;34m\u001b[0m\u001b[0;34m\u001b[0m\u001b[0m\n\u001b[1;32m      5\u001b[0m     plt.scatter(X_r2[y == i][:, 0], alpha=.8, color=color,\n\u001b[0;32m----> 6\u001b[0;31m                 label=target_name, s=10)\n\u001b[0m\u001b[1;32m      7\u001b[0m \u001b[0;34m\u001b[0m\u001b[0m\n\u001b[1;32m      8\u001b[0m \u001b[0mplt\u001b[0m\u001b[0;34m.\u001b[0m\u001b[0mlegend\u001b[0m\u001b[0;34m(\u001b[0m\u001b[0mloc\u001b[0m\u001b[0;34m=\u001b[0m\u001b[0;34m'best'\u001b[0m\u001b[0;34m,\u001b[0m \u001b[0mshadow\u001b[0m\u001b[0;34m=\u001b[0m\u001b[0;32mFalse\u001b[0m\u001b[0;34m,\u001b[0m \u001b[0mscatterpoints\u001b[0m\u001b[0;34m=\u001b[0m\u001b[0;36m1\u001b[0m\u001b[0;34m)\u001b[0m\u001b[0;34m\u001b[0m\u001b[0;34m\u001b[0m\u001b[0m\n",
            "\u001b[0;31mTypeError\u001b[0m: scatter() missing 1 required positional argument: 'y'"
          ]
        },
        {
          "output_type": "display_data",
          "data": {
            "text/plain": [
              "<Figure size 432x288 with 0 Axes>"
            ]
          },
          "metadata": {
            "tags": []
          }
        }
      ]
    },
    {
      "cell_type": "code",
      "metadata": {
        "colab": {
          "base_uri": "https://localhost:8080/"
        },
        "id": "6HbvEf_rw2I1",
        "outputId": "39de871b-ded7-4cf4-d129-c5d6b5365d3b"
      },
      "source": [
        "X_r2"
      ],
      "execution_count": null,
      "outputs": [
        {
          "output_type": "execute_result",
          "data": {
            "text/plain": [
              "array([[-0.45434152],\n",
              "       [ 0.12308009],\n",
              "       [-0.56827499],\n",
              "       ...,\n",
              "       [ 0.16376414],\n",
              "       [-0.22639475],\n",
              "       [-0.66462956]])"
            ]
          },
          "metadata": {
            "tags": []
          },
          "execution_count": 325
        }
      ]
    },
    {
      "cell_type": "code",
      "metadata": {
        "id": "BSMqYhV3xWiK"
      },
      "source": [
        "#### Pruebas,  seleccionando un dataframe mas pequeño\n",
        "muestras_positivas = df.OUTPUT_LABEL == 1\n",
        "positivas = df.loc[muestras_positivas].iloc[0:60].reset_index(drop = True)\n",
        "negativas = df.loc[~muestras_positivas].iloc[0:600].reset_index(drop = True)\n",
        "df = pd.concat([positivas, negativas], axis = 0).reset_index(drop = True)"
      ],
      "execution_count": null,
      "outputs": []
    },
    {
      "cell_type": "code",
      "metadata": {
        "id": "g4fO4oq-zO1y"
      },
      "source": [
        "## dividimos el conjunto de datos \n",
        "X = df.drop(['OUTPUT_LABEL'],axis = 1)\n",
        "y = df['OUTPUT_LABEL']"
      ],
      "execution_count": null,
      "outputs": []
    },
    {
      "cell_type": "code",
      "metadata": {
        "id": "wUFS24VzdUi3"
      },
      "source": [
        "#y = pd.DataFrame(data = y.values.reshape(660,1))"
      ],
      "execution_count": null,
      "outputs": []
    },
    {
      "cell_type": "code",
      "metadata": {
        "id": "GveNTu8EdjHb"
      },
      "source": [
        "#type(y)"
      ],
      "execution_count": null,
      "outputs": []
    },
    {
      "cell_type": "code",
      "metadata": {
        "id": "i9X8SFoGy_Ek"
      },
      "source": [
        "## Dividimos los datos en train (70%) y test (30%)\n",
        "#from sklearn.model_selection import train_test_split\n",
        "#X_train, X_test, y_train, y_test = train_test_split(X, y, test_size=0.3, random_state=42)"
      ],
      "execution_count": null,
      "outputs": []
    },
    {
      "cell_type": "code",
      "metadata": {
        "id": "EYk5QcLD0XOz"
      },
      "source": [
        "#print(y_train.value_counts())"
      ],
      "execution_count": null,
      "outputs": []
    },
    {
      "cell_type": "code",
      "metadata": {
        "id": "AftrlkI80LH2"
      },
      "source": [
        "#desbalance en el conjunto de train\n",
        "# plot the distribution\n",
        "#plt.bar(y_train.unique(), y_train.value_counts())\n",
        "#plt.show()"
      ],
      "execution_count": null,
      "outputs": []
    },
    {
      "cell_type": "code",
      "metadata": {
        "id": "TEM2Eyo5Z2-x"
      },
      "source": [
        "## Instalando libreria \n",
        "#!pip install imbalanced-learn"
      ],
      "execution_count": null,
      "outputs": []
    },
    {
      "cell_type": "code",
      "metadata": {
        "id": "x6ow06H-sbF3"
      },
      "source": [
        "## dividimos el conjunto de datos \n",
        "#X = df.drop(['OUTPUT_LABEL'],axis = 1)\n",
        "#y = df['OUTPUT_LABEL']"
      ],
      "execution_count": null,
      "outputs": []
    },
    {
      "cell_type": "code",
      "metadata": {
        "id": "o_XBml81bqGu"
      },
      "source": [
        "#y = pd.DataFrame(data = y)\n",
        "#y.head()"
      ],
      "execution_count": null,
      "outputs": []
    },
    {
      "cell_type": "code",
      "metadata": {
        "id": "-tPtU4NbYG-h"
      },
      "source": [
        "#Importamos Librerias\n",
        "from sklearn.ensemble import RandomForestClassifier #Random forest\n",
        "#confusion, accuracy  = Only_Stratified_Kfold(X,y, RandomForestClassifier(n_estimators=200, random_state=0))\n",
        "## dividimos el conjunto de datos \n",
        "X = df.drop(['OUTPUT_LABEL'],axis = 1)\n",
        "y = df['OUTPUT_LABEL']"
      ],
      "execution_count": null,
      "outputs": []
    },
    {
      "cell_type": "code",
      "metadata": {
        "id": "WRS4Vq1-CoGg"
      },
      "source": [
        "## Otra implementacion de validacion cruzada estratificada\n",
        "def cross_validation_stratific(X,y,model,k):\n",
        "  from sklearn.model_selection import StratifiedKFold # validacion cruzada estratificada\n",
        "  from sklearn.preprocessing import StandardScaler\n",
        "  from sklearn.metrics import accuracy_score\n",
        "  from sklearn.metrics import confusion_matrix\n",
        "  from imblearn.over_sampling import RandomOverSampler\n",
        "  from sklearn.metrics import balanced_accuracy_score\n",
        "  from sklearn.metrics import recall_score\n",
        "  from sklearn.metrics import precision_recall_fscore_support\n",
        "  from sklearn.metrics import precision_score\n",
        "  from sklearn.metrics import f1_score\n",
        "  from sklearn.metrics import roc_auc_score\n",
        "  #Configurando la Validacion cruzada estratificada\n",
        "  skf = StratifiedKFold(n_splits=k, shuffle=True, random_state=42)\n",
        "\n",
        "# Creamos matriz vacia para guardar la matriz de confusion total\n",
        "  matriz_confusion = np.zeros((2,2))\n",
        "  acc_score = []\n",
        "  balance_score = []\n",
        "  recall_macro = []\n",
        "  pres_recall_fs = []\n",
        "  pres = []\n",
        "  f_1score = []\n",
        "  auc_roc = []\n",
        "  for train_index , test_index in skf.split(X,y):\n",
        "    X_train, X_test = X.iloc[train_index], X.iloc[test_index]\n",
        "    y_train, y_test = y.iloc[train_index] , y.iloc[test_index]\n",
        "\n",
        "    ## Balanceamos las clases del conjunto de  train, referencia --> https://machinelearningmastery.com/random-oversampling-and-undersampling-for-imbalanced-classification/\n",
        "    oversample = RandomOverSampler(sampling_strategy= 'minority')\n",
        "    #fit y aplicamos la transformacion\n",
        "    X_train, y_train = oversample.fit_resample(X_train, y_train)\n",
        "    #print('tipe y_test: ',type(y_test))\n",
        "\n",
        "    #print(pd.DataFrame(y_train).value_counts())\n",
        "    # Escalamos los datos   \n",
        "    scaler = StandardScaler()\n",
        "    scaler.fit(X_train)\n",
        "    X_train = scaler.transform(X_train)\n",
        "    X_test = scaler.transform(X_test)\n",
        "\n",
        "\n",
        "    model.fit(X_train,y_train)\n",
        "    pred_values = model.predict(X_test)\n",
        "\n",
        "    ##Creamos matriz de confusión\n",
        "    matrix = confusion_matrix(y_test, pred_values)\n",
        "    #print(matrix)\n",
        "    # sumamos la matriz de confusion\n",
        "    matriz_confusion = matriz_confusion + matrix\n",
        "\n",
        "    # Accuracy metrica\n",
        "    acc = accuracy_score(y_test, pred_values)\n",
        "    acc_score.append(acc)\n",
        "\n",
        "    # Balanced score\n",
        "    bal_score = balanced_accuracy_score(y_test, pred_values)\n",
        "    balance_score.append(bal_score)\n",
        "\n",
        "    #recall macro\n",
        "    recall = recall_score(y_test, pred_values, average='macro')\n",
        "    recall_macro.append(recall)\n",
        "\n",
        "    #precision, recall, fscore\n",
        "    pres_rec_f = precision_recall_fscore_support(y_test, pred_values, average='macro')\n",
        "    pres_recall_fs.append(pres_rec_f)\n",
        "\n",
        "    #precision\n",
        "    presci = precision_score(y_test, pred_values, average='macro')\n",
        "    pres.append(presci)\n",
        "\n",
        "    #f1_score\n",
        "    f1score = f1_score(y_test, pred_values,average='macro')\n",
        "    f_1score.append(f1score)\n",
        "\n",
        "\n",
        "    # auc\n",
        "    auc_metric = roc_auc_score(y_test, pred_values,average='macro')\n",
        "    auc_roc.append(auc_metric)\n",
        "\n",
        "  metrics['Model'] = ['Random Forest']\n",
        "  metrics['metric_avg_acc_score'] = [sum(acc_score)/k]\n",
        "  metrics['balanced_acc_score'] = [sum(balance_score)/k]\n",
        "  metrics['recall_macro'] =  [sum(recall_macro)/k]\n",
        "  metrics['presicion_macro'] = [sum(pres)/k]\n",
        "  metrics['f1_score_macro'] = [sum(f_1score) / k]\n",
        "  metrics['AUC'] = [sum(auc_roc) / k]\n",
        "\n",
        "  #return avg_acc_score, matriz_confusion , balanced_acc_score, recall_macro, pres_recall_fs, presicion_macro, f1_score_macro\n",
        "  return metrics\n"
      ],
      "execution_count": null,
      "outputs": []
    },
    {
      "cell_type": "code",
      "metadata": {
        "colab": {
          "base_uri": "https://localhost:8080/"
        },
        "id": "zDD4t3OmgIwC",
        "outputId": "c761b049-4e05-4610-ad4f-760356896a68"
      },
      "source": [
        "#Importamos Librerias\n",
        "from sklearn.ensemble import RandomForestClassifier #Random forest\n",
        "metrics = cross_validation_stratific(X,y,RandomForestClassifier(n_estimators=200, random_state=0),10)"
      ],
      "execution_count": null,
      "outputs": [
        {
          "output_type": "stream",
          "text": [
            "/usr/local/lib/python3.6/dist-packages/sklearn/utils/deprecation.py:87: FutureWarning: Function safe_indexing is deprecated; safe_indexing is deprecated in version 0.22 and will be removed in version 0.24.\n",
            "  warnings.warn(msg, category=FutureWarning)\n",
            "/usr/local/lib/python3.6/dist-packages/sklearn/utils/deprecation.py:87: FutureWarning: Function safe_indexing is deprecated; safe_indexing is deprecated in version 0.22 and will be removed in version 0.24.\n",
            "  warnings.warn(msg, category=FutureWarning)\n",
            "/usr/local/lib/python3.6/dist-packages/sklearn/utils/deprecation.py:87: FutureWarning: Function safe_indexing is deprecated; safe_indexing is deprecated in version 0.22 and will be removed in version 0.24.\n",
            "  warnings.warn(msg, category=FutureWarning)\n",
            "/usr/local/lib/python3.6/dist-packages/sklearn/utils/deprecation.py:87: FutureWarning: Function safe_indexing is deprecated; safe_indexing is deprecated in version 0.22 and will be removed in version 0.24.\n",
            "  warnings.warn(msg, category=FutureWarning)\n",
            "/usr/local/lib/python3.6/dist-packages/sklearn/utils/deprecation.py:87: FutureWarning: Function safe_indexing is deprecated; safe_indexing is deprecated in version 0.22 and will be removed in version 0.24.\n",
            "  warnings.warn(msg, category=FutureWarning)\n",
            "/usr/local/lib/python3.6/dist-packages/sklearn/utils/deprecation.py:87: FutureWarning: Function safe_indexing is deprecated; safe_indexing is deprecated in version 0.22 and will be removed in version 0.24.\n",
            "  warnings.warn(msg, category=FutureWarning)\n",
            "/usr/local/lib/python3.6/dist-packages/sklearn/utils/deprecation.py:87: FutureWarning: Function safe_indexing is deprecated; safe_indexing is deprecated in version 0.22 and will be removed in version 0.24.\n",
            "  warnings.warn(msg, category=FutureWarning)\n",
            "/usr/local/lib/python3.6/dist-packages/sklearn/utils/deprecation.py:87: FutureWarning: Function safe_indexing is deprecated; safe_indexing is deprecated in version 0.22 and will be removed in version 0.24.\n",
            "  warnings.warn(msg, category=FutureWarning)\n",
            "/usr/local/lib/python3.6/dist-packages/sklearn/utils/deprecation.py:87: FutureWarning: Function safe_indexing is deprecated; safe_indexing is deprecated in version 0.22 and will be removed in version 0.24.\n",
            "  warnings.warn(msg, category=FutureWarning)\n",
            "/usr/local/lib/python3.6/dist-packages/sklearn/utils/deprecation.py:87: FutureWarning: Function safe_indexing is deprecated; safe_indexing is deprecated in version 0.22 and will be removed in version 0.24.\n",
            "  warnings.warn(msg, category=FutureWarning)\n"
          ],
          "name": "stderr"
        }
      ]
    },
    {
      "cell_type": "code",
      "metadata": {
        "colab": {
          "base_uri": "https://localhost:8080/",
          "height": 80
        },
        "id": "GTxpZCjUg0wG",
        "outputId": "e92f494d-ed06-4350-adba-87aa137e5c95"
      },
      "source": [
        "metrics"
      ],
      "execution_count": null,
      "outputs": [
        {
          "output_type": "execute_result",
          "data": {
            "text/html": [
              "<div>\n",
              "<style scoped>\n",
              "    .dataframe tbody tr th:only-of-type {\n",
              "        vertical-align: middle;\n",
              "    }\n",
              "\n",
              "    .dataframe tbody tr th {\n",
              "        vertical-align: top;\n",
              "    }\n",
              "\n",
              "    .dataframe thead th {\n",
              "        text-align: right;\n",
              "    }\n",
              "</style>\n",
              "<table border=\"1\" class=\"dataframe\">\n",
              "  <thead>\n",
              "    <tr style=\"text-align: right;\">\n",
              "      <th></th>\n",
              "      <th>Model</th>\n",
              "      <th>metric_avg_acc_score</th>\n",
              "      <th>balanced_acc_score</th>\n",
              "      <th>recall_macro</th>\n",
              "      <th>presicion_macro</th>\n",
              "      <th>f1_score_macro</th>\n",
              "      <th>AUC</th>\n",
              "    </tr>\n",
              "  </thead>\n",
              "  <tbody>\n",
              "    <tr>\n",
              "      <th>0</th>\n",
              "      <td>Random Forest</td>\n",
              "      <td>0.907664</td>\n",
              "      <td>0.508233</td>\n",
              "      <td>0.508233</td>\n",
              "      <td>0.634178</td>\n",
              "      <td>0.494745</td>\n",
              "      <td>0.508233</td>\n",
              "    </tr>\n",
              "  </tbody>\n",
              "</table>\n",
              "</div>"
            ],
            "text/plain": [
              "           Model  metric_avg_acc_score  ...  f1_score_macro       AUC\n",
              "0  Random Forest              0.907664  ...        0.494745  0.508233\n",
              "\n",
              "[1 rows x 7 columns]"
            ]
          },
          "metadata": {
            "tags": []
          },
          "execution_count": 320
        }
      ]
    },
    {
      "cell_type": "code",
      "metadata": {
        "colab": {
          "base_uri": "https://localhost:8080/"
        },
        "id": "gU3TsWKd3Rsk",
        "outputId": "4d965716-dfa5-471e-99d2-0e17e5cb7859"
      },
      "source": [
        "recall_macro"
      ],
      "execution_count": null,
      "outputs": [
        {
          "output_type": "execute_result",
          "data": {
            "text/plain": [
              "0.4966666666666667"
            ]
          },
          "metadata": {
            "tags": []
          },
          "execution_count": 223
        }
      ]
    },
    {
      "cell_type": "code",
      "metadata": {
        "colab": {
          "base_uri": "https://localhost:8080/"
        },
        "id": "erfndc7zy7Qb",
        "outputId": "e778f8b9-a6ef-4a77-bb44-955a1ea8fc51"
      },
      "source": [
        "pres_rec_fs"
      ],
      "execution_count": null,
      "outputs": [
        {
          "output_type": "execute_result",
          "data": {
            "text/plain": [
              "[(0.45454545454545453, 0.5, 0.47619047619047616, None),\n",
              " (0.45384615384615384, 0.49166666666666664, 0.472, None),\n",
              " (0.45454545454545453, 0.5, 0.47619047619047616, None),\n",
              " (0.45454545454545453, 0.5, 0.47619047619047616, None),\n",
              " (0.45454545454545453, 0.5, 0.47619047619047616, None),\n",
              " (0.45454545454545453, 0.5, 0.47619047619047616, None),\n",
              " (0.4523809523809524, 0.475, 0.46341463414634143, None),\n",
              " (0.45454545454545453, 0.5, 0.47619047619047616, None),\n",
              " (0.45454545454545453, 0.5, 0.47619047619047616, None),\n",
              " (0.45454545454545453, 0.5, 0.47619047619047616, None)]"
            ]
          },
          "metadata": {
            "tags": []
          },
          "execution_count": 221
        }
      ]
    },
    {
      "cell_type": "code",
      "metadata": {
        "colab": {
          "base_uri": "https://localhost:8080/",
          "height": 391
        },
        "id": "PGidjzvTgqx4",
        "outputId": "a676924e-0227-475c-cd60-15086882e652"
      },
      "source": [
        "from sklearn import metrics\n",
        "from sklearn.model_selection import train_test_split\n",
        "from sklearn.model_selection import cross_val_score\n",
        "from sklearn.linear_model import LogisticRegression\n",
        "from sklearn.model_selection import StratifiedKFold # validacion cruzada estratificada\n",
        " \n",
        "\n",
        " \n",
        "X_train, X_test, y_train, y_test = train_test_split(X, y, test_size=0.3, random_state=0)\n",
        " \n",
        "\n",
        "skf = StratifiedKFold(n_splits=10, shuffle=True, random_state=42)\n",
        "\n",
        "# Random Forest \n",
        "from sklearn.ensemble import RandomForestClassifier #Random forest\n",
        "\n",
        "cld_rf = RandomForestClassifier(n_estimators=200, random_state=0)\n",
        "\n",
        " \n",
        "cld_rf.fit(X_train, y_train)\n",
        " \n",
        "score = cld_rf.score(X_train,y_train)\n",
        " \n",
        "print(\"Metrica del modelo\", score)\n",
        " \n",
        "scores = cross_val_score(cld_rf, X_train, y_train, cv=skf, scoring=\"accuracy\")\n",
        " \n",
        "print(\"Metricas cross_validation\", scores)\n",
        " \n",
        "print(\"Media de cross_validation\", scores.mean())\n",
        " \n",
        "preds = cld_rf.predict(X_test)\n",
        " \n",
        "score_pred = metrics.accuracy_score(y_test, preds)\n",
        " \n",
        "print(\"Metrica en Test\", score_pred)"
      ],
      "execution_count": null,
      "outputs": [
        {
          "output_type": "stream",
          "text": [
            "Metrica del modelo 1.0\n"
          ],
          "name": "stdout"
        },
        {
          "output_type": "error",
          "ename": "KeyboardInterrupt",
          "evalue": "ignored",
          "traceback": [
            "\u001b[0;31m---------------------------------------------------------------------------\u001b[0m",
            "\u001b[0;31mKeyboardInterrupt\u001b[0m                         Traceback (most recent call last)",
            "\u001b[0;32m<ipython-input-362-d8980a24c5e4>\u001b[0m in \u001b[0;36m<module>\u001b[0;34m()\u001b[0m\n\u001b[1;32m     24\u001b[0m \u001b[0mprint\u001b[0m\u001b[0;34m(\u001b[0m\u001b[0;34m\"Metrica del modelo\"\u001b[0m\u001b[0;34m,\u001b[0m \u001b[0mscore\u001b[0m\u001b[0;34m)\u001b[0m\u001b[0;34m\u001b[0m\u001b[0;34m\u001b[0m\u001b[0m\n\u001b[1;32m     25\u001b[0m \u001b[0;34m\u001b[0m\u001b[0m\n\u001b[0;32m---> 26\u001b[0;31m \u001b[0mscores\u001b[0m \u001b[0;34m=\u001b[0m \u001b[0mcross_val_score\u001b[0m\u001b[0;34m(\u001b[0m\u001b[0mcld_rf\u001b[0m\u001b[0;34m,\u001b[0m \u001b[0mX_train\u001b[0m\u001b[0;34m,\u001b[0m \u001b[0my_train\u001b[0m\u001b[0;34m,\u001b[0m \u001b[0mcv\u001b[0m\u001b[0;34m=\u001b[0m\u001b[0mskf\u001b[0m\u001b[0;34m,\u001b[0m \u001b[0mscoring\u001b[0m\u001b[0;34m=\u001b[0m\u001b[0;34m\"accuracy\"\u001b[0m\u001b[0;34m)\u001b[0m\u001b[0;34m\u001b[0m\u001b[0;34m\u001b[0m\u001b[0m\n\u001b[0m\u001b[1;32m     27\u001b[0m \u001b[0;34m\u001b[0m\u001b[0m\n\u001b[1;32m     28\u001b[0m \u001b[0mprint\u001b[0m\u001b[0;34m(\u001b[0m\u001b[0;34m\"Metricas cross_validation\"\u001b[0m\u001b[0;34m,\u001b[0m \u001b[0mscores\u001b[0m\u001b[0;34m)\u001b[0m\u001b[0;34m\u001b[0m\u001b[0;34m\u001b[0m\u001b[0m\n",
            "\u001b[0;32m/usr/local/lib/python3.6/dist-packages/sklearn/model_selection/_validation.py\u001b[0m in \u001b[0;36mcross_val_score\u001b[0;34m(estimator, X, y, groups, scoring, cv, n_jobs, verbose, fit_params, pre_dispatch, error_score)\u001b[0m\n\u001b[1;32m    388\u001b[0m                                 \u001b[0mfit_params\u001b[0m\u001b[0;34m=\u001b[0m\u001b[0mfit_params\u001b[0m\u001b[0;34m,\u001b[0m\u001b[0;34m\u001b[0m\u001b[0;34m\u001b[0m\u001b[0m\n\u001b[1;32m    389\u001b[0m                                 \u001b[0mpre_dispatch\u001b[0m\u001b[0;34m=\u001b[0m\u001b[0mpre_dispatch\u001b[0m\u001b[0;34m,\u001b[0m\u001b[0;34m\u001b[0m\u001b[0;34m\u001b[0m\u001b[0m\n\u001b[0;32m--> 390\u001b[0;31m                                 error_score=error_score)\n\u001b[0m\u001b[1;32m    391\u001b[0m     \u001b[0;32mreturn\u001b[0m \u001b[0mcv_results\u001b[0m\u001b[0;34m[\u001b[0m\u001b[0;34m'test_score'\u001b[0m\u001b[0;34m]\u001b[0m\u001b[0;34m\u001b[0m\u001b[0;34m\u001b[0m\u001b[0m\n\u001b[1;32m    392\u001b[0m \u001b[0;34m\u001b[0m\u001b[0m\n",
            "\u001b[0;32m/usr/local/lib/python3.6/dist-packages/sklearn/model_selection/_validation.py\u001b[0m in \u001b[0;36mcross_validate\u001b[0;34m(estimator, X, y, groups, scoring, cv, n_jobs, verbose, fit_params, pre_dispatch, return_train_score, return_estimator, error_score)\u001b[0m\n\u001b[1;32m    234\u001b[0m             \u001b[0mreturn_times\u001b[0m\u001b[0;34m=\u001b[0m\u001b[0;32mTrue\u001b[0m\u001b[0;34m,\u001b[0m \u001b[0mreturn_estimator\u001b[0m\u001b[0;34m=\u001b[0m\u001b[0mreturn_estimator\u001b[0m\u001b[0;34m,\u001b[0m\u001b[0;34m\u001b[0m\u001b[0;34m\u001b[0m\u001b[0m\n\u001b[1;32m    235\u001b[0m             error_score=error_score)\n\u001b[0;32m--> 236\u001b[0;31m         for train, test in cv.split(X, y, groups))\n\u001b[0m\u001b[1;32m    237\u001b[0m \u001b[0;34m\u001b[0m\u001b[0m\n\u001b[1;32m    238\u001b[0m     \u001b[0mzipped_scores\u001b[0m \u001b[0;34m=\u001b[0m \u001b[0mlist\u001b[0m\u001b[0;34m(\u001b[0m\u001b[0mzip\u001b[0m\u001b[0;34m(\u001b[0m\u001b[0;34m*\u001b[0m\u001b[0mscores\u001b[0m\u001b[0;34m)\u001b[0m\u001b[0;34m)\u001b[0m\u001b[0;34m\u001b[0m\u001b[0;34m\u001b[0m\u001b[0m\n",
            "\u001b[0;32m/usr/local/lib/python3.6/dist-packages/joblib/parallel.py\u001b[0m in \u001b[0;36m__call__\u001b[0;34m(self, iterable)\u001b[0m\n\u001b[1;32m   1042\u001b[0m                 \u001b[0mself\u001b[0m\u001b[0;34m.\u001b[0m\u001b[0m_iterating\u001b[0m \u001b[0;34m=\u001b[0m \u001b[0mself\u001b[0m\u001b[0;34m.\u001b[0m\u001b[0m_original_iterator\u001b[0m \u001b[0;32mis\u001b[0m \u001b[0;32mnot\u001b[0m \u001b[0;32mNone\u001b[0m\u001b[0;34m\u001b[0m\u001b[0;34m\u001b[0m\u001b[0m\n\u001b[1;32m   1043\u001b[0m \u001b[0;34m\u001b[0m\u001b[0m\n\u001b[0;32m-> 1044\u001b[0;31m             \u001b[0;32mwhile\u001b[0m \u001b[0mself\u001b[0m\u001b[0;34m.\u001b[0m\u001b[0mdispatch_one_batch\u001b[0m\u001b[0;34m(\u001b[0m\u001b[0miterator\u001b[0m\u001b[0;34m)\u001b[0m\u001b[0;34m:\u001b[0m\u001b[0;34m\u001b[0m\u001b[0;34m\u001b[0m\u001b[0m\n\u001b[0m\u001b[1;32m   1045\u001b[0m                 \u001b[0;32mpass\u001b[0m\u001b[0;34m\u001b[0m\u001b[0;34m\u001b[0m\u001b[0m\n\u001b[1;32m   1046\u001b[0m \u001b[0;34m\u001b[0m\u001b[0m\n",
            "\u001b[0;32m/usr/local/lib/python3.6/dist-packages/joblib/parallel.py\u001b[0m in \u001b[0;36mdispatch_one_batch\u001b[0;34m(self, iterator)\u001b[0m\n\u001b[1;32m    857\u001b[0m                 \u001b[0;32mreturn\u001b[0m \u001b[0;32mFalse\u001b[0m\u001b[0;34m\u001b[0m\u001b[0;34m\u001b[0m\u001b[0m\n\u001b[1;32m    858\u001b[0m             \u001b[0;32melse\u001b[0m\u001b[0;34m:\u001b[0m\u001b[0;34m\u001b[0m\u001b[0;34m\u001b[0m\u001b[0m\n\u001b[0;32m--> 859\u001b[0;31m                 \u001b[0mself\u001b[0m\u001b[0;34m.\u001b[0m\u001b[0m_dispatch\u001b[0m\u001b[0;34m(\u001b[0m\u001b[0mtasks\u001b[0m\u001b[0;34m)\u001b[0m\u001b[0;34m\u001b[0m\u001b[0;34m\u001b[0m\u001b[0m\n\u001b[0m\u001b[1;32m    860\u001b[0m                 \u001b[0;32mreturn\u001b[0m \u001b[0;32mTrue\u001b[0m\u001b[0;34m\u001b[0m\u001b[0;34m\u001b[0m\u001b[0m\n\u001b[1;32m    861\u001b[0m \u001b[0;34m\u001b[0m\u001b[0m\n",
            "\u001b[0;32m/usr/local/lib/python3.6/dist-packages/joblib/parallel.py\u001b[0m in \u001b[0;36m_dispatch\u001b[0;34m(self, batch)\u001b[0m\n\u001b[1;32m    775\u001b[0m         \u001b[0;32mwith\u001b[0m \u001b[0mself\u001b[0m\u001b[0;34m.\u001b[0m\u001b[0m_lock\u001b[0m\u001b[0;34m:\u001b[0m\u001b[0;34m\u001b[0m\u001b[0;34m\u001b[0m\u001b[0m\n\u001b[1;32m    776\u001b[0m             \u001b[0mjob_idx\u001b[0m \u001b[0;34m=\u001b[0m \u001b[0mlen\u001b[0m\u001b[0;34m(\u001b[0m\u001b[0mself\u001b[0m\u001b[0;34m.\u001b[0m\u001b[0m_jobs\u001b[0m\u001b[0;34m)\u001b[0m\u001b[0;34m\u001b[0m\u001b[0;34m\u001b[0m\u001b[0m\n\u001b[0;32m--> 777\u001b[0;31m             \u001b[0mjob\u001b[0m \u001b[0;34m=\u001b[0m \u001b[0mself\u001b[0m\u001b[0;34m.\u001b[0m\u001b[0m_backend\u001b[0m\u001b[0;34m.\u001b[0m\u001b[0mapply_async\u001b[0m\u001b[0;34m(\u001b[0m\u001b[0mbatch\u001b[0m\u001b[0;34m,\u001b[0m \u001b[0mcallback\u001b[0m\u001b[0;34m=\u001b[0m\u001b[0mcb\u001b[0m\u001b[0;34m)\u001b[0m\u001b[0;34m\u001b[0m\u001b[0;34m\u001b[0m\u001b[0m\n\u001b[0m\u001b[1;32m    778\u001b[0m             \u001b[0;31m# A job can complete so quickly than its callback is\u001b[0m\u001b[0;34m\u001b[0m\u001b[0;34m\u001b[0m\u001b[0;34m\u001b[0m\u001b[0m\n\u001b[1;32m    779\u001b[0m             \u001b[0;31m# called before we get here, causing self._jobs to\u001b[0m\u001b[0;34m\u001b[0m\u001b[0;34m\u001b[0m\u001b[0;34m\u001b[0m\u001b[0m\n",
            "\u001b[0;32m/usr/local/lib/python3.6/dist-packages/joblib/_parallel_backends.py\u001b[0m in \u001b[0;36mapply_async\u001b[0;34m(self, func, callback)\u001b[0m\n\u001b[1;32m    206\u001b[0m     \u001b[0;32mdef\u001b[0m \u001b[0mapply_async\u001b[0m\u001b[0;34m(\u001b[0m\u001b[0mself\u001b[0m\u001b[0;34m,\u001b[0m \u001b[0mfunc\u001b[0m\u001b[0;34m,\u001b[0m \u001b[0mcallback\u001b[0m\u001b[0;34m=\u001b[0m\u001b[0;32mNone\u001b[0m\u001b[0;34m)\u001b[0m\u001b[0;34m:\u001b[0m\u001b[0;34m\u001b[0m\u001b[0;34m\u001b[0m\u001b[0m\n\u001b[1;32m    207\u001b[0m         \u001b[0;34m\"\"\"Schedule a func to be run\"\"\"\u001b[0m\u001b[0;34m\u001b[0m\u001b[0;34m\u001b[0m\u001b[0m\n\u001b[0;32m--> 208\u001b[0;31m         \u001b[0mresult\u001b[0m \u001b[0;34m=\u001b[0m \u001b[0mImmediateResult\u001b[0m\u001b[0;34m(\u001b[0m\u001b[0mfunc\u001b[0m\u001b[0;34m)\u001b[0m\u001b[0;34m\u001b[0m\u001b[0;34m\u001b[0m\u001b[0m\n\u001b[0m\u001b[1;32m    209\u001b[0m         \u001b[0;32mif\u001b[0m \u001b[0mcallback\u001b[0m\u001b[0;34m:\u001b[0m\u001b[0;34m\u001b[0m\u001b[0;34m\u001b[0m\u001b[0m\n\u001b[1;32m    210\u001b[0m             \u001b[0mcallback\u001b[0m\u001b[0;34m(\u001b[0m\u001b[0mresult\u001b[0m\u001b[0;34m)\u001b[0m\u001b[0;34m\u001b[0m\u001b[0;34m\u001b[0m\u001b[0m\n",
            "\u001b[0;32m/usr/local/lib/python3.6/dist-packages/joblib/_parallel_backends.py\u001b[0m in \u001b[0;36m__init__\u001b[0;34m(self, batch)\u001b[0m\n\u001b[1;32m    570\u001b[0m         \u001b[0;31m# Don't delay the application, to avoid keeping the input\u001b[0m\u001b[0;34m\u001b[0m\u001b[0;34m\u001b[0m\u001b[0;34m\u001b[0m\u001b[0m\n\u001b[1;32m    571\u001b[0m         \u001b[0;31m# arguments in memory\u001b[0m\u001b[0;34m\u001b[0m\u001b[0;34m\u001b[0m\u001b[0;34m\u001b[0m\u001b[0m\n\u001b[0;32m--> 572\u001b[0;31m         \u001b[0mself\u001b[0m\u001b[0;34m.\u001b[0m\u001b[0mresults\u001b[0m \u001b[0;34m=\u001b[0m \u001b[0mbatch\u001b[0m\u001b[0;34m(\u001b[0m\u001b[0;34m)\u001b[0m\u001b[0;34m\u001b[0m\u001b[0;34m\u001b[0m\u001b[0m\n\u001b[0m\u001b[1;32m    573\u001b[0m \u001b[0;34m\u001b[0m\u001b[0m\n\u001b[1;32m    574\u001b[0m     \u001b[0;32mdef\u001b[0m \u001b[0mget\u001b[0m\u001b[0;34m(\u001b[0m\u001b[0mself\u001b[0m\u001b[0;34m)\u001b[0m\u001b[0;34m:\u001b[0m\u001b[0;34m\u001b[0m\u001b[0;34m\u001b[0m\u001b[0m\n",
            "\u001b[0;32m/usr/local/lib/python3.6/dist-packages/joblib/parallel.py\u001b[0m in \u001b[0;36m__call__\u001b[0;34m(self)\u001b[0m\n\u001b[1;32m    261\u001b[0m         \u001b[0;32mwith\u001b[0m \u001b[0mparallel_backend\u001b[0m\u001b[0;34m(\u001b[0m\u001b[0mself\u001b[0m\u001b[0;34m.\u001b[0m\u001b[0m_backend\u001b[0m\u001b[0;34m,\u001b[0m \u001b[0mn_jobs\u001b[0m\u001b[0;34m=\u001b[0m\u001b[0mself\u001b[0m\u001b[0;34m.\u001b[0m\u001b[0m_n_jobs\u001b[0m\u001b[0;34m)\u001b[0m\u001b[0;34m:\u001b[0m\u001b[0;34m\u001b[0m\u001b[0;34m\u001b[0m\u001b[0m\n\u001b[1;32m    262\u001b[0m             return [func(*args, **kwargs)\n\u001b[0;32m--> 263\u001b[0;31m                     for func, args, kwargs in self.items]\n\u001b[0m\u001b[1;32m    264\u001b[0m \u001b[0;34m\u001b[0m\u001b[0m\n\u001b[1;32m    265\u001b[0m     \u001b[0;32mdef\u001b[0m \u001b[0m__reduce__\u001b[0m\u001b[0;34m(\u001b[0m\u001b[0mself\u001b[0m\u001b[0;34m)\u001b[0m\u001b[0;34m:\u001b[0m\u001b[0;34m\u001b[0m\u001b[0;34m\u001b[0m\u001b[0m\n",
            "\u001b[0;32m/usr/local/lib/python3.6/dist-packages/joblib/parallel.py\u001b[0m in \u001b[0;36m<listcomp>\u001b[0;34m(.0)\u001b[0m\n\u001b[1;32m    261\u001b[0m         \u001b[0;32mwith\u001b[0m \u001b[0mparallel_backend\u001b[0m\u001b[0;34m(\u001b[0m\u001b[0mself\u001b[0m\u001b[0;34m.\u001b[0m\u001b[0m_backend\u001b[0m\u001b[0;34m,\u001b[0m \u001b[0mn_jobs\u001b[0m\u001b[0;34m=\u001b[0m\u001b[0mself\u001b[0m\u001b[0;34m.\u001b[0m\u001b[0m_n_jobs\u001b[0m\u001b[0;34m)\u001b[0m\u001b[0;34m:\u001b[0m\u001b[0;34m\u001b[0m\u001b[0;34m\u001b[0m\u001b[0m\n\u001b[1;32m    262\u001b[0m             return [func(*args, **kwargs)\n\u001b[0;32m--> 263\u001b[0;31m                     for func, args, kwargs in self.items]\n\u001b[0m\u001b[1;32m    264\u001b[0m \u001b[0;34m\u001b[0m\u001b[0m\n\u001b[1;32m    265\u001b[0m     \u001b[0;32mdef\u001b[0m \u001b[0m__reduce__\u001b[0m\u001b[0;34m(\u001b[0m\u001b[0mself\u001b[0m\u001b[0;34m)\u001b[0m\u001b[0;34m:\u001b[0m\u001b[0;34m\u001b[0m\u001b[0;34m\u001b[0m\u001b[0m\n",
            "\u001b[0;32m/usr/local/lib/python3.6/dist-packages/sklearn/model_selection/_validation.py\u001b[0m in \u001b[0;36m_fit_and_score\u001b[0;34m(estimator, X, y, scorer, train, test, verbose, parameters, fit_params, return_train_score, return_parameters, return_n_test_samples, return_times, return_estimator, error_score)\u001b[0m\n\u001b[1;32m    513\u001b[0m             \u001b[0mestimator\u001b[0m\u001b[0;34m.\u001b[0m\u001b[0mfit\u001b[0m\u001b[0;34m(\u001b[0m\u001b[0mX_train\u001b[0m\u001b[0;34m,\u001b[0m \u001b[0;34m**\u001b[0m\u001b[0mfit_params\u001b[0m\u001b[0;34m)\u001b[0m\u001b[0;34m\u001b[0m\u001b[0;34m\u001b[0m\u001b[0m\n\u001b[1;32m    514\u001b[0m         \u001b[0;32melse\u001b[0m\u001b[0;34m:\u001b[0m\u001b[0;34m\u001b[0m\u001b[0;34m\u001b[0m\u001b[0m\n\u001b[0;32m--> 515\u001b[0;31m             \u001b[0mestimator\u001b[0m\u001b[0;34m.\u001b[0m\u001b[0mfit\u001b[0m\u001b[0;34m(\u001b[0m\u001b[0mX_train\u001b[0m\u001b[0;34m,\u001b[0m \u001b[0my_train\u001b[0m\u001b[0;34m,\u001b[0m \u001b[0;34m**\u001b[0m\u001b[0mfit_params\u001b[0m\u001b[0;34m)\u001b[0m\u001b[0;34m\u001b[0m\u001b[0;34m\u001b[0m\u001b[0m\n\u001b[0m\u001b[1;32m    516\u001b[0m \u001b[0;34m\u001b[0m\u001b[0m\n\u001b[1;32m    517\u001b[0m     \u001b[0;32mexcept\u001b[0m \u001b[0mException\u001b[0m \u001b[0;32mas\u001b[0m \u001b[0me\u001b[0m\u001b[0;34m:\u001b[0m\u001b[0;34m\u001b[0m\u001b[0;34m\u001b[0m\u001b[0m\n",
            "\u001b[0;32m/usr/local/lib/python3.6/dist-packages/sklearn/ensemble/_forest.py\u001b[0m in \u001b[0;36mfit\u001b[0;34m(self, X, y, sample_weight)\u001b[0m\n\u001b[1;32m    381\u001b[0m                     \u001b[0mverbose\u001b[0m\u001b[0;34m=\u001b[0m\u001b[0mself\u001b[0m\u001b[0;34m.\u001b[0m\u001b[0mverbose\u001b[0m\u001b[0;34m,\u001b[0m \u001b[0mclass_weight\u001b[0m\u001b[0;34m=\u001b[0m\u001b[0mself\u001b[0m\u001b[0;34m.\u001b[0m\u001b[0mclass_weight\u001b[0m\u001b[0;34m,\u001b[0m\u001b[0;34m\u001b[0m\u001b[0;34m\u001b[0m\u001b[0m\n\u001b[1;32m    382\u001b[0m                     n_samples_bootstrap=n_samples_bootstrap)\n\u001b[0;32m--> 383\u001b[0;31m                 for i, t in enumerate(trees))\n\u001b[0m\u001b[1;32m    384\u001b[0m \u001b[0;34m\u001b[0m\u001b[0m\n\u001b[1;32m    385\u001b[0m             \u001b[0;31m# Collect newly grown trees\u001b[0m\u001b[0;34m\u001b[0m\u001b[0;34m\u001b[0m\u001b[0;34m\u001b[0m\u001b[0m\n",
            "\u001b[0;32m/usr/local/lib/python3.6/dist-packages/joblib/parallel.py\u001b[0m in \u001b[0;36m__call__\u001b[0;34m(self, iterable)\u001b[0m\n\u001b[1;32m   1042\u001b[0m                 \u001b[0mself\u001b[0m\u001b[0;34m.\u001b[0m\u001b[0m_iterating\u001b[0m \u001b[0;34m=\u001b[0m \u001b[0mself\u001b[0m\u001b[0;34m.\u001b[0m\u001b[0m_original_iterator\u001b[0m \u001b[0;32mis\u001b[0m \u001b[0;32mnot\u001b[0m \u001b[0;32mNone\u001b[0m\u001b[0;34m\u001b[0m\u001b[0;34m\u001b[0m\u001b[0m\n\u001b[1;32m   1043\u001b[0m \u001b[0;34m\u001b[0m\u001b[0m\n\u001b[0;32m-> 1044\u001b[0;31m             \u001b[0;32mwhile\u001b[0m \u001b[0mself\u001b[0m\u001b[0;34m.\u001b[0m\u001b[0mdispatch_one_batch\u001b[0m\u001b[0;34m(\u001b[0m\u001b[0miterator\u001b[0m\u001b[0;34m)\u001b[0m\u001b[0;34m:\u001b[0m\u001b[0;34m\u001b[0m\u001b[0;34m\u001b[0m\u001b[0m\n\u001b[0m\u001b[1;32m   1045\u001b[0m                 \u001b[0;32mpass\u001b[0m\u001b[0;34m\u001b[0m\u001b[0;34m\u001b[0m\u001b[0m\n\u001b[1;32m   1046\u001b[0m \u001b[0;34m\u001b[0m\u001b[0m\n",
            "\u001b[0;32m/usr/local/lib/python3.6/dist-packages/joblib/parallel.py\u001b[0m in \u001b[0;36mdispatch_one_batch\u001b[0;34m(self, iterator)\u001b[0m\n\u001b[1;32m    857\u001b[0m                 \u001b[0;32mreturn\u001b[0m \u001b[0;32mFalse\u001b[0m\u001b[0;34m\u001b[0m\u001b[0;34m\u001b[0m\u001b[0m\n\u001b[1;32m    858\u001b[0m             \u001b[0;32melse\u001b[0m\u001b[0;34m:\u001b[0m\u001b[0;34m\u001b[0m\u001b[0;34m\u001b[0m\u001b[0m\n\u001b[0;32m--> 859\u001b[0;31m                 \u001b[0mself\u001b[0m\u001b[0;34m.\u001b[0m\u001b[0m_dispatch\u001b[0m\u001b[0;34m(\u001b[0m\u001b[0mtasks\u001b[0m\u001b[0;34m)\u001b[0m\u001b[0;34m\u001b[0m\u001b[0;34m\u001b[0m\u001b[0m\n\u001b[0m\u001b[1;32m    860\u001b[0m                 \u001b[0;32mreturn\u001b[0m \u001b[0;32mTrue\u001b[0m\u001b[0;34m\u001b[0m\u001b[0;34m\u001b[0m\u001b[0m\n\u001b[1;32m    861\u001b[0m \u001b[0;34m\u001b[0m\u001b[0m\n",
            "\u001b[0;32m/usr/local/lib/python3.6/dist-packages/joblib/parallel.py\u001b[0m in \u001b[0;36m_dispatch\u001b[0;34m(self, batch)\u001b[0m\n\u001b[1;32m    775\u001b[0m         \u001b[0;32mwith\u001b[0m \u001b[0mself\u001b[0m\u001b[0;34m.\u001b[0m\u001b[0m_lock\u001b[0m\u001b[0;34m:\u001b[0m\u001b[0;34m\u001b[0m\u001b[0;34m\u001b[0m\u001b[0m\n\u001b[1;32m    776\u001b[0m             \u001b[0mjob_idx\u001b[0m \u001b[0;34m=\u001b[0m \u001b[0mlen\u001b[0m\u001b[0;34m(\u001b[0m\u001b[0mself\u001b[0m\u001b[0;34m.\u001b[0m\u001b[0m_jobs\u001b[0m\u001b[0;34m)\u001b[0m\u001b[0;34m\u001b[0m\u001b[0;34m\u001b[0m\u001b[0m\n\u001b[0;32m--> 777\u001b[0;31m             \u001b[0mjob\u001b[0m \u001b[0;34m=\u001b[0m \u001b[0mself\u001b[0m\u001b[0;34m.\u001b[0m\u001b[0m_backend\u001b[0m\u001b[0;34m.\u001b[0m\u001b[0mapply_async\u001b[0m\u001b[0;34m(\u001b[0m\u001b[0mbatch\u001b[0m\u001b[0;34m,\u001b[0m \u001b[0mcallback\u001b[0m\u001b[0;34m=\u001b[0m\u001b[0mcb\u001b[0m\u001b[0;34m)\u001b[0m\u001b[0;34m\u001b[0m\u001b[0;34m\u001b[0m\u001b[0m\n\u001b[0m\u001b[1;32m    778\u001b[0m             \u001b[0;31m# A job can complete so quickly than its callback is\u001b[0m\u001b[0;34m\u001b[0m\u001b[0;34m\u001b[0m\u001b[0;34m\u001b[0m\u001b[0m\n\u001b[1;32m    779\u001b[0m             \u001b[0;31m# called before we get here, causing self._jobs to\u001b[0m\u001b[0;34m\u001b[0m\u001b[0;34m\u001b[0m\u001b[0;34m\u001b[0m\u001b[0m\n",
            "\u001b[0;32m/usr/local/lib/python3.6/dist-packages/joblib/_parallel_backends.py\u001b[0m in \u001b[0;36mapply_async\u001b[0;34m(self, func, callback)\u001b[0m\n\u001b[1;32m    206\u001b[0m     \u001b[0;32mdef\u001b[0m \u001b[0mapply_async\u001b[0m\u001b[0;34m(\u001b[0m\u001b[0mself\u001b[0m\u001b[0;34m,\u001b[0m \u001b[0mfunc\u001b[0m\u001b[0;34m,\u001b[0m \u001b[0mcallback\u001b[0m\u001b[0;34m=\u001b[0m\u001b[0;32mNone\u001b[0m\u001b[0;34m)\u001b[0m\u001b[0;34m:\u001b[0m\u001b[0;34m\u001b[0m\u001b[0;34m\u001b[0m\u001b[0m\n\u001b[1;32m    207\u001b[0m         \u001b[0;34m\"\"\"Schedule a func to be run\"\"\"\u001b[0m\u001b[0;34m\u001b[0m\u001b[0;34m\u001b[0m\u001b[0m\n\u001b[0;32m--> 208\u001b[0;31m         \u001b[0mresult\u001b[0m \u001b[0;34m=\u001b[0m \u001b[0mImmediateResult\u001b[0m\u001b[0;34m(\u001b[0m\u001b[0mfunc\u001b[0m\u001b[0;34m)\u001b[0m\u001b[0;34m\u001b[0m\u001b[0;34m\u001b[0m\u001b[0m\n\u001b[0m\u001b[1;32m    209\u001b[0m         \u001b[0;32mif\u001b[0m \u001b[0mcallback\u001b[0m\u001b[0;34m:\u001b[0m\u001b[0;34m\u001b[0m\u001b[0;34m\u001b[0m\u001b[0m\n\u001b[1;32m    210\u001b[0m             \u001b[0mcallback\u001b[0m\u001b[0;34m(\u001b[0m\u001b[0mresult\u001b[0m\u001b[0;34m)\u001b[0m\u001b[0;34m\u001b[0m\u001b[0;34m\u001b[0m\u001b[0m\n",
            "\u001b[0;32m/usr/local/lib/python3.6/dist-packages/joblib/_parallel_backends.py\u001b[0m in \u001b[0;36m__init__\u001b[0;34m(self, batch)\u001b[0m\n\u001b[1;32m    570\u001b[0m         \u001b[0;31m# Don't delay the application, to avoid keeping the input\u001b[0m\u001b[0;34m\u001b[0m\u001b[0;34m\u001b[0m\u001b[0;34m\u001b[0m\u001b[0m\n\u001b[1;32m    571\u001b[0m         \u001b[0;31m# arguments in memory\u001b[0m\u001b[0;34m\u001b[0m\u001b[0;34m\u001b[0m\u001b[0;34m\u001b[0m\u001b[0m\n\u001b[0;32m--> 572\u001b[0;31m         \u001b[0mself\u001b[0m\u001b[0;34m.\u001b[0m\u001b[0mresults\u001b[0m \u001b[0;34m=\u001b[0m \u001b[0mbatch\u001b[0m\u001b[0;34m(\u001b[0m\u001b[0;34m)\u001b[0m\u001b[0;34m\u001b[0m\u001b[0;34m\u001b[0m\u001b[0m\n\u001b[0m\u001b[1;32m    573\u001b[0m \u001b[0;34m\u001b[0m\u001b[0m\n\u001b[1;32m    574\u001b[0m     \u001b[0;32mdef\u001b[0m \u001b[0mget\u001b[0m\u001b[0;34m(\u001b[0m\u001b[0mself\u001b[0m\u001b[0;34m)\u001b[0m\u001b[0;34m:\u001b[0m\u001b[0;34m\u001b[0m\u001b[0;34m\u001b[0m\u001b[0m\n",
            "\u001b[0;32m/usr/local/lib/python3.6/dist-packages/joblib/parallel.py\u001b[0m in \u001b[0;36m__call__\u001b[0;34m(self)\u001b[0m\n\u001b[1;32m    261\u001b[0m         \u001b[0;32mwith\u001b[0m \u001b[0mparallel_backend\u001b[0m\u001b[0;34m(\u001b[0m\u001b[0mself\u001b[0m\u001b[0;34m.\u001b[0m\u001b[0m_backend\u001b[0m\u001b[0;34m,\u001b[0m \u001b[0mn_jobs\u001b[0m\u001b[0;34m=\u001b[0m\u001b[0mself\u001b[0m\u001b[0;34m.\u001b[0m\u001b[0m_n_jobs\u001b[0m\u001b[0;34m)\u001b[0m\u001b[0;34m:\u001b[0m\u001b[0;34m\u001b[0m\u001b[0;34m\u001b[0m\u001b[0m\n\u001b[1;32m    262\u001b[0m             return [func(*args, **kwargs)\n\u001b[0;32m--> 263\u001b[0;31m                     for func, args, kwargs in self.items]\n\u001b[0m\u001b[1;32m    264\u001b[0m \u001b[0;34m\u001b[0m\u001b[0m\n\u001b[1;32m    265\u001b[0m     \u001b[0;32mdef\u001b[0m \u001b[0m__reduce__\u001b[0m\u001b[0;34m(\u001b[0m\u001b[0mself\u001b[0m\u001b[0;34m)\u001b[0m\u001b[0;34m:\u001b[0m\u001b[0;34m\u001b[0m\u001b[0;34m\u001b[0m\u001b[0m\n",
            "\u001b[0;32m/usr/local/lib/python3.6/dist-packages/joblib/parallel.py\u001b[0m in \u001b[0;36m<listcomp>\u001b[0;34m(.0)\u001b[0m\n\u001b[1;32m    261\u001b[0m         \u001b[0;32mwith\u001b[0m \u001b[0mparallel_backend\u001b[0m\u001b[0;34m(\u001b[0m\u001b[0mself\u001b[0m\u001b[0;34m.\u001b[0m\u001b[0m_backend\u001b[0m\u001b[0;34m,\u001b[0m \u001b[0mn_jobs\u001b[0m\u001b[0;34m=\u001b[0m\u001b[0mself\u001b[0m\u001b[0;34m.\u001b[0m\u001b[0m_n_jobs\u001b[0m\u001b[0;34m)\u001b[0m\u001b[0;34m:\u001b[0m\u001b[0;34m\u001b[0m\u001b[0;34m\u001b[0m\u001b[0m\n\u001b[1;32m    262\u001b[0m             return [func(*args, **kwargs)\n\u001b[0;32m--> 263\u001b[0;31m                     for func, args, kwargs in self.items]\n\u001b[0m\u001b[1;32m    264\u001b[0m \u001b[0;34m\u001b[0m\u001b[0m\n\u001b[1;32m    265\u001b[0m     \u001b[0;32mdef\u001b[0m \u001b[0m__reduce__\u001b[0m\u001b[0;34m(\u001b[0m\u001b[0mself\u001b[0m\u001b[0;34m)\u001b[0m\u001b[0;34m:\u001b[0m\u001b[0;34m\u001b[0m\u001b[0;34m\u001b[0m\u001b[0m\n",
            "\u001b[0;32m/usr/local/lib/python3.6/dist-packages/sklearn/ensemble/_forest.py\u001b[0m in \u001b[0;36m_parallel_build_trees\u001b[0;34m(tree, forest, X, y, sample_weight, tree_idx, n_trees, verbose, class_weight, n_samples_bootstrap)\u001b[0m\n\u001b[1;32m    163\u001b[0m             \u001b[0mcurr_sample_weight\u001b[0m \u001b[0;34m*=\u001b[0m \u001b[0mcompute_sample_weight\u001b[0m\u001b[0;34m(\u001b[0m\u001b[0;34m'balanced'\u001b[0m\u001b[0;34m,\u001b[0m \u001b[0my\u001b[0m\u001b[0;34m,\u001b[0m \u001b[0mindices\u001b[0m\u001b[0;34m)\u001b[0m\u001b[0;34m\u001b[0m\u001b[0;34m\u001b[0m\u001b[0m\n\u001b[1;32m    164\u001b[0m \u001b[0;34m\u001b[0m\u001b[0m\n\u001b[0;32m--> 165\u001b[0;31m         \u001b[0mtree\u001b[0m\u001b[0;34m.\u001b[0m\u001b[0mfit\u001b[0m\u001b[0;34m(\u001b[0m\u001b[0mX\u001b[0m\u001b[0;34m,\u001b[0m \u001b[0my\u001b[0m\u001b[0;34m,\u001b[0m \u001b[0msample_weight\u001b[0m\u001b[0;34m=\u001b[0m\u001b[0mcurr_sample_weight\u001b[0m\u001b[0;34m,\u001b[0m \u001b[0mcheck_input\u001b[0m\u001b[0;34m=\u001b[0m\u001b[0;32mFalse\u001b[0m\u001b[0;34m)\u001b[0m\u001b[0;34m\u001b[0m\u001b[0;34m\u001b[0m\u001b[0m\n\u001b[0m\u001b[1;32m    166\u001b[0m     \u001b[0;32melse\u001b[0m\u001b[0;34m:\u001b[0m\u001b[0;34m\u001b[0m\u001b[0;34m\u001b[0m\u001b[0m\n\u001b[1;32m    167\u001b[0m         \u001b[0mtree\u001b[0m\u001b[0;34m.\u001b[0m\u001b[0mfit\u001b[0m\u001b[0;34m(\u001b[0m\u001b[0mX\u001b[0m\u001b[0;34m,\u001b[0m \u001b[0my\u001b[0m\u001b[0;34m,\u001b[0m \u001b[0msample_weight\u001b[0m\u001b[0;34m=\u001b[0m\u001b[0msample_weight\u001b[0m\u001b[0;34m,\u001b[0m \u001b[0mcheck_input\u001b[0m\u001b[0;34m=\u001b[0m\u001b[0;32mFalse\u001b[0m\u001b[0;34m)\u001b[0m\u001b[0;34m\u001b[0m\u001b[0;34m\u001b[0m\u001b[0m\n",
            "\u001b[0;32m/usr/local/lib/python3.6/dist-packages/sklearn/tree/_classes.py\u001b[0m in \u001b[0;36mfit\u001b[0;34m(self, X, y, sample_weight, check_input, X_idx_sorted)\u001b[0m\n\u001b[1;32m    875\u001b[0m             \u001b[0msample_weight\u001b[0m\u001b[0;34m=\u001b[0m\u001b[0msample_weight\u001b[0m\u001b[0;34m,\u001b[0m\u001b[0;34m\u001b[0m\u001b[0;34m\u001b[0m\u001b[0m\n\u001b[1;32m    876\u001b[0m             \u001b[0mcheck_input\u001b[0m\u001b[0;34m=\u001b[0m\u001b[0mcheck_input\u001b[0m\u001b[0;34m,\u001b[0m\u001b[0;34m\u001b[0m\u001b[0;34m\u001b[0m\u001b[0m\n\u001b[0;32m--> 877\u001b[0;31m             X_idx_sorted=X_idx_sorted)\n\u001b[0m\u001b[1;32m    878\u001b[0m         \u001b[0;32mreturn\u001b[0m \u001b[0mself\u001b[0m\u001b[0;34m\u001b[0m\u001b[0;34m\u001b[0m\u001b[0m\n\u001b[1;32m    879\u001b[0m \u001b[0;34m\u001b[0m\u001b[0m\n",
            "\u001b[0;32m/usr/local/lib/python3.6/dist-packages/sklearn/tree/_classes.py\u001b[0m in \u001b[0;36mfit\u001b[0;34m(self, X, y, sample_weight, check_input, X_idx_sorted)\u001b[0m\n\u001b[1;32m    365\u001b[0m                                            min_impurity_split)\n\u001b[1;32m    366\u001b[0m \u001b[0;34m\u001b[0m\u001b[0m\n\u001b[0;32m--> 367\u001b[0;31m         \u001b[0mbuilder\u001b[0m\u001b[0;34m.\u001b[0m\u001b[0mbuild\u001b[0m\u001b[0;34m(\u001b[0m\u001b[0mself\u001b[0m\u001b[0;34m.\u001b[0m\u001b[0mtree_\u001b[0m\u001b[0;34m,\u001b[0m \u001b[0mX\u001b[0m\u001b[0;34m,\u001b[0m \u001b[0my\u001b[0m\u001b[0;34m,\u001b[0m \u001b[0msample_weight\u001b[0m\u001b[0;34m,\u001b[0m \u001b[0mX_idx_sorted\u001b[0m\u001b[0;34m)\u001b[0m\u001b[0;34m\u001b[0m\u001b[0;34m\u001b[0m\u001b[0m\n\u001b[0m\u001b[1;32m    368\u001b[0m \u001b[0;34m\u001b[0m\u001b[0m\n\u001b[1;32m    369\u001b[0m         \u001b[0;32mif\u001b[0m \u001b[0mself\u001b[0m\u001b[0;34m.\u001b[0m\u001b[0mn_outputs_\u001b[0m \u001b[0;34m==\u001b[0m \u001b[0;36m1\u001b[0m \u001b[0;32mand\u001b[0m \u001b[0mis_classifier\u001b[0m\u001b[0;34m(\u001b[0m\u001b[0mself\u001b[0m\u001b[0;34m)\u001b[0m\u001b[0;34m:\u001b[0m\u001b[0;34m\u001b[0m\u001b[0;34m\u001b[0m\u001b[0m\n",
            "\u001b[0;31mKeyboardInterrupt\u001b[0m: "
          ]
        }
      ]
    },
    {
      "cell_type": "code",
      "metadata": {
        "colab": {
          "base_uri": "https://localhost:8080/"
        },
        "id": "54YoyyHvA15r",
        "outputId": "b3365083-8256-49a1-90c3-ce508a61bf0b"
      },
      "source": [
        "y_train.value_counts()"
      ],
      "execution_count": null,
      "outputs": [
        {
          "output_type": "execute_result",
          "data": {
            "text/plain": [
              "0    422\n",
              "1     40\n",
              "Name: OUTPUT_LABEL, dtype: int64"
            ]
          },
          "metadata": {
            "tags": []
          },
          "execution_count": 84
        }
      ]
    },
    {
      "cell_type": "code",
      "metadata": {
        "colab": {
          "base_uri": "https://localhost:8080/",
          "height": 295
        },
        "id": "bB0Eum53CsI_",
        "outputId": "1ac40c9c-3c13-4078-deaa-f6fc424619f1"
      },
      "source": [
        "# Curva ROC\n",
        "\n",
        "import numpy as np\n",
        "import matplotlib.pyplot as plt\n",
        "\n",
        "from sklearn import svm, datasets\n",
        "from sklearn.metrics import auc\n",
        "from sklearn.metrics import plot_roc_curve\n",
        "from sklearn.model_selection import StratifiedKFold\n",
        "\n",
        "# #############################################################################\n",
        "# Data IO and generation\n",
        "\n",
        "# Import some data to play with\n",
        "## dividimos el conjunto de datos \n",
        "X = df.drop(['OUTPUT_LABEL'],axis = 1)\n",
        "y = df['OUTPUT_LABEL']\n",
        "#X, y = X[y != 2], y[y != 2]\n",
        "n_samples, n_features = X.shape\n",
        "\n",
        "# Add noisy features\n",
        "random_state = np.random.RandomState(0)\n",
        "X = np.c_[X, random_state.randn(n_samples, 200 * n_features)]\n",
        "\n",
        "# #############################################################################\n",
        "# Classification and ROC analysis\n",
        "\n",
        "# Run classifier with cross-validation and plot ROC curves\n",
        "#cv = StratifiedKFold(n_splits=6)\n",
        "  \n",
        "#Configurando la Validacion cruzada estratificada\n",
        "cv = StratifiedKFold(n_splits=10, shuffle=True, random_state=42)\n",
        "classifier = RandomForestClassifier(n_estimators=200, random_state=0)\n",
        "\n",
        "tprs = []\n",
        "aucs = []\n",
        "mean_fpr = np.linspace(0, 1, 100)\n",
        "\n",
        "fig, ax = plt.subplots()\n",
        "for i, (train, test) in enumerate(cv.split(X, y)):\n",
        "    classifier.fit(X[train], y[train])\n",
        "    viz = plot_roc_curve(classifier, X[test], y[test],\n",
        "                         name='ROC fold {}'.format(i),\n",
        "                         alpha=0.3, lw=1, ax=ax)\n",
        "    interp_tpr = np.interp(mean_fpr, viz.fpr, viz.tpr)\n",
        "    interp_tpr[0] = 0.0\n",
        "    tprs.append(interp_tpr)\n",
        "    aucs.append(viz.roc_auc)\n",
        "\n",
        "ax.plot([0, 1], [0, 1], linestyle='--', lw=2, color='r',\n",
        "        label='Chance', alpha=.8)\n",
        "\n",
        "mxean_tpr = np.mean(tprs, axis=0)\n",
        "mean_tpr[-1] = 1.0\n",
        "mean_auc = auc(mean_fpr, mean_tpr)\n",
        "std_auc = np.std(aucs)\n",
        "ax.plot(mean_fpr, mean_tpr, color='b',\n",
        "        label=r'Mean ROC (AUC = %0.2f $\\pm$ %0.2f)' % (mean_auc, std_auc),\n",
        "        lw=2, alpha=.8)\n",
        "\n",
        "std_tpr = np.std(tprs, axis=0)\n",
        "tprs_upper = np.minimum(mean_tpr + std_tpr, 1)\n",
        "tprs_lower = np.maximum(mean_tpr - std_tpr, 0)\n",
        "ax.fill_between(mean_fpr, tprs_lower, tprs_upper, color='grey', alpha=.2,\n",
        "                label=r'$\\pm$ 1 std. dev.')\n",
        "\n",
        "ax.set(xlim=[-0.05, 1.05], ylim=[-0.05, 1.05],\n",
        "       title=\"Receiver operating characteristic example\")\n",
        "ax.legend(loc=\"lower right\")\n",
        "plt.show()"
      ],
      "execution_count": null,
      "outputs": [
        {
          "output_type": "display_data",
          "data": {
            "image/png": "[encoded data removed]",
            "text/plain": [
              "<Figure size 432x288 with 1 Axes>"
            ]
          },
          "metadata": {
            "tags": [],
            "needs_background": "light"
          }
        }
      ]
    },
    {
      "cell_type": "code",
      "metadata": {
        "colab": {
          "base_uri": "https://localhost:8080/",
          "height": 920
        },
        "id": "aFGJnbnfCr_M",
        "outputId": "3f8f66e2-7a7d-4ad7-e092-5fc54b6aeffd"
      },
      "source": [
        "import matplotlib.patches as patches\n",
        "from sklearn.metrics import roc_curve,auc\n",
        "from scipy import interp\n",
        "\n",
        "x = df.drop(['OUTPUT_LABEL'],axis = 1)\n",
        "y = df['OUTPUT_LABEL']\n",
        "\n",
        "cv = StratifiedKFold(n_splits=10, shuffle=True, random_state=42)\n",
        "clf = RandomForestClassifier(n_estimators=200, random_state=0)\n",
        "# plot arrows\n",
        "fig1 = plt.figure(figsize=[12,12])\n",
        "ax1 = fig1.add_subplot(111,aspect = 'equal')\n",
        "ax1.add_patch(\n",
        "    patches.Arrow(0.45,0.5,-0.25,0.25,width=0.3,color='green',alpha = 0.5)\n",
        "    )\n",
        "ax1.add_patch(\n",
        "    patches.Arrow(0.5,0.45,0.25,-0.25,width=0.3,color='red',alpha = 0.5)\n",
        "    )\n",
        "\n",
        "tprs = []\n",
        "aucs = []\n",
        "mean_fpr = np.linspace(0,1,100)\n",
        "i = 1\n",
        "for train,test in cv.split(x,y):\n",
        "    prediction = clf.fit(x.iloc[train],y.iloc[train]).predict_proba(x.iloc[test])\n",
        "    fpr, tpr, t = roc_curve(y[test], prediction[:, 1])\n",
        "    tprs.append(interp(mean_fpr, fpr, tpr))\n",
        "    roc_auc = auc(fpr, tpr)\n",
        "    aucs.append(roc_auc)\n",
        "    plt.plot(fpr, tpr, lw=2, alpha=0.3, label='ROC fold %d (AUC = %0.2f)' % (i, roc_auc))\n",
        "    i= i+1\n",
        "\n",
        "plt.plot([0,1],[0,1],linestyle = '--',lw = 2,color = 'black')\n",
        "mean_tpr = np.mean(tprs, axis=0)\n",
        "mean_auc = auc(mean_fpr, mean_tpr)\n",
        "plt.plot(mean_fpr, mean_tpr, color='blue',\n",
        "         label=r'Mean ROC (AUC = %0.2f )' % (mean_auc),lw=2, alpha=1)\n",
        "\n",
        "plt.xlabel('False Positive Rate')\n",
        "plt.ylabel('True Positive Rate')\n",
        "plt.title('ROC')\n",
        "plt.legend(loc=\"lower right\")\n",
        "plt.text(0.32,0.7,'More accurate area',fontsize = 12)\n",
        "plt.text(0.63,0.4,'Less accurate area',fontsize = 12)\n",
        "plt.show()"
      ],
      "execution_count": null,
      "outputs": [
        {
          "output_type": "stream",
          "text": [
            "/usr/local/lib/python3.6/dist-packages/ipykernel_launcher.py:27: DeprecationWarning: scipy.interp is deprecated and will be removed in SciPy 2.0.0, use numpy.interp instead\n",
            "/usr/local/lib/python3.6/dist-packages/ipykernel_launcher.py:27: DeprecationWarning: scipy.interp is deprecated and will be removed in SciPy 2.0.0, use numpy.interp instead\n",
            "/usr/local/lib/python3.6/dist-packages/ipykernel_launcher.py:27: DeprecationWarning: scipy.interp is deprecated and will be removed in SciPy 2.0.0, use numpy.interp instead\n",
            "/usr/local/lib/python3.6/dist-packages/ipykernel_launcher.py:27: DeprecationWarning: scipy.interp is deprecated and will be removed in SciPy 2.0.0, use numpy.interp instead\n",
            "/usr/local/lib/python3.6/dist-packages/ipykernel_launcher.py:27: DeprecationWarning: scipy.interp is deprecated and will be removed in SciPy 2.0.0, use numpy.interp instead\n",
            "/usr/local/lib/python3.6/dist-packages/ipykernel_launcher.py:27: DeprecationWarning: scipy.interp is deprecated and will be removed in SciPy 2.0.0, use numpy.interp instead\n",
            "/usr/local/lib/python3.6/dist-packages/ipykernel_launcher.py:27: DeprecationWarning: scipy.interp is deprecated and will be removed in SciPy 2.0.0, use numpy.interp instead\n",
            "/usr/local/lib/python3.6/dist-packages/ipykernel_launcher.py:27: DeprecationWarning: scipy.interp is deprecated and will be removed in SciPy 2.0.0, use numpy.interp instead\n",
            "/usr/local/lib/python3.6/dist-packages/ipykernel_launcher.py:27: DeprecationWarning: scipy.interp is deprecated and will be removed in SciPy 2.0.0, use numpy.interp instead\n",
            "/usr/local/lib/python3.6/dist-packages/ipykernel_launcher.py:27: DeprecationWarning: scipy.interp is deprecated and will be removed in SciPy 2.0.0, use numpy.interp instead\n"
          ],
          "name": "stderr"
        },
        {
          "output_type": "display_data",
          "data": {
            "image/png": "[encoded data removed]",
            "text/plain": [
              "<Figure size 864x864 with 1 Axes>"
            ]
          },
          "metadata": {
            "tags": [],
            "needs_background": "light"
          }
        }
      ]
    },
    {
      "cell_type": "code",
      "metadata": {
        "id": "PbfNI8LDGcLj"
      },
      "source": [
        "import numpy as np\n",
        "from sklearn.model_selection import StratifiedKFold # validacion cruzada estratificada\n",
        "from sklearn.preprocessing import StandardScaler\n",
        "from sklearn import metrics\n",
        "\n",
        "#Configurando la Validacion cruzada estratificada\n",
        "skf = StratifiedKFold(n_splits=10, shuffle= True, random_state= 42)\n",
        "\n",
        "# Random Forest \n",
        "from sklearn.ensemble import RandomForestClassifier #Random forest\n",
        "\n",
        "cld_rf = RandomForestClassifier(n_estimators=200, random_state=0)\n",
        "\n",
        "## Probando con el modelo\n",
        "\n",
        "for train_index , test_index in skf.split(X,y):\n",
        "  X_train, X_test = X.iloc[train_index], X.iloc[test_index]\n",
        "  y_train, y_test = y.iloc[train_index], y.iloc[test_index]\n",
        "\n",
        "  ## Balanceo de la clase de entrenamiento usando oversampling\n",
        "\n",
        "\n",
        "\n",
        "\n",
        "  # Escalamos los datos\n",
        "  scaler = StandardScaler()\n",
        "  scaler.fit(X_train)\n",
        "  X_train = scaler.transform(X_train)\n",
        "  X_test = scaler.transform(X_test)\n",
        "\n",
        "  # Entrenamos el modelo\n",
        "  cld_rf.fit(X_train, y_train)\n",
        "\n",
        "  #Predicciones\n",
        "  #train_pred = cld_rf.predict(X_train)\n",
        "  pred = cld_rf.predict(X_test)\n",
        "\n",
        "  # Probabilidad para la fila\n",
        "\n",
        "  prob = cld_rf.predict_proba(X_test)\n"
      ],
      "execution_count": null,
      "outputs": []
    },
    {
      "cell_type": "markdown",
      "metadata": {
        "id": "pipV-hpNy6Vl"
      },
      "source": [
        "## Con selec k-best veremos cuales son los atributos que más poder predictivo tienen"
      ]
    },
    {
      "cell_type": "code",
      "metadata": {
        "colab": {
          "base_uri": "https://localhost:8080/",
          "height": 419
        },
        "id": "8nvPgCtS301A",
        "outputId": "e588c340-b0e5-4d10-a0d6-a12227994817"
      },
      "source": [
        "## Métodos de Filtro\n",
        "from sklearn.feature_selection import SelectKBest\n",
        "from sklearn.feature_selection import chi2\n",
        "\n",
        "# Extracción de Carácterísticas: chi-cuadrado\n",
        "prueba = SelectKBest(score_func = chi2, k=5)\n",
        "entrenamiento = prueba.fit(X,y)\n",
        "\n",
        "scores = pd.DataFrame(data = list(zip(X.columns, entrenamiento.scores_)), columns = ['Atributo','Scores']).sort_values(by='Scores', ascending = False)\n",
        "scores"
      ],
      "execution_count": null,
      "outputs": [
        {
          "output_type": "execute_result",
          "data": {
            "text/html": [
              "<div>\n",
              "<style scoped>\n",
              "    .dataframe tbody tr th:only-of-type {\n",
              "        vertical-align: middle;\n",
              "    }\n",
              "\n",
              "    .dataframe tbody tr th {\n",
              "        vertical-align: top;\n",
              "    }\n",
              "\n",
              "    .dataframe thead th {\n",
              "        text-align: right;\n",
              "    }\n",
              "</style>\n",
              "<table border=\"1\" class=\"dataframe\">\n",
              "  <thead>\n",
              "    <tr style=\"text-align: right;\">\n",
              "      <th></th>\n",
              "      <th>Atributo</th>\n",
              "      <th>Scores</th>\n",
              "    </tr>\n",
              "  </thead>\n",
              "  <tbody>\n",
              "    <tr>\n",
              "      <th>7</th>\n",
              "      <td>number_inpatient</td>\n",
              "      <td>4101.916342</td>\n",
              "    </tr>\n",
              "    <tr>\n",
              "      <th>2</th>\n",
              "      <td>num_lab_procedures</td>\n",
              "      <td>4082.085533</td>\n",
              "    </tr>\n",
              "    <tr>\n",
              "      <th>36</th>\n",
              "      <td>discharge_disposition_id_22</td>\n",
              "      <td>1824.609880</td>\n",
              "    </tr>\n",
              "    <tr>\n",
              "      <th>4</th>\n",
              "      <td>num_medications</td>\n",
              "      <td>1694.227648</td>\n",
              "    </tr>\n",
              "    <tr>\n",
              "      <th>1</th>\n",
              "      <td>time_in_hospital</td>\n",
              "      <td>1560.940693</td>\n",
              "    </tr>\n",
              "    <tr>\n",
              "      <th>...</th>\n",
              "      <td>...</td>\n",
              "      <td>...</td>\n",
              "    </tr>\n",
              "    <tr>\n",
              "      <th>17</th>\n",
              "      <td>admission_type_id_4</td>\n",
              "      <td>1.864267</td>\n",
              "    </tr>\n",
              "    <tr>\n",
              "      <th>60</th>\n",
              "      <td>max_glu_serum_Norm</td>\n",
              "      <td>1.018833</td>\n",
              "    </tr>\n",
              "    <tr>\n",
              "      <th>59</th>\n",
              "      <td>max_glu_serum_None</td>\n",
              "      <td>0.736664</td>\n",
              "    </tr>\n",
              "    <tr>\n",
              "      <th>28</th>\n",
              "      <td>discharge_disposition_id_8</td>\n",
              "      <td>0.010946</td>\n",
              "    </tr>\n",
              "    <tr>\n",
              "      <th>9</th>\n",
              "      <td>tratamientos_tomados</td>\n",
              "      <td>0.000000</td>\n",
              "    </tr>\n",
              "  </tbody>\n",
              "</table>\n",
              "<p>74 rows × 2 columns</p>\n",
              "</div>"
            ],
            "text/plain": [
              "                       Atributo       Scores\n",
              "7              number_inpatient  4101.916342\n",
              "2            num_lab_procedures  4082.085533\n",
              "36  discharge_disposition_id_22  1824.609880\n",
              "4               num_medications  1694.227648\n",
              "1              time_in_hospital  1560.940693\n",
              "..                          ...          ...\n",
              "17          admission_type_id_4     1.864267\n",
              "60           max_glu_serum_Norm     1.018833\n",
              "59           max_glu_serum_None     0.736664\n",
              "28   discharge_disposition_id_8     0.010946\n",
              "9          tratamientos_tomados     0.000000\n",
              "\n",
              "[74 rows x 2 columns]"
            ]
          },
          "metadata": {
            "tags": []
          },
          "execution_count": 16
        }
      ]
    },
    {
      "cell_type": "code",
      "metadata": {
        "colab": {
          "base_uri": "https://localhost:8080/",
          "height": 326
        },
        "id": "0GtflWe40UHF",
        "outputId": "08b3ed0e-0ec7-48fe-bba0-c5c0a5c4a7c5"
      },
      "source": [
        "# Estandarizamos la data\n",
        "from sklearn.preprocessing import StandardScaler\n",
        "sc = StandardScaler()\n",
        "X = sc.fit_transform(X)\n",
        "\n",
        "## Dividimos los datos en train (70%) y test (30%)\n",
        "from sklearn.model_selection import train_test_split\n",
        "X_train, X_test, y_train, y_test = train_test_split(X, y, test_size=0.3, random_state=42)\n",
        "\n",
        "#Importamos Librerias\n",
        "from sklearn.naive_bayes import GaussianNB ## Naive bayes\n",
        "from sklearn.neighbors import KNeighborsClassifier ## KNN\n",
        "from sklearn import svm  # Support Vector Machine\n",
        "from sklearn.ensemble import RandomForestClassifier #Random forest\n",
        "from sklearn.tree import DecisionTreeClassifier, export_graphviz ## Arboles de descision \n",
        "\n",
        "## Naive Bayes\n",
        "clf_gnb = GaussianNB()\n",
        "## Entrenamiento\n",
        "clf_gnb = clf_gnb.fit(X_train, y_train)\n",
        "## Prediccion\n",
        "y_hat_gnb = clf_gnb.predict(X_test)\n",
        "\n",
        "## KNN\n",
        "clf_knn = KNeighborsClassifier(n_neighbors=100)\n",
        "## Entrenamiento\n",
        "clf_knn = clf_knn.fit(X_train, y_train)\n",
        "## Prediccion\n",
        "y_hat_knn = clf_knn.predict(X_test)\n",
        "\n",
        "## SVM\n",
        "clf_svm = svm.SVC(kernel='rbf') \n",
        "clf_svm = clf_svm.fit(X_train, y_train)\n",
        "y_hat_svm = clf_svm.predict(X_test)\n",
        "\n",
        "# Decision Tree Classifier\n",
        "clf_dt = DecisionTreeClassifier()\n",
        "clf_dt = clf_dt.fit(X_train,y_train)\n",
        "y_hat_dt = clf_dt.predict(X_test)\n",
        "\n",
        "## Random Forest\n",
        "cld_rf = RandomForestClassifier(n_estimators=200, random_state=0)\n",
        "cld_rf = cld_rf.fit(X_train,y_train)\n",
        "y_hat_rf = cld_rf.predict(X_test)\n",
        "\n",
        "\n",
        "from sklearn.metrics import accuracy_score\n",
        "from sklearn.metrics import balanced_accuracy_score\n",
        "from sklearn.metrics import precision_score\n",
        "from sklearn.metrics import recall_score\n",
        "from sklearn.metrics import f1_score\n",
        "\n",
        "\n",
        "metrics = pd.DataFrame()\n",
        "\n",
        "acc_list = []\n",
        "bacc_list = []\n",
        "pre_list = []\n",
        "reca_list = []\n",
        "f1_list = []\n",
        "for pred in [y_hat_gnb, y_hat_knn, y_hat_svm, y_hat_dt, y_hat_rf]:\n",
        "    acc_list.append(accuracy_score(y_test, pred))\n",
        "    bacc_list.append(balanced_accuracy_score(y_test, pred))\n",
        "    pre_list.append(precision_score(y_test, pred, average='macro'))\n",
        "    reca_list.append(recall_score(y_test, pred, average='macro'))\n",
        "    f1_list.append(f1_score(y_test, pred, average='macro'))\n",
        "\n",
        "models = ['Gaussian Naive Bayes', \"kNN\", \"SVM\", \"Decision Tree\", \"Random Forest\"]\n",
        "\n",
        "metrics['Model'] = models\n",
        "metrics['ACC'] = acc_list\n",
        "metrics['BACC'] = bacc_list\n",
        "metrics['Precision'] = pre_list\n",
        "metrics['Recall'] = reca_list\n",
        "metrics['F1'] = f1_list\n",
        "\n",
        "metrics.sort_values('F1', ascending=False)"
      ],
      "execution_count": null,
      "outputs": [
        {
          "output_type": "stream",
          "text": [
            "/usr/local/lib/python3.6/dist-packages/sklearn/naive_bayes.py:206: DataConversionWarning: A column-vector y was passed when a 1d array was expected. Please change the shape of y to (n_samples, ), for example using ravel().\n",
            "  y = column_or_1d(y, warn=True)\n",
            "/usr/local/lib/python3.6/dist-packages/ipykernel_launcher.py:18: DataConversionWarning: A column-vector y was passed when a 1d array was expected. Please change the shape of y to (n_samples, ), for example using ravel().\n",
            "/usr/local/lib/python3.6/dist-packages/sklearn/utils/validation.py:760: DataConversionWarning: A column-vector y was passed when a 1d array was expected. Please change the shape of y to (n_samples, ), for example using ravel().\n",
            "  y = column_or_1d(y, warn=True)\n",
            "/usr/local/lib/python3.6/dist-packages/ipykernel_launcher.py:34: DataConversionWarning: A column-vector y was passed when a 1d array was expected. Please change the shape of y to (n_samples,), for example using ravel().\n"
          ],
          "name": "stderr"
        },
        {
          "output_type": "execute_result",
          "data": {
            "text/html": [
              "<div>\n",
              "<style scoped>\n",
              "    .dataframe tbody tr th:only-of-type {\n",
              "        vertical-align: middle;\n",
              "    }\n",
              "\n",
              "    .dataframe tbody tr th {\n",
              "        vertical-align: top;\n",
              "    }\n",
              "\n",
              "    .dataframe thead th {\n",
              "        text-align: right;\n",
              "    }\n",
              "</style>\n",
              "<table border=\"1\" class=\"dataframe\">\n",
              "  <thead>\n",
              "    <tr style=\"text-align: right;\">\n",
              "      <th></th>\n",
              "      <th>Model</th>\n",
              "      <th>ACC</th>\n",
              "      <th>BACC</th>\n",
              "      <th>Precision</th>\n",
              "      <th>Recall</th>\n",
              "      <th>F1</th>\n",
              "    </tr>\n",
              "  </thead>\n",
              "  <tbody>\n",
              "    <tr>\n",
              "      <th>4</th>\n",
              "      <td>Random Forest</td>\n",
              "      <td>0.693466</td>\n",
              "      <td>0.692599</td>\n",
              "      <td>0.694771</td>\n",
              "      <td>0.692599</td>\n",
              "      <td>0.677544</td>\n",
              "    </tr>\n",
              "    <tr>\n",
              "      <th>2</th>\n",
              "      <td>SVM</td>\n",
              "      <td>0.605764</td>\n",
              "      <td>0.604581</td>\n",
              "      <td>0.609522</td>\n",
              "      <td>0.604581</td>\n",
              "      <td>0.595892</td>\n",
              "    </tr>\n",
              "    <tr>\n",
              "      <th>3</th>\n",
              "      <td>Decision Tree</td>\n",
              "      <td>0.593449</td>\n",
              "      <td>0.593356</td>\n",
              "      <td>0.591566</td>\n",
              "      <td>0.593356</td>\n",
              "      <td>0.592342</td>\n",
              "    </tr>\n",
              "    <tr>\n",
              "      <th>1</th>\n",
              "      <td>kNN</td>\n",
              "      <td>0.528649</td>\n",
              "      <td>0.528204</td>\n",
              "      <td>0.525835</td>\n",
              "      <td>0.528204</td>\n",
              "      <td>0.525196</td>\n",
              "    </tr>\n",
              "    <tr>\n",
              "      <th>0</th>\n",
              "      <td>Gaussian Naive Bayes</td>\n",
              "      <td>0.336004</td>\n",
              "      <td>0.337852</td>\n",
              "      <td>0.442278</td>\n",
              "      <td>0.337852</td>\n",
              "      <td>0.183158</td>\n",
              "    </tr>\n",
              "  </tbody>\n",
              "</table>\n",
              "</div>"
            ],
            "text/plain": [
              "                  Model       ACC      BACC  Precision    Recall        F1\n",
              "4         Random Forest  0.693466  0.692599   0.694771  0.692599  0.677544\n",
              "2                   SVM  0.605764  0.604581   0.609522  0.604581  0.595892\n",
              "3         Decision Tree  0.593449  0.593356   0.591566  0.593356  0.592342\n",
              "1                   kNN  0.528649  0.528204   0.525835  0.528204  0.525196\n",
              "0  Gaussian Naive Bayes  0.336004  0.337852   0.442278  0.337852  0.183158"
            ]
          },
          "metadata": {
            "tags": []
          },
          "execution_count": 188
        }
      ]
    }
  ]
}